{
 "cells": [
  {
   "cell_type": "markdown",
   "metadata": {},
   "source": [
    "## General Workflow\n",
    "\n",
    "#### 1) Identifying Business Problem\n",
    "#### 2) Exploratory Data Analysis (EDA)\n",
    "#### 3) Data Preprocessing\n",
    "#### 4) Data Analysis\n",
    "#### 5) Model Development & Evaluation\n",
    "#### 6) Model Interpretability"
   ]
  },
  {
   "cell_type": "markdown",
   "metadata": {},
   "source": [
    "### 1) Identifying Business Problem\n",
    "\n",
    "In this case, we're asked to develop a model for an organization that helps non-profit organizations to find donors. This model will be used to predict whether a donor will spend more than or equal to 30€, given that this donor receives a re-activation campaign. The model will be trained based on the previous campaign, and then validated with another data from other campaign.\n",
    "\n",
    "The model is expected to have a good performance and high interpretability. In addition, we also have to emphasize why does implementing the model is better than random guessing campaign. In the end, the model will be used to predict potential customers for the upcoming campaign, and which customers are the most effective to reach."
   ]
  },
  {
   "cell_type": "markdown",
   "metadata": {},
   "source": [
    "### 2) Data Preprocessing\n",
    "\n",
    "Our data consist of 5 csv files which includes the donor database, the amount of donated, and the selected donors during previous campaign"
   ]
  },
  {
   "cell_type": "code",
   "execution_count": 2,
   "metadata": {},
   "outputs": [
    {
     "data": {
      "text/plain": [
       "[]"
      ]
     },
     "execution_count": 2,
     "metadata": {},
     "output_type": "execute_result"
    }
   ],
   "source": [
    "import sys\n",
    "import subprocess\n",
    "import importlib\n",
    "\n",
    "packages = ['pandas', 'numpy','pathlib','os','glob', 'textblob']\n",
    "[subprocess.check_call(['pip', 'install', pkg]) \n",
    "for pkg in packages if not importlib.util.find_spec(pkg)]"
   ]
  },
  {
   "cell_type": "code",
   "execution_count": 3,
   "metadata": {},
   "outputs": [],
   "source": [
    "import pandas as pd\n",
    "import numpy as np\n",
    "\n",
    "from pathlib import Path\n",
    "import pathlib\n",
    "import os\n",
    "import glob\n",
    "from numpy import where\n",
    "\n",
    "from textblob import TextBlob"
   ]
  },
  {
   "cell_type": "code",
   "execution_count": 4,
   "metadata": {},
   "outputs": [],
   "source": [
    "# Change to working dir\n",
    "os.chdir(\"Data\")"
   ]
  },
  {
   "cell_type": "markdown",
   "metadata": {},
   "source": [
    "### Load Data"
   ]
  },
  {
   "cell_type": "code",
<<<<<<< Updated upstream:DSC_Use_Case/Versions/added variables 1.ipynb
   "execution_count": 83,
=======
   "execution_count": 5,
>>>>>>> Stashed changes:DSC_Use_Case/dsc_group_project.ipynb
   "metadata": {},
   "outputs": [],
   "source": [
    "# Loop through data folder and add all df's in a dict\n",
    "data_dict={}\n",
    "for txt_file in glob.glob(\"*.csv\"):\n",
    "    #list filenames\n",
    "    filename = txt_file\n",
    "    #create python tablenames\n",
    "    df_name = str.replace(str.replace(txt_file,\".csv\",\"_raw\"),\" \",\"_\")\n",
    "    #read files\n",
    "    df_value = pd.read_csv(filename,  delimiter=\",\")\n",
    "    #add to dict\n",
    "    data_dict[df_name] = df_value"
   ]
  },
  {
   "cell_type": "code",
<<<<<<< Updated upstream:DSC_Use_Case/Versions/added variables 1.ipynb
   "execution_count": 84,
=======
   "execution_count": 6,
>>>>>>> Stashed changes:DSC_Use_Case/dsc_group_project.ipynb
   "metadata": {},
   "outputs": [],
   "source": [
    "# Split dict into indivisual dataframes\n",
    "for var in data_dict.keys():\n",
    "    exec(\"{} = data_dict['{}']\".format(var, var))"
   ]
  },
  {
   "cell_type": "code",
<<<<<<< Updated upstream:DSC_Use_Case/Versions/added variables 1.ipynb
   "execution_count": 85,
=======
   "execution_count": 7,
>>>>>>> Stashed changes:DSC_Use_Case/dsc_group_project.ipynb
   "metadata": {},
   "outputs": [
    {
     "data": {
      "text/plain": [
       "dict_keys(['campaigns_raw', 'donors_raw', 'gifts_raw', 'selection_campaign_6169_raw', 'selection_campaign_7244_raw'])"
      ]
     },
<<<<<<< Updated upstream:DSC_Use_Case/Versions/added variables 1.ipynb
     "execution_count": 85,
=======
     "execution_count": 7,
>>>>>>> Stashed changes:DSC_Use_Case/dsc_group_project.ipynb
     "metadata": {},
     "output_type": "execute_result"
    }
   ],
   "source": [
    "data_dict.keys()"
   ]
  },
  {
   "cell_type": "code",
<<<<<<< Updated upstream:DSC_Use_Case/Versions/added variables 1.ipynb
   "execution_count": 86,
=======
   "execution_count": 8,
>>>>>>> Stashed changes:DSC_Use_Case/dsc_group_project.ipynb
   "metadata": {},
   "outputs": [
    {
     "data": {
      "text/html": [
       "<div>\n",
       "<style scoped>\n",
       "    .dataframe tbody tr th:only-of-type {\n",
       "        vertical-align: middle;\n",
       "    }\n",
       "\n",
       "    .dataframe tbody tr th {\n",
       "        vertical-align: top;\n",
       "    }\n",
       "\n",
       "    .dataframe thead th {\n",
       "        text-align: right;\n",
       "    }\n",
       "</style>\n",
       "<table border=\"1\" class=\"dataframe\">\n",
       "  <thead>\n",
       "    <tr style=\"text-align: right;\">\n",
       "      <th></th>\n",
       "      <th>Unnamed: 0</th>\n",
       "      <th>donorID</th>\n",
       "      <th>zipcode</th>\n",
       "      <th>province</th>\n",
       "      <th>region</th>\n",
       "      <th>gender</th>\n",
       "      <th>language</th>\n",
       "      <th>dateOfBirth</th>\n",
       "    </tr>\n",
       "  </thead>\n",
       "  <tbody>\n",
       "    <tr>\n",
       "      <th>0</th>\n",
       "      <td>0</td>\n",
       "      <td>100001</td>\n",
       "      <td>1861.0</td>\n",
       "      <td>Flemish Brabant</td>\n",
       "      <td>Flanders</td>\n",
       "      <td>F</td>\n",
       "      <td>NL</td>\n",
       "      <td>12/24/1967</td>\n",
       "    </tr>\n",
       "    <tr>\n",
       "      <th>1</th>\n",
       "      <td>1</td>\n",
       "      <td>100002</td>\n",
       "      <td>2260.0</td>\n",
       "      <td>Antwerp</td>\n",
       "      <td>Flanders</td>\n",
       "      <td>M</td>\n",
       "      <td>NL</td>\n",
       "      <td>01/14/1952</td>\n",
       "    </tr>\n",
       "    <tr>\n",
       "      <th>2</th>\n",
       "      <td>2</td>\n",
       "      <td>100003</td>\n",
       "      <td>1780.0</td>\n",
       "      <td>Flemish Brabant</td>\n",
       "      <td>Flanders</td>\n",
       "      <td>M</td>\n",
       "      <td>NL</td>\n",
       "      <td>12/23/1986</td>\n",
       "    </tr>\n",
       "    <tr>\n",
       "      <th>3</th>\n",
       "      <td>3</td>\n",
       "      <td>100004</td>\n",
       "      <td>1020.0</td>\n",
       "      <td>Brussels</td>\n",
       "      <td>Brussels</td>\n",
       "      <td>F</td>\n",
       "      <td>FR</td>\n",
       "      <td>03/29/1952</td>\n",
       "    </tr>\n",
       "    <tr>\n",
       "      <th>4</th>\n",
       "      <td>4</td>\n",
       "      <td>100005</td>\n",
       "      <td>1020.0</td>\n",
       "      <td>Brussels</td>\n",
       "      <td>Brussels</td>\n",
       "      <td>F</td>\n",
       "      <td>FR</td>\n",
       "      <td>06/25/1986</td>\n",
       "    </tr>\n",
       "    <tr>\n",
       "      <th>...</th>\n",
       "      <td>...</td>\n",
       "      <td>...</td>\n",
       "      <td>...</td>\n",
       "      <td>...</td>\n",
       "      <td>...</td>\n",
       "      <td>...</td>\n",
       "      <td>...</td>\n",
       "      <td>...</td>\n",
       "    </tr>\n",
       "    <tr>\n",
       "      <th>44686</th>\n",
       "      <td>44686</td>\n",
       "      <td>144687</td>\n",
       "      <td>4900.0</td>\n",
       "      <td>Liege</td>\n",
       "      <td>Wallonia</td>\n",
       "      <td>M</td>\n",
       "      <td>FR</td>\n",
       "      <td>09/12/1970</td>\n",
       "    </tr>\n",
       "    <tr>\n",
       "      <th>44687</th>\n",
       "      <td>44687</td>\n",
       "      <td>144688</td>\n",
       "      <td>3600.0</td>\n",
       "      <td>Limburg</td>\n",
       "      <td>Flanders</td>\n",
       "      <td>M</td>\n",
       "      <td>NL</td>\n",
       "      <td>11/28/1972</td>\n",
       "    </tr>\n",
       "    <tr>\n",
       "      <th>44688</th>\n",
       "      <td>44688</td>\n",
       "      <td>144689</td>\n",
       "      <td>3061.0</td>\n",
       "      <td>Flemish Brabant</td>\n",
       "      <td>Flanders</td>\n",
       "      <td>M</td>\n",
       "      <td>NL</td>\n",
       "      <td>04/21/1967</td>\n",
       "    </tr>\n",
       "    <tr>\n",
       "      <th>44689</th>\n",
       "      <td>44689</td>\n",
       "      <td>144690</td>\n",
       "      <td>1950.0</td>\n",
       "      <td>Flemish Brabant</td>\n",
       "      <td>Flanders</td>\n",
       "      <td>M</td>\n",
       "      <td>FR</td>\n",
       "      <td>05/07/1976</td>\n",
       "    </tr>\n",
       "    <tr>\n",
       "      <th>44690</th>\n",
       "      <td>44690</td>\n",
       "      <td>144691</td>\n",
       "      <td>1160.0</td>\n",
       "      <td>Brussels</td>\n",
       "      <td>Brussels</td>\n",
       "      <td>M</td>\n",
       "      <td>FR</td>\n",
       "      <td>06/05/1987</td>\n",
       "    </tr>\n",
       "  </tbody>\n",
       "</table>\n",
       "<p>44691 rows × 8 columns</p>\n",
       "</div>"
      ],
      "text/plain": [
       "       Unnamed: 0  donorID  zipcode         province    region gender  \\\n",
       "0               0   100001   1861.0  Flemish Brabant  Flanders      F   \n",
       "1               1   100002   2260.0          Antwerp  Flanders      M   \n",
       "2               2   100003   1780.0  Flemish Brabant  Flanders      M   \n",
       "3               3   100004   1020.0         Brussels  Brussels      F   \n",
       "4               4   100005   1020.0         Brussels  Brussels      F   \n",
       "...           ...      ...      ...              ...       ...    ...   \n",
       "44686       44686   144687   4900.0            Liege  Wallonia      M   \n",
       "44687       44687   144688   3600.0          Limburg  Flanders      M   \n",
       "44688       44688   144689   3061.0  Flemish Brabant  Flanders      M   \n",
       "44689       44689   144690   1950.0  Flemish Brabant  Flanders      M   \n",
       "44690       44690   144691   1160.0         Brussels  Brussels      M   \n",
       "\n",
       "      language dateOfBirth  \n",
       "0           NL  12/24/1967  \n",
       "1           NL  01/14/1952  \n",
       "2           NL  12/23/1986  \n",
       "3           FR  03/29/1952  \n",
       "4           FR  06/25/1986  \n",
       "...        ...         ...  \n",
       "44686       FR  09/12/1970  \n",
       "44687       NL  11/28/1972  \n",
       "44688       NL  04/21/1967  \n",
       "44689       FR  05/07/1976  \n",
       "44690       FR  06/05/1987  \n",
       "\n",
       "[44691 rows x 8 columns]"
      ]
     },
<<<<<<< Updated upstream:DSC_Use_Case/Versions/added variables 1.ipynb
     "execution_count": 86,
=======
     "execution_count": 8,
>>>>>>> Stashed changes:DSC_Use_Case/dsc_group_project.ipynb
     "metadata": {},
     "output_type": "execute_result"
    }
   ],
   "source": [
    "donors_raw"
   ]
  },
  {
   "cell_type": "code",
<<<<<<< Updated upstream:DSC_Use_Case/Versions/added variables 1.ipynb
   "execution_count": 87,
=======
   "execution_count": 9,
>>>>>>> Stashed changes:DSC_Use_Case/dsc_group_project.ipynb
   "metadata": {},
   "outputs": [
    {
     "name": "stdout",
     "output_type": "stream",
     "text": [
      "campaigns_raw : 0\n",
      "donors_raw : 34\n",
      "gifts_raw : 15637\n",
      "selection_campaign_6169_raw : 0\n",
      "selection_campaign_7244_raw : 0\n"
     ]
    }
   ],
   "source": [
    "# Check for null values\n",
    "for keys in data_dict.keys():\n",
    "    print(keys, \":\", data_dict[keys].isna().sum().sum())"
   ]
  },
  {
   "cell_type": "markdown",
   "metadata": {},
   "source": [
    "### Data exploration"
   ]
  },
  {
   "cell_type": "markdown",
   "metadata": {},
   "source": [
    "### Donors Data"
   ]
  },
  {
   "cell_type": "code",
<<<<<<< Updated upstream:DSC_Use_Case/Versions/added variables 1.ipynb
   "execution_count": 88,
=======
   "execution_count": 10,
>>>>>>> Stashed changes:DSC_Use_Case/dsc_group_project.ipynb
   "metadata": {},
   "outputs": [
    {
     "data": {
      "text/html": [
       "<div>\n",
       "<style scoped>\n",
       "    .dataframe tbody tr th:only-of-type {\n",
       "        vertical-align: middle;\n",
       "    }\n",
       "\n",
       "    .dataframe tbody tr th {\n",
       "        vertical-align: top;\n",
       "    }\n",
       "\n",
       "    .dataframe thead th {\n",
       "        text-align: right;\n",
       "    }\n",
       "</style>\n",
       "<table border=\"1\" class=\"dataframe\">\n",
       "  <thead>\n",
       "    <tr style=\"text-align: right;\">\n",
       "      <th></th>\n",
       "      <th>Unnamed: 0</th>\n",
       "      <th>donorID</th>\n",
       "      <th>zipcode</th>\n",
       "      <th>province</th>\n",
       "      <th>region</th>\n",
       "      <th>gender</th>\n",
       "      <th>language</th>\n",
       "      <th>dateOfBirth</th>\n",
       "    </tr>\n",
       "  </thead>\n",
       "  <tbody>\n",
       "    <tr>\n",
       "      <th>83</th>\n",
       "      <td>83</td>\n",
       "      <td>100084</td>\n",
       "      <td>1500.0</td>\n",
       "      <td>Flemish Brabant</td>\n",
       "      <td>Flanders</td>\n",
       "      <td>NaN</td>\n",
       "      <td>NL</td>\n",
       "      <td>03/16/1950</td>\n",
       "    </tr>\n",
       "    <tr>\n",
       "      <th>217</th>\n",
       "      <td>217</td>\n",
       "      <td>100218</td>\n",
       "      <td>1300.0</td>\n",
       "      <td>Walloon Brabant</td>\n",
       "      <td>Wallonia</td>\n",
       "      <td>NaN</td>\n",
       "      <td>FR</td>\n",
       "      <td>08/04/1979</td>\n",
       "    </tr>\n",
       "    <tr>\n",
       "      <th>512</th>\n",
       "      <td>512</td>\n",
       "      <td>100513</td>\n",
       "      <td>1933.0</td>\n",
       "      <td>Flemish Brabant</td>\n",
       "      <td>Flanders</td>\n",
       "      <td>NaN</td>\n",
       "      <td>NL</td>\n",
       "      <td>03/17/1952</td>\n",
       "    </tr>\n",
       "    <tr>\n",
       "      <th>552</th>\n",
       "      <td>552</td>\n",
       "      <td>100553</td>\n",
       "      <td>1560.0</td>\n",
       "      <td>Flemish Brabant</td>\n",
       "      <td>Flanders</td>\n",
       "      <td>NaN</td>\n",
       "      <td>FR</td>\n",
       "      <td>12/05/1952</td>\n",
       "    </tr>\n",
       "    <tr>\n",
       "      <th>729</th>\n",
       "      <td>729</td>\n",
       "      <td>100730</td>\n",
       "      <td>2950.0</td>\n",
       "      <td>Antwerp</td>\n",
       "      <td>Flanders</td>\n",
       "      <td>NaN</td>\n",
       "      <td>NL</td>\n",
       "      <td>11/09/1959</td>\n",
       "    </tr>\n",
       "    <tr>\n",
       "      <th>883</th>\n",
       "      <td>883</td>\n",
       "      <td>100884</td>\n",
       "      <td>2910.0</td>\n",
       "      <td>Antwerp</td>\n",
       "      <td>Flanders</td>\n",
       "      <td>NaN</td>\n",
       "      <td>NL</td>\n",
       "      <td>10/28/1977</td>\n",
       "    </tr>\n",
       "    <tr>\n",
       "      <th>1056</th>\n",
       "      <td>1056</td>\n",
       "      <td>101057</td>\n",
       "      <td>2200.0</td>\n",
       "      <td>Antwerp</td>\n",
       "      <td>Flanders</td>\n",
       "      <td>NaN</td>\n",
       "      <td>NL</td>\n",
       "      <td>04/20/1938</td>\n",
       "    </tr>\n",
       "    <tr>\n",
       "      <th>2050</th>\n",
       "      <td>2050</td>\n",
       "      <td>102051</td>\n",
       "      <td>3650.0</td>\n",
       "      <td>Limburg</td>\n",
       "      <td>Flanders</td>\n",
       "      <td>NaN</td>\n",
       "      <td>NL</td>\n",
       "      <td>08/16/1936</td>\n",
       "    </tr>\n",
       "    <tr>\n",
       "      <th>2209</th>\n",
       "      <td>2209</td>\n",
       "      <td>102210</td>\n",
       "      <td>3970.0</td>\n",
       "      <td>Limburg</td>\n",
       "      <td>Flanders</td>\n",
       "      <td>NaN</td>\n",
       "      <td>NL</td>\n",
       "      <td>04/05/1980</td>\n",
       "    </tr>\n",
       "    <tr>\n",
       "      <th>2379</th>\n",
       "      <td>2379</td>\n",
       "      <td>102380</td>\n",
       "      <td>5080.0</td>\n",
       "      <td>Namur</td>\n",
       "      <td>Wallonia</td>\n",
       "      <td>NaN</td>\n",
       "      <td>FR</td>\n",
       "      <td>06/30/1982</td>\n",
       "    </tr>\n",
       "    <tr>\n",
       "      <th>2619</th>\n",
       "      <td>2619</td>\n",
       "      <td>102620</td>\n",
       "      <td>8690.0</td>\n",
       "      <td>West Flanders</td>\n",
       "      <td>Flanders</td>\n",
       "      <td>NaN</td>\n",
       "      <td>NL</td>\n",
       "      <td>04/20/1974</td>\n",
       "    </tr>\n",
       "    <tr>\n",
       "      <th>2811</th>\n",
       "      <td>2811</td>\n",
       "      <td>102812</td>\n",
       "      <td>8400.0</td>\n",
       "      <td>West Flanders</td>\n",
       "      <td>Flanders</td>\n",
       "      <td>NaN</td>\n",
       "      <td>NL</td>\n",
       "      <td>02/23/1964</td>\n",
       "    </tr>\n",
       "    <tr>\n",
       "      <th>2944</th>\n",
       "      <td>2944</td>\n",
       "      <td>102945</td>\n",
       "      <td>8570.0</td>\n",
       "      <td>West Flanders</td>\n",
       "      <td>Flanders</td>\n",
       "      <td>NaN</td>\n",
       "      <td>NL</td>\n",
       "      <td>12/20/1972</td>\n",
       "    </tr>\n",
       "    <tr>\n",
       "      <th>16375</th>\n",
       "      <td>16375</td>\n",
       "      <td>116376</td>\n",
       "      <td>3800.0</td>\n",
       "      <td>Limburg</td>\n",
       "      <td>Flanders</td>\n",
       "      <td>NaN</td>\n",
       "      <td>NL</td>\n",
       "      <td>08/27/1968</td>\n",
       "    </tr>\n",
       "    <tr>\n",
       "      <th>16497</th>\n",
       "      <td>16497</td>\n",
       "      <td>116498</td>\n",
       "      <td>8000.0</td>\n",
       "      <td>West Flanders</td>\n",
       "      <td>Flanders</td>\n",
       "      <td>NaN</td>\n",
       "      <td>NL</td>\n",
       "      <td>12/26/1989</td>\n",
       "    </tr>\n",
       "    <tr>\n",
       "      <th>16513</th>\n",
       "      <td>16513</td>\n",
       "      <td>116514</td>\n",
       "      <td>9030.0</td>\n",
       "      <td>East Flanders</td>\n",
       "      <td>Flanders</td>\n",
       "      <td>NaN</td>\n",
       "      <td>NL</td>\n",
       "      <td>12/06/1989</td>\n",
       "    </tr>\n",
       "    <tr>\n",
       "      <th>26537</th>\n",
       "      <td>26537</td>\n",
       "      <td>126538</td>\n",
       "      <td>4351.0</td>\n",
       "      <td>Liege</td>\n",
       "      <td>Wallonia</td>\n",
       "      <td>NaN</td>\n",
       "      <td>FR</td>\n",
       "      <td>08/02/1973</td>\n",
       "    </tr>\n",
       "    <tr>\n",
       "      <th>26677</th>\n",
       "      <td>26677</td>\n",
       "      <td>126678</td>\n",
       "      <td>2100.0</td>\n",
       "      <td>Antwerp</td>\n",
       "      <td>Flanders</td>\n",
       "      <td>NaN</td>\n",
       "      <td>NL</td>\n",
       "      <td>12/30/1979</td>\n",
       "    </tr>\n",
       "    <tr>\n",
       "      <th>26799</th>\n",
       "      <td>26799</td>\n",
       "      <td>126800</td>\n",
       "      <td>8200.0</td>\n",
       "      <td>West Flanders</td>\n",
       "      <td>Flanders</td>\n",
       "      <td>NaN</td>\n",
       "      <td>NL</td>\n",
       "      <td>07/16/1979</td>\n",
       "    </tr>\n",
       "    <tr>\n",
       "      <th>26883</th>\n",
       "      <td>26883</td>\n",
       "      <td>126884</td>\n",
       "      <td>1081.0</td>\n",
       "      <td>Brussels</td>\n",
       "      <td>Brussels</td>\n",
       "      <td>NaN</td>\n",
       "      <td>NL</td>\n",
       "      <td>08/05/1974</td>\n",
       "    </tr>\n",
       "    <tr>\n",
       "      <th>27095</th>\n",
       "      <td>27095</td>\n",
       "      <td>127096</td>\n",
       "      <td>3740.0</td>\n",
       "      <td>Limburg</td>\n",
       "      <td>Flanders</td>\n",
       "      <td>NaN</td>\n",
       "      <td>NL</td>\n",
       "      <td>03/14/1955</td>\n",
       "    </tr>\n",
       "    <tr>\n",
       "      <th>27286</th>\n",
       "      <td>27286</td>\n",
       "      <td>127287</td>\n",
       "      <td>2630.0</td>\n",
       "      <td>Antwerp</td>\n",
       "      <td>Flanders</td>\n",
       "      <td>NaN</td>\n",
       "      <td>NL</td>\n",
       "      <td>11/03/1985</td>\n",
       "    </tr>\n",
       "    <tr>\n",
       "      <th>27533</th>\n",
       "      <td>27533</td>\n",
       "      <td>127534</td>\n",
       "      <td>8792.0</td>\n",
       "      <td>West Flanders</td>\n",
       "      <td>Flanders</td>\n",
       "      <td>NaN</td>\n",
       "      <td>NL</td>\n",
       "      <td>12/22/1964</td>\n",
       "    </tr>\n",
       "    <tr>\n",
       "      <th>27620</th>\n",
       "      <td>27620</td>\n",
       "      <td>127621</td>\n",
       "      <td>9190.0</td>\n",
       "      <td>East Flanders</td>\n",
       "      <td>Flanders</td>\n",
       "      <td>NaN</td>\n",
       "      <td>NL</td>\n",
       "      <td>05/17/1983</td>\n",
       "    </tr>\n",
       "    <tr>\n",
       "      <th>27721</th>\n",
       "      <td>27721</td>\n",
       "      <td>127722</td>\n",
       "      <td>8460.0</td>\n",
       "      <td>West Flanders</td>\n",
       "      <td>Flanders</td>\n",
       "      <td>NaN</td>\n",
       "      <td>NL</td>\n",
       "      <td>01/19/1986</td>\n",
       "    </tr>\n",
       "    <tr>\n",
       "      <th>27878</th>\n",
       "      <td>27878</td>\n",
       "      <td>127879</td>\n",
       "      <td>1030.0</td>\n",
       "      <td>Brussels</td>\n",
       "      <td>Brussels</td>\n",
       "      <td>NaN</td>\n",
       "      <td>NL</td>\n",
       "      <td>03/30/1951</td>\n",
       "    </tr>\n",
       "    <tr>\n",
       "      <th>28022</th>\n",
       "      <td>28022</td>\n",
       "      <td>128023</td>\n",
       "      <td>3870.0</td>\n",
       "      <td>Limburg</td>\n",
       "      <td>Flanders</td>\n",
       "      <td>NaN</td>\n",
       "      <td>NL</td>\n",
       "      <td>08/13/1976</td>\n",
       "    </tr>\n",
       "    <tr>\n",
       "      <th>28439</th>\n",
       "      <td>28439</td>\n",
       "      <td>128440</td>\n",
       "      <td>1745.0</td>\n",
       "      <td>Flemish Brabant</td>\n",
       "      <td>Flanders</td>\n",
       "      <td>NaN</td>\n",
       "      <td>NL</td>\n",
       "      <td>10/22/1963</td>\n",
       "    </tr>\n",
       "    <tr>\n",
       "      <th>29030</th>\n",
       "      <td>29030</td>\n",
       "      <td>129031</td>\n",
       "      <td>3930.0</td>\n",
       "      <td>Limburg</td>\n",
       "      <td>Flanders</td>\n",
       "      <td>NaN</td>\n",
       "      <td>NL</td>\n",
       "      <td>10/07/1987</td>\n",
       "    </tr>\n",
       "    <tr>\n",
       "      <th>37197</th>\n",
       "      <td>37197</td>\n",
       "      <td>137198</td>\n",
       "      <td>4041.0</td>\n",
       "      <td>Liege</td>\n",
       "      <td>Wallonia</td>\n",
       "      <td>NaN</td>\n",
       "      <td>FR</td>\n",
       "      <td>08/09/1940</td>\n",
       "    </tr>\n",
       "    <tr>\n",
       "      <th>44646</th>\n",
       "      <td>44646</td>\n",
       "      <td>144647</td>\n",
       "      <td>1600.0</td>\n",
       "      <td>Flemish Brabant</td>\n",
       "      <td>Flanders</td>\n",
       "      <td>NaN</td>\n",
       "      <td>NL</td>\n",
       "      <td>04/28/1982</td>\n",
       "    </tr>\n",
       "    <tr>\n",
       "      <th>44682</th>\n",
       "      <td>44682</td>\n",
       "      <td>144683</td>\n",
       "      <td>9308.0</td>\n",
       "      <td>East Flanders</td>\n",
       "      <td>Flanders</td>\n",
       "      <td>NaN</td>\n",
       "      <td>NL</td>\n",
       "      <td>06/15/1985</td>\n",
       "    </tr>\n",
       "  </tbody>\n",
       "</table>\n",
       "</div>"
      ],
      "text/plain": [
       "       Unnamed: 0  donorID  zipcode         province    region gender  \\\n",
       "83             83   100084   1500.0  Flemish Brabant  Flanders    NaN   \n",
       "217           217   100218   1300.0  Walloon Brabant  Wallonia    NaN   \n",
       "512           512   100513   1933.0  Flemish Brabant  Flanders    NaN   \n",
       "552           552   100553   1560.0  Flemish Brabant  Flanders    NaN   \n",
       "729           729   100730   2950.0          Antwerp  Flanders    NaN   \n",
       "883           883   100884   2910.0          Antwerp  Flanders    NaN   \n",
       "1056         1056   101057   2200.0          Antwerp  Flanders    NaN   \n",
       "2050         2050   102051   3650.0          Limburg  Flanders    NaN   \n",
       "2209         2209   102210   3970.0          Limburg  Flanders    NaN   \n",
       "2379         2379   102380   5080.0            Namur  Wallonia    NaN   \n",
       "2619         2619   102620   8690.0    West Flanders  Flanders    NaN   \n",
       "2811         2811   102812   8400.0    West Flanders  Flanders    NaN   \n",
       "2944         2944   102945   8570.0    West Flanders  Flanders    NaN   \n",
       "16375       16375   116376   3800.0          Limburg  Flanders    NaN   \n",
       "16497       16497   116498   8000.0    West Flanders  Flanders    NaN   \n",
       "16513       16513   116514   9030.0    East Flanders  Flanders    NaN   \n",
       "26537       26537   126538   4351.0            Liege  Wallonia    NaN   \n",
       "26677       26677   126678   2100.0          Antwerp  Flanders    NaN   \n",
       "26799       26799   126800   8200.0    West Flanders  Flanders    NaN   \n",
       "26883       26883   126884   1081.0         Brussels  Brussels    NaN   \n",
       "27095       27095   127096   3740.0          Limburg  Flanders    NaN   \n",
       "27286       27286   127287   2630.0          Antwerp  Flanders    NaN   \n",
       "27533       27533   127534   8792.0    West Flanders  Flanders    NaN   \n",
       "27620       27620   127621   9190.0    East Flanders  Flanders    NaN   \n",
       "27721       27721   127722   8460.0    West Flanders  Flanders    NaN   \n",
       "27878       27878   127879   1030.0         Brussels  Brussels    NaN   \n",
       "28022       28022   128023   3870.0          Limburg  Flanders    NaN   \n",
       "28439       28439   128440   1745.0  Flemish Brabant  Flanders    NaN   \n",
       "29030       29030   129031   3930.0          Limburg  Flanders    NaN   \n",
       "37197       37197   137198   4041.0            Liege  Wallonia    NaN   \n",
       "44646       44646   144647   1600.0  Flemish Brabant  Flanders    NaN   \n",
       "44682       44682   144683   9308.0    East Flanders  Flanders    NaN   \n",
       "\n",
       "      language dateOfBirth  \n",
       "83          NL  03/16/1950  \n",
       "217         FR  08/04/1979  \n",
       "512         NL  03/17/1952  \n",
       "552         FR  12/05/1952  \n",
       "729         NL  11/09/1959  \n",
       "883         NL  10/28/1977  \n",
       "1056        NL  04/20/1938  \n",
       "2050        NL  08/16/1936  \n",
       "2209        NL  04/05/1980  \n",
       "2379        FR  06/30/1982  \n",
       "2619        NL  04/20/1974  \n",
       "2811        NL  02/23/1964  \n",
       "2944        NL  12/20/1972  \n",
       "16375       NL  08/27/1968  \n",
       "16497       NL  12/26/1989  \n",
       "16513       NL  12/06/1989  \n",
       "26537       FR  08/02/1973  \n",
       "26677       NL  12/30/1979  \n",
       "26799       NL  07/16/1979  \n",
       "26883       NL  08/05/1974  \n",
       "27095       NL  03/14/1955  \n",
       "27286       NL  11/03/1985  \n",
       "27533       NL  12/22/1964  \n",
       "27620       NL  05/17/1983  \n",
       "27721       NL  01/19/1986  \n",
       "27878       NL  03/30/1951  \n",
       "28022       NL  08/13/1976  \n",
       "28439       NL  10/22/1963  \n",
       "29030       NL  10/07/1987  \n",
       "37197       FR  08/09/1940  \n",
       "44646       NL  04/28/1982  \n",
       "44682       NL  06/15/1985  "
      ]
     },
<<<<<<< Updated upstream:DSC_Use_Case/Versions/added variables 1.ipynb
     "execution_count": 88,
=======
     "execution_count": 10,
>>>>>>> Stashed changes:DSC_Use_Case/dsc_group_project.ipynb
     "metadata": {},
     "output_type": "execute_result"
    }
   ],
   "source": [
    "donors_raw[donors_raw[\"gender\"].isna()]"
   ]
  },
  {
   "cell_type": "code",
<<<<<<< Updated upstream:DSC_Use_Case/Versions/added variables 1.ipynb
   "execution_count": 89,
=======
   "execution_count": 11,
>>>>>>> Stashed changes:DSC_Use_Case/dsc_group_project.ipynb
   "metadata": {},
   "outputs": [
    {
     "data": {
      "text/html": [
       "<div>\n",
       "<style scoped>\n",
       "    .dataframe tbody tr th:only-of-type {\n",
       "        vertical-align: middle;\n",
       "    }\n",
       "\n",
       "    .dataframe tbody tr th {\n",
       "        vertical-align: top;\n",
       "    }\n",
       "\n",
       "    .dataframe thead th {\n",
       "        text-align: right;\n",
       "    }\n",
       "</style>\n",
       "<table border=\"1\" class=\"dataframe\">\n",
       "  <thead>\n",
       "    <tr style=\"text-align: right;\">\n",
       "      <th></th>\n",
       "      <th>donorID</th>\n",
       "      <th>zipcode</th>\n",
       "      <th>province</th>\n",
       "      <th>region</th>\n",
       "      <th>gender</th>\n",
       "      <th>language</th>\n",
       "      <th>dateOfBirth</th>\n",
       "    </tr>\n",
       "  </thead>\n",
       "  <tbody>\n",
       "    <tr>\n",
       "      <th>0</th>\n",
       "      <td>100001</td>\n",
       "      <td>1861.0</td>\n",
       "      <td>Flemish Brabant</td>\n",
       "      <td>Flanders</td>\n",
       "      <td>F</td>\n",
       "      <td>NL</td>\n",
       "      <td>12/24/1967</td>\n",
       "    </tr>\n",
       "    <tr>\n",
       "      <th>1</th>\n",
       "      <td>100002</td>\n",
       "      <td>2260.0</td>\n",
       "      <td>Antwerp</td>\n",
       "      <td>Flanders</td>\n",
       "      <td>M</td>\n",
       "      <td>NL</td>\n",
       "      <td>01/14/1952</td>\n",
       "    </tr>\n",
       "    <tr>\n",
       "      <th>2</th>\n",
       "      <td>100003</td>\n",
       "      <td>1780.0</td>\n",
       "      <td>Flemish Brabant</td>\n",
       "      <td>Flanders</td>\n",
       "      <td>M</td>\n",
       "      <td>NL</td>\n",
       "      <td>12/23/1986</td>\n",
       "    </tr>\n",
       "    <tr>\n",
       "      <th>3</th>\n",
       "      <td>100004</td>\n",
       "      <td>1020.0</td>\n",
       "      <td>Brussels</td>\n",
       "      <td>Brussels</td>\n",
       "      <td>F</td>\n",
       "      <td>FR</td>\n",
       "      <td>03/29/1952</td>\n",
       "    </tr>\n",
       "    <tr>\n",
       "      <th>4</th>\n",
       "      <td>100005</td>\n",
       "      <td>1020.0</td>\n",
       "      <td>Brussels</td>\n",
       "      <td>Brussels</td>\n",
       "      <td>F</td>\n",
       "      <td>FR</td>\n",
       "      <td>06/25/1986</td>\n",
       "    </tr>\n",
       "    <tr>\n",
       "      <th>...</th>\n",
       "      <td>...</td>\n",
       "      <td>...</td>\n",
       "      <td>...</td>\n",
       "      <td>...</td>\n",
       "      <td>...</td>\n",
       "      <td>...</td>\n",
       "      <td>...</td>\n",
       "    </tr>\n",
       "    <tr>\n",
       "      <th>44686</th>\n",
       "      <td>144687</td>\n",
       "      <td>4900.0</td>\n",
       "      <td>Liege</td>\n",
       "      <td>Wallonia</td>\n",
       "      <td>M</td>\n",
       "      <td>FR</td>\n",
       "      <td>09/12/1970</td>\n",
       "    </tr>\n",
       "    <tr>\n",
       "      <th>44687</th>\n",
       "      <td>144688</td>\n",
       "      <td>3600.0</td>\n",
       "      <td>Limburg</td>\n",
       "      <td>Flanders</td>\n",
       "      <td>M</td>\n",
       "      <td>NL</td>\n",
       "      <td>11/28/1972</td>\n",
       "    </tr>\n",
       "    <tr>\n",
       "      <th>44688</th>\n",
       "      <td>144689</td>\n",
       "      <td>3061.0</td>\n",
       "      <td>Flemish Brabant</td>\n",
       "      <td>Flanders</td>\n",
       "      <td>M</td>\n",
       "      <td>NL</td>\n",
       "      <td>04/21/1967</td>\n",
       "    </tr>\n",
       "    <tr>\n",
       "      <th>44689</th>\n",
       "      <td>144690</td>\n",
       "      <td>1950.0</td>\n",
       "      <td>Flemish Brabant</td>\n",
       "      <td>Flanders</td>\n",
       "      <td>M</td>\n",
       "      <td>FR</td>\n",
       "      <td>05/07/1976</td>\n",
       "    </tr>\n",
       "    <tr>\n",
       "      <th>44690</th>\n",
       "      <td>144691</td>\n",
       "      <td>1160.0</td>\n",
       "      <td>Brussels</td>\n",
       "      <td>Brussels</td>\n",
       "      <td>M</td>\n",
       "      <td>FR</td>\n",
       "      <td>06/05/1987</td>\n",
       "    </tr>\n",
       "  </tbody>\n",
       "</table>\n",
       "<p>44691 rows × 7 columns</p>\n",
       "</div>"
      ],
      "text/plain": [
       "       donorID  zipcode         province    region gender language dateOfBirth\n",
       "0       100001   1861.0  Flemish Brabant  Flanders      F       NL  12/24/1967\n",
       "1       100002   2260.0          Antwerp  Flanders      M       NL  01/14/1952\n",
       "2       100003   1780.0  Flemish Brabant  Flanders      M       NL  12/23/1986\n",
       "3       100004   1020.0         Brussels  Brussels      F       FR  03/29/1952\n",
       "4       100005   1020.0         Brussels  Brussels      F       FR  06/25/1986\n",
       "...        ...      ...              ...       ...    ...      ...         ...\n",
       "44686   144687   4900.0            Liege  Wallonia      M       FR  09/12/1970\n",
       "44687   144688   3600.0          Limburg  Flanders      M       NL  11/28/1972\n",
       "44688   144689   3061.0  Flemish Brabant  Flanders      M       NL  04/21/1967\n",
       "44689   144690   1950.0  Flemish Brabant  Flanders      M       FR  05/07/1976\n",
       "44690   144691   1160.0         Brussels  Brussels      M       FR  06/05/1987\n",
       "\n",
       "[44691 rows x 7 columns]"
      ]
     },
<<<<<<< Updated upstream:DSC_Use_Case/Versions/added variables 1.ipynb
     "execution_count": 89,
=======
     "execution_count": 11,
>>>>>>> Stashed changes:DSC_Use_Case/dsc_group_project.ipynb
     "metadata": {},
     "output_type": "execute_result"
    }
   ],
   "source": [
    "# Drop 1st Column\n",
    "donors_raw = donors_raw.iloc[: , 1:]\n",
    "donors_raw"
   ]
  },
  {
   "cell_type": "code",
<<<<<<< Updated upstream:DSC_Use_Case/Versions/added variables 1.ipynb
   "execution_count": 90,
=======
   "execution_count": 12,
>>>>>>> Stashed changes:DSC_Use_Case/dsc_group_project.ipynb
   "metadata": {},
   "outputs": [
    {
     "name": "stdout",
     "output_type": "stream",
     "text": [
      "<class 'pandas.core.frame.DataFrame'>\n",
      "RangeIndex: 44691 entries, 0 to 44690\n",
      "Data columns (total 7 columns):\n",
      " #   Column       Non-Null Count  Dtype         \n",
      "---  ------       --------------  -----         \n",
      " 0   donorID      44691 non-null  int64         \n",
      " 1   zipcode      44689 non-null  float64       \n",
      " 2   province     44691 non-null  object        \n",
      " 3   region       44691 non-null  object        \n",
      " 4   gender       44659 non-null  object        \n",
      " 5   language     44691 non-null  object        \n",
      " 6   dateOfBirth  44691 non-null  datetime64[ns]\n",
      "dtypes: datetime64[ns](1), float64(1), int64(1), object(4)\n",
      "memory usage: 2.4+ MB\n"
     ]
    }
   ],
   "source": [
    "donors_raw['dateOfBirth'] = pd.to_datetime(donors_raw['dateOfBirth'])\n",
    "donors_raw.info()"
   ]
  },
  {
   "cell_type": "code",
<<<<<<< Updated upstream:DSC_Use_Case/Versions/added variables 1.ipynb
   "execution_count": 91,
=======
   "execution_count": 13,
>>>>>>> Stashed changes:DSC_Use_Case/dsc_group_project.ipynb
   "metadata": {},
   "outputs": [
    {
     "data": {
      "text/html": [
       "<div>\n",
       "<style scoped>\n",
       "    .dataframe tbody tr th:only-of-type {\n",
       "        vertical-align: middle;\n",
       "    }\n",
       "\n",
       "    .dataframe tbody tr th {\n",
       "        vertical-align: top;\n",
       "    }\n",
       "\n",
       "    .dataframe thead th {\n",
       "        text-align: right;\n",
       "    }\n",
       "</style>\n",
       "<table border=\"1\" class=\"dataframe\">\n",
       "  <thead>\n",
       "    <tr style=\"text-align: right;\">\n",
       "      <th></th>\n",
       "      <th>donorID</th>\n",
       "      <th>zipcode</th>\n",
       "      <th>province</th>\n",
       "      <th>region</th>\n",
       "      <th>gender</th>\n",
       "      <th>language</th>\n",
       "      <th>dateOfBirth</th>\n",
       "      <th>Age</th>\n",
       "    </tr>\n",
       "  </thead>\n",
       "  <tbody>\n",
       "    <tr>\n",
       "      <th>0</th>\n",
       "      <td>100001</td>\n",
       "      <td>1861.0</td>\n",
       "      <td>Flemish Brabant</td>\n",
       "      <td>Flanders</td>\n",
       "      <td>F</td>\n",
       "      <td>NL</td>\n",
       "      <td>1967-12-24</td>\n",
       "      <td>50</td>\n",
       "    </tr>\n",
       "    <tr>\n",
       "      <th>1</th>\n",
       "      <td>100002</td>\n",
       "      <td>2260.0</td>\n",
       "      <td>Antwerp</td>\n",
       "      <td>Flanders</td>\n",
       "      <td>M</td>\n",
       "      <td>NL</td>\n",
       "      <td>1952-01-14</td>\n",
       "      <td>66</td>\n",
       "    </tr>\n",
       "    <tr>\n",
       "      <th>2</th>\n",
       "      <td>100003</td>\n",
       "      <td>1780.0</td>\n",
       "      <td>Flemish Brabant</td>\n",
       "      <td>Flanders</td>\n",
       "      <td>M</td>\n",
       "      <td>NL</td>\n",
       "      <td>1986-12-23</td>\n",
       "      <td>31</td>\n",
       "    </tr>\n",
       "    <tr>\n",
       "      <th>3</th>\n",
       "      <td>100004</td>\n",
       "      <td>1020.0</td>\n",
       "      <td>Brussels</td>\n",
       "      <td>Brussels</td>\n",
       "      <td>F</td>\n",
       "      <td>FR</td>\n",
       "      <td>1952-03-29</td>\n",
       "      <td>66</td>\n",
       "    </tr>\n",
       "    <tr>\n",
       "      <th>4</th>\n",
       "      <td>100005</td>\n",
       "      <td>1020.0</td>\n",
       "      <td>Brussels</td>\n",
       "      <td>Brussels</td>\n",
       "      <td>F</td>\n",
       "      <td>FR</td>\n",
       "      <td>1986-06-25</td>\n",
       "      <td>32</td>\n",
       "    </tr>\n",
       "    <tr>\n",
       "      <th>...</th>\n",
       "      <td>...</td>\n",
       "      <td>...</td>\n",
       "      <td>...</td>\n",
       "      <td>...</td>\n",
       "      <td>...</td>\n",
       "      <td>...</td>\n",
       "      <td>...</td>\n",
       "      <td>...</td>\n",
       "    </tr>\n",
       "    <tr>\n",
       "      <th>44686</th>\n",
       "      <td>144687</td>\n",
       "      <td>4900.0</td>\n",
       "      <td>Liege</td>\n",
       "      <td>Wallonia</td>\n",
       "      <td>M</td>\n",
       "      <td>FR</td>\n",
       "      <td>1970-09-12</td>\n",
       "      <td>47</td>\n",
       "    </tr>\n",
       "    <tr>\n",
       "      <th>44687</th>\n",
       "      <td>144688</td>\n",
       "      <td>3600.0</td>\n",
       "      <td>Limburg</td>\n",
       "      <td>Flanders</td>\n",
       "      <td>M</td>\n",
       "      <td>NL</td>\n",
       "      <td>1972-11-28</td>\n",
       "      <td>45</td>\n",
       "    </tr>\n",
       "    <tr>\n",
       "      <th>44688</th>\n",
       "      <td>144689</td>\n",
       "      <td>3061.0</td>\n",
       "      <td>Flemish Brabant</td>\n",
       "      <td>Flanders</td>\n",
       "      <td>M</td>\n",
       "      <td>NL</td>\n",
       "      <td>1967-04-21</td>\n",
       "      <td>51</td>\n",
       "    </tr>\n",
       "    <tr>\n",
       "      <th>44689</th>\n",
       "      <td>144690</td>\n",
       "      <td>1950.0</td>\n",
       "      <td>Flemish Brabant</td>\n",
       "      <td>Flanders</td>\n",
       "      <td>M</td>\n",
       "      <td>FR</td>\n",
       "      <td>1976-05-07</td>\n",
       "      <td>42</td>\n",
       "    </tr>\n",
       "    <tr>\n",
       "      <th>44690</th>\n",
       "      <td>144691</td>\n",
       "      <td>1160.0</td>\n",
       "      <td>Brussels</td>\n",
       "      <td>Brussels</td>\n",
       "      <td>M</td>\n",
       "      <td>FR</td>\n",
       "      <td>1987-06-05</td>\n",
       "      <td>31</td>\n",
       "    </tr>\n",
       "  </tbody>\n",
       "</table>\n",
       "<p>44691 rows × 8 columns</p>\n",
       "</div>"
      ],
      "text/plain": [
       "       donorID  zipcode         province    region gender language  \\\n",
       "0       100001   1861.0  Flemish Brabant  Flanders      F       NL   \n",
       "1       100002   2260.0          Antwerp  Flanders      M       NL   \n",
       "2       100003   1780.0  Flemish Brabant  Flanders      M       NL   \n",
       "3       100004   1020.0         Brussels  Brussels      F       FR   \n",
       "4       100005   1020.0         Brussels  Brussels      F       FR   \n",
       "...        ...      ...              ...       ...    ...      ...   \n",
       "44686   144687   4900.0            Liege  Wallonia      M       FR   \n",
       "44687   144688   3600.0          Limburg  Flanders      M       NL   \n",
       "44688   144689   3061.0  Flemish Brabant  Flanders      M       NL   \n",
       "44689   144690   1950.0  Flemish Brabant  Flanders      M       FR   \n",
       "44690   144691   1160.0         Brussels  Brussels      M       FR   \n",
       "\n",
       "      dateOfBirth  Age  \n",
       "0      1967-12-24   50  \n",
       "1      1952-01-14   66  \n",
       "2      1986-12-23   31  \n",
       "3      1952-03-29   66  \n",
       "4      1986-06-25   32  \n",
       "...           ...  ...  \n",
       "44686  1970-09-12   47  \n",
       "44687  1972-11-28   45  \n",
       "44688  1967-04-21   51  \n",
       "44689  1976-05-07   42  \n",
       "44690  1987-06-05   31  \n",
       "\n",
       "[44691 rows x 8 columns]"
      ]
     },
<<<<<<< Updated upstream:DSC_Use_Case/Versions/added variables 1.ipynb
     "execution_count": 91,
=======
     "execution_count": 13,
>>>>>>> Stashed changes:DSC_Use_Case/dsc_group_project.ipynb
     "metadata": {},
     "output_type": "execute_result"
    }
   ],
   "source": [
    "import datetime\n",
    "\n",
    "campaign6169 = datetime.datetime(2018, 9, 4)\n",
    "\n",
    "donors_raw['Age'] = donors_raw['dateOfBirth'].apply(lambda row: campaign6169.year - row.year -((campaign6169.month, campaign6169.day) < (row.month, row.day) ))\n",
    "donors_raw"
   ]
  },
  {
   "cell_type": "code",
<<<<<<< Updated upstream:DSC_Use_Case/Versions/added variables 1.ipynb
   "execution_count": 92,
=======
   "execution_count": 14,
>>>>>>> Stashed changes:DSC_Use_Case/dsc_group_project.ipynb
   "metadata": {},
   "outputs": [
    {
     "data": {
      "text/plain": [
       "array(['Flemish Brabant', 'Antwerp', 'Brussels', 'Walloon Brabant',\n",
       "       'West Flanders', 'East Flanders', 'Liege', 'Luxembourg', 'Namur',\n",
       "       'Hainaut', 'Limburg', 'Missing'], dtype=object)"
      ]
     },
<<<<<<< Updated upstream:DSC_Use_Case/Versions/added variables 1.ipynb
     "execution_count": 92,
=======
     "execution_count": 14,
>>>>>>> Stashed changes:DSC_Use_Case/dsc_group_project.ipynb
     "metadata": {},
     "output_type": "execute_result"
    }
   ],
   "source": [
    "# Change ANTWERP provinces to Antwerp\n",
    "\n",
    "donors_raw['province'] = donors_raw['province'].apply(lambda row: 'Antwerp' if row == 'ANTWERP' else row)\n",
    "\n",
    "# Check Changes\n",
    "donors_raw['province'].unique()"
   ]
  },
  {
   "cell_type": "code",
<<<<<<< Updated upstream:DSC_Use_Case/Versions/added variables 1.ipynb
   "execution_count": 93,
=======
   "execution_count": 15,
>>>>>>> Stashed changes:DSC_Use_Case/dsc_group_project.ipynb
   "metadata": {},
   "outputs": [
    {
     "data": {
      "text/plain": [
       "44691"
      ]
     },
<<<<<<< Updated upstream:DSC_Use_Case/Versions/added variables 1.ipynb
     "execution_count": 93,
=======
     "execution_count": 15,
>>>>>>> Stashed changes:DSC_Use_Case/dsc_group_project.ipynb
     "metadata": {},
     "output_type": "execute_result"
    }
   ],
   "source": [
    "# How many donors do we have in the database?\n",
    "donors_raw['donorID'].nunique()"
   ]
  },
  {
   "cell_type": "code",
<<<<<<< Updated upstream:DSC_Use_Case/Versions/added variables 1.ipynb
   "execution_count": 94,
=======
   "execution_count": 16,
>>>>>>> Stashed changes:DSC_Use_Case/dsc_group_project.ipynb
   "metadata": {},
   "outputs": [
    {
     "data": {
      "image/png": "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",
      "text/plain": [
       "<Figure size 576x576 with 1 Axes>"
      ]
     },
     "metadata": {
      "needs_background": "light"
     },
     "output_type": "display_data"
    }
   ],
   "source": [
    "# Donors Age Distribution\n",
    "import seaborn as sns\n",
    "import matplotlib.pyplot as plt\n",
    "\n",
    "\n",
    "fig, ax = plt.subplots(figsize = (8,8))\n",
    "ax = sns.histplot(data = donors_raw, x=\"Age\", bins = 40, palette ='viridis')\n",
    "plt.title('Donors Age Distribution within our Data', fontsize = 15)\n",
    "\n",
    "plt.show()"
   ]
  },
  {
   "cell_type": "code",
<<<<<<< Updated upstream:DSC_Use_Case/Versions/added variables 1.ipynb
   "execution_count": 95,
=======
   "execution_count": 17,
>>>>>>> Stashed changes:DSC_Use_Case/dsc_group_project.ipynb
   "metadata": {},
   "outputs": [
    {
     "data": {
      "image/png": "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",
      "text/plain": [
       "<Figure size 576x576 with 1 Axes>"
      ]
     },
     "metadata": {
      "needs_background": "light"
     },
     "output_type": "display_data"
    }
   ],
   "source": [
    "# Donors Region Distribution\n",
    "\n",
    "\n",
    "fig, ax = plt.subplots(figsize = (8,8))\n",
    "ax = sns.countplot(data = donors_raw, x=\"region\", palette ='viridis')\n",
    "plt.title('Donors Region Distribution within our Data', fontsize = 15)\n",
    "\n",
    "plt.show()"
   ]
  },
  {
   "cell_type": "code",
<<<<<<< Updated upstream:DSC_Use_Case/Versions/added variables 1.ipynb
   "execution_count": 96,
=======
   "execution_count": 18,
>>>>>>> Stashed changes:DSC_Use_Case/dsc_group_project.ipynb
   "metadata": {},
   "outputs": [
    {
     "data": {
      "image/png": "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",
      "text/plain": [
       "<Figure size 576x576 with 1 Axes>"
      ]
     },
     "metadata": {
      "needs_background": "light"
     },
     "output_type": "display_data"
    }
   ],
   "source": [
    "# Donors province Distribution\n",
    "\n",
    "\n",
    "fig, ax = plt.subplots(figsize = (8,8))\n",
    "ax = sns.countplot(data = donors_raw, x='province', order = donors_raw['province'].value_counts().index, palette ='viridis')\n",
    "plt.title('Donors Province Distribution within our Data', fontsize = 15)\n",
    "plt.xticks(rotation=45, ha='right')\n",
    "plt.show()"
   ]
  },
  {
   "cell_type": "code",
<<<<<<< Updated upstream:DSC_Use_Case/Versions/added variables 1.ipynb
   "execution_count": 97,
=======
   "execution_count": 19,
>>>>>>> Stashed changes:DSC_Use_Case/dsc_group_project.ipynb
   "metadata": {},
   "outputs": [
    {
     "data": {
      "text/plain": [
       "province\n",
       "Antwerp            10450\n",
       "East Flanders       9137\n",
       "West Flanders       8964\n",
       "Flemish Brabant     6781\n",
       "Limburg             4818\n",
       "Brussels            1488\n",
       "Liege                970\n",
       "Hainaut              944\n",
       "Walloon Brabant      433\n",
       "Namur                401\n",
       "Luxembourg           303\n",
       "Missing                2\n",
       "Name: donorID, dtype: int64"
      ]
     },
<<<<<<< Updated upstream:DSC_Use_Case/Versions/added variables 1.ipynb
     "execution_count": 97,
=======
     "execution_count": 19,
>>>>>>> Stashed changes:DSC_Use_Case/dsc_group_project.ipynb
     "metadata": {},
     "output_type": "execute_result"
    }
   ],
   "source": [
    "data = donors_raw.groupby('province')['donorID'].count().sort_values(ascending = False)\n",
    "data"
   ]
  },
  {
   "cell_type": "code",
<<<<<<< Updated upstream:DSC_Use_Case/Versions/added variables 1.ipynb
   "execution_count": 98,
=======
   "execution_count": 20,
>>>>>>> Stashed changes:DSC_Use_Case/dsc_group_project.ipynb
   "metadata": {},
   "outputs": [
    {
     "data": {
      "text/html": [
       "<div>\n",
       "<style scoped>\n",
       "    .dataframe tbody tr th:only-of-type {\n",
       "        vertical-align: middle;\n",
       "    }\n",
       "\n",
       "    .dataframe tbody tr th {\n",
       "        vertical-align: top;\n",
       "    }\n",
       "\n",
       "    .dataframe thead th {\n",
       "        text-align: right;\n",
       "    }\n",
       "</style>\n",
       "<table border=\"1\" class=\"dataframe\">\n",
       "  <thead>\n",
       "    <tr style=\"text-align: right;\">\n",
       "      <th></th>\n",
       "      <th>donorID</th>\n",
       "      <th>zipcode</th>\n",
       "      <th>province</th>\n",
       "      <th>region</th>\n",
       "      <th>gender</th>\n",
       "      <th>language</th>\n",
       "      <th>dateOfBirth</th>\n",
       "      <th>Age</th>\n",
       "    </tr>\n",
       "  </thead>\n",
       "  <tbody>\n",
       "    <tr>\n",
       "      <th>533</th>\n",
       "      <td>100534</td>\n",
       "      <td>3080.0</td>\n",
       "      <td>Flemish Brabant</td>\n",
       "      <td>Flanders</td>\n",
       "      <td>M</td>\n",
       "      <td>EN</td>\n",
       "      <td>1982-06-07</td>\n",
       "      <td>36</td>\n",
       "    </tr>\n",
       "    <tr>\n",
       "      <th>5019</th>\n",
       "      <td>105020</td>\n",
       "      <td>NaN</td>\n",
       "      <td>Missing</td>\n",
       "      <td>Missing</td>\n",
       "      <td>M</td>\n",
       "      <td>EN</td>\n",
       "      <td>1966-11-09</td>\n",
       "      <td>51</td>\n",
       "    </tr>\n",
       "    <tr>\n",
       "      <th>6634</th>\n",
       "      <td>106635</td>\n",
       "      <td>3080.0</td>\n",
       "      <td>Flemish Brabant</td>\n",
       "      <td>Flanders</td>\n",
       "      <td>F</td>\n",
       "      <td>EN</td>\n",
       "      <td>1966-01-14</td>\n",
       "      <td>52</td>\n",
       "    </tr>\n",
       "    <tr>\n",
       "      <th>22100</th>\n",
       "      <td>122101</td>\n",
       "      <td>NaN</td>\n",
       "      <td>Missing</td>\n",
       "      <td>Missing</td>\n",
       "      <td>F</td>\n",
       "      <td>EN</td>\n",
       "      <td>1975-10-31</td>\n",
       "      <td>42</td>\n",
       "    </tr>\n",
       "    <tr>\n",
       "      <th>26348</th>\n",
       "      <td>126349</td>\n",
       "      <td>3080.0</td>\n",
       "      <td>Flemish Brabant</td>\n",
       "      <td>Flanders</td>\n",
       "      <td>M</td>\n",
       "      <td>EN</td>\n",
       "      <td>1954-06-23</td>\n",
       "      <td>64</td>\n",
       "    </tr>\n",
       "    <tr>\n",
       "      <th>43374</th>\n",
       "      <td>143375</td>\n",
       "      <td>3090.0</td>\n",
       "      <td>Flemish Brabant</td>\n",
       "      <td>Flanders</td>\n",
       "      <td>F</td>\n",
       "      <td>EN</td>\n",
       "      <td>1962-11-07</td>\n",
       "      <td>55</td>\n",
       "    </tr>\n",
       "  </tbody>\n",
       "</table>\n",
       "</div>"
      ],
      "text/plain": [
       "       donorID  zipcode         province    region gender language  \\\n",
       "533     100534   3080.0  Flemish Brabant  Flanders      M       EN   \n",
       "5019    105020      NaN          Missing   Missing      M       EN   \n",
       "6634    106635   3080.0  Flemish Brabant  Flanders      F       EN   \n",
       "22100   122101      NaN          Missing   Missing      F       EN   \n",
       "26348   126349   3080.0  Flemish Brabant  Flanders      M       EN   \n",
       "43374   143375   3090.0  Flemish Brabant  Flanders      F       EN   \n",
       "\n",
       "      dateOfBirth  Age  \n",
       "533    1982-06-07   36  \n",
       "5019   1966-11-09   51  \n",
       "6634   1966-01-14   52  \n",
       "22100  1975-10-31   42  \n",
       "26348  1954-06-23   64  \n",
       "43374  1962-11-07   55  "
      ]
     },
<<<<<<< Updated upstream:DSC_Use_Case/Versions/added variables 1.ipynb
     "execution_count": 98,
=======
     "execution_count": 20,
>>>>>>> Stashed changes:DSC_Use_Case/dsc_group_project.ipynb
     "metadata": {},
     "output_type": "execute_result"
    }
   ],
   "source": [
    "donors_raw[donors_raw[\"language\"]== 'EN']"
   ]
  },
  {
   "cell_type": "markdown",
   "metadata": {},
   "source": [
    "### Gifts Data"
   ]
  },
  {
   "cell_type": "code",
<<<<<<< Updated upstream:DSC_Use_Case/Versions/added variables 1.ipynb
   "execution_count": 99,
=======
   "execution_count": 21,
>>>>>>> Stashed changes:DSC_Use_Case/dsc_group_project.ipynb
   "metadata": {},
   "outputs": [
    {
     "data": {
      "text/plain": [
       "Unnamed: 0        0\n",
       "donorID           0\n",
       "campaignID    15637\n",
       "amount            0\n",
       "date              0\n",
       "dtype: int64"
      ]
     },
<<<<<<< Updated upstream:DSC_Use_Case/Versions/added variables 1.ipynb
     "execution_count": 99,
=======
     "execution_count": 21,
>>>>>>> Stashed changes:DSC_Use_Case/dsc_group_project.ipynb
     "metadata": {},
     "output_type": "execute_result"
    }
   ],
   "source": [
    "# CampaignID missing means that the donation was made outside of campaign, so it doesnt actually count as a missing values\n",
    "gifts_raw.isna().sum()"
   ]
  },
  {
   "cell_type": "code",
<<<<<<< Updated upstream:DSC_Use_Case/Versions/added variables 1.ipynb
   "execution_count": 100,
=======
   "execution_count": 22,
>>>>>>> Stashed changes:DSC_Use_Case/dsc_group_project.ipynb
   "metadata": {},
   "outputs": [
    {
     "data": {
      "text/html": [
       "<div>\n",
       "<style scoped>\n",
       "    .dataframe tbody tr th:only-of-type {\n",
       "        vertical-align: middle;\n",
       "    }\n",
       "\n",
       "    .dataframe tbody tr th {\n",
       "        vertical-align: top;\n",
       "    }\n",
       "\n",
       "    .dataframe thead th {\n",
       "        text-align: right;\n",
       "    }\n",
       "</style>\n",
       "<table border=\"1\" class=\"dataframe\">\n",
       "  <thead>\n",
       "    <tr style=\"text-align: right;\">\n",
       "      <th></th>\n",
       "      <th>donorID</th>\n",
       "      <th>campaignID</th>\n",
       "      <th>amount</th>\n",
       "      <th>date</th>\n",
       "    </tr>\n",
       "  </thead>\n",
       "  <tbody>\n",
       "    <tr>\n",
       "      <th>0</th>\n",
       "      <td>100001</td>\n",
       "      <td>NaN</td>\n",
       "      <td>12,39</td>\n",
       "      <td>2004-03-23</td>\n",
       "    </tr>\n",
       "    <tr>\n",
       "      <th>1</th>\n",
       "      <td>100001</td>\n",
       "      <td>1577.0</td>\n",
       "      <td>12,39</td>\n",
       "      <td>2007-10-11</td>\n",
       "    </tr>\n",
       "    <tr>\n",
       "      <th>2</th>\n",
       "      <td>100001</td>\n",
       "      <td>1634.0</td>\n",
       "      <td>6,69</td>\n",
       "      <td>2007-12-28</td>\n",
       "    </tr>\n",
       "    <tr>\n",
       "      <th>3</th>\n",
       "      <td>100001</td>\n",
       "      <td>1778.0</td>\n",
       "      <td>24,79</td>\n",
       "      <td>2008-06-14</td>\n",
       "    </tr>\n",
       "    <tr>\n",
       "      <th>4</th>\n",
       "      <td>100001</td>\n",
       "      <td>1808.0</td>\n",
       "      <td>7,44</td>\n",
       "      <td>2008-07-09</td>\n",
       "    </tr>\n",
       "    <tr>\n",
       "      <th>...</th>\n",
       "      <td>...</td>\n",
       "      <td>...</td>\n",
       "      <td>...</td>\n",
       "      <td>...</td>\n",
       "    </tr>\n",
       "    <tr>\n",
       "      <th>216589</th>\n",
       "      <td>265584</td>\n",
       "      <td>6169.0</td>\n",
       "      <td>300,0</td>\n",
       "      <td>2018-09-23</td>\n",
       "    </tr>\n",
       "    <tr>\n",
       "      <th>216590</th>\n",
       "      <td>281770</td>\n",
       "      <td>6169.0</td>\n",
       "      <td>30,0</td>\n",
       "      <td>2018-09-08</td>\n",
       "    </tr>\n",
       "    <tr>\n",
       "      <th>216591</th>\n",
       "      <td>317880</td>\n",
       "      <td>6169.0</td>\n",
       "      <td>157,5</td>\n",
       "      <td>2018-09-12</td>\n",
       "    </tr>\n",
       "    <tr>\n",
       "      <th>216592</th>\n",
       "      <td>480980</td>\n",
       "      <td>6169.0</td>\n",
       "      <td>36,0</td>\n",
       "      <td>2018-09-12</td>\n",
       "    </tr>\n",
       "    <tr>\n",
       "      <th>216593</th>\n",
       "      <td>1474536</td>\n",
       "      <td>6169.0</td>\n",
       "      <td>183,0</td>\n",
       "      <td>2018-09-10</td>\n",
       "    </tr>\n",
       "  </tbody>\n",
       "</table>\n",
       "<p>216594 rows × 4 columns</p>\n",
       "</div>"
      ],
      "text/plain": [
       "        donorID  campaignID amount        date\n",
       "0        100001         NaN  12,39  2004-03-23\n",
       "1        100001      1577.0  12,39  2007-10-11\n",
       "2        100001      1634.0   6,69  2007-12-28\n",
       "3        100001      1778.0  24,79  2008-06-14\n",
       "4        100001      1808.0   7,44  2008-07-09\n",
       "...         ...         ...    ...         ...\n",
       "216589   265584      6169.0  300,0  2018-09-23\n",
       "216590   281770      6169.0   30,0  2018-09-08\n",
       "216591   317880      6169.0  157,5  2018-09-12\n",
       "216592   480980      6169.0   36,0  2018-09-12\n",
       "216593  1474536      6169.0  183,0  2018-09-10\n",
       "\n",
       "[216594 rows x 4 columns]"
      ]
     },
<<<<<<< Updated upstream:DSC_Use_Case/Versions/added variables 1.ipynb
     "execution_count": 100,
=======
     "execution_count": 22,
>>>>>>> Stashed changes:DSC_Use_Case/dsc_group_project.ipynb
     "metadata": {},
     "output_type": "execute_result"
    }
   ],
   "source": [
    "# Drop 1st Column\n",
    "gifts_raw = gifts_raw.iloc[: , 1:]\n",
    "gifts_raw"
   ]
  },
  {
   "cell_type": "code",
<<<<<<< Updated upstream:DSC_Use_Case/Versions/added variables 1.ipynb
   "execution_count": 101,
=======
   "execution_count": 23,
>>>>>>> Stashed changes:DSC_Use_Case/dsc_group_project.ipynb
   "metadata": {},
   "outputs": [
    {
     "data": {
      "text/plain": [
       "44700"
      ]
     },
<<<<<<< Updated upstream:DSC_Use_Case/Versions/added variables 1.ipynb
     "execution_count": 101,
=======
     "execution_count": 23,
>>>>>>> Stashed changes:DSC_Use_Case/dsc_group_project.ipynb
     "metadata": {},
     "output_type": "execute_result"
    }
   ],
   "source": [
    "# There are 9 donors who's the data is not available within our database\n",
    "gifts_raw['donorID'].nunique()"
   ]
  },
  {
   "cell_type": "code",
<<<<<<< Updated upstream:DSC_Use_Case/Versions/added variables 1.ipynb
   "execution_count": 102,
=======
   "execution_count": 24,
>>>>>>> Stashed changes:DSC_Use_Case/dsc_group_project.ipynb
   "metadata": {},
   "outputs": [
    {
     "name": "stdout",
     "output_type": "stream",
     "text": [
      "<class 'pandas.core.frame.DataFrame'>\n",
      "RangeIndex: 216594 entries, 0 to 216593\n",
      "Data columns (total 4 columns):\n",
      " #   Column      Non-Null Count   Dtype  \n",
      "---  ------      --------------   -----  \n",
      " 0   donorID     216594 non-null  int64  \n",
      " 1   campaignID  200957 non-null  float64\n",
      " 2   amount      216594 non-null  object \n",
      " 3   date        216594 non-null  object \n",
      "dtypes: float64(1), int64(1), object(2)\n",
      "memory usage: 6.6+ MB\n"
     ]
    }
   ],
   "source": [
    "gifts_raw.info()"
   ]
  },
  {
   "cell_type": "code",
<<<<<<< Updated upstream:DSC_Use_Case/Versions/added variables 1.ipynb
   "execution_count": 103,
=======
   "execution_count": 25,
>>>>>>> Stashed changes:DSC_Use_Case/dsc_group_project.ipynb
   "metadata": {},
   "outputs": [
    {
     "name": "stdout",
     "output_type": "stream",
     "text": [
      "2018-08-28 00:00:00\n",
      "2018-03-01 00:00:00\n"
     ]
    }
   ],
   "source": [
    "# Assume Independent Variable Period of 6 Months\n",
    "iv_period = 180\n",
    "in_between_period = 7\n",
    "\n",
    "campaign6169 = datetime.datetime(2018, 9, 4)\n",
    "end_period = campaign6169 - datetime.timedelta(days = in_between_period)\n",
    "start_period = end_period - datetime.timedelta(days = iv_period)\n",
    "\n",
    "print(end_period)\n",
    "print(start_period)"
   ]
  },
  {
   "cell_type": "code",
<<<<<<< Updated upstream:DSC_Use_Case/Versions/added variables 1.ipynb
   "execution_count": 104,
=======
   "execution_count": 26,
>>>>>>> Stashed changes:DSC_Use_Case/dsc_group_project.ipynb
   "metadata": {},
   "outputs": [],
   "source": [
    "# Change date into datetime object\n",
    "gifts_raw['date'] = pd.to_datetime(gifts_raw['date'])\n",
    "\n",
    "# Only select rows within our Independent Variable Timeline\n",
    "gifts_cleaned = gifts_raw[(gifts_raw['date'] >= start_period) &  (gifts_raw['date'] <= end_period)]"
   ]
  },
  {
   "cell_type": "code",
<<<<<<< Updated upstream:DSC_Use_Case/Versions/added variables 1.ipynb
   "execution_count": 105,
=======
   "execution_count": 27,
>>>>>>> Stashed changes:DSC_Use_Case/dsc_group_project.ipynb
   "metadata": {},
   "outputs": [
    {
     "name": "stdout",
     "output_type": "stream",
     "text": [
      "2018-03-01 00:00:00\n",
      "2018-08-28 00:00:00\n"
     ]
    }
   ],
   "source": [
    "# Make sure they all have the right timeline\n",
    "print(gifts_cleaned['date'].min())\n",
    "\n",
    "# Make sure they all have the right timeline\n",
    "print(gifts_cleaned['date'].max())"
   ]
  },
  {
   "cell_type": "code",
<<<<<<< Updated upstream:DSC_Use_Case/Versions/added variables 1.ipynb
   "execution_count": 106,
=======
   "execution_count": 28,
>>>>>>> Stashed changes:DSC_Use_Case/dsc_group_project.ipynb
   "metadata": {},
   "outputs": [
    {
     "data": {
      "text/plain": [
       "2258"
      ]
     },
<<<<<<< Updated upstream:DSC_Use_Case/Versions/added variables 1.ipynb
     "execution_count": 106,
=======
     "execution_count": 28,
>>>>>>> Stashed changes:DSC_Use_Case/dsc_group_project.ipynb
     "metadata": {},
     "output_type": "execute_result"
    }
   ],
   "source": [
    "# How many donors within our timeline?\n",
    "gifts_cleaned['donorID'].nunique()"
   ]
  },
  {
   "cell_type": "code",
<<<<<<< Updated upstream:DSC_Use_Case/Versions/added variables 1.ipynb
   "execution_count": 107,
=======
   "execution_count": 29,
>>>>>>> Stashed changes:DSC_Use_Case/dsc_group_project.ipynb
   "metadata": {},
   "outputs": [
    {
     "name": "stdout",
     "output_type": "stream",
     "text": [
      "<class 'pandas.core.frame.DataFrame'>\n",
      "Int64Index: 2778 entries, 16 to 216575\n",
      "Data columns (total 4 columns):\n",
      " #   Column      Non-Null Count  Dtype         \n",
      "---  ------      --------------  -----         \n",
      " 0   donorID     2778 non-null   int64         \n",
      " 1   campaignID  2623 non-null   float64       \n",
      " 2   amount      2778 non-null   float64       \n",
      " 3   date        2778 non-null   datetime64[ns]\n",
      "dtypes: datetime64[ns](1), float64(2), int64(1)\n",
      "memory usage: 108.5 KB\n"
     ]
    },
    {
     "name": "stderr",
     "output_type": "stream",
     "text": [
<<<<<<< Updated upstream:DSC_Use_Case/Versions/added variables 1.ipynb
      "<ipython-input-107-c6b059fb8fda>:1: SettingWithCopyWarning: \n",
=======
      "<ipython-input-29-c6b059fb8fda>:1: SettingWithCopyWarning: \n",
>>>>>>> Stashed changes:DSC_Use_Case/dsc_group_project.ipynb
      "A value is trying to be set on a copy of a slice from a DataFrame.\n",
      "Try using .loc[row_indexer,col_indexer] = value instead\n",
      "\n",
      "See the caveats in the documentation: https://pandas.pydata.org/pandas-docs/stable/user_guide/indexing.html#returning-a-view-versus-a-copy\n",
      "  gifts_cleaned['amount'] = gifts_cleaned['amount'].str.replace(',', '.')\n",
<<<<<<< Updated upstream:DSC_Use_Case/Versions/added variables 1.ipynb
      "<ipython-input-107-c6b059fb8fda>:2: SettingWithCopyWarning: \n",
=======
      "<ipython-input-29-c6b059fb8fda>:2: SettingWithCopyWarning: \n",
>>>>>>> Stashed changes:DSC_Use_Case/dsc_group_project.ipynb
      "A value is trying to be set on a copy of a slice from a DataFrame.\n",
      "Try using .loc[row_indexer,col_indexer] = value instead\n",
      "\n",
      "See the caveats in the documentation: https://pandas.pydata.org/pandas-docs/stable/user_guide/indexing.html#returning-a-view-versus-a-copy\n",
      "  gifts_cleaned['amount'] = gifts_cleaned['amount'].astype('float')\n"
     ]
    }
   ],
   "source": [
    "gifts_cleaned['amount'] = gifts_cleaned['amount'].str.replace(',', '.')\n",
    "gifts_cleaned['amount'] = gifts_cleaned['amount'].astype('float')\n",
    "gifts_cleaned.info()"
   ]
  },
  {
   "cell_type": "code",
<<<<<<< Updated upstream:DSC_Use_Case/Versions/added variables 1.ipynb
   "execution_count": 108,
=======
   "execution_count": 30,
>>>>>>> Stashed changes:DSC_Use_Case/dsc_group_project.ipynb
   "metadata": {},
   "outputs": [
    {
     "data": {
      "text/plain": [
       "donorID\n",
       "100003   2018-07-08\n",
       "100005   2018-06-19\n",
       "100033   2018-05-31\n",
       "100038   2018-06-14\n",
       "100047   2018-06-13\n",
       "            ...    \n",
       "144626   2018-06-25\n",
       "144657   2018-03-11\n",
       "144671   2018-06-24\n",
       "144676   2018-05-08\n",
       "144689   2018-06-25\n",
       "Name: date, Length: 2258, dtype: datetime64[ns]"
      ]
     },
<<<<<<< Updated upstream:DSC_Use_Case/Versions/added variables 1.ipynb
     "execution_count": 108,
=======
     "execution_count": 30,
>>>>>>> Stashed changes:DSC_Use_Case/dsc_group_project.ipynb
     "metadata": {},
     "output_type": "execute_result"
    }
   ],
   "source": [
    "date_agg = gifts_cleaned.groupby('donorID')['date'].agg('max')\n",
    "date_agg"
   ]
  },
  {
   "cell_type": "code",
<<<<<<< Updated upstream:DSC_Use_Case/Versions/added variables 1.ipynb
   "execution_count": 109,
=======
   "execution_count": 31,
>>>>>>> Stashed changes:DSC_Use_Case/dsc_group_project.ipynb
   "metadata": {},
   "outputs": [
    {
     "data": {
      "text/html": [
       "<div>\n",
       "<style scoped>\n",
       "    .dataframe tbody tr th:only-of-type {\n",
       "        vertical-align: middle;\n",
       "    }\n",
       "\n",
       "    .dataframe tbody tr th {\n",
       "        vertical-align: top;\n",
       "    }\n",
       "\n",
       "    .dataframe thead th {\n",
       "        text-align: right;\n",
       "    }\n",
       "</style>\n",
       "<table border=\"1\" class=\"dataframe\">\n",
       "  <thead>\n",
       "    <tr style=\"text-align: right;\">\n",
       "      <th></th>\n",
       "      <th>donorID</th>\n",
       "      <th>total_donated</th>\n",
       "      <th>frequency_donor</th>\n",
       "      <th>last_date_dono</th>\n",
       "    </tr>\n",
       "  </thead>\n",
       "  <tbody>\n",
       "    <tr>\n",
       "      <th>0</th>\n",
       "      <td>100003</td>\n",
       "      <td>7.0</td>\n",
       "      <td>2</td>\n",
       "      <td>2018-07-08</td>\n",
       "    </tr>\n",
       "    <tr>\n",
       "      <th>1</th>\n",
       "      <td>100005</td>\n",
       "      <td>5.0</td>\n",
       "      <td>1</td>\n",
       "      <td>2018-06-19</td>\n",
       "    </tr>\n",
       "    <tr>\n",
       "      <th>2</th>\n",
       "      <td>100033</td>\n",
       "      <td>45.0</td>\n",
       "      <td>1</td>\n",
       "      <td>2018-05-31</td>\n",
       "    </tr>\n",
       "    <tr>\n",
       "      <th>3</th>\n",
       "      <td>100038</td>\n",
       "      <td>41.0</td>\n",
       "      <td>1</td>\n",
       "      <td>2018-06-14</td>\n",
       "    </tr>\n",
       "    <tr>\n",
       "      <th>4</th>\n",
       "      <td>100047</td>\n",
       "      <td>40.0</td>\n",
       "      <td>1</td>\n",
       "      <td>2018-06-13</td>\n",
       "    </tr>\n",
       "  </tbody>\n",
       "</table>\n",
       "</div>"
      ],
      "text/plain": [
       "   donorID  total_donated  frequency_donor last_date_dono\n",
       "0   100003            7.0                2     2018-07-08\n",
       "1   100005            5.0                1     2018-06-19\n",
       "2   100033           45.0                1     2018-05-31\n",
       "3   100038           41.0                1     2018-06-14\n",
       "4   100047           40.0                1     2018-06-13"
      ]
     },
<<<<<<< Updated upstream:DSC_Use_Case/Versions/added variables 1.ipynb
     "execution_count": 109,
=======
     "execution_count": 31,
>>>>>>> Stashed changes:DSC_Use_Case/dsc_group_project.ipynb
     "metadata": {},
     "output_type": "execute_result"
    }
   ],
   "source": [
    "# Aggregate Data for each donors\n",
    "gifts_cleaned = gifts_cleaned.groupby('donorID')['amount'].agg(['sum', 'count'])\n",
    "\n",
    "# Reset Index and drop 2 level columns\n",
    "gifts_cleaned = gifts_cleaned.reset_index()\n",
    "#gifts_cleaned.columns = gifts_cleaned.columns.droplevel(0)\n",
    "\n",
    "# Merge with aggregated Date\n",
    "gifts_cleaned = pd.merge(gifts_cleaned, date_agg, how='left', on='donorID')\n",
    "\n",
    "# Rename columns\n",
    "gifts_cleaned.columns = ['donorID','total_donated','frequency_donor', 'last_date_dono']\n",
    "\n",
    "gifts_cleaned.head()"
   ]
  },
  {
   "cell_type": "code",
<<<<<<< Updated upstream:DSC_Use_Case/Versions/added variables 1.ipynb
   "execution_count": 110,
=======
   "execution_count": 32,
>>>>>>> Stashed changes:DSC_Use_Case/dsc_group_project.ipynb
   "metadata": {},
   "outputs": [
    {
     "data": {
      "text/html": [
       "<div>\n",
       "<style scoped>\n",
       "    .dataframe tbody tr th:only-of-type {\n",
       "        vertical-align: middle;\n",
       "    }\n",
       "\n",
       "    .dataframe tbody tr th {\n",
       "        vertical-align: top;\n",
       "    }\n",
       "\n",
       "    .dataframe thead th {\n",
       "        text-align: right;\n",
       "    }\n",
       "</style>\n",
       "<table border=\"1\" class=\"dataframe\">\n",
       "  <thead>\n",
       "    <tr style=\"text-align: right;\">\n",
       "      <th></th>\n",
       "      <th>donorID</th>\n",
       "      <th>total_donated</th>\n",
       "      <th>frequency_donor</th>\n",
       "      <th>last_date_dono</th>\n",
       "      <th>Recency_dono</th>\n",
       "    </tr>\n",
       "  </thead>\n",
       "  <tbody>\n",
       "    <tr>\n",
       "      <th>0</th>\n",
       "      <td>100003</td>\n",
       "      <td>7.0</td>\n",
       "      <td>2</td>\n",
       "      <td>2018-07-08</td>\n",
       "      <td>51</td>\n",
       "    </tr>\n",
       "    <tr>\n",
       "      <th>1</th>\n",
       "      <td>100005</td>\n",
       "      <td>5.0</td>\n",
       "      <td>1</td>\n",
       "      <td>2018-06-19</td>\n",
       "      <td>70</td>\n",
       "    </tr>\n",
       "    <tr>\n",
       "      <th>2</th>\n",
       "      <td>100033</td>\n",
       "      <td>45.0</td>\n",
       "      <td>1</td>\n",
       "      <td>2018-05-31</td>\n",
       "      <td>89</td>\n",
       "    </tr>\n",
       "    <tr>\n",
       "      <th>3</th>\n",
       "      <td>100038</td>\n",
       "      <td>41.0</td>\n",
       "      <td>1</td>\n",
       "      <td>2018-06-14</td>\n",
       "      <td>75</td>\n",
       "    </tr>\n",
       "    <tr>\n",
       "      <th>4</th>\n",
       "      <td>100047</td>\n",
       "      <td>40.0</td>\n",
       "      <td>1</td>\n",
       "      <td>2018-06-13</td>\n",
       "      <td>76</td>\n",
       "    </tr>\n",
       "    <tr>\n",
       "      <th>...</th>\n",
       "      <td>...</td>\n",
       "      <td>...</td>\n",
       "      <td>...</td>\n",
       "      <td>...</td>\n",
       "      <td>...</td>\n",
       "    </tr>\n",
       "    <tr>\n",
       "      <th>2253</th>\n",
       "      <td>144626</td>\n",
       "      <td>25.0</td>\n",
       "      <td>1</td>\n",
       "      <td>2018-06-25</td>\n",
       "      <td>64</td>\n",
       "    </tr>\n",
       "    <tr>\n",
       "      <th>2254</th>\n",
       "      <td>144657</td>\n",
       "      <td>41.0</td>\n",
       "      <td>1</td>\n",
       "      <td>2018-03-11</td>\n",
       "      <td>170</td>\n",
       "    </tr>\n",
       "    <tr>\n",
       "      <th>2255</th>\n",
       "      <td>144671</td>\n",
       "      <td>10.0</td>\n",
       "      <td>2</td>\n",
       "      <td>2018-06-24</td>\n",
       "      <td>65</td>\n",
       "    </tr>\n",
       "    <tr>\n",
       "      <th>2256</th>\n",
       "      <td>144676</td>\n",
       "      <td>40.0</td>\n",
       "      <td>1</td>\n",
       "      <td>2018-05-08</td>\n",
       "      <td>112</td>\n",
       "    </tr>\n",
       "    <tr>\n",
       "      <th>2257</th>\n",
       "      <td>144689</td>\n",
       "      <td>100.0</td>\n",
       "      <td>1</td>\n",
       "      <td>2018-06-25</td>\n",
       "      <td>64</td>\n",
       "    </tr>\n",
       "  </tbody>\n",
       "</table>\n",
       "<p>2258 rows × 5 columns</p>\n",
       "</div>"
      ],
      "text/plain": [
       "      donorID  total_donated  frequency_donor last_date_dono  Recency_dono\n",
       "0      100003            7.0                2     2018-07-08            51\n",
       "1      100005            5.0                1     2018-06-19            70\n",
       "2      100033           45.0                1     2018-05-31            89\n",
       "3      100038           41.0                1     2018-06-14            75\n",
       "4      100047           40.0                1     2018-06-13            76\n",
       "...       ...            ...              ...            ...           ...\n",
       "2253   144626           25.0                1     2018-06-25            64\n",
       "2254   144657           41.0                1     2018-03-11           170\n",
       "2255   144671           10.0                2     2018-06-24            65\n",
       "2256   144676           40.0                1     2018-05-08           112\n",
       "2257   144689          100.0                1     2018-06-25            64\n",
       "\n",
       "[2258 rows x 5 columns]"
      ]
     },
<<<<<<< Updated upstream:DSC_Use_Case/Versions/added variables 1.ipynb
     "execution_count": 110,
=======
     "execution_count": 32,
>>>>>>> Stashed changes:DSC_Use_Case/dsc_group_project.ipynb
     "metadata": {},
     "output_type": "execute_result"
    }
   ],
   "source": [
    "gifts_cleaned['Recency_dono'] = end_period - gifts_cleaned['last_date_dono']\n",
    "gifts_cleaned['Recency_dono'] = gifts_cleaned['Recency_dono'].dt.days\n",
    "gifts_cleaned"
   ]
  },
  {
   "cell_type": "code",
<<<<<<< Updated upstream:DSC_Use_Case/Versions/added variables 1.ipynb
   "execution_count": 111,
=======
   "execution_count": 33,
>>>>>>> Stashed changes:DSC_Use_Case/dsc_group_project.ipynb
   "metadata": {},
   "outputs": [
    {
     "name": "stdout",
     "output_type": "stream",
     "text": [
      "<class 'pandas.core.frame.DataFrame'>\n",
      "Int64Index: 2258 entries, 0 to 2257\n",
      "Data columns (total 5 columns):\n",
      " #   Column           Non-Null Count  Dtype         \n",
      "---  ------           --------------  -----         \n",
      " 0   donorID          2258 non-null   int64         \n",
      " 1   total_donated    2258 non-null   float64       \n",
      " 2   frequency_donor  2258 non-null   int64         \n",
      " 3   last_date_dono   2258 non-null   datetime64[ns]\n",
      " 4   Recency_dono     2258 non-null   int64         \n",
      "dtypes: datetime64[ns](1), float64(1), int64(3)\n",
      "memory usage: 105.8 KB\n"
     ]
    }
   ],
   "source": [
    "gifts_cleaned.info()"
   ]
  },
  {
   "cell_type": "code",
<<<<<<< Updated upstream:DSC_Use_Case/Versions/added variables 1.ipynb
   "execution_count": 112,
=======
   "execution_count": 34,
>>>>>>> Stashed changes:DSC_Use_Case/dsc_group_project.ipynb
   "metadata": {},
   "outputs": [
    {
     "data": {
      "text/html": [
       "<div>\n",
       "<style scoped>\n",
       "    .dataframe tbody tr th:only-of-type {\n",
       "        vertical-align: middle;\n",
       "    }\n",
       "\n",
       "    .dataframe tbody tr th {\n",
       "        vertical-align: top;\n",
       "    }\n",
       "\n",
       "    .dataframe thead th {\n",
       "        text-align: right;\n",
       "    }\n",
       "</style>\n",
       "<table border=\"1\" class=\"dataframe\">\n",
       "  <thead>\n",
       "    <tr style=\"text-align: right;\">\n",
       "      <th></th>\n",
       "      <th>donorID</th>\n",
       "      <th>total_donated</th>\n",
       "      <th>frequency_donor</th>\n",
       "      <th>last_date_dono</th>\n",
       "      <th>Recency_dono</th>\n",
       "    </tr>\n",
       "  </thead>\n",
       "  <tbody>\n",
       "    <tr>\n",
       "      <th>61</th>\n",
       "      <td>100903</td>\n",
       "      <td>5.0</td>\n",
       "      <td>1</td>\n",
       "      <td>2018-08-28</td>\n",
       "      <td>0</td>\n",
       "    </tr>\n",
       "    <tr>\n",
       "      <th>83</th>\n",
       "      <td>101285</td>\n",
       "      <td>50.0</td>\n",
       "      <td>1</td>\n",
       "      <td>2018-08-28</td>\n",
       "      <td>0</td>\n",
       "    </tr>\n",
       "    <tr>\n",
       "      <th>196</th>\n",
       "      <td>103212</td>\n",
       "      <td>250.0</td>\n",
       "      <td>3</td>\n",
       "      <td>2018-08-28</td>\n",
       "      <td>0</td>\n",
       "    </tr>\n",
       "    <tr>\n",
       "      <th>308</th>\n",
       "      <td>105300</td>\n",
       "      <td>5.0</td>\n",
       "      <td>1</td>\n",
       "      <td>2018-08-28</td>\n",
       "      <td>0</td>\n",
       "    </tr>\n",
       "    <tr>\n",
       "      <th>471</th>\n",
       "      <td>108639</td>\n",
       "      <td>200.0</td>\n",
       "      <td>2</td>\n",
       "      <td>2018-08-28</td>\n",
       "      <td>0</td>\n",
       "    </tr>\n",
       "    <tr>\n",
       "      <th>757</th>\n",
       "      <td>114830</td>\n",
       "      <td>61.0</td>\n",
       "      <td>2</td>\n",
       "      <td>2018-08-28</td>\n",
       "      <td>0</td>\n",
       "    </tr>\n",
       "    <tr>\n",
       "      <th>800</th>\n",
       "      <td>115988</td>\n",
       "      <td>50.0</td>\n",
       "      <td>1</td>\n",
       "      <td>2018-08-28</td>\n",
       "      <td>0</td>\n",
       "    </tr>\n",
       "    <tr>\n",
       "      <th>805</th>\n",
       "      <td>116171</td>\n",
       "      <td>10.0</td>\n",
       "      <td>2</td>\n",
       "      <td>2018-08-28</td>\n",
       "      <td>0</td>\n",
       "    </tr>\n",
       "    <tr>\n",
       "      <th>1004</th>\n",
       "      <td>120521</td>\n",
       "      <td>40.0</td>\n",
       "      <td>1</td>\n",
       "      <td>2018-08-28</td>\n",
       "      <td>0</td>\n",
       "    </tr>\n",
       "    <tr>\n",
       "      <th>1100</th>\n",
       "      <td>122527</td>\n",
       "      <td>25.0</td>\n",
       "      <td>1</td>\n",
       "      <td>2018-08-28</td>\n",
       "      <td>0</td>\n",
       "    </tr>\n",
       "    <tr>\n",
       "      <th>1123</th>\n",
       "      <td>122969</td>\n",
       "      <td>30.0</td>\n",
       "      <td>1</td>\n",
       "      <td>2018-08-28</td>\n",
       "      <td>0</td>\n",
       "    </tr>\n",
       "    <tr>\n",
       "      <th>1140</th>\n",
       "      <td>123293</td>\n",
       "      <td>40.0</td>\n",
       "      <td>2</td>\n",
       "      <td>2018-08-28</td>\n",
       "      <td>0</td>\n",
       "    </tr>\n",
       "    <tr>\n",
       "      <th>1285</th>\n",
       "      <td>125878</td>\n",
       "      <td>15.0</td>\n",
       "      <td>1</td>\n",
       "      <td>2018-08-28</td>\n",
       "      <td>0</td>\n",
       "    </tr>\n",
       "    <tr>\n",
       "      <th>1420</th>\n",
       "      <td>128148</td>\n",
       "      <td>15.0</td>\n",
       "      <td>6</td>\n",
       "      <td>2018-08-28</td>\n",
       "      <td>0</td>\n",
       "    </tr>\n",
       "    <tr>\n",
       "      <th>1425</th>\n",
       "      <td>128220</td>\n",
       "      <td>91.0</td>\n",
       "      <td>2</td>\n",
       "      <td>2018-08-28</td>\n",
       "      <td>0</td>\n",
       "    </tr>\n",
       "    <tr>\n",
       "      <th>1637</th>\n",
       "      <td>132534</td>\n",
       "      <td>30.0</td>\n",
       "      <td>2</td>\n",
       "      <td>2018-08-28</td>\n",
       "      <td>0</td>\n",
       "    </tr>\n",
       "    <tr>\n",
       "      <th>1807</th>\n",
       "      <td>135651</td>\n",
       "      <td>80.0</td>\n",
       "      <td>8</td>\n",
       "      <td>2018-08-28</td>\n",
       "      <td>0</td>\n",
       "    </tr>\n",
       "    <tr>\n",
       "      <th>1822</th>\n",
       "      <td>135824</td>\n",
       "      <td>40.0</td>\n",
       "      <td>1</td>\n",
       "      <td>2018-08-28</td>\n",
       "      <td>0</td>\n",
       "    </tr>\n",
       "    <tr>\n",
       "      <th>1902</th>\n",
       "      <td>137100</td>\n",
       "      <td>25.0</td>\n",
       "      <td>1</td>\n",
       "      <td>2018-08-28</td>\n",
       "      <td>0</td>\n",
       "    </tr>\n",
       "    <tr>\n",
       "      <th>2014</th>\n",
       "      <td>138988</td>\n",
       "      <td>2.0</td>\n",
       "      <td>1</td>\n",
       "      <td>2018-08-28</td>\n",
       "      <td>0</td>\n",
       "    </tr>\n",
       "    <tr>\n",
       "      <th>2041</th>\n",
       "      <td>140080</td>\n",
       "      <td>40.0</td>\n",
       "      <td>1</td>\n",
       "      <td>2018-08-28</td>\n",
       "      <td>0</td>\n",
       "    </tr>\n",
       "    <tr>\n",
       "      <th>2064</th>\n",
       "      <td>140726</td>\n",
       "      <td>100.0</td>\n",
       "      <td>2</td>\n",
       "      <td>2018-08-28</td>\n",
       "      <td>0</td>\n",
       "    </tr>\n",
       "    <tr>\n",
       "      <th>2128</th>\n",
       "      <td>142161</td>\n",
       "      <td>80.0</td>\n",
       "      <td>3</td>\n",
       "      <td>2018-08-28</td>\n",
       "      <td>0</td>\n",
       "    </tr>\n",
       "    <tr>\n",
       "      <th>2193</th>\n",
       "      <td>143001</td>\n",
       "      <td>20.0</td>\n",
       "      <td>1</td>\n",
       "      <td>2018-08-28</td>\n",
       "      <td>0</td>\n",
       "    </tr>\n",
       "  </tbody>\n",
       "</table>\n",
       "</div>"
      ],
      "text/plain": [
       "      donorID  total_donated  frequency_donor last_date_dono  Recency_dono\n",
       "61     100903            5.0                1     2018-08-28             0\n",
       "83     101285           50.0                1     2018-08-28             0\n",
       "196    103212          250.0                3     2018-08-28             0\n",
       "308    105300            5.0                1     2018-08-28             0\n",
       "471    108639          200.0                2     2018-08-28             0\n",
       "757    114830           61.0                2     2018-08-28             0\n",
       "800    115988           50.0                1     2018-08-28             0\n",
       "805    116171           10.0                2     2018-08-28             0\n",
       "1004   120521           40.0                1     2018-08-28             0\n",
       "1100   122527           25.0                1     2018-08-28             0\n",
       "1123   122969           30.0                1     2018-08-28             0\n",
       "1140   123293           40.0                2     2018-08-28             0\n",
       "1285   125878           15.0                1     2018-08-28             0\n",
       "1420   128148           15.0                6     2018-08-28             0\n",
       "1425   128220           91.0                2     2018-08-28             0\n",
       "1637   132534           30.0                2     2018-08-28             0\n",
       "1807   135651           80.0                8     2018-08-28             0\n",
       "1822   135824           40.0                1     2018-08-28             0\n",
       "1902   137100           25.0                1     2018-08-28             0\n",
       "2014   138988            2.0                1     2018-08-28             0\n",
       "2041   140080           40.0                1     2018-08-28             0\n",
       "2064   140726          100.0                2     2018-08-28             0\n",
       "2128   142161           80.0                3     2018-08-28             0\n",
       "2193   143001           20.0                1     2018-08-28             0"
      ]
     },
<<<<<<< Updated upstream:DSC_Use_Case/Versions/added variables 1.ipynb
     "execution_count": 112,
=======
     "execution_count": 34,
>>>>>>> Stashed changes:DSC_Use_Case/dsc_group_project.ipynb
     "metadata": {},
     "output_type": "execute_result"
    }
   ],
   "source": [
    "gifts_cleaned[gifts_cleaned['Recency_dono'] == 0]"
   ]
  },
  {
   "cell_type": "code",
<<<<<<< Updated upstream:DSC_Use_Case/Versions/added variables 1.ipynb
   "execution_count": 113,
=======
   "execution_count": 35,
>>>>>>> Stashed changes:DSC_Use_Case/dsc_group_project.ipynb
   "metadata": {},
   "outputs": [
    {
     "name": "stdout",
     "output_type": "stream",
     "text": [
      "2018-10-04 00:00:00\n"
     ]
    }
   ],
   "source": [
    "# Assume Dependent Variable Period of 1 Month\n",
    "dv_period = 30\n",
    "\n",
    "campaign6169 = datetime.datetime(2018, 9, 4)\n",
    "end_period = campaign6169 + datetime.timedelta(days = dv_period)\n",
    "\n",
    "print(end_period)"
   ]
  },
  {
   "cell_type": "code",
<<<<<<< Updated upstream:DSC_Use_Case/Versions/added variables 1.ipynb
   "execution_count": 114,
=======
   "execution_count": 36,
>>>>>>> Stashed changes:DSC_Use_Case/dsc_group_project.ipynb
   "metadata": {},
   "outputs": [
    {
     "name": "stdout",
     "output_type": "stream",
     "text": [
      "2018-09-06 00:00:00\n",
      "2018-09-24 00:00:00\n"
     ]
    }
   ],
   "source": [
    "# Only select rows within our Independent Variable Timeline\n",
    "#gifts_dv = gifts_raw[(gifts_raw['date'] >= campaign6169) &  (gifts_raw['date'] <= end_period)]\n",
    "\n",
    "# Only select rows within our Independent Variable Timeline\n",
    "gifts_dv = gifts_raw[gifts_raw['campaignID'] == 6169]\n",
    "\n",
    "# Make sure they all have the right timeline\n",
    "print(gifts_dv['date'].min())\n",
    "\n",
    "# Make sure they all have the right timeline\n",
    "print(gifts_dv['date'].max())"
   ]
  },
  {
   "cell_type": "code",
<<<<<<< Updated upstream:DSC_Use_Case/Versions/added variables 1.ipynb
   "execution_count": 115,
=======
   "execution_count": 37,
>>>>>>> Stashed changes:DSC_Use_Case/dsc_group_project.ipynb
   "metadata": {},
   "outputs": [
    {
     "data": {
      "text/html": [
       "<div>\n",
       "<style scoped>\n",
       "    .dataframe tbody tr th:only-of-type {\n",
       "        vertical-align: middle;\n",
       "    }\n",
       "\n",
       "    .dataframe tbody tr th {\n",
       "        vertical-align: top;\n",
       "    }\n",
       "\n",
       "    .dataframe thead th {\n",
       "        text-align: right;\n",
       "    }\n",
       "</style>\n",
       "<table border=\"1\" class=\"dataframe\">\n",
       "  <thead>\n",
       "    <tr style=\"text-align: right;\">\n",
       "      <th></th>\n",
       "      <th>donorID</th>\n",
       "      <th>campaignID</th>\n",
       "      <th>amount</th>\n",
       "      <th>date</th>\n",
       "    </tr>\n",
       "  </thead>\n",
       "  <tbody>\n",
       "  </tbody>\n",
       "</table>\n",
       "</div>"
      ],
      "text/plain": [
       "Empty DataFrame\n",
       "Columns: [donorID, campaignID, amount, date]\n",
       "Index: []"
      ]
     },
<<<<<<< Updated upstream:DSC_Use_Case/Versions/added variables 1.ipynb
     "execution_count": 115,
=======
     "execution_count": 37,
>>>>>>> Stashed changes:DSC_Use_Case/dsc_group_project.ipynb
     "metadata": {},
     "output_type": "execute_result"
    }
   ],
   "source": [
    "gifts_dv[gifts_dv['campaignID'].isna()]"
   ]
  },
  {
   "cell_type": "code",
<<<<<<< Updated upstream:DSC_Use_Case/Versions/added variables 1.ipynb
   "execution_count": 116,
=======
   "execution_count": 38,
>>>>>>> Stashed changes:DSC_Use_Case/dsc_group_project.ipynb
   "metadata": {},
   "outputs": [
    {
     "data": {
      "text/plain": [
       "1191"
      ]
     },
<<<<<<< Updated upstream:DSC_Use_Case/Versions/added variables 1.ipynb
     "execution_count": 116,
=======
     "execution_count": 38,
>>>>>>> Stashed changes:DSC_Use_Case/dsc_group_project.ipynb
     "metadata": {},
     "output_type": "execute_result"
    }
   ],
   "source": [
    "# About 1191 donors responded to our 6169 campaign\n",
    "gifts_dv['donorID'].nunique()"
   ]
  },
  {
   "cell_type": "code",
<<<<<<< Updated upstream:DSC_Use_Case/Versions/added variables 1.ipynb
   "execution_count": 117,
=======
   "execution_count": 39,
>>>>>>> Stashed changes:DSC_Use_Case/dsc_group_project.ipynb
   "metadata": {},
   "outputs": [
    {
     "data": {
      "text/html": [
       "<div>\n",
       "<style scoped>\n",
       "    .dataframe tbody tr th:only-of-type {\n",
       "        vertical-align: middle;\n",
       "    }\n",
       "\n",
       "    .dataframe tbody tr th {\n",
       "        vertical-align: top;\n",
       "    }\n",
       "\n",
       "    .dataframe thead th {\n",
       "        text-align: right;\n",
       "    }\n",
       "</style>\n",
       "<table border=\"1\" class=\"dataframe\">\n",
       "  <thead>\n",
       "    <tr style=\"text-align: right;\">\n",
       "      <th></th>\n",
       "      <th>donorID</th>\n",
       "      <th>zipcode</th>\n",
       "      <th>province</th>\n",
       "      <th>region</th>\n",
       "      <th>gender</th>\n",
       "      <th>language</th>\n",
       "      <th>dateOfBirth</th>\n",
       "      <th>Age</th>\n",
       "    </tr>\n",
       "  </thead>\n",
       "  <tbody>\n",
       "  </tbody>\n",
       "</table>\n",
       "</div>"
      ],
      "text/plain": [
       "Empty DataFrame\n",
       "Columns: [donorID, zipcode, province, region, gender, language, dateOfBirth, Age]\n",
       "Index: []"
      ]
     },
<<<<<<< Updated upstream:DSC_Use_Case/Versions/added variables 1.ipynb
     "execution_count": 117,
=======
     "execution_count": 39,
>>>>>>> Stashed changes:DSC_Use_Case/dsc_group_project.ipynb
     "metadata": {},
     "output_type": "execute_result"
    }
   ],
   "source": [
    "# Example of Donors who donated, but we dont have his/her data in the donor database\n",
    "donors_raw[donors_raw['donorID'] == 265584]"
   ]
  },
  {
   "cell_type": "code",
<<<<<<< Updated upstream:DSC_Use_Case/Versions/added variables 1.ipynb
   "execution_count": 118,
=======
   "execution_count": 40,
>>>>>>> Stashed changes:DSC_Use_Case/dsc_group_project.ipynb
   "metadata": {},
   "outputs": [
    {
     "data": {
      "text/plain": [
       "donorID\n",
       "100023    1\n",
       "129742    1\n",
       "129665    1\n",
       "129587    1\n",
       "129512    1\n",
       "129500    1\n",
       "129493    1\n",
       "129470    1\n",
       "129395    1\n",
       "129385    1\n",
       "Name: amount, dtype: int64"
      ]
     },
<<<<<<< Updated upstream:DSC_Use_Case/Versions/added variables 1.ipynb
     "execution_count": 118,
=======
     "execution_count": 40,
>>>>>>> Stashed changes:DSC_Use_Case/dsc_group_project.ipynb
     "metadata": {},
     "output_type": "execute_result"
    }
   ],
   "source": [
    "gifts_dv.groupby('donorID')['amount'].count().sort_values(ascending = False).head(10)"
   ]
  },
  {
   "cell_type": "code",
<<<<<<< Updated upstream:DSC_Use_Case/Versions/added variables 1.ipynb
   "execution_count": 119,
=======
   "execution_count": 41,
>>>>>>> Stashed changes:DSC_Use_Case/dsc_group_project.ipynb
   "metadata": {},
   "outputs": [
    {
     "name": "stderr",
     "output_type": "stream",
     "text": [
<<<<<<< Updated upstream:DSC_Use_Case/Versions/added variables 1.ipynb
      "<ipython-input-119-f27318bc3112>:1: SettingWithCopyWarning: \n",
=======
      "<ipython-input-41-f27318bc3112>:1: SettingWithCopyWarning: \n",
>>>>>>> Stashed changes:DSC_Use_Case/dsc_group_project.ipynb
      "A value is trying to be set on a copy of a slice from a DataFrame.\n",
      "Try using .loc[row_indexer,col_indexer] = value instead\n",
      "\n",
      "See the caveats in the documentation: https://pandas.pydata.org/pandas-docs/stable/user_guide/indexing.html#returning-a-view-versus-a-copy\n",
      "  gifts_dv['amount'] = gifts_dv['amount'].str.replace(',', '.')\n",
<<<<<<< Updated upstream:DSC_Use_Case/Versions/added variables 1.ipynb
      "<ipython-input-119-f27318bc3112>:2: SettingWithCopyWarning: \n",
=======
      "<ipython-input-41-f27318bc3112>:2: SettingWithCopyWarning: \n",
>>>>>>> Stashed changes:DSC_Use_Case/dsc_group_project.ipynb
      "A value is trying to be set on a copy of a slice from a DataFrame.\n",
      "Try using .loc[row_indexer,col_indexer] = value instead\n",
      "\n",
      "See the caveats in the documentation: https://pandas.pydata.org/pandas-docs/stable/user_guide/indexing.html#returning-a-view-versus-a-copy\n",
      "  gifts_dv['amount'] = gifts_dv['amount'].astype('float')\n"
     ]
    }
   ],
   "source": [
    "gifts_dv['amount'] = gifts_dv['amount'].str.replace(',', '.')\n",
    "gifts_dv['amount'] = gifts_dv['amount'].astype('float')"
   ]
  },
  {
   "cell_type": "code",
<<<<<<< Updated upstream:DSC_Use_Case/Versions/added variables 1.ipynb
   "execution_count": 120,
=======
   "execution_count": 42,
>>>>>>> Stashed changes:DSC_Use_Case/dsc_group_project.ipynb
   "metadata": {},
   "outputs": [
    {
     "data": {
      "text/html": [
       "<div>\n",
       "<style scoped>\n",
       "    .dataframe tbody tr th:only-of-type {\n",
       "        vertical-align: middle;\n",
       "    }\n",
       "\n",
       "    .dataframe tbody tr th {\n",
       "        vertical-align: top;\n",
       "    }\n",
       "\n",
       "    .dataframe thead th {\n",
       "        text-align: right;\n",
       "    }\n",
       "</style>\n",
       "<table border=\"1\" class=\"dataframe\">\n",
       "  <thead>\n",
       "    <tr style=\"text-align: right;\">\n",
       "      <th></th>\n",
       "      <th>donorID</th>\n",
       "      <th>total_donated_during_dv</th>\n",
       "    </tr>\n",
       "  </thead>\n",
       "  <tbody>\n",
       "    <tr>\n",
       "      <th>0</th>\n",
       "      <td>100023</td>\n",
       "      <td>15.0</td>\n",
       "    </tr>\n",
       "    <tr>\n",
       "      <th>1</th>\n",
       "      <td>100126</td>\n",
       "      <td>123.0</td>\n",
       "    </tr>\n",
       "    <tr>\n",
       "      <th>2</th>\n",
       "      <td>100253</td>\n",
       "      <td>120.0</td>\n",
       "    </tr>\n",
       "    <tr>\n",
       "      <th>3</th>\n",
       "      <td>100279</td>\n",
       "      <td>75.0</td>\n",
       "    </tr>\n",
       "    <tr>\n",
       "      <th>4</th>\n",
       "      <td>100320</td>\n",
       "      <td>135.0</td>\n",
       "    </tr>\n",
       "  </tbody>\n",
       "</table>\n",
       "</div>"
      ],
      "text/plain": [
       "   donorID  total_donated_during_dv\n",
       "0   100023                     15.0\n",
       "1   100126                    123.0\n",
       "2   100253                    120.0\n",
       "3   100279                     75.0\n",
       "4   100320                    135.0"
      ]
     },
<<<<<<< Updated upstream:DSC_Use_Case/Versions/added variables 1.ipynb
     "execution_count": 120,
=======
     "execution_count": 42,
>>>>>>> Stashed changes:DSC_Use_Case/dsc_group_project.ipynb
     "metadata": {},
     "output_type": "execute_result"
    }
   ],
   "source": [
    "# Aggregate Data for each donors\n",
    "gifts_dv = gifts_dv.groupby('donorID')['amount'].agg('sum')\n",
    "\n",
    "# Reset Index and drop 2 level columns\n",
    "gifts_dv = gifts_dv.reset_index()\n",
    "\n",
    "# Rename columns\n",
    "gifts_dv.columns = ['donorID','total_donated_during_dv']\n",
    "\n",
    "gifts_dv.head()"
   ]
  },
  {
   "cell_type": "code",
<<<<<<< Updated upstream:DSC_Use_Case/Versions/added variables 1.ipynb
   "execution_count": 121,
=======
   "execution_count": 43,
>>>>>>> Stashed changes:DSC_Use_Case/dsc_group_project.ipynb
   "metadata": {},
   "outputs": [],
   "source": [
    "# Build Base Table Based On the 6169 Campaign Data\n",
    "gifts_cleaned = pd.merge(selection_campaign_6169_raw,gifts_cleaned, how='left', on='donorID')\n",
    "\n",
    "# Merge with iv table\n",
    "gifts_cleaned = pd.merge(gifts_cleaned, gifts_dv, how='left', on='donorID')\n",
    "\n",
    "# Merge with donor database\n",
    "gifts_cleaned = pd.merge(gifts_cleaned, donors_raw, how='left', on='donorID')"
   ]
  },
  {
   "cell_type": "code",
<<<<<<< Updated upstream:DSC_Use_Case/Versions/added variables 1.ipynb
   "execution_count": 122,
=======
   "execution_count": 44,
>>>>>>> Stashed changes:DSC_Use_Case/dsc_group_project.ipynb
   "metadata": {},
   "outputs": [
    {
     "data": {
      "text/html": [
       "<div>\n",
       "<style scoped>\n",
       "    .dataframe tbody tr th:only-of-type {\n",
       "        vertical-align: middle;\n",
       "    }\n",
       "\n",
       "    .dataframe tbody tr th {\n",
       "        vertical-align: top;\n",
       "    }\n",
       "\n",
       "    .dataframe thead th {\n",
       "        text-align: right;\n",
       "    }\n",
       "</style>\n",
       "<table border=\"1\" class=\"dataframe\">\n",
       "  <thead>\n",
       "    <tr style=\"text-align: right;\">\n",
       "      <th></th>\n",
       "      <th>donorID</th>\n",
       "      <th>total_donated</th>\n",
       "      <th>frequency_donor</th>\n",
       "      <th>last_date_dono</th>\n",
       "      <th>Recency_dono</th>\n",
       "      <th>total_donated_during_dv</th>\n",
       "      <th>zipcode</th>\n",
       "      <th>province</th>\n",
       "      <th>region</th>\n",
       "      <th>gender</th>\n",
       "      <th>language</th>\n",
       "      <th>dateOfBirth</th>\n",
       "      <th>Age</th>\n",
       "    </tr>\n",
       "  </thead>\n",
       "  <tbody>\n",
       "    <tr>\n",
       "      <th>22576</th>\n",
       "      <td>127009</td>\n",
       "      <td>NaN</td>\n",
       "      <td>NaN</td>\n",
       "      <td>NaT</td>\n",
       "      <td>NaN</td>\n",
       "      <td>NaN</td>\n",
       "      <td>9000.0</td>\n",
       "      <td>East Flanders</td>\n",
       "      <td>Flanders</td>\n",
       "      <td>F</td>\n",
       "      <td>NL</td>\n",
       "      <td>1889-06-14</td>\n",
       "      <td>129.0</td>\n",
       "    </tr>\n",
       "  </tbody>\n",
       "</table>\n",
       "</div>"
      ],
      "text/plain": [
       "       donorID  total_donated  frequency_donor last_date_dono  Recency_dono  \\\n",
       "22576   127009            NaN              NaN            NaT           NaN   \n",
       "\n",
       "       total_donated_during_dv  zipcode       province    region gender  \\\n",
       "22576                      NaN   9000.0  East Flanders  Flanders      F   \n",
       "\n",
       "      language dateOfBirth    Age  \n",
       "22576       NL  1889-06-14  129.0  "
      ]
     },
     "execution_count": 122,
     "metadata": {},
     "output_type": "execute_result"
    }
   ],
   "source": [
    "#gifts_cleaned.info()\n",
    "gifts_cleaned[gifts_cleaned['Age'] == 129]"
   ]
  },
  {
   "cell_type": "code",
<<<<<<< Updated upstream:DSC_Use_Case/Versions/added variables 1.ipynb
   "execution_count": 123,
=======
   "execution_count": 45,
>>>>>>> Stashed changes:DSC_Use_Case/dsc_group_project.ipynb
   "metadata": {},
   "outputs": [
    {
     "data": {
      "text/plain": [
       "donorID                    38\n",
       "total_donated              38\n",
       "frequency_donor            38\n",
       "last_date_dono             38\n",
       "Recency_dono               38\n",
       "total_donated_during_dv    38\n",
       "zipcode                    38\n",
       "province                   38\n",
       "region                     38\n",
       "gender                     38\n",
       "language                   38\n",
       "dateOfBirth                38\n",
       "Age                        38\n",
       "dtype: int64"
      ]
     },
<<<<<<< Updated upstream:DSC_Use_Case/Versions/added variables 1.ipynb
     "execution_count": 123,
=======
     "execution_count": 45,
>>>>>>> Stashed changes:DSC_Use_Case/dsc_group_project.ipynb
     "metadata": {},
     "output_type": "execute_result"
    }
   ],
   "source": [
    "gifts_cleaned[(gifts_cleaned['total_donated_during_dv'].notnull()) & (gifts_cleaned['total_donated'].notnull())].count()"
   ]
  },
  {
   "cell_type": "code",
<<<<<<< Updated upstream:DSC_Use_Case/Versions/added variables 1.ipynb
   "execution_count": 124,
=======
   "execution_count": 46,
>>>>>>> Stashed changes:DSC_Use_Case/dsc_group_project.ipynb
   "metadata": {},
   "outputs": [
    {
     "name": "stdout",
     "output_type": "stream",
     "text": [
      "<class 'pandas.core.frame.DataFrame'>\n",
      "Int64Index: 34888 entries, 0 to 34887\n",
      "Data columns (total 14 columns):\n",
      " #   Column                        Non-Null Count  Dtype         \n",
      "---  ------                        --------------  -----         \n",
      " 0   donorID                       34888 non-null  int64         \n",
      " 1   total_donated                 198 non-null    float64       \n",
      " 2   frequency_donor               198 non-null    float64       \n",
      " 3   last_date_dono                198 non-null    datetime64[ns]\n",
      " 4   Recency_dono                  198 non-null    float64       \n",
      " 5   total_donated_during_dv       1191 non-null   float64       \n",
      " 6   zipcode                       34872 non-null  float64       \n",
      " 7   province                      34874 non-null  object        \n",
      " 8   region                        34874 non-null  object        \n",
      " 9   gender                        34854 non-null  object        \n",
      " 10  language                      34874 non-null  object        \n",
      " 11  dateOfBirth                   34874 non-null  datetime64[ns]\n",
      " 12  Age                           34874 non-null  float64       \n",
      " 13  donated_more_than30_duringdv  34888 non-null  int64         \n",
      "dtypes: datetime64[ns](2), float64(6), int64(2), object(4)\n",
      "memory usage: 4.0+ MB\n"
     ]
    }
   ],
   "source": [
    "gifts_cleaned['donated_more_than30_duringdv'] = gifts_cleaned['total_donated_during_dv'].apply(lambda row: 1 if row >= 30 else 0)\n",
    "gifts_cleaned.info()"
   ]
  },
  {
   "cell_type": "code",
<<<<<<< Updated upstream:DSC_Use_Case/Versions/added variables 1.ipynb
   "execution_count": 125,
=======
   "execution_count": 47,
>>>>>>> Stashed changes:DSC_Use_Case/dsc_group_project.ipynb
   "metadata": {},
   "outputs": [
    {
     "data": {
      "text/html": [
       "<div>\n",
       "<style scoped>\n",
       "    .dataframe tbody tr th:only-of-type {\n",
       "        vertical-align: middle;\n",
       "    }\n",
       "\n",
       "    .dataframe tbody tr th {\n",
       "        vertical-align: top;\n",
       "    }\n",
       "\n",
       "    .dataframe thead th {\n",
       "        text-align: right;\n",
       "    }\n",
       "</style>\n",
       "<table border=\"1\" class=\"dataframe\">\n",
       "  <thead>\n",
       "    <tr style=\"text-align: right;\">\n",
       "      <th></th>\n",
       "      <th>donorID</th>\n",
       "    </tr>\n",
       "  </thead>\n",
       "  <tbody>\n",
       "    <tr>\n",
       "      <th>4361</th>\n",
       "      <td>1474536</td>\n",
       "    </tr>\n",
       "  </tbody>\n",
       "</table>\n",
       "</div>"
      ],
      "text/plain": [
       "      donorID\n",
       "4361  1474536"
      ]
     },
<<<<<<< Updated upstream:DSC_Use_Case/Versions/added variables 1.ipynb
     "execution_count": 125,
=======
     "execution_count": 47,
>>>>>>> Stashed changes:DSC_Use_Case/dsc_group_project.ipynb
     "metadata": {},
     "output_type": "execute_result"
    }
   ],
   "source": [
    "# Example of Donors who were selected for a campaign, but we dont have his/her data in the donor database\n",
    "selection_campaign_6169_raw[selection_campaign_6169_raw['donorID'] == 1474536]"
   ]
  },
  {
   "cell_type": "markdown",
   "metadata": {},
   "source": [
    "### Base Table for the training set\n",
    "\n",
    "Some info on this table:\n",
    "- The basis table is the donors that were selected for campaign 6169\n",
    "- IV period of 6 months, with gap period of 7 days\n",
    "- DV period is not specified. Donors are selected on the basis of their reaction to the corresponding campaign (only takes into account campaign 6169)\n",
    "- Granularity is DonorID"
   ]
  },
  {
   "cell_type": "code",
<<<<<<< Updated upstream:DSC_Use_Case/Versions/added variables 1.ipynb
   "execution_count": 126,
=======
   "execution_count": 48,
>>>>>>> Stashed changes:DSC_Use_Case/dsc_group_project.ipynb
   "metadata": {},
   "outputs": [
    {
     "name": "stdout",
     "output_type": "stream",
     "text": [
      "<class 'pandas.core.frame.DataFrame'>\n",
      "Int64Index: 34888 entries, 0 to 34887\n",
      "Data columns (total 14 columns):\n",
      " #   Column                        Non-Null Count  Dtype         \n",
      "---  ------                        --------------  -----         \n",
      " 0   donorID                       34888 non-null  int64         \n",
      " 1   total_donated                 198 non-null    float64       \n",
      " 2   frequency_donor               198 non-null    float64       \n",
      " 3   last_date_dono                198 non-null    datetime64[ns]\n",
      " 4   Recency_dono                  198 non-null    float64       \n",
      " 5   total_donated_during_dv       1191 non-null   float64       \n",
      " 6   zipcode                       34872 non-null  float64       \n",
      " 7   province                      34874 non-null  object        \n",
      " 8   region                        34874 non-null  object        \n",
      " 9   gender                        34854 non-null  object        \n",
      " 10  language                      34874 non-null  object        \n",
      " 11  dateOfBirth                   34874 non-null  datetime64[ns]\n",
      " 12  Age                           34874 non-null  float64       \n",
      " 13  donated_more_than30_duringdv  34888 non-null  int64         \n",
      "dtypes: datetime64[ns](2), float64(6), int64(2), object(4)\n",
      "memory usage: 4.0+ MB\n"
     ]
    }
   ],
   "source": [
    "gifts_cleaned.info()"
   ]
  },
  {
   "cell_type": "code",
<<<<<<< Updated upstream:DSC_Use_Case/Versions/added variables 1.ipynb
   "execution_count": 127,
=======
   "execution_count": 49,
>>>>>>> Stashed changes:DSC_Use_Case/dsc_group_project.ipynb
   "metadata": {},
   "outputs": [
    {
     "data": {
      "text/html": [
       "<div>\n",
       "<style scoped>\n",
       "    .dataframe tbody tr th:only-of-type {\n",
       "        vertical-align: middle;\n",
       "    }\n",
       "\n",
       "    .dataframe tbody tr th {\n",
       "        vertical-align: top;\n",
       "    }\n",
       "\n",
       "    .dataframe thead th {\n",
       "        text-align: right;\n",
       "    }\n",
       "</style>\n",
       "<table border=\"1\" class=\"dataframe\">\n",
       "  <thead>\n",
       "    <tr style=\"text-align: right;\">\n",
       "      <th></th>\n",
       "      <th>donorID</th>\n",
       "      <th>total_donated</th>\n",
       "      <th>frequency_donor</th>\n",
       "      <th>last_date_dono</th>\n",
       "      <th>Recency_dono</th>\n",
       "      <th>total_donated_during_dv</th>\n",
       "      <th>zipcode</th>\n",
       "      <th>province</th>\n",
       "      <th>region</th>\n",
       "      <th>gender</th>\n",
       "      <th>language</th>\n",
       "      <th>dateOfBirth</th>\n",
       "      <th>Age</th>\n",
       "      <th>donated_more_than30_duringdv</th>\n",
       "    </tr>\n",
       "  </thead>\n",
       "  <tbody>\n",
       "    <tr>\n",
       "      <th>27299</th>\n",
       "      <td>265584</td>\n",
       "      <td>NaN</td>\n",
       "      <td>NaN</td>\n",
       "      <td>NaT</td>\n",
       "      <td>NaN</td>\n",
       "      <td>300.0</td>\n",
       "      <td>NaN</td>\n",
       "      <td>NaN</td>\n",
       "      <td>NaN</td>\n",
       "      <td>NaN</td>\n",
       "      <td>NaN</td>\n",
       "      <td>NaT</td>\n",
       "      <td>NaN</td>\n",
       "      <td>1</td>\n",
       "    </tr>\n",
       "  </tbody>\n",
       "</table>\n",
       "</div>"
      ],
      "text/plain": [
       "       donorID  total_donated  frequency_donor last_date_dono  Recency_dono  \\\n",
       "27299   265584            NaN              NaN            NaT           NaN   \n",
       "\n",
       "       total_donated_during_dv  zipcode province region gender language  \\\n",
       "27299                    300.0      NaN      NaN    NaN    NaN      NaN   \n",
       "\n",
       "      dateOfBirth  Age  donated_more_than30_duringdv  \n",
       "27299         NaT  NaN                             1  "
      ]
     },
<<<<<<< Updated upstream:DSC_Use_Case/Versions/added variables 1.ipynb
     "execution_count": 127,
=======
     "execution_count": 49,
>>>>>>> Stashed changes:DSC_Use_Case/dsc_group_project.ipynb
     "metadata": {},
     "output_type": "execute_result"
    }
   ],
   "source": [
    "# Example of Donors who donated, but we dont have his/her data in the donor database\n",
    "gifts_cleaned[gifts_cleaned['donorID'] == 265584]"
   ]
  },
  {
   "cell_type": "code",
<<<<<<< Updated upstream:DSC_Use_Case/Versions/added variables 1.ipynb
   "execution_count": 128,
=======
   "execution_count": 50,
>>>>>>> Stashed changes:DSC_Use_Case/dsc_group_project.ipynb
   "metadata": {},
   "outputs": [
    {
     "data": {
      "text/html": [
       "<div>\n",
       "<style scoped>\n",
       "    .dataframe tbody tr th:only-of-type {\n",
       "        vertical-align: middle;\n",
       "    }\n",
       "\n",
       "    .dataframe tbody tr th {\n",
       "        vertical-align: top;\n",
       "    }\n",
       "\n",
       "    .dataframe thead th {\n",
       "        text-align: right;\n",
       "    }\n",
       "</style>\n",
       "<table border=\"1\" class=\"dataframe\">\n",
       "  <thead>\n",
       "    <tr style=\"text-align: right;\">\n",
       "      <th></th>\n",
       "      <th>donorID</th>\n",
       "      <th>total_donated</th>\n",
       "      <th>frequency_donor</th>\n",
       "      <th>last_date_dono</th>\n",
       "      <th>Recency_dono</th>\n",
       "      <th>total_donated_during_dv</th>\n",
       "      <th>zipcode</th>\n",
       "      <th>province</th>\n",
       "      <th>region</th>\n",
       "      <th>gender</th>\n",
       "      <th>language</th>\n",
       "      <th>dateOfBirth</th>\n",
       "      <th>Age</th>\n",
       "      <th>donated_more_than30_duringdv</th>\n",
       "    </tr>\n",
       "  </thead>\n",
       "  <tbody>\n",
       "    <tr>\n",
       "      <th>0</th>\n",
       "      <td>100001</td>\n",
       "      <td>NaN</td>\n",
       "      <td>NaN</td>\n",
       "      <td>NaT</td>\n",
       "      <td>NaN</td>\n",
       "      <td>NaN</td>\n",
       "      <td>1861.0</td>\n",
       "      <td>Flemish Brabant</td>\n",
       "      <td>Flanders</td>\n",
       "      <td>F</td>\n",
       "      <td>NL</td>\n",
       "      <td>1967-12-24</td>\n",
       "      <td>50.0</td>\n",
       "      <td>0</td>\n",
       "    </tr>\n",
       "    <tr>\n",
       "      <th>1</th>\n",
       "      <td>100002</td>\n",
       "      <td>NaN</td>\n",
       "      <td>NaN</td>\n",
       "      <td>NaT</td>\n",
       "      <td>NaN</td>\n",
       "      <td>NaN</td>\n",
       "      <td>2260.0</td>\n",
       "      <td>Antwerp</td>\n",
       "      <td>Flanders</td>\n",
       "      <td>M</td>\n",
       "      <td>NL</td>\n",
       "      <td>1952-01-14</td>\n",
       "      <td>66.0</td>\n",
       "      <td>0</td>\n",
       "    </tr>\n",
       "    <tr>\n",
       "      <th>2</th>\n",
       "      <td>100004</td>\n",
       "      <td>NaN</td>\n",
       "      <td>NaN</td>\n",
       "      <td>NaT</td>\n",
       "      <td>NaN</td>\n",
       "      <td>NaN</td>\n",
       "      <td>1020.0</td>\n",
       "      <td>Brussels</td>\n",
       "      <td>Brussels</td>\n",
       "      <td>F</td>\n",
       "      <td>FR</td>\n",
       "      <td>1952-03-29</td>\n",
       "      <td>66.0</td>\n",
       "      <td>0</td>\n",
       "    </tr>\n",
       "    <tr>\n",
       "      <th>3</th>\n",
       "      <td>100008</td>\n",
       "      <td>NaN</td>\n",
       "      <td>NaN</td>\n",
       "      <td>NaT</td>\n",
       "      <td>NaN</td>\n",
       "      <td>NaN</td>\n",
       "      <td>1780.0</td>\n",
       "      <td>Flemish Brabant</td>\n",
       "      <td>Flanders</td>\n",
       "      <td>M</td>\n",
       "      <td>FR</td>\n",
       "      <td>1937-08-30</td>\n",
       "      <td>81.0</td>\n",
       "      <td>0</td>\n",
       "    </tr>\n",
       "    <tr>\n",
       "      <th>4</th>\n",
       "      <td>100009</td>\n",
       "      <td>NaN</td>\n",
       "      <td>NaN</td>\n",
       "      <td>NaT</td>\n",
       "      <td>NaN</td>\n",
       "      <td>NaN</td>\n",
       "      <td>1020.0</td>\n",
       "      <td>Brussels</td>\n",
       "      <td>Brussels</td>\n",
       "      <td>M</td>\n",
       "      <td>FR</td>\n",
       "      <td>1932-01-20</td>\n",
       "      <td>86.0</td>\n",
       "      <td>0</td>\n",
       "    </tr>\n",
       "    <tr>\n",
       "      <th>...</th>\n",
       "      <td>...</td>\n",
       "      <td>...</td>\n",
       "      <td>...</td>\n",
       "      <td>...</td>\n",
       "      <td>...</td>\n",
       "      <td>...</td>\n",
       "      <td>...</td>\n",
       "      <td>...</td>\n",
       "      <td>...</td>\n",
       "      <td>...</td>\n",
       "      <td>...</td>\n",
       "      <td>...</td>\n",
       "      <td>...</td>\n",
       "      <td>...</td>\n",
       "    </tr>\n",
       "    <tr>\n",
       "      <th>34882</th>\n",
       "      <td>144685</td>\n",
       "      <td>NaN</td>\n",
       "      <td>NaN</td>\n",
       "      <td>NaT</td>\n",
       "      <td>NaN</td>\n",
       "      <td>NaN</td>\n",
       "      <td>9860.0</td>\n",
       "      <td>East Flanders</td>\n",
       "      <td>Flanders</td>\n",
       "      <td>F</td>\n",
       "      <td>NL</td>\n",
       "      <td>1978-03-23</td>\n",
       "      <td>40.0</td>\n",
       "      <td>0</td>\n",
       "    </tr>\n",
       "    <tr>\n",
       "      <th>34883</th>\n",
       "      <td>144686</td>\n",
       "      <td>NaN</td>\n",
       "      <td>NaN</td>\n",
       "      <td>NaT</td>\n",
       "      <td>NaN</td>\n",
       "      <td>NaN</td>\n",
       "      <td>2440.0</td>\n",
       "      <td>Antwerp</td>\n",
       "      <td>Flanders</td>\n",
       "      <td>F</td>\n",
       "      <td>NL</td>\n",
       "      <td>1964-09-28</td>\n",
       "      <td>53.0</td>\n",
       "      <td>0</td>\n",
       "    </tr>\n",
       "    <tr>\n",
       "      <th>34884</th>\n",
       "      <td>144687</td>\n",
       "      <td>NaN</td>\n",
       "      <td>NaN</td>\n",
       "      <td>NaT</td>\n",
       "      <td>NaN</td>\n",
       "      <td>NaN</td>\n",
       "      <td>4900.0</td>\n",
       "      <td>Liege</td>\n",
       "      <td>Wallonia</td>\n",
       "      <td>M</td>\n",
       "      <td>FR</td>\n",
       "      <td>1970-09-12</td>\n",
       "      <td>47.0</td>\n",
       "      <td>0</td>\n",
       "    </tr>\n",
       "    <tr>\n",
       "      <th>34886</th>\n",
       "      <td>144690</td>\n",
       "      <td>NaN</td>\n",
       "      <td>NaN</td>\n",
       "      <td>NaT</td>\n",
       "      <td>NaN</td>\n",
       "      <td>NaN</td>\n",
       "      <td>1950.0</td>\n",
       "      <td>Flemish Brabant</td>\n",
       "      <td>Flanders</td>\n",
       "      <td>M</td>\n",
       "      <td>FR</td>\n",
       "      <td>1976-05-07</td>\n",
       "      <td>42.0</td>\n",
       "      <td>0</td>\n",
       "    </tr>\n",
       "    <tr>\n",
       "      <th>34887</th>\n",
       "      <td>144691</td>\n",
       "      <td>NaN</td>\n",
       "      <td>NaN</td>\n",
       "      <td>NaT</td>\n",
       "      <td>NaN</td>\n",
       "      <td>NaN</td>\n",
       "      <td>1160.0</td>\n",
       "      <td>Brussels</td>\n",
       "      <td>Brussels</td>\n",
       "      <td>M</td>\n",
       "      <td>FR</td>\n",
       "      <td>1987-06-05</td>\n",
       "      <td>31.0</td>\n",
       "      <td>0</td>\n",
       "    </tr>\n",
       "  </tbody>\n",
       "</table>\n",
       "<p>33537 rows × 14 columns</p>\n",
       "</div>"
      ],
      "text/plain": [
       "       donorID  total_donated  frequency_donor last_date_dono  Recency_dono  \\\n",
       "0       100001            NaN              NaN            NaT           NaN   \n",
       "1       100002            NaN              NaN            NaT           NaN   \n",
       "2       100004            NaN              NaN            NaT           NaN   \n",
       "3       100008            NaN              NaN            NaT           NaN   \n",
       "4       100009            NaN              NaN            NaT           NaN   \n",
       "...        ...            ...              ...            ...           ...   \n",
       "34882   144685            NaN              NaN            NaT           NaN   \n",
       "34883   144686            NaN              NaN            NaT           NaN   \n",
       "34884   144687            NaN              NaN            NaT           NaN   \n",
       "34886   144690            NaN              NaN            NaT           NaN   \n",
       "34887   144691            NaN              NaN            NaT           NaN   \n",
       "\n",
       "       total_donated_during_dv  zipcode         province    region gender  \\\n",
       "0                          NaN   1861.0  Flemish Brabant  Flanders      F   \n",
       "1                          NaN   2260.0          Antwerp  Flanders      M   \n",
       "2                          NaN   1020.0         Brussels  Brussels      F   \n",
       "3                          NaN   1780.0  Flemish Brabant  Flanders      M   \n",
       "4                          NaN   1020.0         Brussels  Brussels      M   \n",
       "...                        ...      ...              ...       ...    ...   \n",
       "34882                      NaN   9860.0    East Flanders  Flanders      F   \n",
       "34883                      NaN   2440.0          Antwerp  Flanders      F   \n",
       "34884                      NaN   4900.0            Liege  Wallonia      M   \n",
       "34886                      NaN   1950.0  Flemish Brabant  Flanders      M   \n",
       "34887                      NaN   1160.0         Brussels  Brussels      M   \n",
       "\n",
       "      language dateOfBirth   Age  donated_more_than30_duringdv  \n",
       "0           NL  1967-12-24  50.0                             0  \n",
       "1           NL  1952-01-14  66.0                             0  \n",
       "2           FR  1952-03-29  66.0                             0  \n",
       "3           FR  1937-08-30  81.0                             0  \n",
       "4           FR  1932-01-20  86.0                             0  \n",
       "...        ...         ...   ...                           ...  \n",
       "34882       NL  1978-03-23  40.0                             0  \n",
       "34883       NL  1964-09-28  53.0                             0  \n",
       "34884       FR  1970-09-12  47.0                             0  \n",
       "34886       FR  1976-05-07  42.0                             0  \n",
       "34887       FR  1987-06-05  31.0                             0  \n",
       "\n",
       "[33537 rows x 14 columns]"
      ]
     },
<<<<<<< Updated upstream:DSC_Use_Case/Versions/added variables 1.ipynb
     "execution_count": 128,
=======
     "execution_count": 50,
>>>>>>> Stashed changes:DSC_Use_Case/dsc_group_project.ipynb
     "metadata": {},
     "output_type": "execute_result"
    }
   ],
   "source": [
    "# Donors who receives our campaign, but didnt donate during DV period and is inactive during IV period\n",
    "gifts_cleaned[(gifts_cleaned['total_donated_during_dv'].isnull()) & (gifts_cleaned['total_donated'].isnull())]"
   ]
  },
  {
   "cell_type": "code",
<<<<<<< Updated upstream:DSC_Use_Case/Versions/added variables 1.ipynb
   "execution_count": 129,
=======
   "execution_count": 69,
   "metadata": {},
   "outputs": [
    {
     "data": {
      "text/plain": [
       "donorID         0\n",
       "zipcode         2\n",
       "province        0\n",
       "region          0\n",
       "gender         32\n",
       "language        0\n",
       "dateOfBirth     0\n",
       "Age             0\n",
       "dtype: int64"
      ]
     },
     "execution_count": 69,
     "metadata": {},
     "output_type": "execute_result"
    }
   ],
   "source": [
    "donors_raw.isna().sum()"
   ]
  },
  {
   "cell_type": "code",
   "execution_count": 70,
   "metadata": {},
   "outputs": [
    {
     "data": {
      "text/html": [
       "<div>\n",
       "<style scoped>\n",
       "    .dataframe tbody tr th:only-of-type {\n",
       "        vertical-align: middle;\n",
       "    }\n",
       "\n",
       "    .dataframe tbody tr th {\n",
       "        vertical-align: top;\n",
       "    }\n",
       "\n",
       "    .dataframe thead th {\n",
       "        text-align: right;\n",
       "    }\n",
       "</style>\n",
       "<table border=\"1\" class=\"dataframe\">\n",
       "  <thead>\n",
       "    <tr style=\"text-align: right;\">\n",
       "      <th></th>\n",
       "      <th>donorID</th>\n",
       "      <th>zipcode</th>\n",
       "      <th>province</th>\n",
       "      <th>region</th>\n",
       "      <th>gender</th>\n",
       "      <th>language</th>\n",
       "      <th>dateOfBirth</th>\n",
       "      <th>Age</th>\n",
       "    </tr>\n",
       "  </thead>\n",
       "  <tbody>\n",
       "    <tr>\n",
       "      <th>5019</th>\n",
       "      <td>105020</td>\n",
       "      <td>NaN</td>\n",
       "      <td>Missing</td>\n",
       "      <td>Missing</td>\n",
       "      <td>M</td>\n",
       "      <td>EN</td>\n",
       "      <td>1966-11-09</td>\n",
       "      <td>51</td>\n",
       "    </tr>\n",
       "    <tr>\n",
       "      <th>22100</th>\n",
       "      <td>122101</td>\n",
       "      <td>NaN</td>\n",
       "      <td>Missing</td>\n",
       "      <td>Missing</td>\n",
       "      <td>F</td>\n",
       "      <td>EN</td>\n",
       "      <td>1975-10-31</td>\n",
       "      <td>42</td>\n",
       "    </tr>\n",
       "  </tbody>\n",
       "</table>\n",
       "</div>"
      ],
      "text/plain": [
       "       donorID  zipcode province   region gender language dateOfBirth  Age\n",
       "5019    105020      NaN  Missing  Missing      M       EN  1966-11-09   51\n",
       "22100   122101      NaN  Missing  Missing      F       EN  1975-10-31   42"
      ]
     },
     "execution_count": 70,
     "metadata": {},
     "output_type": "execute_result"
    }
   ],
   "source": [
    "donors_raw[donors_raw[\"zipcode\"].isna()]"
   ]
  },
  {
   "cell_type": "code",
   "execution_count": 51,
>>>>>>> Stashed changes:DSC_Use_Case/dsc_group_project.ipynb
   "metadata": {},
   "outputs": [
    {
     "data": {
      "text/html": [
       "<div>\n",
       "<style scoped>\n",
       "    .dataframe tbody tr th:only-of-type {\n",
       "        vertical-align: middle;\n",
       "    }\n",
       "\n",
       "    .dataframe tbody tr th {\n",
       "        vertical-align: top;\n",
       "    }\n",
       "\n",
       "    .dataframe thead th {\n",
       "        text-align: right;\n",
       "    }\n",
       "</style>\n",
       "<table border=\"1\" class=\"dataframe\">\n",
       "  <thead>\n",
       "    <tr style=\"text-align: right;\">\n",
       "      <th></th>\n",
       "      <th>donorID</th>\n",
       "      <th>total_donated</th>\n",
       "      <th>frequency_donor</th>\n",
       "      <th>last_date_dono</th>\n",
       "      <th>Recency_dono</th>\n",
       "      <th>total_donated_during_dv</th>\n",
       "      <th>zipcode</th>\n",
       "      <th>province</th>\n",
       "      <th>region</th>\n",
       "      <th>gender</th>\n",
       "      <th>language</th>\n",
       "      <th>dateOfBirth</th>\n",
       "      <th>Age</th>\n",
       "      <th>donated_more_than30_duringdv</th>\n",
       "    </tr>\n",
       "  </thead>\n",
       "  <tbody>\n",
       "    <tr>\n",
       "      <th>828</th>\n",
       "      <td>202036</td>\n",
       "      <td>NaN</td>\n",
       "      <td>NaN</td>\n",
       "      <td>NaT</td>\n",
       "      <td>NaN</td>\n",
       "      <td>21.0</td>\n",
       "      <td>NaN</td>\n",
       "      <td>NaN</td>\n",
       "      <td>NaN</td>\n",
       "      <td>NaN</td>\n",
       "      <td>NaN</td>\n",
       "      <td>NaT</td>\n",
       "      <td>NaN</td>\n",
       "      <td>0</td>\n",
       "    </tr>\n",
       "    <tr>\n",
       "      <th>2182</th>\n",
       "      <td>205354</td>\n",
       "      <td>NaN</td>\n",
       "      <td>NaN</td>\n",
       "      <td>NaT</td>\n",
       "      <td>NaN</td>\n",
       "      <td>21.0</td>\n",
       "      <td>NaN</td>\n",
       "      <td>NaN</td>\n",
       "      <td>NaN</td>\n",
       "      <td>NaN</td>\n",
       "      <td>NaN</td>\n",
       "      <td>NaT</td>\n",
       "      <td>NaN</td>\n",
       "      <td>0</td>\n",
       "    </tr>\n",
       "    <tr>\n",
       "      <th>4197</th>\n",
       "      <td>210268</td>\n",
       "      <td>NaN</td>\n",
       "      <td>NaN</td>\n",
       "      <td>NaT</td>\n",
       "      <td>NaN</td>\n",
       "      <td>300.0</td>\n",
       "      <td>NaN</td>\n",
       "      <td>NaN</td>\n",
       "      <td>NaN</td>\n",
       "      <td>NaN</td>\n",
       "      <td>NaN</td>\n",
       "      <td>NaT</td>\n",
       "      <td>NaN</td>\n",
       "      <td>1</td>\n",
       "    </tr>\n",
       "    <tr>\n",
       "      <th>4361</th>\n",
       "      <td>1474536</td>\n",
       "      <td>NaN</td>\n",
       "      <td>NaN</td>\n",
       "      <td>NaT</td>\n",
       "      <td>NaN</td>\n",
       "      <td>183.0</td>\n",
       "      <td>NaN</td>\n",
       "      <td>NaN</td>\n",
       "      <td>NaN</td>\n",
       "      <td>NaN</td>\n",
       "      <td>NaN</td>\n",
       "      <td>NaT</td>\n",
       "      <td>NaN</td>\n",
       "      <td>1</td>\n",
       "    </tr>\n",
       "    <tr>\n",
       "      <th>4891</th>\n",
       "      <td>317880</td>\n",
       "      <td>NaN</td>\n",
       "      <td>NaN</td>\n",
       "      <td>NaT</td>\n",
       "      <td>NaN</td>\n",
       "      <td>157.5</td>\n",
       "      <td>NaN</td>\n",
       "      <td>NaN</td>\n",
       "      <td>NaN</td>\n",
       "      <td>NaN</td>\n",
       "      <td>NaN</td>\n",
       "      <td>NaT</td>\n",
       "      <td>NaN</td>\n",
       "      <td>1</td>\n",
       "    </tr>\n",
       "    <tr>\n",
       "      <th>5090</th>\n",
       "      <td>212406</td>\n",
       "      <td>NaN</td>\n",
       "      <td>NaN</td>\n",
       "      <td>NaT</td>\n",
       "      <td>NaN</td>\n",
       "      <td>21.0</td>\n",
       "      <td>NaN</td>\n",
       "      <td>NaN</td>\n",
       "      <td>NaN</td>\n",
       "      <td>NaN</td>\n",
       "      <td>NaN</td>\n",
       "      <td>NaT</td>\n",
       "      <td>NaN</td>\n",
       "      <td>0</td>\n",
       "    </tr>\n",
       "    <tr>\n",
       "      <th>10648</th>\n",
       "      <td>225460</td>\n",
       "      <td>NaN</td>\n",
       "      <td>NaN</td>\n",
       "      <td>NaT</td>\n",
       "      <td>NaN</td>\n",
       "      <td>24.0</td>\n",
       "      <td>NaN</td>\n",
       "      <td>NaN</td>\n",
       "      <td>NaN</td>\n",
       "      <td>NaN</td>\n",
       "      <td>NaN</td>\n",
       "      <td>NaT</td>\n",
       "      <td>NaN</td>\n",
       "      <td>0</td>\n",
       "    </tr>\n",
       "    <tr>\n",
       "      <th>13208</th>\n",
       "      <td>231512</td>\n",
       "      <td>NaN</td>\n",
       "      <td>NaN</td>\n",
       "      <td>NaT</td>\n",
       "      <td>NaN</td>\n",
       "      <td>24.0</td>\n",
       "      <td>NaN</td>\n",
       "      <td>NaN</td>\n",
       "      <td>NaN</td>\n",
       "      <td>NaN</td>\n",
       "      <td>NaN</td>\n",
       "      <td>NaT</td>\n",
       "      <td>NaN</td>\n",
       "      <td>0</td>\n",
       "    </tr>\n",
       "    <tr>\n",
       "      <th>17033</th>\n",
       "      <td>480980</td>\n",
       "      <td>NaN</td>\n",
       "      <td>NaN</td>\n",
       "      <td>NaT</td>\n",
       "      <td>NaN</td>\n",
       "      <td>36.0</td>\n",
       "      <td>NaN</td>\n",
       "      <td>NaN</td>\n",
       "      <td>NaN</td>\n",
       "      <td>NaN</td>\n",
       "      <td>NaN</td>\n",
       "      <td>NaT</td>\n",
       "      <td>NaN</td>\n",
       "      <td>1</td>\n",
       "    </tr>\n",
       "    <tr>\n",
       "      <th>22296</th>\n",
       "      <td>253280</td>\n",
       "      <td>NaN</td>\n",
       "      <td>NaN</td>\n",
       "      <td>NaT</td>\n",
       "      <td>NaN</td>\n",
       "      <td>24.0</td>\n",
       "      <td>NaN</td>\n",
       "      <td>NaN</td>\n",
       "      <td>NaN</td>\n",
       "      <td>NaN</td>\n",
       "      <td>NaN</td>\n",
       "      <td>NaT</td>\n",
       "      <td>NaN</td>\n",
       "      <td>0</td>\n",
       "    </tr>\n",
       "    <tr>\n",
       "      <th>23185</th>\n",
       "      <td>255488</td>\n",
       "      <td>NaN</td>\n",
       "      <td>NaN</td>\n",
       "      <td>NaT</td>\n",
       "      <td>NaN</td>\n",
       "      <td>18.0</td>\n",
       "      <td>NaN</td>\n",
       "      <td>NaN</td>\n",
       "      <td>NaN</td>\n",
       "      <td>NaN</td>\n",
       "      <td>NaN</td>\n",
       "      <td>NaT</td>\n",
       "      <td>NaN</td>\n",
       "      <td>0</td>\n",
       "    </tr>\n",
       "    <tr>\n",
       "      <th>26403</th>\n",
       "      <td>263382</td>\n",
       "      <td>NaN</td>\n",
       "      <td>NaN</td>\n",
       "      <td>NaT</td>\n",
       "      <td>NaN</td>\n",
       "      <td>60.0</td>\n",
       "      <td>NaN</td>\n",
       "      <td>NaN</td>\n",
       "      <td>NaN</td>\n",
       "      <td>NaN</td>\n",
       "      <td>NaN</td>\n",
       "      <td>NaT</td>\n",
       "      <td>NaN</td>\n",
       "      <td>1</td>\n",
       "    </tr>\n",
       "    <tr>\n",
       "      <th>27299</th>\n",
       "      <td>265584</td>\n",
       "      <td>NaN</td>\n",
       "      <td>NaN</td>\n",
       "      <td>NaT</td>\n",
       "      <td>NaN</td>\n",
       "      <td>300.0</td>\n",
       "      <td>NaN</td>\n",
       "      <td>NaN</td>\n",
       "      <td>NaN</td>\n",
       "      <td>NaN</td>\n",
       "      <td>NaN</td>\n",
       "      <td>NaT</td>\n",
       "      <td>NaN</td>\n",
       "      <td>1</td>\n",
       "    </tr>\n",
       "    <tr>\n",
       "      <th>33601</th>\n",
       "      <td>281770</td>\n",
       "      <td>NaN</td>\n",
       "      <td>NaN</td>\n",
       "      <td>NaT</td>\n",
       "      <td>NaN</td>\n",
       "      <td>30.0</td>\n",
       "      <td>NaN</td>\n",
       "      <td>NaN</td>\n",
       "      <td>NaN</td>\n",
       "      <td>NaN</td>\n",
       "      <td>NaN</td>\n",
       "      <td>NaT</td>\n",
       "      <td>NaN</td>\n",
       "      <td>1</td>\n",
       "    </tr>\n",
       "  </tbody>\n",
       "</table>\n",
       "</div>"
      ],
      "text/plain": [
       "       donorID  total_donated  frequency_donor last_date_dono  Recency_dono  \\\n",
       "828     202036            NaN              NaN            NaT           NaN   \n",
       "2182    205354            NaN              NaN            NaT           NaN   \n",
       "4197    210268            NaN              NaN            NaT           NaN   \n",
       "4361   1474536            NaN              NaN            NaT           NaN   \n",
       "4891    317880            NaN              NaN            NaT           NaN   \n",
       "5090    212406            NaN              NaN            NaT           NaN   \n",
       "10648   225460            NaN              NaN            NaT           NaN   \n",
       "13208   231512            NaN              NaN            NaT           NaN   \n",
       "17033   480980            NaN              NaN            NaT           NaN   \n",
       "22296   253280            NaN              NaN            NaT           NaN   \n",
       "23185   255488            NaN              NaN            NaT           NaN   \n",
       "26403   263382            NaN              NaN            NaT           NaN   \n",
       "27299   265584            NaN              NaN            NaT           NaN   \n",
       "33601   281770            NaN              NaN            NaT           NaN   \n",
       "\n",
       "       total_donated_during_dv  zipcode province region gender language  \\\n",
       "828                       21.0      NaN      NaN    NaN    NaN      NaN   \n",
       "2182                      21.0      NaN      NaN    NaN    NaN      NaN   \n",
       "4197                     300.0      NaN      NaN    NaN    NaN      NaN   \n",
       "4361                     183.0      NaN      NaN    NaN    NaN      NaN   \n",
       "4891                     157.5      NaN      NaN    NaN    NaN      NaN   \n",
       "5090                      21.0      NaN      NaN    NaN    NaN      NaN   \n",
       "10648                     24.0      NaN      NaN    NaN    NaN      NaN   \n",
       "13208                     24.0      NaN      NaN    NaN    NaN      NaN   \n",
       "17033                     36.0      NaN      NaN    NaN    NaN      NaN   \n",
       "22296                     24.0      NaN      NaN    NaN    NaN      NaN   \n",
       "23185                     18.0      NaN      NaN    NaN    NaN      NaN   \n",
       "26403                     60.0      NaN      NaN    NaN    NaN      NaN   \n",
       "27299                    300.0      NaN      NaN    NaN    NaN      NaN   \n",
       "33601                     30.0      NaN      NaN    NaN    NaN      NaN   \n",
       "\n",
       "      dateOfBirth  Age  donated_more_than30_duringdv  \n",
       "828           NaT  NaN                             0  \n",
       "2182          NaT  NaN                             0  \n",
       "4197          NaT  NaN                             1  \n",
       "4361          NaT  NaN                             1  \n",
       "4891          NaT  NaN                             1  \n",
       "5090          NaT  NaN                             0  \n",
       "10648         NaT  NaN                             0  \n",
       "13208         NaT  NaN                             0  \n",
       "17033         NaT  NaN                             1  \n",
       "22296         NaT  NaN                             0  \n",
       "23185         NaT  NaN                             0  \n",
       "26403         NaT  NaN                             1  \n",
       "27299         NaT  NaN                             1  \n",
       "33601         NaT  NaN                             1  "
      ]
     },
<<<<<<< Updated upstream:DSC_Use_Case/Versions/added variables 1.ipynb
     "execution_count": 129,
=======
     "execution_count": 51,
>>>>>>> Stashed changes:DSC_Use_Case/dsc_group_project.ipynb
     "metadata": {},
     "output_type": "execute_result"
    }
   ],
   "source": [
    "# Customers who we dont have his/her data in the donor database, but donates after receiving our 6169 Campaign\n",
    "gifts_cleaned[gifts_cleaned['dateOfBirth'].isna()]"
   ]
  },
  {
   "cell_type": "code",
<<<<<<< Updated upstream:DSC_Use_Case/Versions/added variables 1.ipynb
   "execution_count": 130,
   "metadata": {},
   "outputs": [],
   "source": [
    "#create is_female variable\n",
    "gifts_cleaned['is_female'] = where(gifts_cleaned[\"gender\"]=='M', 1, 0)\n"
   ]
  },
  {
   "cell_type": "code",
   "execution_count": 131,
   "metadata": {},
   "outputs": [],
   "source": [
    "#create is missing_gender variable\n",
    "gifts_cleaned['is_missing_gender'] = where(gifts_cleaned[\"gender\"]=='NaN', 1, 0)\n"
   ]
  },
  {
   "cell_type": "code",
   "execution_count": 132,
   "metadata": {},
   "outputs": [],
   "source": [
    "#create missing_zipcode variable\n",
    "gifts_cleaned['missing_zip'] = where(gifts_cleaned[\"zipcode\"]=='NaN', 1, 0)"
   ]
  },
  {
   "cell_type": "code",
   "execution_count": 133,
   "metadata": {},
   "outputs": [],
   "source": [
    "#create missing age variable\n",
    "gifts_cleaned['missing_age'] = where(gifts_cleaned[\"Age\"]=='NaN', 1, 0)"
   ]
  },
  {
   "cell_type": "code",
   "execution_count": 134,
   "metadata": {},
   "outputs": [],
   "source": [
    "#create variable is Flanders\n",
    "gifts_cleaned['is_flan'] = where(gifts_cleaned[\"region\"]=='Flanders', 1, 0)\n"
   ]
  },
  {
   "cell_type": "code",
   "execution_count": 135,
   "metadata": {},
   "outputs": [],
   "source": [
    "#create variable missing province\n",
    "gifts_cleaned['missing_prov'] = where(gifts_cleaned[\"province\"]=='NaN', 1, 0)\n"
   ]
  },
  {
   "cell_type": "code",
   "execution_count": 136,
   "metadata": {},
   "outputs": [],
   "source": [
    "#create variable missing language\n",
    "gifts_cleaned['missing_lang'] = where(gifts_cleaned[\"language\"]=='NaN', 1, 0)"
   ]
  },
  {
   "cell_type": "code",
   "execution_count": 137,
   "metadata": {},
   "outputs": [],
   "source": [
    "#create variables for languages\n",
    "gifts_cleaned['speaks_en'] = where(gifts_cleaned[\"language\"]=='EN', 1, 0)\n",
    "gifts_cleaned['speaks_dutch'] = where(gifts_cleaned[\"language\"]=='NL', 1, 0)\n",
    "gifts_cleaned['speaks_fr'] = where(gifts_cleaned[\"language\"]=='FR', 1, 0)"
   ]
  },
  {
   "cell_type": "code",
   "execution_count": 138,
   "metadata": {},
   "outputs": [],
   "source": [
    "#create variable missing dob\n",
    "gifts_cleaned['missing_dob'] = where(gifts_cleaned[\"dateOfBirth\"]=='NaT', 1, 0)"
   ]
  },
  {
   "cell_type": "code",
   "execution_count": 139,
=======
   "execution_count": 76,
>>>>>>> Stashed changes:DSC_Use_Case/dsc_group_project.ipynb
   "metadata": {},
   "outputs": [
    {
     "data": {
<<<<<<< Updated upstream:DSC_Use_Case/Versions/added variables 1.ipynb
      "text/plain": [
       "0        Flanders\n",
       "1        Flanders\n",
       "2        Brussels\n",
       "3        Flanders\n",
       "4        Brussels\n",
       "           ...   \n",
       "34883    Flanders\n",
       "34884    Wallonia\n",
       "34885    Flanders\n",
       "34886    Flanders\n",
       "34887    Brussels\n",
       "Name: region, Length: 34888, dtype: object"
      ]
     },
     "execution_count": 139,
=======
      "text/html": [
       "<div>\n",
       "<style scoped>\n",
       "    .dataframe tbody tr th:only-of-type {\n",
       "        vertical-align: middle;\n",
       "    }\n",
       "\n",
       "    .dataframe tbody tr th {\n",
       "        vertical-align: top;\n",
       "    }\n",
       "\n",
       "    .dataframe thead th {\n",
       "        text-align: right;\n",
       "    }\n",
       "</style>\n",
       "<table border=\"1\" class=\"dataframe\">\n",
       "  <thead>\n",
       "    <tr style=\"text-align: right;\">\n",
       "      <th></th>\n",
       "      <th>donorID</th>\n",
       "      <th>total_donated</th>\n",
       "      <th>frequency_donor</th>\n",
       "      <th>last_date_dono</th>\n",
       "      <th>Recency_dono</th>\n",
       "      <th>total_donated_during_dv</th>\n",
       "      <th>zipcode</th>\n",
       "      <th>province</th>\n",
       "      <th>region</th>\n",
       "      <th>gender</th>\n",
       "      <th>language</th>\n",
       "      <th>dateOfBirth</th>\n",
       "      <th>Age</th>\n",
       "      <th>donated_more_than30_duringdv</th>\n",
       "    </tr>\n",
       "  </thead>\n",
       "  <tbody>\n",
       "    <tr>\n",
       "      <th>2</th>\n",
       "      <td>100004</td>\n",
       "      <td>NaN</td>\n",
       "      <td>NaN</td>\n",
       "      <td>NaT</td>\n",
       "      <td>NaN</td>\n",
       "      <td>NaN</td>\n",
       "      <td>1020.0</td>\n",
       "      <td>Brussels</td>\n",
       "      <td>Brussels</td>\n",
       "      <td>F</td>\n",
       "      <td>FR</td>\n",
       "      <td>1952-03-29</td>\n",
       "      <td>66.0</td>\n",
       "      <td>0</td>\n",
       "    </tr>\n",
       "    <tr>\n",
       "      <th>3</th>\n",
       "      <td>100008</td>\n",
       "      <td>NaN</td>\n",
       "      <td>NaN</td>\n",
       "      <td>NaT</td>\n",
       "      <td>NaN</td>\n",
       "      <td>NaN</td>\n",
       "      <td>1780.0</td>\n",
       "      <td>Flemish Brabant</td>\n",
       "      <td>Flanders</td>\n",
       "      <td>M</td>\n",
       "      <td>FR</td>\n",
       "      <td>1937-08-30</td>\n",
       "      <td>81.0</td>\n",
       "      <td>0</td>\n",
       "    </tr>\n",
       "    <tr>\n",
       "      <th>4</th>\n",
       "      <td>100009</td>\n",
       "      <td>NaN</td>\n",
       "      <td>NaN</td>\n",
       "      <td>NaT</td>\n",
       "      <td>NaN</td>\n",
       "      <td>NaN</td>\n",
       "      <td>1020.0</td>\n",
       "      <td>Brussels</td>\n",
       "      <td>Brussels</td>\n",
       "      <td>M</td>\n",
       "      <td>FR</td>\n",
       "      <td>1932-01-20</td>\n",
       "      <td>86.0</td>\n",
       "      <td>0</td>\n",
       "    </tr>\n",
       "    <tr>\n",
       "      <th>5</th>\n",
       "      <td>100010</td>\n",
       "      <td>NaN</td>\n",
       "      <td>NaN</td>\n",
       "      <td>NaT</td>\n",
       "      <td>NaN</td>\n",
       "      <td>NaN</td>\n",
       "      <td>1020.0</td>\n",
       "      <td>Brussels</td>\n",
       "      <td>Brussels</td>\n",
       "      <td>M</td>\n",
       "      <td>FR</td>\n",
       "      <td>1983-05-30</td>\n",
       "      <td>35.0</td>\n",
       "      <td>0</td>\n",
       "    </tr>\n",
       "    <tr>\n",
       "      <th>7</th>\n",
       "      <td>100012</td>\n",
       "      <td>NaN</td>\n",
       "      <td>NaN</td>\n",
       "      <td>NaT</td>\n",
       "      <td>NaN</td>\n",
       "      <td>NaN</td>\n",
       "      <td>1020.0</td>\n",
       "      <td>Brussels</td>\n",
       "      <td>Brussels</td>\n",
       "      <td>F</td>\n",
       "      <td>FR</td>\n",
       "      <td>1977-08-09</td>\n",
       "      <td>41.0</td>\n",
       "      <td>0</td>\n",
       "    </tr>\n",
       "    <tr>\n",
       "      <th>...</th>\n",
       "      <td>...</td>\n",
       "      <td>...</td>\n",
       "      <td>...</td>\n",
       "      <td>...</td>\n",
       "      <td>...</td>\n",
       "      <td>...</td>\n",
       "      <td>...</td>\n",
       "      <td>...</td>\n",
       "      <td>...</td>\n",
       "      <td>...</td>\n",
       "      <td>...</td>\n",
       "      <td>...</td>\n",
       "      <td>...</td>\n",
       "      <td>...</td>\n",
       "    </tr>\n",
       "    <tr>\n",
       "      <th>34870</th>\n",
       "      <td>144668</td>\n",
       "      <td>NaN</td>\n",
       "      <td>NaN</td>\n",
       "      <td>NaT</td>\n",
       "      <td>NaN</td>\n",
       "      <td>NaN</td>\n",
       "      <td>8630.0</td>\n",
       "      <td>West Flanders</td>\n",
       "      <td>Flanders</td>\n",
       "      <td>F</td>\n",
       "      <td>FR</td>\n",
       "      <td>1962-06-17</td>\n",
       "      <td>56.0</td>\n",
       "      <td>0</td>\n",
       "    </tr>\n",
       "    <tr>\n",
       "      <th>34879</th>\n",
       "      <td>144681</td>\n",
       "      <td>NaN</td>\n",
       "      <td>NaN</td>\n",
       "      <td>NaT</td>\n",
       "      <td>NaN</td>\n",
       "      <td>NaN</td>\n",
       "      <td>6110.0</td>\n",
       "      <td>Hainaut</td>\n",
       "      <td>Wallonia</td>\n",
       "      <td>M</td>\n",
       "      <td>FR</td>\n",
       "      <td>1954-04-25</td>\n",
       "      <td>64.0</td>\n",
       "      <td>0</td>\n",
       "    </tr>\n",
       "    <tr>\n",
       "      <th>34884</th>\n",
       "      <td>144687</td>\n",
       "      <td>NaN</td>\n",
       "      <td>NaN</td>\n",
       "      <td>NaT</td>\n",
       "      <td>NaN</td>\n",
       "      <td>NaN</td>\n",
       "      <td>4900.0</td>\n",
       "      <td>Liege</td>\n",
       "      <td>Wallonia</td>\n",
       "      <td>M</td>\n",
       "      <td>FR</td>\n",
       "      <td>1970-09-12</td>\n",
       "      <td>47.0</td>\n",
       "      <td>0</td>\n",
       "    </tr>\n",
       "    <tr>\n",
       "      <th>34886</th>\n",
       "      <td>144690</td>\n",
       "      <td>NaN</td>\n",
       "      <td>NaN</td>\n",
       "      <td>NaT</td>\n",
       "      <td>NaN</td>\n",
       "      <td>NaN</td>\n",
       "      <td>1950.0</td>\n",
       "      <td>Flemish Brabant</td>\n",
       "      <td>Flanders</td>\n",
       "      <td>M</td>\n",
       "      <td>FR</td>\n",
       "      <td>1976-05-07</td>\n",
       "      <td>42.0</td>\n",
       "      <td>0</td>\n",
       "    </tr>\n",
       "    <tr>\n",
       "      <th>34887</th>\n",
       "      <td>144691</td>\n",
       "      <td>NaN</td>\n",
       "      <td>NaN</td>\n",
       "      <td>NaT</td>\n",
       "      <td>NaN</td>\n",
       "      <td>NaN</td>\n",
       "      <td>1160.0</td>\n",
       "      <td>Brussels</td>\n",
       "      <td>Brussels</td>\n",
       "      <td>M</td>\n",
       "      <td>FR</td>\n",
       "      <td>1987-06-05</td>\n",
       "      <td>31.0</td>\n",
       "      <td>0</td>\n",
       "    </tr>\n",
       "  </tbody>\n",
       "</table>\n",
       "<p>2991 rows × 14 columns</p>\n",
       "</div>"
      ],
      "text/plain": [
       "       donorID  total_donated  frequency_donor last_date_dono  Recency_dono  \\\n",
       "2       100004            NaN              NaN            NaT           NaN   \n",
       "3       100008            NaN              NaN            NaT           NaN   \n",
       "4       100009            NaN              NaN            NaT           NaN   \n",
       "5       100010            NaN              NaN            NaT           NaN   \n",
       "7       100012            NaN              NaN            NaT           NaN   \n",
       "...        ...            ...              ...            ...           ...   \n",
       "34870   144668            NaN              NaN            NaT           NaN   \n",
       "34879   144681            NaN              NaN            NaT           NaN   \n",
       "34884   144687            NaN              NaN            NaT           NaN   \n",
       "34886   144690            NaN              NaN            NaT           NaN   \n",
       "34887   144691            NaN              NaN            NaT           NaN   \n",
       "\n",
       "       total_donated_during_dv  zipcode         province    region gender  \\\n",
       "2                          NaN   1020.0         Brussels  Brussels      F   \n",
       "3                          NaN   1780.0  Flemish Brabant  Flanders      M   \n",
       "4                          NaN   1020.0         Brussels  Brussels      M   \n",
       "5                          NaN   1020.0         Brussels  Brussels      M   \n",
       "7                          NaN   1020.0         Brussels  Brussels      F   \n",
       "...                        ...      ...              ...       ...    ...   \n",
       "34870                      NaN   8630.0    West Flanders  Flanders      F   \n",
       "34879                      NaN   6110.0          Hainaut  Wallonia      M   \n",
       "34884                      NaN   4900.0            Liege  Wallonia      M   \n",
       "34886                      NaN   1950.0  Flemish Brabant  Flanders      M   \n",
       "34887                      NaN   1160.0         Brussels  Brussels      M   \n",
       "\n",
       "      language dateOfBirth   Age  donated_more_than30_duringdv  \n",
       "2           FR  1952-03-29  66.0                             0  \n",
       "3           FR  1937-08-30  81.0                             0  \n",
       "4           FR  1932-01-20  86.0                             0  \n",
       "5           FR  1983-05-30  35.0                             0  \n",
       "7           FR  1977-08-09  41.0                             0  \n",
       "...        ...         ...   ...                           ...  \n",
       "34870       FR  1962-06-17  56.0                             0  \n",
       "34879       FR  1954-04-25  64.0                             0  \n",
       "34884       FR  1970-09-12  47.0                             0  \n",
       "34886       FR  1976-05-07  42.0                             0  \n",
       "34887       FR  1987-06-05  31.0                             0  \n",
       "\n",
       "[2991 rows x 14 columns]"
      ]
     },
     "execution_count": 76,
>>>>>>> Stashed changes:DSC_Use_Case/dsc_group_project.ipynb
     "metadata": {},
     "output_type": "execute_result"
    }
   ],
   "source": [
<<<<<<< Updated upstream:DSC_Use_Case/Versions/added variables 1.ipynb
    "#drop variables that arent necessary for the model\n",
    "gifts_cleaned.pop('total_donated_during_dv')\n",
    "gifts_cleaned.pop('province')\n",
    "gifts_cleaned.pop('region')\n"
=======
    "gifts_cleaned[gifts_cleaned[\"language\"]==\"\"]"
>>>>>>> Stashed changes:DSC_Use_Case/dsc_group_project.ipynb
   ]
  },
  {
   "cell_type": "code",
<<<<<<< Updated upstream:DSC_Use_Case/Versions/added variables 1.ipynb
   "execution_count": 140,
   "metadata": {},
   "outputs": [
    {
     "ename": "AttributeError",
     "evalue": "'Index' object has no attribute 'count'",
     "output_type": "error",
     "traceback": [
      "\u001b[1;31m---------------------------------------------------------------------------\u001b[0m",
      "\u001b[1;31mAttributeError\u001b[0m                            Traceback (most recent call last)",
      "\u001b[1;32m<ipython-input-140-ded47c650dcd>\u001b[0m in \u001b[0;36m<module>\u001b[1;34m\u001b[0m\n\u001b[1;32m----> 1\u001b[1;33m \u001b[0mgifts_cleaned\u001b[0m\u001b[1;33m.\u001b[0m\u001b[0mcolumns\u001b[0m\u001b[1;33m.\u001b[0m\u001b[0mcount\u001b[0m\u001b[1;33m(\u001b[0m\u001b[1;33m)\u001b[0m\u001b[1;33m\u001b[0m\u001b[1;33m\u001b[0m\u001b[0m\n\u001b[0m",
      "\u001b[1;31mAttributeError\u001b[0m: 'Index' object has no attribute 'count'"
     ]
    }
   ],
   "source": [
    "gifts_cleaned.columns.count()\n"
=======
   "execution_count": 84,
   "metadata": {},
   "outputs": [
    {
     "data": {
      "text/plain": [
       "0        100001\n",
       "1        100002\n",
       "2        100003\n",
       "3        100004\n",
       "4        100005\n",
       "          ...  \n",
       "44686    144687\n",
       "44687    144688\n",
       "44688    144689\n",
       "44689    144690\n",
       "44690    144691\n",
       "Name: donorID, Length: 44691, dtype: int64"
      ]
     },
     "execution_count": 84,
     "metadata": {},
     "output_type": "execute_result"
    }
   ],
   "source": [
    "donors_raw[\"donorID\"]"
>>>>>>> Stashed changes:DSC_Use_Case/dsc_group_project.ipynb
   ]
  },
  {
   "cell_type": "code",
<<<<<<< Updated upstream:DSC_Use_Case/Versions/added variables 1.ipynb
   "execution_count": null,
   "metadata": {},
   "outputs": [],
   "source": [
    "\n",
    "gifts_cleaned['total_donated'] = gifts_cleaned['total_donated'].fillna((gifts_cleaned['total_donated'].mean()))\n",
    "\n",
    "gifts_cleaned['Recency_dono'] = gifts_cleaned['Recency_dono'].fillna((gifts_cleaned['Recency_dono'].mean()))\n",
    "gifts_cleaned['last_date_dono'] = gifts_cleaned['last_date_dono'].fillna((gifts_cleaned['last_date_dono'].median()))\n",
    "gifts_cleaned['frequency_donor'] = gifts_cleaned['frequency_donor'].fillna((gifts_cleaned['frequency_donor'].median()))\n",
    "\n",
    "\n"
   ]
  },
  {
   "cell_type": "code",
   "execution_count": null,
   "metadata": {},
   "outputs": [],
   "source": [
    "gifts_cleaned=gifts_cleaned.dropna()"
   ]
  },
  {
   "cell_type": "code",
   "execution_count": null,
   "metadata": {},
   "outputs": [],
   "source": [
    "gifts_cleaned.isna().sum()"
   ]
  },
  {
   "cell_type": "code",
   "execution_count": null,
   "metadata": {},
   "outputs": [],
   "source": [
    "gifts_cleaned.dtypes"
   ]
  },
  {
   "cell_type": "code",
   "execution_count": null,
   "metadata": {},
   "outputs": [],
   "source": [
    "yes_no_columns = ['gender']\n",
    "for col in yes_no_columns:\n",
    "    gifts_cleaned[col].replace({'F': 1,'M': 0},inplace=True)"
   ]
  },
  {
   "cell_type": "code",
   "execution_count": null,
   "metadata": {},
   "outputs": [],
   "source": [
    "X=gifts_cleaned.drop([\"donated_more_than30_duringdv\",'last_date_dono','dateOfBirth','language'],axis=1)\n",
    "y=gifts_cleaned['donated_more_than30_duringdv']"
   ]
  },
  {
   "cell_type": "code",
   "execution_count": null,
   "metadata": {},
   "outputs": [],
   "source": [
    "from sklearn.linear_model import LogisticRegression\n",
    "from sklearn.model_selection import train_test_split\n",
    "from sklearn.metrics import accuracy_score\n"
   ]
  },
  {
   "cell_type": "code",
   "execution_count": null,
   "metadata": {},
   "outputs": [],
   "source": [
    "lr = LogisticRegression()"
   ]
  },
  {
   "cell_type": "code",
   "execution_count": null,
   "metadata": {},
   "outputs": [],
   "source": [
    "Xtrain,Xtest,ytrain,ytest=train_test_split(X,y,test_size=0.2,stratify=y)"
   ]
  },
  {
   "cell_type": "code",
   "execution_count": null,
   "metadata": {},
   "outputs": [],
   "source": [
    "lr.fit(Xtrain,ytrain)"
   ]
  },
  {
   "cell_type": "code",
   "execution_count": null,
   "metadata": {},
   "outputs": [],
   "source": [
    "predict_test=lr.predict(Xtest)\n",
    "predict_train=lr.predict(Xtrain)"
   ]
  },
  {
   "cell_type": "code",
   "execution_count": null,
   "metadata": {},
   "outputs": [],
   "source": [
    "acc_train = accuracy_score(ytrain, np.round(predict_train))\n",
    "acc_test = accuracy_score(ytest, np.round(predict_test))\n",
    "\n",
    "print(f\"Train:\\tACC={acc_train:.4f}\")\n",
    "print(f\"Test:\\tACC={acc_test:.4f}\")"
=======
   "execution_count": 100,
   "metadata": {},
   "outputs": [
    {
     "data": {
      "text/html": [
       "<div>\n",
       "<style scoped>\n",
       "    .dataframe tbody tr th:only-of-type {\n",
       "        vertical-align: middle;\n",
       "    }\n",
       "\n",
       "    .dataframe tbody tr th {\n",
       "        vertical-align: top;\n",
       "    }\n",
       "\n",
       "    .dataframe thead th {\n",
       "        text-align: right;\n",
       "    }\n",
       "</style>\n",
       "<table border=\"1\" class=\"dataframe\">\n",
       "  <thead>\n",
       "    <tr style=\"text-align: right;\">\n",
       "      <th></th>\n",
       "      <th>donorID</th>\n",
       "      <th>campaignID</th>\n",
       "      <th>amount</th>\n",
       "      <th>date</th>\n",
       "    </tr>\n",
       "  </thead>\n",
       "  <tbody>\n",
       "    <tr>\n",
       "      <th>13</th>\n",
       "      <td>100003</td>\n",
       "      <td>4801.0</td>\n",
       "      <td>5,0</td>\n",
       "      <td>2017-07-27</td>\n",
       "    </tr>\n",
       "    <tr>\n",
       "      <th>14</th>\n",
       "      <td>100003</td>\n",
       "      <td>4830.0</td>\n",
       "      <td>3,0</td>\n",
       "      <td>2017-08-11</td>\n",
       "    </tr>\n",
       "    <tr>\n",
       "      <th>15</th>\n",
       "      <td>100003</td>\n",
       "      <td>4990.0</td>\n",
       "      <td>3,0</td>\n",
       "      <td>2017-09-16</td>\n",
       "    </tr>\n",
       "    <tr>\n",
       "      <th>16</th>\n",
       "      <td>100003</td>\n",
       "      <td>5326.0</td>\n",
       "      <td>4,0</td>\n",
       "      <td>2018-06-15</td>\n",
       "    </tr>\n",
       "    <tr>\n",
       "      <th>17</th>\n",
       "      <td>100003</td>\n",
       "      <td>5359.0</td>\n",
       "      <td>3,0</td>\n",
       "      <td>2018-07-08</td>\n",
       "    </tr>\n",
       "    <tr>\n",
       "      <th>...</th>\n",
       "      <td>...</td>\n",
       "      <td>...</td>\n",
       "      <td>...</td>\n",
       "      <td>...</td>\n",
       "    </tr>\n",
       "    <tr>\n",
       "      <th>216569</th>\n",
       "      <td>144688</td>\n",
       "      <td>1778.0</td>\n",
       "      <td>2,48</td>\n",
       "      <td>2008-05-29</td>\n",
       "    </tr>\n",
       "    <tr>\n",
       "      <th>216570</th>\n",
       "      <td>144688</td>\n",
       "      <td>1808.0</td>\n",
       "      <td>7,44</td>\n",
       "      <td>2008-06-30</td>\n",
       "    </tr>\n",
       "    <tr>\n",
       "      <th>216571</th>\n",
       "      <td>144688</td>\n",
       "      <td>1903.0</td>\n",
       "      <td>6,2</td>\n",
       "      <td>2008-10-16</td>\n",
       "    </tr>\n",
       "    <tr>\n",
       "      <th>216572</th>\n",
       "      <td>144688</td>\n",
       "      <td>2802.0</td>\n",
       "      <td>5,0</td>\n",
       "      <td>2011-06-26</td>\n",
       "    </tr>\n",
       "    <tr>\n",
       "      <th>216573</th>\n",
       "      <td>144688</td>\n",
       "      <td>4801.0</td>\n",
       "      <td>15,0</td>\n",
       "      <td>2017-07-27</td>\n",
       "    </tr>\n",
       "  </tbody>\n",
       "</table>\n",
       "<p>64847 rows × 4 columns</p>\n",
       "</div>"
      ],
      "text/plain": [
       "        donorID  campaignID amount       date\n",
       "13       100003      4801.0    5,0 2017-07-27\n",
       "14       100003      4830.0    3,0 2017-08-11\n",
       "15       100003      4990.0    3,0 2017-09-16\n",
       "16       100003      5326.0    4,0 2018-06-15\n",
       "17       100003      5359.0    3,0 2018-07-08\n",
       "...         ...         ...    ...        ...\n",
       "216569   144688      1778.0   2,48 2008-05-29\n",
       "216570   144688      1808.0   7,44 2008-06-30\n",
       "216571   144688      1903.0    6,2 2008-10-16\n",
       "216572   144688      2802.0    5,0 2011-06-26\n",
       "216573   144688      4801.0   15,0 2017-07-27\n",
       "\n",
       "[64847 rows x 4 columns]"
      ]
     },
     "execution_count": 100,
     "metadata": {},
     "output_type": "execute_result"
    }
   ],
   "source": [
    "gifts_raw[~gifts_raw[\"donorID\"].isin(selection_campaign_6169_raw[\"donorID\"])]"
>>>>>>> Stashed changes:DSC_Use_Case/dsc_group_project.ipynb
   ]
  },
  {
   "cell_type": "code",
<<<<<<< Updated upstream:DSC_Use_Case/Versions/added variables 1.ipynb
   "execution_count": 142,
=======
   "execution_count": 103,
>>>>>>> Stashed changes:DSC_Use_Case/dsc_group_project.ipynb
   "metadata": {},
   "outputs": [
    {
     "data": {
<<<<<<< Updated upstream:DSC_Use_Case/Versions/added variables 1.ipynb
      "text/plain": [
       "0.5006034558724017"
      ]
     },
     "execution_count": 142,
=======
      "text/html": [
       "<div>\n",
       "<style scoped>\n",
       "    .dataframe tbody tr th:only-of-type {\n",
       "        vertical-align: middle;\n",
       "    }\n",
       "\n",
       "    .dataframe tbody tr th {\n",
       "        vertical-align: top;\n",
       "    }\n",
       "\n",
       "    .dataframe thead th {\n",
       "        text-align: right;\n",
       "    }\n",
       "</style>\n",
       "<table border=\"1\" class=\"dataframe\">\n",
       "  <thead>\n",
       "    <tr style=\"text-align: right;\">\n",
       "      <th></th>\n",
       "      <th>donorID</th>\n",
       "      <th>campaignID</th>\n",
       "      <th>amount</th>\n",
       "      <th>date</th>\n",
       "    </tr>\n",
       "  </thead>\n",
       "  <tbody>\n",
       "    <tr>\n",
       "      <th>57</th>\n",
       "      <td>100007</td>\n",
       "      <td>NaN</td>\n",
       "      <td>24,79</td>\n",
       "      <td>2006-09-04</td>\n",
       "    </tr>\n",
       "    <tr>\n",
       "      <th>112</th>\n",
       "      <td>100020</td>\n",
       "      <td>NaN</td>\n",
       "      <td>24,79</td>\n",
       "      <td>2001-12-05</td>\n",
       "    </tr>\n",
       "    <tr>\n",
       "      <th>355</th>\n",
       "      <td>100054</td>\n",
       "      <td>NaN</td>\n",
       "      <td>30,0</td>\n",
       "      <td>2007-08-05</td>\n",
       "    </tr>\n",
       "    <tr>\n",
       "      <th>830</th>\n",
       "      <td>100156</td>\n",
       "      <td>NaN</td>\n",
       "      <td>8,68</td>\n",
       "      <td>2007-02-25</td>\n",
       "    </tr>\n",
       "    <tr>\n",
       "      <th>831</th>\n",
       "      <td>100156</td>\n",
       "      <td>NaN</td>\n",
       "      <td>12,39</td>\n",
       "      <td>2007-05-31</td>\n",
       "    </tr>\n",
       "    <tr>\n",
       "      <th>...</th>\n",
       "      <td>...</td>\n",
       "      <td>...</td>\n",
       "      <td>...</td>\n",
       "      <td>...</td>\n",
       "    </tr>\n",
       "    <tr>\n",
       "      <th>216310</th>\n",
       "      <td>144633</td>\n",
       "      <td>NaN</td>\n",
       "      <td>24,79</td>\n",
       "      <td>2001-07-01</td>\n",
       "    </tr>\n",
       "    <tr>\n",
       "      <th>216437</th>\n",
       "      <td>144655</td>\n",
       "      <td>NaN</td>\n",
       "      <td>24,79</td>\n",
       "      <td>2003-04-07</td>\n",
       "    </tr>\n",
       "    <tr>\n",
       "      <th>216500</th>\n",
       "      <td>144665</td>\n",
       "      <td>NaN</td>\n",
       "      <td>49,18</td>\n",
       "      <td>2016-12-18</td>\n",
       "    </tr>\n",
       "    <tr>\n",
       "      <th>216501</th>\n",
       "      <td>144665</td>\n",
       "      <td>NaN</td>\n",
       "      <td>5,0</td>\n",
       "      <td>2017-03-07</td>\n",
       "    </tr>\n",
       "    <tr>\n",
       "      <th>216567</th>\n",
       "      <td>144688</td>\n",
       "      <td>NaN</td>\n",
       "      <td>5,0</td>\n",
       "      <td>2008-03-07</td>\n",
       "    </tr>\n",
       "  </tbody>\n",
       "</table>\n",
       "<p>3812 rows × 4 columns</p>\n",
       "</div>"
      ],
      "text/plain": [
       "        donorID  campaignID amount       date\n",
       "57       100007         NaN  24,79 2006-09-04\n",
       "112      100020         NaN  24,79 2001-12-05\n",
       "355      100054         NaN   30,0 2007-08-05\n",
       "830      100156         NaN   8,68 2007-02-25\n",
       "831      100156         NaN  12,39 2007-05-31\n",
       "...         ...         ...    ...        ...\n",
       "216310   144633         NaN  24,79 2001-07-01\n",
       "216437   144655         NaN  24,79 2003-04-07\n",
       "216500   144665         NaN  49,18 2016-12-18\n",
       "216501   144665         NaN    5,0 2017-03-07\n",
       "216567   144688         NaN    5,0 2008-03-07\n",
       "\n",
       "[3812 rows x 4 columns]"
      ]
     },
     "execution_count": 103,
>>>>>>> Stashed changes:DSC_Use_Case/dsc_group_project.ipynb
     "metadata": {},
     "output_type": "execute_result"
    }
   ],
   "source": [
<<<<<<< Updated upstream:DSC_Use_Case/Versions/added variables 1.ipynb
    "# Calculate AUC Score\n",
    "from sklearn.metrics import roc_auc_score\n",
    "\n",
    "# Calculate AUC score\n",
    "auc_val = roc_auc_score(ytrain, np.round(predict_train))\n",
    "auc_val"
=======
    "gifts_raw[gifts_raw[\"campaignID\"].isna() & ~gifts_raw[\"donorID\"].isin(selection_campaign_6169_raw[\"donorID\"]) & ~gifts_raw[\"donorID\"].isin(selection_campaign_7244_raw[\"donorID\"])]\n",
    "#(gifts_dv['date'].min())]"
>>>>>>> Stashed changes:DSC_Use_Case/dsc_group_project.ipynb
   ]
  },
  {
   "cell_type": "code",
<<<<<<< Updated upstream:DSC_Use_Case/Versions/added variables 1.ipynb
   "execution_count": 141,
=======
   "execution_count": 99,
>>>>>>> Stashed changes:DSC_Use_Case/dsc_group_project.ipynb
   "metadata": {},
   "outputs": [
    {
     "data": {
      "text/html": [
       "<div>\n",
       "<style scoped>\n",
       "    .dataframe tbody tr th:only-of-type {\n",
       "        vertical-align: middle;\n",
       "    }\n",
       "\n",
       "    .dataframe tbody tr th {\n",
       "        vertical-align: top;\n",
       "    }\n",
       "\n",
       "    .dataframe thead th {\n",
       "        text-align: right;\n",
       "    }\n",
       "</style>\n",
       "<table border=\"1\" class=\"dataframe\">\n",
       "  <thead>\n",
       "    <tr style=\"text-align: right;\">\n",
       "      <th></th>\n",
       "      <th>donorID</th>\n",
<<<<<<< Updated upstream:DSC_Use_Case/Versions/added variables 1.ipynb
       "      <th>total_donated</th>\n",
       "      <th>frequency_donor</th>\n",
       "      <th>Recency_dono</th>\n",
       "      <th>zipcode</th>\n",
       "      <th>gender</th>\n",
       "      <th>Age</th>\n",
       "      <th>is_female</th>\n",
       "      <th>is_missing_gender</th>\n",
       "      <th>missing_zip</th>\n",
       "      <th>missing_age</th>\n",
       "      <th>is_flan</th>\n",
       "      <th>missing_prov</th>\n",
       "      <th>missing_lang</th>\n",
       "      <th>speaks_en</th>\n",
       "      <th>speaks_dutch</th>\n",
       "      <th>speaks_fr</th>\n",
       "      <th>missing_dob</th>\n",
=======
>>>>>>> Stashed changes:DSC_Use_Case/dsc_group_project.ipynb
       "    </tr>\n",
       "  </thead>\n",
       "  <tbody>\n",
       "    <tr>\n",
<<<<<<< Updated upstream:DSC_Use_Case/Versions/added variables 1.ipynb
       "      <th>22576</th>\n",
       "      <td>127009</td>\n",
       "      <td>33.746641</td>\n",
       "      <td>1.0</td>\n",
       "      <td>61.040404</td>\n",
       "      <td>9000.0</td>\n",
       "      <td>1</td>\n",
       "      <td>129.0</td>\n",
       "      <td>0</td>\n",
       "      <td>0</td>\n",
       "      <td>0</td>\n",
       "      <td>0</td>\n",
       "      <td>1</td>\n",
       "      <td>0</td>\n",
       "      <td>0</td>\n",
       "      <td>0</td>\n",
       "      <td>1</td>\n",
       "      <td>0</td>\n",
       "      <td>0</td>\n",
       "    </tr>\n",
       "  </tbody>\n",
       "</table>\n",
       "</div>"
      ],
      "text/plain": [
       "       donorID  total_donated  frequency_donor  Recency_dono  zipcode  gender  \\\n",
       "22576   127009      33.746641              1.0     61.040404   9000.0       1   \n",
       "\n",
       "         Age  is_female  is_missing_gender  missing_zip  missing_age  is_flan  \\\n",
       "22576  129.0          0                  0            0            0        1   \n",
       "\n",
       "       missing_prov  missing_lang  speaks_en  speaks_dutch  speaks_fr  \\\n",
       "22576             0             0          0             1          0   \n",
       "\n",
       "       missing_dob  \n",
       "22576            0  "
      ]
     },
     "execution_count": 141,
=======
       "      <th>0</th>\n",
       "      <td>100001</td>\n",
       "    </tr>\n",
       "    <tr>\n",
       "      <th>1</th>\n",
       "      <td>100002</td>\n",
       "    </tr>\n",
       "    <tr>\n",
       "      <th>2</th>\n",
       "      <td>100004</td>\n",
       "    </tr>\n",
       "    <tr>\n",
       "      <th>3</th>\n",
       "      <td>100008</td>\n",
       "    </tr>\n",
       "    <tr>\n",
       "      <th>4</th>\n",
       "      <td>100009</td>\n",
       "    </tr>\n",
       "    <tr>\n",
       "      <th>...</th>\n",
       "      <td>...</td>\n",
       "    </tr>\n",
       "    <tr>\n",
       "      <th>34883</th>\n",
       "      <td>144686</td>\n",
       "    </tr>\n",
       "    <tr>\n",
       "      <th>34884</th>\n",
       "      <td>144687</td>\n",
       "    </tr>\n",
       "    <tr>\n",
       "      <th>34885</th>\n",
       "      <td>144689</td>\n",
       "    </tr>\n",
       "    <tr>\n",
       "      <th>34886</th>\n",
       "      <td>144690</td>\n",
       "    </tr>\n",
       "    <tr>\n",
       "      <th>34887</th>\n",
       "      <td>144691</td>\n",
       "    </tr>\n",
       "  </tbody>\n",
       "</table>\n",
       "<p>34888 rows × 1 columns</p>\n",
       "</div>"
      ],
      "text/plain": [
       "       donorID\n",
       "0       100001\n",
       "1       100002\n",
       "2       100004\n",
       "3       100008\n",
       "4       100009\n",
       "...        ...\n",
       "34883   144686\n",
       "34884   144687\n",
       "34885   144689\n",
       "34886   144690\n",
       "34887   144691\n",
       "\n",
       "[34888 rows x 1 columns]"
      ]
     },
     "execution_count": 99,
>>>>>>> Stashed changes:DSC_Use_Case/dsc_group_project.ipynb
     "metadata": {},
     "output_type": "execute_result"
    }
   ],
   "source": [
<<<<<<< Updated upstream:DSC_Use_Case/Versions/added variables 1.ipynb
    "X[X['Age'] == 129]"
=======
    "selection_campaign_6169_raw"
>>>>>>> Stashed changes:DSC_Use_Case/dsc_group_project.ipynb
   ]
  },
  {
   "cell_type": "code",
   "execution_count": null,
   "metadata": {},
   "outputs": [],
   "source": []
  }
 ],
 "metadata": {
  "interpreter": {
   "hash": "f1ce4e8569ae4e92577217304b8fdd87e456aa8c2f0d5e3962abb3bd7eecc672"
  },
  "kernelspec": {
   "display_name": "Python 3",
   "language": "python",
   "name": "python3"
  },
  "language_info": {
   "codemirror_mode": {
    "name": "ipython",
    "version": 3
   },
   "file_extension": ".py",
   "mimetype": "text/x-python",
   "name": "python",
   "nbconvert_exporter": "python",
   "pygments_lexer": "ipython3",
   "version": "3.9.4"
  }
 },
 "nbformat": 4,
 "nbformat_minor": 2
}
