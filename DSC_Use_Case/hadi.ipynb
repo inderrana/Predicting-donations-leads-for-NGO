{
 "cells": [
  {
   "cell_type": "code",
   "execution_count": 2,
   "metadata": {},
   "outputs": [],
   "source": [
    "import sys\n",
    "import subprocess\n",
    "import importlib\n",
    "\n",
    "#packages = ['pandas', 'numpy','pathlib','os','glob', 'textblob']\n",
    "#[subprocess.check_call(['pip', 'install', pkg]) \n",
    "#for pkg in packages if not importlib.util.find_spec(pkg)]\n",
    "import pandas as pd\n",
    "import numpy as np\n",
    "\n",
    "import datetime as dt\n",
    "from pathlib import Path\n",
    "import pathlib\n",
    "import os\n",
    "import glob\n",
    "from datetime import datetime as dt\n",
    "from textblob import TextBlob\n",
    "from datetime import timedelta \n"
   ]
  },
  {
   "cell_type": "code",
   "execution_count": 3,
   "metadata": {},
   "outputs": [
    {
     "data": {
      "text/html": [
       "<div>\n",
       "<style scoped>\n",
       "    .dataframe tbody tr th:only-of-type {\n",
       "        vertical-align: middle;\n",
       "    }\n",
       "\n",
       "    .dataframe tbody tr th {\n",
       "        vertical-align: top;\n",
       "    }\n",
       "\n",
       "    .dataframe thead th {\n",
       "        text-align: right;\n",
       "    }\n",
       "</style>\n",
       "<table border=\"1\" class=\"dataframe\">\n",
       "  <thead>\n",
       "    <tr style=\"text-align: right;\">\n",
       "      <th></th>\n",
       "      <th>campaignID</th>\n",
       "      <th>date</th>\n",
       "      <th>lettersSent</th>\n",
       "      <th>CostUnit</th>\n",
       "    </tr>\n",
       "  </thead>\n",
       "  <tbody>\n",
       "    <tr>\n",
       "      <th>0</th>\n",
       "      <td>153</td>\n",
       "      <td>2004-12-13</td>\n",
       "      <td>6873.0</td>\n",
       "      <td>0.17</td>\n",
       "    </tr>\n",
       "    <tr>\n",
       "      <th>1</th>\n",
       "      <td>154</td>\n",
       "      <td>2005-01-01</td>\n",
       "      <td>7656.0</td>\n",
       "      <td>0.30</td>\n",
       "    </tr>\n",
       "    <tr>\n",
       "      <th>2</th>\n",
       "      <td>180</td>\n",
       "      <td>2005-01-18</td>\n",
       "      <td>9933.0</td>\n",
       "      <td>0.20</td>\n",
       "    </tr>\n",
       "    <tr>\n",
       "      <th>3</th>\n",
       "      <td>433</td>\n",
       "      <td>2005-01-29</td>\n",
       "      <td>7448.0</td>\n",
       "      <td>0.59</td>\n",
       "    </tr>\n",
       "    <tr>\n",
       "      <th>4</th>\n",
       "      <td>476</td>\n",
       "      <td>2005-12-02</td>\n",
       "      <td>6605.0</td>\n",
       "      <td>0.51</td>\n",
       "    </tr>\n",
       "  </tbody>\n",
       "</table>\n",
       "</div>"
      ],
      "text/plain": [
       "   campaignID       date  lettersSent CostUnit\n",
       "0         153 2004-12-13       6873.0     0.17\n",
       "1         154 2005-01-01       7656.0     0.30\n",
       "2         180 2005-01-18       9933.0     0.20\n",
       "3         433 2005-01-29       7448.0     0.59\n",
       "4         476 2005-12-02       6605.0     0.51"
      ]
     },
     "execution_count": 3,
     "metadata": {},
     "output_type": "execute_result"
    }
   ],
   "source": [
    "campaigns=pd.read_csv(\"./Data/campaigns.csv\",delimiter=\";\")\n",
    "\n",
    "for i in range(0,len(campaigns)):\n",
    "    campaigns.iloc[i,2]=campaigns.iloc[i,2].replace('\\u202f','')\n",
    "\n",
    "for i in range(0,len(campaigns)):\n",
    "    campaigns.iloc[i,3]=campaigns.iloc[i,3].replace('\\xa0€','')\n",
    "\n",
    "for i in range(0,len(campaigns)):\n",
    "    campaigns.iloc[i,3]=campaigns.iloc[i,3].replace(',','.')\n",
    "\n",
    "\n",
    "\n",
    "campaigns['date']=pd.to_datetime(campaigns['date'])\n",
    "campaigns['lettersSent']=campaigns['lettersSent'].astype(int)\n",
    "campaigns['lettersSent']=campaigns['lettersSent'].astype(float)\n",
    "campaigns.head()\n"
   ]
  },
  {
   "cell_type": "code",
   "execution_count": 66,
   "metadata": {},
   "outputs": [
    {
     "name": "stdout",
     "output_type": "stream",
     "text": [
      "<class 'pandas.core.frame.DataFrame'>\n",
      "RangeIndex: 367 entries, 0 to 366\n",
      "Data columns (total 4 columns):\n",
      " #   Column       Non-Null Count  Dtype         \n",
      "---  ------       --------------  -----         \n",
      " 0   campaignID   367 non-null    int64         \n",
      " 1   date         367 non-null    datetime64[ns]\n",
      " 2   lettersSent  367 non-null    float64       \n",
      " 3   CostUnit     367 non-null    object        \n",
      "dtypes: datetime64[ns](1), float64(1), int64(1), object(1)\n",
      "memory usage: 11.6+ KB\n"
     ]
    }
   ],
   "source": [
    "campaigns.info()"
   ]
  },
  {
   "cell_type": "code",
   "execution_count": 68,
   "metadata": {},
   "outputs": [
    {
     "data": {
      "text/html": [
       "<div>\n",
       "<style scoped>\n",
       "    .dataframe tbody tr th:only-of-type {\n",
       "        vertical-align: middle;\n",
       "    }\n",
       "\n",
       "    .dataframe tbody tr th {\n",
       "        vertical-align: top;\n",
       "    }\n",
       "\n",
       "    .dataframe thead th {\n",
       "        text-align: right;\n",
       "    }\n",
       "</style>\n",
       "<table border=\"1\" class=\"dataframe\">\n",
       "  <thead>\n",
       "    <tr style=\"text-align: right;\">\n",
       "      <th></th>\n",
       "      <th>campaignID</th>\n",
       "      <th>date</th>\n",
       "      <th>lettersSent</th>\n",
       "      <th>CostUnit</th>\n",
       "    </tr>\n",
       "  </thead>\n",
       "  <tbody>\n",
       "    <tr>\n",
       "      <th>335</th>\n",
       "      <td>6169</td>\n",
       "      <td>2018-04-09</td>\n",
       "      <td>34888.0</td>\n",
       "      <td>0.87</td>\n",
       "    </tr>\n",
       "    <tr>\n",
       "      <th>354</th>\n",
       "      <td>7244</td>\n",
       "      <td>2019-06-18</td>\n",
       "      <td>25645.0</td>\n",
       "      <td>0.55</td>\n",
       "    </tr>\n",
       "  </tbody>\n",
       "</table>\n",
       "</div>"
      ],
      "text/plain": [
       "     campaignID       date  lettersSent CostUnit\n",
       "335        6169 2018-04-09      34888.0     0.87\n",
       "354        7244 2019-06-18      25645.0     0.55"
      ]
     },
     "execution_count": 68,
     "metadata": {},
     "output_type": "execute_result"
    }
   ],
   "source": [
    "campaigns[(campaigns['campaignID']==6169)|\n",
    "(campaigns['campaignID']==7244)|\n",
    "(campaigns['campaignID']==7362)]"
   ]
  },
  {
   "cell_type": "code",
   "execution_count": 74,
   "metadata": {},
   "outputs": [
    {
     "data": {
      "text/html": [
       "<div>\n",
       "<style scoped>\n",
       "    .dataframe tbody tr th:only-of-type {\n",
       "        vertical-align: middle;\n",
       "    }\n",
       "\n",
       "    .dataframe tbody tr th {\n",
       "        vertical-align: top;\n",
       "    }\n",
       "\n",
       "    .dataframe thead th {\n",
       "        text-align: right;\n",
       "    }\n",
       "</style>\n",
       "<table border=\"1\" class=\"dataframe\">\n",
       "  <thead>\n",
       "    <tr style=\"text-align: right;\">\n",
       "      <th></th>\n",
       "      <th>campaignID</th>\n",
       "      <th>date</th>\n",
       "      <th>lettersSent</th>\n",
       "      <th>CostUnit</th>\n",
       "    </tr>\n",
       "  </thead>\n",
       "  <tbody>\n",
       "    <tr>\n",
       "      <th>355</th>\n",
       "      <td>7276</td>\n",
       "      <td>2019-07-07</td>\n",
       "      <td>5409.0</td>\n",
       "      <td>0.31</td>\n",
       "    </tr>\n",
       "    <tr>\n",
       "      <th>356</th>\n",
       "      <td>7330</td>\n",
       "      <td>2019-07-17</td>\n",
       "      <td>5391.0</td>\n",
       "      <td>0.02</td>\n",
       "    </tr>\n",
       "    <tr>\n",
       "      <th>358</th>\n",
       "      <td>7346</td>\n",
       "      <td>2019-08-25</td>\n",
       "      <td>15304.0</td>\n",
       "      <td>0.61</td>\n",
       "    </tr>\n",
       "    <tr>\n",
       "      <th>359</th>\n",
       "      <td>7356</td>\n",
       "      <td>2019-08-09</td>\n",
       "      <td>9619.0</td>\n",
       "      <td>0.26</td>\n",
       "    </tr>\n",
       "    <tr>\n",
       "      <th>360</th>\n",
       "      <td>7395</td>\n",
       "      <td>2019-09-18</td>\n",
       "      <td>38629.0</td>\n",
       "      <td>0.01</td>\n",
       "    </tr>\n",
       "    <tr>\n",
       "      <th>361</th>\n",
       "      <td>7408</td>\n",
       "      <td>2019-09-29</td>\n",
       "      <td>6826.0</td>\n",
       "      <td>0.28</td>\n",
       "    </tr>\n",
       "    <tr>\n",
       "      <th>362</th>\n",
       "      <td>7494</td>\n",
       "      <td>2019-10-17</td>\n",
       "      <td>8539.0</td>\n",
       "      <td>0.14</td>\n",
       "    </tr>\n",
       "    <tr>\n",
       "      <th>363</th>\n",
       "      <td>7503</td>\n",
       "      <td>2019-10-29</td>\n",
       "      <td>6126.0</td>\n",
       "      <td>0.15</td>\n",
       "    </tr>\n",
       "    <tr>\n",
       "      <th>364</th>\n",
       "      <td>7505</td>\n",
       "      <td>2019-11-16</td>\n",
       "      <td>29746.0</td>\n",
       "      <td>0.12</td>\n",
       "    </tr>\n",
       "    <tr>\n",
       "      <th>365</th>\n",
       "      <td>7519</td>\n",
       "      <td>2019-11-26</td>\n",
       "      <td>35199.0</td>\n",
       "      <td>0.36</td>\n",
       "    </tr>\n",
       "    <tr>\n",
       "      <th>366</th>\n",
       "      <td>7536</td>\n",
       "      <td>2019-12-15</td>\n",
       "      <td>37187.0</td>\n",
       "      <td>0.35</td>\n",
       "    </tr>\n",
       "  </tbody>\n",
       "</table>\n",
       "</div>"
      ],
      "text/plain": [
       "     campaignID       date  lettersSent CostUnit\n",
       "355        7276 2019-07-07       5409.0     0.31\n",
       "356        7330 2019-07-17       5391.0     0.02\n",
       "358        7346 2019-08-25      15304.0     0.61\n",
       "359        7356 2019-08-09       9619.0     0.26\n",
       "360        7395 2019-09-18      38629.0     0.01\n",
       "361        7408 2019-09-29       6826.0     0.28\n",
       "362        7494 2019-10-17       8539.0     0.14\n",
       "363        7503 2019-10-29       6126.0     0.15\n",
       "364        7505 2019-11-16      29746.0     0.12\n",
       "365        7519 2019-11-26      35199.0     0.36\n",
       "366        7536 2019-12-15      37187.0     0.35"
      ]
     },
     "execution_count": 74,
     "metadata": {},
     "output_type": "execute_result"
    }
   ],
   "source": [
    "campaigns[campaigns['date']>'2019-06-18']"
   ]
  },
  {
   "cell_type": "code",
   "execution_count": 17,
   "metadata": {},
   "outputs": [],
   "source": [
    "donors=pd.read_csv(\"donors.csv\")"
   ]
  },
  {
   "cell_type": "code",
   "execution_count": 18,
   "metadata": {},
   "outputs": [
    {
     "name": "stdout",
     "output_type": "stream",
     "text": [
      "<class 'pandas.core.frame.DataFrame'>\n",
      "RangeIndex: 44691 entries, 0 to 44690\n",
      "Data columns (total 8 columns):\n",
      " #   Column       Non-Null Count  Dtype  \n",
      "---  ------       --------------  -----  \n",
      " 0   Unnamed: 0   44691 non-null  int64  \n",
      " 1   donorID      44691 non-null  int64  \n",
      " 2   zipcode      44689 non-null  float64\n",
      " 3   province     44691 non-null  object \n",
      " 4   region       44691 non-null  object \n",
      " 5   gender       44659 non-null  object \n",
      " 6   language     44691 non-null  object \n",
      " 7   dateOfBirth  44691 non-null  object \n",
      "dtypes: float64(1), int64(2), object(5)\n",
      "memory usage: 2.7+ MB\n"
     ]
    }
   ],
   "source": [
    "donors.info()"
   ]
  },
  {
   "cell_type": "code",
   "execution_count": 19,
   "metadata": {},
   "outputs": [
    {
     "data": {
      "text/plain": [
       "Unnamed: 0      0\n",
       "donorID         0\n",
       "zipcode         2\n",
       "province        0\n",
       "region          0\n",
       "gender         32\n",
       "language        0\n",
       "dateOfBirth     0\n",
       "dtype: int64"
      ]
     },
     "execution_count": 19,
     "metadata": {},
     "output_type": "execute_result"
    }
   ],
   "source": [
    "donors.isna().sum()"
   ]
  },
  {
   "cell_type": "code",
   "execution_count": 4,
   "metadata": {},
   "outputs": [
    {
     "name": "stderr",
     "output_type": "stream",
     "text": [
      "<ipython-input-4-4962ebe82f64>:14: SettingWithCopyWarning: \n",
      "A value is trying to be set on a copy of a slice from a DataFrame.\n",
      "Try using .loc[row_indexer,col_indexer] = value instead\n",
      "\n",
      "See the caveats in the documentation: https://pandas.pydata.org/pandas-docs/stable/user_guide/indexing.html#returning-a-view-versus-a-copy\n",
      "  gifts6169['date_1']=date - gifts6169['date']\n",
      "<ipython-input-4-4962ebe82f64>:16: SettingWithCopyWarning: \n",
      "A value is trying to be set on a copy of a slice from a DataFrame.\n",
      "Try using .loc[row_indexer,col_indexer] = value instead\n",
      "\n",
      "See the caveats in the documentation: https://pandas.pydata.org/pandas-docs/stable/user_guide/indexing.html#returning-a-view-versus-a-copy\n",
      "  gifts6169['date_1']=gifts6169['date_1'].dt.days.astype(int)\n"
     ]
    },
    {
     "data": {
      "text/html": [
       "<div>\n",
       "<style scoped>\n",
       "    .dataframe tbody tr th:only-of-type {\n",
       "        vertical-align: middle;\n",
       "    }\n",
       "\n",
       "    .dataframe tbody tr th {\n",
       "        vertical-align: top;\n",
       "    }\n",
       "\n",
       "    .dataframe thead th {\n",
       "        text-align: right;\n",
       "    }\n",
       "</style>\n",
       "<table border=\"1\" class=\"dataframe\">\n",
       "  <thead>\n",
       "    <tr style=\"text-align: right;\">\n",
       "      <th></th>\n",
       "      <th>Unnamed: 0</th>\n",
       "      <th>donorID</th>\n",
       "      <th>campaignID</th>\n",
       "      <th>amount</th>\n",
       "      <th>date</th>\n",
       "    </tr>\n",
       "  </thead>\n",
       "  <tbody>\n",
       "    <tr>\n",
       "      <th>0</th>\n",
       "      <td>0</td>\n",
       "      <td>100001</td>\n",
       "      <td>0</td>\n",
       "      <td>12.39</td>\n",
       "      <td>2004-03-23</td>\n",
       "    </tr>\n",
       "    <tr>\n",
       "      <th>1</th>\n",
       "      <td>1</td>\n",
       "      <td>100001</td>\n",
       "      <td>1577</td>\n",
       "      <td>12.39</td>\n",
       "      <td>2007-10-11</td>\n",
       "    </tr>\n",
       "    <tr>\n",
       "      <th>2</th>\n",
       "      <td>2</td>\n",
       "      <td>100001</td>\n",
       "      <td>1634</td>\n",
       "      <td>6.69</td>\n",
       "      <td>2007-12-28</td>\n",
       "    </tr>\n",
       "    <tr>\n",
       "      <th>3</th>\n",
       "      <td>3</td>\n",
       "      <td>100001</td>\n",
       "      <td>1778</td>\n",
       "      <td>24.79</td>\n",
       "      <td>2008-06-14</td>\n",
       "    </tr>\n",
       "    <tr>\n",
       "      <th>4</th>\n",
       "      <td>4</td>\n",
       "      <td>100001</td>\n",
       "      <td>1808</td>\n",
       "      <td>7.44</td>\n",
       "      <td>2008-07-09</td>\n",
       "    </tr>\n",
       "  </tbody>\n",
       "</table>\n",
       "</div>"
      ],
      "text/plain": [
       "   Unnamed: 0  donorID  campaignID  amount       date\n",
       "0           0   100001           0   12.39 2004-03-23\n",
       "1           1   100001        1577   12.39 2007-10-11\n",
       "2           2   100001        1634    6.69 2007-12-28\n",
       "3           3   100001        1778   24.79 2008-06-14\n",
       "4           4   100001        1808    7.44 2008-07-09"
      ]
     },
     "execution_count": 4,
     "metadata": {},
     "output_type": "execute_result"
    }
   ],
   "source": [
    "gifts=pd.read_csv(\"./Data/gifts.csv\")\n",
    "\n",
    "gifts.loc[gifts['campaignID'].isna(),['campaignID']]=0\n",
    "#gifts=gifts[gifts['campaignID']!=0]\n",
    "gifts['campaignID']=gifts['campaignID'].astype(int)\n",
    "gifts['date']=pd.to_datetime(gifts['date'])\n",
    "gifts['amount']=gifts['amount'].str.replace(',','.')\n",
    "gifts['amount']=gifts['amount'].astype(float)\n",
    "\n",
    "#subseting the data for 6169 campaign\n",
    "gifts6169=gifts[gifts['date']<='2018-09-24 00:00:00']\n",
    "date = dt(year=2018, day=24, month=9)\n",
    "#calculate the diference between the refdate and transaction date\n",
    "gifts6169['date_1']=date - gifts6169['date']\n",
    "#converting the type of duration to integer based on number of days\n",
    "gifts6169['date_1']=gifts6169['date_1'].dt.days.astype(int)\n",
    "def agg(tr): \n",
    "    \n",
    "    tr['amount_avg'] = tr['amount'].mean()\n",
    "    tr['freq_overal'] = tr['donorID'].count()\n",
    "    tr['freq_campagin'] = tr.loc[tr['campaignID']!=0].count()\n",
    "    tr['freq_no_camp'] = tr.loc[tr['campaignID']==0].count()\n",
    "    tr['date_first'] = tr['date'].min()\n",
    "    tr['date_last'] = tr['date'].max()\n",
    "    tr['date_1'] = tr['date_1'].mean()\n",
    "    \n",
    "    #credit = tr.loc[(tr['trans_type'] == 'Credit')]\n",
    "    #withdrawal = tr.loc[(tr['trans_type'] == 'Withdrawal')]\n",
    "    \n",
    "    #tr['trans_cred'] = credit['trans_amount'].mean()\n",
    "    #tr['trans_withdrawal'] = withdrawal['trans_amount'].mean()\n",
    "    return tr\n",
    "gifts6169 = gifts6169.groupby(by='donorID').apply(agg)\n",
    "#subseting the data for 7244 campaign\n",
    "gifts7244=gifts[gifts['date']<='2019-05-18 00:00:00']\n",
    "#subseting the data for 7362 campaign\n",
    "gifts7362=gifts[gifts['date']<='2020-01-01 00:00:00']\n",
    "\n",
    "\n",
    "gifts.head()"
   ]
  },
  {
   "cell_type": "code",
   "execution_count": 6,
   "metadata": {},
   "outputs": [],
   "source": [
    "x=gifts[gifts['campaignID']==0]"
   ]
  },
  {
   "cell_type": "code",
   "execution_count": 7,
   "metadata": {},
   "outputs": [
    {
     "data": {
      "text/html": [
       "<div>\n",
       "<style scoped>\n",
       "    .dataframe tbody tr th:only-of-type {\n",
       "        vertical-align: middle;\n",
       "    }\n",
       "\n",
       "    .dataframe tbody tr th {\n",
       "        vertical-align: top;\n",
       "    }\n",
       "\n",
       "    .dataframe thead th {\n",
       "        text-align: right;\n",
       "    }\n",
       "</style>\n",
       "<table border=\"1\" class=\"dataframe\">\n",
       "  <thead>\n",
       "    <tr style=\"text-align: right;\">\n",
       "      <th></th>\n",
       "      <th>Unnamed: 0</th>\n",
       "      <th>donorID</th>\n",
       "      <th>campaignID</th>\n",
       "      <th>amount</th>\n",
       "      <th>date</th>\n",
       "    </tr>\n",
       "  </thead>\n",
       "  <tbody>\n",
       "    <tr>\n",
       "      <th>0</th>\n",
       "      <td>0</td>\n",
       "      <td>100001</td>\n",
       "      <td>0</td>\n",
       "      <td>12.39</td>\n",
       "      <td>2004-03-23</td>\n",
       "    </tr>\n",
       "    <tr>\n",
       "      <th>29</th>\n",
       "      <td>29</td>\n",
       "      <td>100004</td>\n",
       "      <td>0</td>\n",
       "      <td>24.79</td>\n",
       "      <td>2006-03-30</td>\n",
       "    </tr>\n",
       "    <tr>\n",
       "      <th>57</th>\n",
       "      <td>57</td>\n",
       "      <td>100007</td>\n",
       "      <td>0</td>\n",
       "      <td>24.79</td>\n",
       "      <td>2006-09-04</td>\n",
       "    </tr>\n",
       "    <tr>\n",
       "      <th>112</th>\n",
       "      <td>112</td>\n",
       "      <td>100020</td>\n",
       "      <td>0</td>\n",
       "      <td>24.79</td>\n",
       "      <td>2001-12-05</td>\n",
       "    </tr>\n",
       "    <tr>\n",
       "      <th>181</th>\n",
       "      <td>181</td>\n",
       "      <td>100025</td>\n",
       "      <td>0</td>\n",
       "      <td>20.00</td>\n",
       "      <td>2009-05-29</td>\n",
       "    </tr>\n",
       "    <tr>\n",
       "      <th>...</th>\n",
       "      <td>...</td>\n",
       "      <td>...</td>\n",
       "      <td>...</td>\n",
       "      <td>...</td>\n",
       "      <td>...</td>\n",
       "    </tr>\n",
       "    <tr>\n",
       "      <th>216506</th>\n",
       "      <td>216506</td>\n",
       "      <td>144666</td>\n",
       "      <td>0</td>\n",
       "      <td>32.25</td>\n",
       "      <td>2010-10-11</td>\n",
       "    </tr>\n",
       "    <tr>\n",
       "      <th>216507</th>\n",
       "      <td>216507</td>\n",
       "      <td>144667</td>\n",
       "      <td>0</td>\n",
       "      <td>49.58</td>\n",
       "      <td>2004-02-01</td>\n",
       "    </tr>\n",
       "    <tr>\n",
       "      <th>216514</th>\n",
       "      <td>216514</td>\n",
       "      <td>144668</td>\n",
       "      <td>0</td>\n",
       "      <td>20.00</td>\n",
       "      <td>2019-11-20</td>\n",
       "    </tr>\n",
       "    <tr>\n",
       "      <th>216560</th>\n",
       "      <td>216560</td>\n",
       "      <td>144683</td>\n",
       "      <td>0</td>\n",
       "      <td>50.00</td>\n",
       "      <td>2015-10-11</td>\n",
       "    </tr>\n",
       "    <tr>\n",
       "      <th>216567</th>\n",
       "      <td>216567</td>\n",
       "      <td>144688</td>\n",
       "      <td>0</td>\n",
       "      <td>5.00</td>\n",
       "      <td>2008-03-07</td>\n",
       "    </tr>\n",
       "  </tbody>\n",
       "</table>\n",
       "<p>15637 rows × 5 columns</p>\n",
       "</div>"
      ],
      "text/plain": [
       "        Unnamed: 0  donorID  campaignID  amount       date\n",
       "0                0   100001           0   12.39 2004-03-23\n",
       "29              29   100004           0   24.79 2006-03-30\n",
       "57              57   100007           0   24.79 2006-09-04\n",
       "112            112   100020           0   24.79 2001-12-05\n",
       "181            181   100025           0   20.00 2009-05-29\n",
       "...            ...      ...         ...     ...        ...\n",
       "216506      216506   144666           0   32.25 2010-10-11\n",
       "216507      216507   144667           0   49.58 2004-02-01\n",
       "216514      216514   144668           0   20.00 2019-11-20\n",
       "216560      216560   144683           0   50.00 2015-10-11\n",
       "216567      216567   144688           0    5.00 2008-03-07\n",
       "\n",
       "[15637 rows x 5 columns]"
      ]
     },
     "execution_count": 7,
     "metadata": {},
     "output_type": "execute_result"
    }
   ],
   "source": [
    "x"
   ]
  },
  {
   "cell_type": "code",
   "execution_count": 110,
   "metadata": {},
   "outputs": [
    {
     "ename": "TypeError",
     "evalue": "'module' object is not callable",
     "output_type": "error",
     "traceback": [
      "\u001b[1;31m---------------------------------------------------------------------------\u001b[0m",
      "\u001b[1;31mTypeError\u001b[0m                                 Traceback (most recent call last)",
      "\u001b[1;32m<ipython-input-110-fb9218fe8aec>\u001b[0m in \u001b[0;36m<module>\u001b[1;34m\u001b[0m\n\u001b[1;32m----> 1\u001b[1;33m \u001b[0mdate\u001b[0m \u001b[1;33m=\u001b[0m \u001b[0mdt\u001b[0m\u001b[1;33m(\u001b[0m\u001b[0myear\u001b[0m\u001b[1;33m=\u001b[0m\u001b[1;36m2018\u001b[0m\u001b[1;33m,\u001b[0m \u001b[0mday\u001b[0m\u001b[1;33m=\u001b[0m\u001b[1;36m24\u001b[0m\u001b[1;33m,\u001b[0m \u001b[0mmonth\u001b[0m\u001b[1;33m=\u001b[0m\u001b[1;36m9\u001b[0m\u001b[1;33m)\u001b[0m\u001b[1;33m\u001b[0m\u001b[1;33m\u001b[0m\u001b[0m\n\u001b[0m",
      "\u001b[1;31mTypeError\u001b[0m: 'module' object is not callable"
     ]
    }
   ],
   "source": [
    "date = dt(year=2018, day=24, month=9)"
   ]
  },
  {
   "cell_type": "code",
   "execution_count": 89,
   "metadata": {},
   "outputs": [
    {
     "name": "stdout",
     "output_type": "stream",
     "text": [
      "<class 'pandas.core.frame.DataFrame'>\n",
      "RangeIndex: 216594 entries, 0 to 216593\n",
      "Data columns (total 5 columns):\n",
      " #   Column      Non-Null Count   Dtype         \n",
      "---  ------      --------------   -----         \n",
      " 0   Unnamed: 0  216594 non-null  int64         \n",
      " 1   donorID     216594 non-null  int64         \n",
      " 2   campaignID  216594 non-null  int32         \n",
      " 3   amount      216594 non-null  float64       \n",
      " 4   date        216594 non-null  datetime64[ns]\n",
      "dtypes: datetime64[ns](1), float64(1), int32(1), int64(2)\n",
      "memory usage: 7.4 MB\n"
     ]
    }
   ],
   "source": [
    "gifts.info()"
   ]
  },
  {
   "cell_type": "code",
   "execution_count": 101,
   "metadata": {},
   "outputs": [
    {
     "name": "stdout",
     "output_type": "stream",
     "text": [
      "<class 'pandas.core.frame.DataFrame'>\n",
      "Int64Index: 209829 entries, 0 to 216593\n",
      "Data columns (total 5 columns):\n",
      " #   Column      Non-Null Count   Dtype         \n",
      "---  ------      --------------   -----         \n",
      " 0   Unnamed: 0  209829 non-null  int64         \n",
      " 1   donorID     209829 non-null  int64         \n",
      " 2   campaignID  209829 non-null  int32         \n",
      " 3   amount      209829 non-null  float64       \n",
      " 4   date        209829 non-null  datetime64[ns]\n",
      "dtypes: datetime64[ns](1), float64(1), int32(1), int64(2)\n",
      "memory usage: 8.8 MB\n"
     ]
    }
   ],
   "source": [
    "gifts6169.info()"
   ]
  },
  {
   "cell_type": "code",
   "execution_count": 102,
   "metadata": {},
   "outputs": [
    {
     "name": "stdout",
     "output_type": "stream",
     "text": [
      "<class 'pandas.core.frame.DataFrame'>\n",
      "Int64Index: 213388 entries, 0 to 216593\n",
      "Data columns (total 5 columns):\n",
      " #   Column      Non-Null Count   Dtype         \n",
      "---  ------      --------------   -----         \n",
      " 0   Unnamed: 0  213388 non-null  int64         \n",
      " 1   donorID     213388 non-null  int64         \n",
      " 2   campaignID  213388 non-null  int32         \n",
      " 3   amount      213388 non-null  float64       \n",
      " 4   date        213388 non-null  datetime64[ns]\n",
      "dtypes: datetime64[ns](1), float64(1), int32(1), int64(2)\n",
      "memory usage: 9.0 MB\n"
     ]
    }
   ],
   "source": [
    "gifts7244.info()"
   ]
  },
  {
   "cell_type": "code",
   "execution_count": 103,
   "metadata": {},
   "outputs": [
    {
     "name": "stdout",
     "output_type": "stream",
     "text": [
      "<class 'pandas.core.frame.DataFrame'>\n",
      "Int64Index: 216586 entries, 0 to 216593\n",
      "Data columns (total 5 columns):\n",
      " #   Column      Non-Null Count   Dtype         \n",
      "---  ------      --------------   -----         \n",
      " 0   Unnamed: 0  216586 non-null  int64         \n",
      " 1   donorID     216586 non-null  int64         \n",
      " 2   campaignID  216586 non-null  int32         \n",
      " 3   amount      216586 non-null  float64       \n",
      " 4   date        216586 non-null  datetime64[ns]\n",
      "dtypes: datetime64[ns](1), float64(1), int32(1), int64(2)\n",
      "memory usage: 9.1 MB\n"
     ]
    }
   ],
   "source": [
    "gifts7362.info()"
   ]
  },
  {
   "cell_type": "code",
   "execution_count": 9,
   "metadata": {},
   "outputs": [
    {
     "data": {
      "text/html": [
       "<div>\n",
       "<style scoped>\n",
       "    .dataframe tbody tr th:only-of-type {\n",
       "        vertical-align: middle;\n",
       "    }\n",
       "\n",
       "    .dataframe tbody tr th {\n",
       "        vertical-align: top;\n",
       "    }\n",
       "\n",
       "    .dataframe thead th {\n",
       "        text-align: right;\n",
       "    }\n",
       "</style>\n",
       "<table border=\"1\" class=\"dataframe\">\n",
       "  <thead>\n",
       "    <tr style=\"text-align: right;\">\n",
       "      <th></th>\n",
       "      <th>Unnamed: 0</th>\n",
       "      <th>donorID</th>\n",
       "      <th>campaignID</th>\n",
       "      <th>amount</th>\n",
       "      <th>date</th>\n",
       "      <th>date_1</th>\n",
       "      <th>amount_avg</th>\n",
       "      <th>freq_overal</th>\n",
       "      <th>freq_campagin</th>\n",
       "      <th>freq_no_camp</th>\n",
       "      <th>date_first</th>\n",
       "      <th>date_last</th>\n",
       "    </tr>\n",
       "  </thead>\n",
       "  <tbody>\n",
       "  </tbody>\n",
       "</table>\n",
       "</div>"
      ],
      "text/plain": [
       "Empty DataFrame\n",
       "Columns: [Unnamed: 0, donorID, campaignID, amount, date, date_1, amount_avg, freq_overal, freq_campagin, freq_no_camp, date_first, date_last]\n",
       "Index: []"
      ]
     },
     "execution_count": 9,
     "metadata": {},
     "output_type": "execute_result"
    }
   ],
   "source": [
    "gifts6169[gifts6169['freq_overal']==0]"
   ]
  },
  {
   "cell_type": "code",
   "execution_count": 106,
   "metadata": {},
   "outputs": [
    {
     "data": {
      "text/plain": [
       "Timestamp('2018-09-23 00:00:00')"
      ]
     },
     "execution_count": 106,
     "metadata": {},
     "output_type": "execute_result"
    }
   ],
   "source": [
    "gifts7362.groupby('donorID')['date'].min().max()"
   ]
  },
  {
   "cell_type": "code",
   "execution_count": null,
   "metadata": {},
   "outputs": [],
   "source": []
  },
  {
   "cell_type": "code",
   "execution_count": null,
   "metadata": {},
   "outputs": [
    {
     "data": {
      "text/plain": [
       "donorID\n",
       "100001     12\n",
       "100002      1\n",
       "100003     12\n",
       "100004     26\n",
       "100005      5\n",
       "           ..\n",
       "265584      1\n",
       "281770      1\n",
       "317880      1\n",
       "480980      1\n",
       "1474536     1\n",
       "Name: date, Length: 44700, dtype: int64"
      ]
     },
     "execution_count": 132,
     "metadata": {},
     "output_type": "execute_result"
    }
   ],
   "source": [
    "gifts.groupby('donorID')['date'].count()"
   ]
  },
  {
   "cell_type": "code",
   "execution_count": null,
   "metadata": {},
   "outputs": [],
   "source": [
    "train=pd.read_csv(\"./Data/selection campaign 6169.csv\")"
   ]
  },
  {
   "cell_type": "code",
   "execution_count": null,
   "metadata": {},
   "outputs": [
    {
     "data": {
      "text/plain": [
       "donorID       0\n",
       "Unnamed: 0    5\n",
       "campaignID    5\n",
       "amount        5\n",
       "date          5\n",
       "dtype: int64"
      ]
     },
     "execution_count": 236,
     "metadata": {},
     "output_type": "execute_result"
    }
   ],
   "source": [
    "camp6169=pd.merge(train,gifts,on='donorID',how='left')\n",
    "\n",
    "camp6169.isna().sum()\n"
   ]
  },
  {
   "cell_type": "code",
   "execution_count": null,
   "metadata": {},
   "outputs": [
    {
     "data": {
      "text/plain": [
       "donorID           0\n",
       "Unnamed: 0_x      5\n",
       "campaignID        5\n",
       "amount            5\n",
       "date              5\n",
       "Unnamed: 0_y     14\n",
       "zipcode          27\n",
       "province         14\n",
       "region           14\n",
       "gender          121\n",
       "language         14\n",
       "dateOfBirth      14\n",
       "dtype: int64"
      ]
     },
     "execution_count": 237,
     "metadata": {},
     "output_type": "execute_result"
    }
   ],
   "source": [
    "camp6169=pd.merge(camp6169,donors,on='donorID',how='left')\n",
    "camp6169.isna().sum()\n"
   ]
  },
  {
   "cell_type": "code",
   "execution_count": null,
   "metadata": {},
   "outputs": [
    {
     "data": {
      "text/plain": [
       "datetime.date(2018, 2, 26)"
      ]
     },
     "execution_count": 192,
     "metadata": {},
     "output_type": "execute_result"
    }
   ],
   "source": [
    "d=dt.date(year=2018,month=9,day=4)-dt.timedelta(days=190)\n",
    "d"
   ]
  },
  {
   "cell_type": "code",
   "execution_count": null,
   "metadata": {},
   "outputs": [],
   "source": [
    "all6169=gifts[gifts['date']<'2018-09-04']"
   ]
  },
  {
   "cell_type": "code",
   "execution_count": null,
   "metadata": {},
   "outputs": [
    {
     "data": {
      "text/plain": [
       "Timestamp('2000-06-05 00:00:00')"
      ]
     },
     "execution_count": 218,
     "metadata": {},
     "output_type": "execute_result"
    }
   ],
   "source": [
    "all6169.groupby('donorID')['date'].min().min()"
   ]
  },
  {
   "cell_type": "code",
   "execution_count": null,
   "metadata": {},
   "outputs": [],
   "source": [
    "camp6169=camp6169[(camp6169['date']<'2018-09-04 00:00:00')]#&(camp6169['date']>'2018-02-26')]"
   ]
  },
  {
   "cell_type": "code",
   "execution_count": null,
   "metadata": {},
   "outputs": [
    {
     "data": {
      "text/plain": [
       "Timestamp('2018-09-03 00:00:00')"
      ]
     },
     "execution_count": 229,
     "metadata": {},
     "output_type": "execute_result"
    }
   ],
   "source": [
    "camp6169.groupby('donorID')['date'].max().max()"
   ]
  },
  {
   "cell_type": "code",
   "execution_count": null,
   "metadata": {},
   "outputs": [],
   "source": [
    "test=pd.read_csv(\"./Data/selection campaign 7244.csv\")"
   ]
  },
  {
   "cell_type": "code",
   "execution_count": null,
   "metadata": {},
   "outputs": [
    {
     "data": {
      "text/html": [
       "<div>\n",
       "<style scoped>\n",
       "    .dataframe tbody tr th:only-of-type {\n",
       "        vertical-align: middle;\n",
       "    }\n",
       "\n",
       "    .dataframe tbody tr th {\n",
       "        vertical-align: top;\n",
       "    }\n",
       "\n",
       "    .dataframe thead th {\n",
       "        text-align: right;\n",
       "    }\n",
       "</style>\n",
       "<table border=\"1\" class=\"dataframe\">\n",
       "  <thead>\n",
       "    <tr style=\"text-align: right;\">\n",
       "      <th></th>\n",
       "      <th>donorID</th>\n",
       "    </tr>\n",
       "  </thead>\n",
       "  <tbody>\n",
       "    <tr>\n",
       "      <th>0</th>\n",
       "      <td>100001</td>\n",
       "    </tr>\n",
       "    <tr>\n",
       "      <th>1</th>\n",
       "      <td>100002</td>\n",
       "    </tr>\n",
       "    <tr>\n",
       "      <th>2</th>\n",
       "      <td>100008</td>\n",
       "    </tr>\n",
       "    <tr>\n",
       "      <th>3</th>\n",
       "      <td>100009</td>\n",
       "    </tr>\n",
       "    <tr>\n",
       "      <th>4</th>\n",
       "      <td>100010</td>\n",
       "    </tr>\n",
       "    <tr>\n",
       "      <th>...</th>\n",
       "      <td>...</td>\n",
       "    </tr>\n",
       "    <tr>\n",
       "      <th>25640</th>\n",
       "      <td>144682</td>\n",
       "    </tr>\n",
       "    <tr>\n",
       "      <th>25641</th>\n",
       "      <td>144683</td>\n",
       "    </tr>\n",
       "    <tr>\n",
       "      <th>25642</th>\n",
       "      <td>144686</td>\n",
       "    </tr>\n",
       "    <tr>\n",
       "      <th>25643</th>\n",
       "      <td>144690</td>\n",
       "    </tr>\n",
       "    <tr>\n",
       "      <th>25644</th>\n",
       "      <td>144691</td>\n",
       "    </tr>\n",
       "  </tbody>\n",
       "</table>\n",
       "<p>25645 rows × 1 columns</p>\n",
       "</div>"
      ],
      "text/plain": [
       "       donorID\n",
       "0       100001\n",
       "1       100002\n",
       "2       100008\n",
       "3       100009\n",
       "4       100010\n",
       "...        ...\n",
       "25640   144682\n",
       "25641   144683\n",
       "25642   144686\n",
       "25643   144690\n",
       "25644   144691\n",
       "\n",
       "[25645 rows x 1 columns]"
      ]
     },
     "execution_count": 215,
     "metadata": {},
     "output_type": "execute_result"
    }
   ],
   "source": [
    "test"
   ]
  },
  {
   "cell_type": "code",
   "execution_count": null,
   "metadata": {},
   "outputs": [],
   "source": [
    "all7244=gifts[gifts['date']<'2019-06-18']\n"
   ]
  },
  {
   "cell_type": "code",
   "execution_count": null,
   "metadata": {},
   "outputs": [
    {
     "data": {
      "text/plain": [
       "Timestamp('2000-06-05 00:00:00')"
      ]
     },
     "execution_count": 212,
     "metadata": {},
     "output_type": "execute_result"
    }
   ],
   "source": [
    "all7244.groupby('donorID')['date'].min().min()"
   ]
  },
  {
   "cell_type": "code",
   "execution_count": null,
   "metadata": {},
   "outputs": [],
   "source": [
    "camp7244=pd.merge(test,gifts,on='donorID',how='left')"
   ]
  },
  {
   "cell_type": "code",
   "execution_count": null,
   "metadata": {},
   "outputs": [],
   "source": [
    "camp7244=camp7244[(camp7244['date']<'2019-06-18 00:00:00')]#&(camp6169['date']>'2018-02-26')]"
   ]
  },
  {
   "cell_type": "code",
   "execution_count": null,
   "metadata": {},
   "outputs": [
    {
     "data": {
      "text/plain": [
       "Timestamp('2018-09-03 00:00:00')"
      ]
     },
     "execution_count": 230,
     "metadata": {},
     "output_type": "execute_result"
    }
   ],
   "source": [
    "camp7244.groupby('donorID')['date'].max().max()"
   ]
  },
  {
   "cell_type": "code",
   "execution_count": null,
   "metadata": {},
   "outputs": [],
   "source": []
  }
 ],
 "metadata": {
  "interpreter": {
   "hash": "81e0b57edd17c3833f38e5d4db6db81e2c0f982e51ee4890d9e870805c7d8a75"
  },
  "kernelspec": {
   "display_name": "Python 3.9.4 64-bit ('py': conda)",
   "language": "python",
   "name": "python3"
  },
  "language_info": {
   "codemirror_mode": {
    "name": "ipython",
    "version": 3
   },
   "file_extension": ".py",
   "mimetype": "text/x-python",
   "name": "python",
   "nbconvert_exporter": "python",
   "pygments_lexer": "ipython3",
   "version": "3.9.4"
  },
  "orig_nbformat": 4
 },
 "nbformat": 4,
 "nbformat_minor": 2
}
