{
 "cells": [
  {
   "cell_type": "markdown",
   "metadata": {},
   "source": [
    "## General Workflow\n",
    "\n",
    "### 1) Identifying Business Problem\n",
    "### 2) Data Preprocessing\n",
    "### 3) Exploratory Data Analysis (EDA)\n",
    "### 4) Model Development & Evaluation\n",
    "### 5) Model Interpretability"
   ]
  },
  {
   "cell_type": "markdown",
   "metadata": {},
   "source": [
    "### 1) Identifying Business Problem\n",
    "\n",
    "In this case, we're asked to develop a model for an organization that helps non-profit organizations to find donors. This model will be used to predict whether a donor will spend more than or equal to 30€, given that this donor receives a re-activation campaign. The model will be trained based on the previous campaign, and then validated with another data from other campaign.\n",
    "\n",
    "The model is expected to have a good performance and high interpretability. In addition, we also have to emphasize why does implementing the model is better than random guessing campaign. In the end, the model will be used to predict potential customers for the upcoming campaign, and which customers are the most effective to reach."
   ]
  },
  {
   "cell_type": "markdown",
   "metadata": {},
   "source": [
    "### 2) Data Preprocessing\n",
    "\n",
    "Our data consist of 5 csv files which includes the donor database, the amount of donated, and the selected donors during previous campaign"
   ]
  },
  {
   "cell_type": "code",
   "execution_count": 65,
   "metadata": {},
   "outputs": [
    {
     "data": {
      "text/plain": [
       "[]"
      ]
     },
     "execution_count": 65,
     "metadata": {},
     "output_type": "execute_result"
    }
   ],
   "source": [
    "import sys\n",
    "import subprocess\n",
    "import importlib\n",
    "\n",
    "packages = ['pandas', 'numpy','pathlib','os','glob', 'textblob']\n",
    "[subprocess.check_call(['pip', 'install', pkg]) \n",
    "for pkg in packages if not importlib.util.find_spec(pkg)]"
   ]
  },
  {
   "cell_type": "code",
   "execution_count": 66,
   "metadata": {},
   "outputs": [],
   "source": [
    "import pandas as pd\n",
    "import numpy as np\n",
    "\n",
    "from pathlib import Path\n",
    "import pathlib\n",
    "import os\n",
    "import glob\n",
    "from numpy import where\n",
    "\n",
    "from textblob import TextBlob\n",
    "\n",
    "import datetime\n"
   ]
  },
  {
   "cell_type": "code",
   "execution_count": 3,
   "metadata": {},
   "outputs": [],
   "source": [
    "# Change to working dir\n",
    "os.chdir(\"Data\")"
   ]
  },
  {
   "cell_type": "markdown",
   "metadata": {},
   "source": [
    "### Load Data"
   ]
  },
  {
   "cell_type": "code",
   "execution_count": 67,
   "metadata": {},
   "outputs": [],
   "source": [
    "# Loop through data folder and add all df's in a dict\n",
    "data_dict={}\n",
    "for txt_file in glob.glob(\"*.csv\"):\n",
    "    #list filenames\n",
    "    filename = txt_file\n",
    "    #create python tablenames\n",
    "    df_name = str.replace(str.replace(txt_file,\".csv\",\"_raw\"),\" \",\"_\")\n",
    "    #read files\n",
    "    df_value = pd.read_csv(filename,  delimiter=\",\")\n",
    "    #add to dict\n",
    "    data_dict[df_name] = df_value"
   ]
  },
  {
   "cell_type": "code",
   "execution_count": 68,
   "metadata": {},
   "outputs": [],
   "source": [
    "# Split dict into indivisual dataframes\n",
    "for var in data_dict.keys():\n",
    "    exec(\"{} = data_dict['{}']\".format(var, var))"
   ]
  },
  {
   "cell_type": "code",
   "execution_count": 69,
   "metadata": {},
   "outputs": [
    {
     "data": {
      "text/plain": [
       "dict_keys(['campaigns_raw', 'donors_raw', 'gifts_raw', 'selection_campaign_6169_raw', 'selection_campaign_7244_raw'])"
      ]
     },
     "execution_count": 69,
     "metadata": {},
     "output_type": "execute_result"
    }
   ],
   "source": [
    "data_dict.keys()"
   ]
  },
  {
   "cell_type": "markdown",
   "metadata": {},
   "source": [
    "### Data exploration"
   ]
  },
  {
   "cell_type": "markdown",
   "metadata": {},
   "source": [
    "### Donors Data"
   ]
  },
  {
   "cell_type": "code",
   "execution_count": 70,
   "metadata": {},
   "outputs": [
    {
     "data": {
      "text/html": [
       "<div>\n",
       "<style scoped>\n",
       "    .dataframe tbody tr th:only-of-type {\n",
       "        vertical-align: middle;\n",
       "    }\n",
       "\n",
       "    .dataframe tbody tr th {\n",
       "        vertical-align: top;\n",
       "    }\n",
       "\n",
       "    .dataframe thead th {\n",
       "        text-align: right;\n",
       "    }\n",
       "</style>\n",
       "<table border=\"1\" class=\"dataframe\">\n",
       "  <thead>\n",
       "    <tr style=\"text-align: right;\">\n",
       "      <th></th>\n",
       "      <th>Unnamed: 0</th>\n",
       "      <th>donorID</th>\n",
       "      <th>zipcode</th>\n",
       "      <th>province</th>\n",
       "      <th>region</th>\n",
       "      <th>gender</th>\n",
       "      <th>language</th>\n",
       "      <th>dateOfBirth</th>\n",
       "      <th>Age</th>\n",
       "    </tr>\n",
       "  </thead>\n",
       "  <tbody>\n",
       "    <tr>\n",
       "      <th>0</th>\n",
       "      <td>0</td>\n",
       "      <td>100001</td>\n",
       "      <td>1861.0</td>\n",
       "      <td>Flemish Brabant</td>\n",
       "      <td>Flanders</td>\n",
       "      <td>F</td>\n",
       "      <td>NL</td>\n",
       "      <td>1967-12-24</td>\n",
       "      <td>50</td>\n",
       "    </tr>\n",
       "    <tr>\n",
       "      <th>1</th>\n",
       "      <td>1</td>\n",
       "      <td>100002</td>\n",
       "      <td>2260.0</td>\n",
       "      <td>Antwerp</td>\n",
       "      <td>Flanders</td>\n",
       "      <td>M</td>\n",
       "      <td>NL</td>\n",
       "      <td>1952-01-14</td>\n",
       "      <td>66</td>\n",
       "    </tr>\n",
       "    <tr>\n",
       "      <th>2</th>\n",
       "      <td>2</td>\n",
       "      <td>100003</td>\n",
       "      <td>1780.0</td>\n",
       "      <td>Flemish Brabant</td>\n",
       "      <td>Flanders</td>\n",
       "      <td>M</td>\n",
       "      <td>NL</td>\n",
       "      <td>1986-12-23</td>\n",
       "      <td>31</td>\n",
       "    </tr>\n",
       "    <tr>\n",
       "      <th>3</th>\n",
       "      <td>3</td>\n",
       "      <td>100004</td>\n",
       "      <td>1020.0</td>\n",
       "      <td>Brussels</td>\n",
       "      <td>Brussels</td>\n",
       "      <td>F</td>\n",
       "      <td>FR</td>\n",
       "      <td>1952-03-29</td>\n",
       "      <td>66</td>\n",
       "    </tr>\n",
       "    <tr>\n",
       "      <th>4</th>\n",
       "      <td>4</td>\n",
       "      <td>100005</td>\n",
       "      <td>1020.0</td>\n",
       "      <td>Brussels</td>\n",
       "      <td>Brussels</td>\n",
       "      <td>F</td>\n",
       "      <td>FR</td>\n",
       "      <td>1986-06-25</td>\n",
       "      <td>32</td>\n",
       "    </tr>\n",
       "  </tbody>\n",
       "</table>\n",
       "</div>"
      ],
      "text/plain": [
       "   Unnamed: 0  donorID  zipcode         province    region gender language  \\\n",
       "0           0   100001   1861.0  Flemish Brabant  Flanders      F       NL   \n",
       "1           1   100002   2260.0          Antwerp  Flanders      M       NL   \n",
       "2           2   100003   1780.0  Flemish Brabant  Flanders      M       NL   \n",
       "3           3   100004   1020.0         Brussels  Brussels      F       FR   \n",
       "4           4   100005   1020.0         Brussels  Brussels      F       FR   \n",
       "\n",
       "  dateOfBirth  Age  \n",
       "0  1967-12-24   50  \n",
       "1  1952-01-14   66  \n",
       "2  1986-12-23   31  \n",
       "3  1952-03-29   66  \n",
       "4  1986-06-25   32  "
      ]
     },
     "execution_count": 70,
     "metadata": {},
     "output_type": "execute_result"
    }
   ],
   "source": [
    "# Drop 1st Column\n",
    "donors = donors_raw\n",
    "donors['dateOfBirth'] = pd.to_datetime(donors['dateOfBirth'])\n",
    "\n",
    "campaign6169 = datetime.datetime(2018, 9, 4)\n",
    "\n",
    "donors['Age'] = donors['dateOfBirth'].apply(lambda row: campaign6169.year - row.year -((campaign6169.month, campaign6169.day) < (row.month, row.day) ))\n",
    "# Change ANTWERP provinces to Antwerp\n",
    "\n",
    "donors['province'] = donors['province'].apply(lambda row: 'Antwerp' if row == 'ANTWERP' else row)\n",
    "\n",
    "donors.head()"
   ]
  },
  {
   "cell_type": "markdown",
   "metadata": {},
   "source": [
    "### Gifts Data"
   ]
  },
  {
   "cell_type": "code",
   "execution_count": 71,
   "metadata": {},
   "outputs": [],
   "source": [
    "# Drop 1st Column\n",
    "gifts = gifts_raw.iloc[: , 1:]\n",
    "#cleaning gift\n",
    "# Change date into datetime object\n",
    "gifts['date'] = pd.to_datetime(gifts['date'])\n",
    "#\n",
    "gifts['amount'] = gifts['amount'].str.replace(',', '.')\n",
    "#\n",
    "gifts['amount'] = gifts['amount'].astype('float')\n",
    "# Assume Independent Variable Period of 6 Months\n",
    "iv_period = 180\n",
    "#\n",
    "in_between_period = 30\n",
    "\n"
   ]
  },
  {
   "cell_type": "markdown",
   "metadata": {},
   "source": [
    "### Base Table for the training set\n",
    "\n",
    "Some info on this table:\n",
    "- The basis table is the donors that were selected for campaign 6169\n",
    "- IV period of 6 months, with gap period of 7 days\n",
    "- DV period is not specified. Donors are selected on the basis of their reaction to the corresponding campaign (only takes into account campaign 6169)\n",
    "- Granularity is DonorID"
   ]
  },
  {
   "cell_type": "code",
   "execution_count": 72,
   "metadata": {},
   "outputs": [
    {
     "data": {
      "text/html": [
       "<div>\n",
       "<style scoped>\n",
       "    .dataframe tbody tr th:only-of-type {\n",
       "        vertical-align: middle;\n",
       "    }\n",
       "\n",
       "    .dataframe tbody tr th {\n",
       "        vertical-align: top;\n",
       "    }\n",
       "\n",
       "    .dataframe thead th {\n",
       "        text-align: right;\n",
       "    }\n",
       "</style>\n",
       "<table border=\"1\" class=\"dataframe\">\n",
       "  <thead>\n",
       "    <tr style=\"text-align: right;\">\n",
       "      <th></th>\n",
       "      <th>donorID</th>\n",
       "      <th>total_donated</th>\n",
       "      <th>frequency_donor</th>\n",
       "      <th>last_date_dono</th>\n",
       "      <th>Recency_dono</th>\n",
       "      <th>province</th>\n",
       "      <th>region</th>\n",
       "      <th>gender</th>\n",
       "      <th>language</th>\n",
       "      <th>Age</th>\n",
       "      <th>donated_more_than30_duringdv</th>\n",
       "    </tr>\n",
       "  </thead>\n",
       "  <tbody>\n",
       "    <tr>\n",
       "      <th>0</th>\n",
       "      <td>100001</td>\n",
       "      <td>969.0</td>\n",
       "      <td>969.0</td>\n",
       "      <td>969</td>\n",
       "      <td>969.0</td>\n",
       "      <td>3</td>\n",
       "      <td>1</td>\n",
       "      <td>1</td>\n",
       "      <td>1</td>\n",
       "      <td>50.0</td>\n",
       "      <td>0</td>\n",
       "    </tr>\n",
       "    <tr>\n",
       "      <th>1</th>\n",
       "      <td>100002</td>\n",
       "      <td>969.0</td>\n",
       "      <td>969.0</td>\n",
       "      <td>969</td>\n",
       "      <td>969.0</td>\n",
       "      <td>0</td>\n",
       "      <td>1</td>\n",
       "      <td>0</td>\n",
       "      <td>1</td>\n",
       "      <td>66.0</td>\n",
       "      <td>0</td>\n",
       "    </tr>\n",
       "    <tr>\n",
       "      <th>2</th>\n",
       "      <td>100004</td>\n",
       "      <td>969.0</td>\n",
       "      <td>969.0</td>\n",
       "      <td>969</td>\n",
       "      <td>969.0</td>\n",
       "      <td>1</td>\n",
       "      <td>0</td>\n",
       "      <td>1</td>\n",
       "      <td>2</td>\n",
       "      <td>66.0</td>\n",
       "      <td>0</td>\n",
       "    </tr>\n",
       "    <tr>\n",
       "      <th>3</th>\n",
       "      <td>100008</td>\n",
       "      <td>969.0</td>\n",
       "      <td>969.0</td>\n",
       "      <td>969</td>\n",
       "      <td>969.0</td>\n",
       "      <td>3</td>\n",
       "      <td>1</td>\n",
       "      <td>0</td>\n",
       "      <td>2</td>\n",
       "      <td>81.0</td>\n",
       "      <td>0</td>\n",
       "    </tr>\n",
       "    <tr>\n",
       "      <th>4</th>\n",
       "      <td>100009</td>\n",
       "      <td>969.0</td>\n",
       "      <td>969.0</td>\n",
       "      <td>969</td>\n",
       "      <td>969.0</td>\n",
       "      <td>1</td>\n",
       "      <td>0</td>\n",
       "      <td>0</td>\n",
       "      <td>2</td>\n",
       "      <td>86.0</td>\n",
       "      <td>0</td>\n",
       "    </tr>\n",
       "    <tr>\n",
       "      <th>...</th>\n",
       "      <td>...</td>\n",
       "      <td>...</td>\n",
       "      <td>...</td>\n",
       "      <td>...</td>\n",
       "      <td>...</td>\n",
       "      <td>...</td>\n",
       "      <td>...</td>\n",
       "      <td>...</td>\n",
       "      <td>...</td>\n",
       "      <td>...</td>\n",
       "      <td>...</td>\n",
       "    </tr>\n",
       "    <tr>\n",
       "      <th>34883</th>\n",
       "      <td>144686</td>\n",
       "      <td>969.0</td>\n",
       "      <td>969.0</td>\n",
       "      <td>969</td>\n",
       "      <td>969.0</td>\n",
       "      <td>0</td>\n",
       "      <td>1</td>\n",
       "      <td>1</td>\n",
       "      <td>1</td>\n",
       "      <td>53.0</td>\n",
       "      <td>0</td>\n",
       "    </tr>\n",
       "    <tr>\n",
       "      <th>34884</th>\n",
       "      <td>144687</td>\n",
       "      <td>969.0</td>\n",
       "      <td>969.0</td>\n",
       "      <td>969</td>\n",
       "      <td>969.0</td>\n",
       "      <td>5</td>\n",
       "      <td>3</td>\n",
       "      <td>0</td>\n",
       "      <td>2</td>\n",
       "      <td>47.0</td>\n",
       "      <td>0</td>\n",
       "    </tr>\n",
       "    <tr>\n",
       "      <th>34885</th>\n",
       "      <td>144689</td>\n",
       "      <td>100.0</td>\n",
       "      <td>1.0</td>\n",
       "      <td>2018-06-25 00:00:00</td>\n",
       "      <td>41.0</td>\n",
       "      <td>3</td>\n",
       "      <td>1</td>\n",
       "      <td>0</td>\n",
       "      <td>1</td>\n",
       "      <td>51.0</td>\n",
       "      <td>0</td>\n",
       "    </tr>\n",
       "    <tr>\n",
       "      <th>34886</th>\n",
       "      <td>144690</td>\n",
       "      <td>969.0</td>\n",
       "      <td>969.0</td>\n",
       "      <td>969</td>\n",
       "      <td>969.0</td>\n",
       "      <td>3</td>\n",
       "      <td>1</td>\n",
       "      <td>0</td>\n",
       "      <td>2</td>\n",
       "      <td>42.0</td>\n",
       "      <td>0</td>\n",
       "    </tr>\n",
       "    <tr>\n",
       "      <th>34887</th>\n",
       "      <td>144691</td>\n",
       "      <td>969.0</td>\n",
       "      <td>969.0</td>\n",
       "      <td>969</td>\n",
       "      <td>969.0</td>\n",
       "      <td>1</td>\n",
       "      <td>0</td>\n",
       "      <td>0</td>\n",
       "      <td>2</td>\n",
       "      <td>31.0</td>\n",
       "      <td>0</td>\n",
       "    </tr>\n",
       "  </tbody>\n",
       "</table>\n",
       "<p>34888 rows × 11 columns</p>\n",
       "</div>"
      ],
      "text/plain": [
       "       donorID  total_donated  frequency_donor       last_date_dono  \\\n",
       "0       100001          969.0            969.0                  969   \n",
       "1       100002          969.0            969.0                  969   \n",
       "2       100004          969.0            969.0                  969   \n",
       "3       100008          969.0            969.0                  969   \n",
       "4       100009          969.0            969.0                  969   \n",
       "...        ...            ...              ...                  ...   \n",
       "34883   144686          969.0            969.0                  969   \n",
       "34884   144687          969.0            969.0                  969   \n",
       "34885   144689          100.0              1.0  2018-06-25 00:00:00   \n",
       "34886   144690          969.0            969.0                  969   \n",
       "34887   144691          969.0            969.0                  969   \n",
       "\n",
       "       Recency_dono  province  region  gender  language   Age  \\\n",
       "0             969.0         3       1       1         1  50.0   \n",
       "1             969.0         0       1       0         1  66.0   \n",
       "2             969.0         1       0       1         2  66.0   \n",
       "3             969.0         3       1       0         2  81.0   \n",
       "4             969.0         1       0       0         2  86.0   \n",
       "...             ...       ...     ...     ...       ...   ...   \n",
       "34883         969.0         0       1       1         1  53.0   \n",
       "34884         969.0         5       3       0         2  47.0   \n",
       "34885          41.0         3       1       0         1  51.0   \n",
       "34886         969.0         3       1       0         2  42.0   \n",
       "34887         969.0         1       0       0         2  31.0   \n",
       "\n",
       "       donated_more_than30_duringdv  \n",
       "0                                 0  \n",
       "1                                 0  \n",
       "2                                 0  \n",
       "3                                 0  \n",
       "4                                 0  \n",
       "...                             ...  \n",
       "34883                             0  \n",
       "34884                             0  \n",
       "34885                             0  \n",
       "34886                             0  \n",
       "34887                             0  \n",
       "\n",
       "[34888 rows x 11 columns]"
      ]
     },
     "execution_count": 72,
     "metadata": {},
     "output_type": "execute_result"
    }
   ],
   "source": [
    "\n",
    "#first gift table 6169 campaign\n",
    "#_______________________________________________\n",
    "#\n",
    "selection_campaign_6169=selection_campaign_6169_raw\n",
    "# Only select rows within our Independent Variable Timeline\n",
    "gifts_dv_6169 = gifts[gifts['campaignID'] == 6169]\n",
    "# Aggregate Data for each donors\n",
    "gifts_dv_6169 = gifts_dv_6169.groupby('donorID')['amount'].agg('sum')\n",
    "# Reset Index and drop 2 level columns\n",
    "gifts_dv_6169 = gifts_dv_6169.reset_index()\n",
    "# Rename columns\n",
    "gifts_dv_6169.columns = ['donorID','total_donated_during_dv']\n",
    "#\n",
    "campaign6169_date = datetime.datetime(2018, 9, 4)\n",
    "#\n",
    "end_period = campaign6169_date - datetime.timedelta(days = in_between_period)\n",
    "#\n",
    "start_period = end_period - datetime.timedelta(days = iv_period)\n",
    "# Only select rows within our Independent Variable Timeline\n",
    "gifts_6169 = gifts[(gifts['date'] >= start_period) &  (gifts['date'] <= end_period)]\n",
    "#\n",
    "date_agg = gifts_6169.groupby('donorID')['date'].agg('max')\n",
    "\n",
    "# Aggregate Data for each donors\n",
    "gifts_6169 = gifts_6169.groupby('donorID')['amount'].agg(['sum', 'count'])\n",
    "# Reset Index and drop 2 level columns\n",
    "gifts_6169 = gifts_6169.reset_index()\n",
    "#gifts_cleaned.columns = gifts_cleaned.columns.droplevel(0)\n",
    "\n",
    "# Merge with aggregated Date\n",
    "gifts_6169 = pd.merge(gifts_6169, date_agg, how='left', on='donorID')\n",
    "#Rename columns\n",
    "gifts_6169.columns = ['donorID','total_donated','frequency_donor', 'last_date_dono']\n",
    "#\n",
    "gifts_6169['Recency_dono'] = end_period - gifts_6169['last_date_dono']\n",
    "#\n",
    "gifts_6169['Recency_dono'] = gifts_6169['Recency_dono'].dt.days\n",
    "# Build Base Table Based On the 6169 Campaign Data\n",
    "gifts_6169 = pd.merge(selection_campaign_6169,gifts_6169, how='left', on='donorID')\n",
    "# # Merge with iv table\n",
    "gifts_6169 = pd.merge(gifts_6169, gifts_dv_6169, how='left', on='donorID')\n",
    "# Merge with donor database\n",
    "gifts_6169 = pd.merge(gifts_6169, donors, how='left', on='donorID')\n",
    "#______________________________________\n",
    "# Target Variable\n",
    "gifts_6169['donated_more_than30_duringdv'] = gifts_6169['total_donated_during_dv'].apply(lambda row: 1 if row >= 30 else 0)\n",
    "#______________________________________\n",
    "#gender dummy\n",
    "gifts_6169['p']=0\n",
    "gifts_6169.loc[gifts_6169['gender']=='M','p']=0\n",
    "gifts_6169.loc[gifts_6169['gender']=='F','p']=1\n",
    "gifts_6169.loc[gifts_6169['gender'].isna(),'p']=969\n",
    "gifts_6169['gender']=gifts_6169['p']\n",
    "gifts_6169=gifts_6169.drop(['p'],axis=1)\n",
    "#zip\n",
    "gifts_6169.loc[gifts_6169[\"zipcode\"].isna(),'zipcode']=969\n",
    "#age\n",
    "gifts_6169.loc[gifts_6169[\"Age\"].isna(),'Age']=969\n",
    "#language\n",
    "gifts_6169['p']=0\n",
    "gifts_6169.loc[gifts_6169['language']=='EN','p']=0\n",
    "gifts_6169.loc[gifts_6169['language']=='NL','p']=1\n",
    "gifts_6169.loc[gifts_6169['language']=='FR','p']=2\n",
    "gifts_6169.loc[gifts_6169['language'].isna(),'p']=969\n",
    "gifts_6169['language']=gifts_6169['p']\n",
    "gifts_6169=gifts_6169.drop(['p'],axis=1)\n",
    "#provice\n",
    "gifts_6169['p']=0\n",
    "gifts_6169.loc[gifts_6169['province'].isna(),['p']]=969\n",
    "gifts_6169.loc[gifts_6169['province'].isna(),['province']]='nothing'\n",
    "gifts_6169['province'] =gifts_6169['province'].astype('category').cat.codes\n",
    "gifts_6169.loc[gifts_6169['p']==969,['province']]=969\n",
    "gifts_6169.pop('p')\n",
    "#region\n",
    "gifts_6169['p']=0\n",
    "gifts_6169.loc[gifts_6169['region'].isna(),['p']]=969\n",
    "gifts_6169.loc[gifts_6169['region'].isna(),['region']]='nothing'\n",
    "gifts_6169['region'] =gifts_6169['region'].astype('category').cat.codes\n",
    "gifts_6169.loc[gifts_6169['p']==969,['region']]=969\n",
    "gifts_6169.pop('p')\n",
    "#drop variables that arent necessary for the model\n",
    "gifts_6169.pop('total_donated_during_dv')\n",
    "gifts_6169.pop('Unnamed: 0')\n",
    "gifts_6169.pop('dateOfBirth')\n",
    "gifts_6169.pop('zipcode')\n",
    "#filling nans\n",
    "gifts_6169['total_donated'] = gifts_6169['total_donated'].fillna(969)#(gifts_6169['total_donated'].mean()))\n",
    "gifts_6169['Recency_dono'] = gifts_6169['Recency_dono'].fillna(969)#(gifts_6169['Recency_dono'].mean()))\n",
    "gifts_6169['last_date_dono'] = gifts_6169['last_date_dono'].fillna(969)#(gifts_6169['last_date_dono'].median()))\n",
    "gifts_6169['frequency_donor'] = gifts_6169['frequency_donor'].fillna(969)#(gifts_6169['frequency_donor'].median()))\n",
    "\n",
    "\n",
    "gifts_6169"
   ]
  },
  {
   "cell_type": "code",
   "execution_count": 73,
   "metadata": {},
   "outputs": [
    {
     "data": {
      "text/html": [
       "<div>\n",
       "<style scoped>\n",
       "    .dataframe tbody tr th:only-of-type {\n",
       "        vertical-align: middle;\n",
       "    }\n",
       "\n",
       "    .dataframe tbody tr th {\n",
       "        vertical-align: top;\n",
       "    }\n",
       "\n",
       "    .dataframe thead th {\n",
       "        text-align: right;\n",
       "    }\n",
       "</style>\n",
       "<table border=\"1\" class=\"dataframe\">\n",
       "  <thead>\n",
       "    <tr style=\"text-align: right;\">\n",
       "      <th></th>\n",
       "      <th>donorID</th>\n",
       "      <th>total_donated</th>\n",
       "      <th>frequency_donor</th>\n",
       "      <th>last_date_dono</th>\n",
       "      <th>Recency_dono</th>\n",
       "      <th>province</th>\n",
       "      <th>region</th>\n",
       "      <th>gender</th>\n",
       "      <th>language</th>\n",
       "      <th>Age</th>\n",
       "      <th>donated_more_than30_duringdv</th>\n",
       "    </tr>\n",
       "  </thead>\n",
       "  <tbody>\n",
       "    <tr>\n",
       "      <th>0</th>\n",
       "      <td>100001</td>\n",
       "      <td>969.0</td>\n",
       "      <td>969.0</td>\n",
       "      <td>969</td>\n",
       "      <td>969.0</td>\n",
       "      <td>3</td>\n",
       "      <td>1</td>\n",
       "      <td>1</td>\n",
       "      <td>1</td>\n",
       "      <td>50</td>\n",
       "      <td>0</td>\n",
       "    </tr>\n",
       "    <tr>\n",
       "      <th>1</th>\n",
       "      <td>100002</td>\n",
       "      <td>969.0</td>\n",
       "      <td>969.0</td>\n",
       "      <td>969</td>\n",
       "      <td>969.0</td>\n",
       "      <td>0</td>\n",
       "      <td>1</td>\n",
       "      <td>0</td>\n",
       "      <td>1</td>\n",
       "      <td>66</td>\n",
       "      <td>0</td>\n",
       "    </tr>\n",
       "    <tr>\n",
       "      <th>2</th>\n",
       "      <td>100008</td>\n",
       "      <td>969.0</td>\n",
       "      <td>969.0</td>\n",
       "      <td>969</td>\n",
       "      <td>969.0</td>\n",
       "      <td>3</td>\n",
       "      <td>1</td>\n",
       "      <td>0</td>\n",
       "      <td>2</td>\n",
       "      <td>81</td>\n",
       "      <td>0</td>\n",
       "    </tr>\n",
       "    <tr>\n",
       "      <th>3</th>\n",
       "      <td>100009</td>\n",
       "      <td>969.0</td>\n",
       "      <td>969.0</td>\n",
       "      <td>969</td>\n",
       "      <td>969.0</td>\n",
       "      <td>1</td>\n",
       "      <td>0</td>\n",
       "      <td>0</td>\n",
       "      <td>2</td>\n",
       "      <td>86</td>\n",
       "      <td>0</td>\n",
       "    </tr>\n",
       "    <tr>\n",
       "      <th>4</th>\n",
       "      <td>100010</td>\n",
       "      <td>969.0</td>\n",
       "      <td>969.0</td>\n",
       "      <td>969</td>\n",
       "      <td>969.0</td>\n",
       "      <td>1</td>\n",
       "      <td>0</td>\n",
       "      <td>0</td>\n",
       "      <td>2</td>\n",
       "      <td>35</td>\n",
       "      <td>0</td>\n",
       "    </tr>\n",
       "  </tbody>\n",
       "</table>\n",
       "</div>"
      ],
      "text/plain": [
       "   donorID  total_donated  frequency_donor last_date_dono  Recency_dono  \\\n",
       "0   100001          969.0            969.0            969         969.0   \n",
       "1   100002          969.0            969.0            969         969.0   \n",
       "2   100008          969.0            969.0            969         969.0   \n",
       "3   100009          969.0            969.0            969         969.0   \n",
       "4   100010          969.0            969.0            969         969.0   \n",
       "\n",
       "   province  region  gender  language  Age  donated_more_than30_duringdv  \n",
       "0         3       1       1         1   50                             0  \n",
       "1         0       1       0         1   66                             0  \n",
       "2         3       1       0         2   81                             0  \n",
       "3         1       0       0         2   86                             0  \n",
       "4         1       0       0         2   35                             0  "
      ]
     },
     "execution_count": 73,
     "metadata": {},
     "output_type": "execute_result"
    }
   ],
   "source": [
    "# #____________________________________________________\n",
    "#first gift table 7244 campaign\n",
    "#_______________________________________________\n",
    "#\n",
    "selection_campaign_7244=selection_campaign_7244_raw\n",
    "# Only select rows within our Independent Variable Timeline\n",
    "gifts_dv_7244 = gifts[gifts['campaignID'] == 7244]\n",
    "# Aggregate Data for each donors\n",
    "gifts_dv_7244 = gifts_dv_7244.groupby('donorID')['amount'].agg('sum')\n",
    "# Reset Index and drop 2 level columns\n",
    "gifts_dv_7244 = gifts_dv_7244.reset_index()\n",
    "# Rename columns\n",
    "gifts_dv_7244.columns = ['donorID','total_donated_during_dv']\n",
    "#\n",
    "campaign7244_date = datetime.datetime(2019, 6, 18)\n",
    "#\n",
    "end_period = campaign7244_date - datetime.timedelta(days = in_between_period)\n",
    "#\n",
    "start_period = end_period - datetime.timedelta(days = iv_period)\n",
    "# Only select rows within our Independent Variable Timeline\n",
    "gifts_7244 = gifts[(gifts['date'] >= start_period) &  (gifts['date'] <= end_period)]\n",
    "#\n",
    "date_agg = gifts_7244.groupby('donorID')['date'].agg('max')\n",
    "# Aggregate Data for each donors\n",
    "gifts_7244 = gifts_7244.groupby('donorID')['amount'].agg(['sum', 'count'])\n",
    "# Reset Index and drop 2 level columns\n",
    "gifts_7244 = gifts_7244.reset_index()\n",
    "#gifts_cleaned.columns = gifts_cleaned.columns.droplevel(0)\n",
    "\n",
    "# Merge with aggregated Date\n",
    "gifts_7244 = pd.merge(gifts_7244, date_agg, how='left', on='donorID')\n",
    "#Rename columns\n",
    "gifts_7244.columns = ['donorID','total_donated','frequency_donor', 'last_date_dono']\n",
    "#\n",
    "gifts_7244['Recency_dono'] = end_period - gifts_7244['last_date_dono']\n",
    "#\n",
    "gifts_7244['Recency_dono'] = gifts_7244['Recency_dono'].dt.days\n",
    "# Build Base Table Based On the 7244 Campaign Data\n",
    "gifts_7244 = pd.merge(selection_campaign_7244,gifts_7244, how='left', on='donorID')\n",
    "# # Merge with iv table\n",
    "gifts_7244 = pd.merge(gifts_7244, gifts_dv_7244, how='left', on='donorID')\n",
    "# Merge with donor database\n",
    "gifts_7244 = pd.merge(gifts_7244, donors, how='left', on='donorID')\n",
    "# #\n",
    "gifts_7244['donated_more_than30_duringdv'] = gifts_7244['total_donated_during_dv'].apply(lambda row: 1 if row >= 30 else 0)\n",
    "\n",
    "#______________________________________\n",
    "#gender dummy\n",
    "gifts_7244['p']=0\n",
    "gifts_7244.loc[gifts_7244['gender']=='M','p']=0\n",
    "gifts_7244.loc[gifts_7244['gender']=='F','p']=1\n",
    "gifts_7244.loc[gifts_7244['gender'].isna(),'p']=969\n",
    "gifts_7244['gender']=gifts_7244['p']\n",
    "gifts_7244=gifts_7244.drop(['p'],axis=1)\n",
    "#zip\n",
    "gifts_7244.loc[gifts_7244[\"zipcode\"].isna(),'zipcode']=969\n",
    "#age\n",
    "gifts_7244.loc[gifts_7244[\"Age\"].isna(),'Age']=969\n",
    "#language\n",
    "gifts_7244['p']=0\n",
    "gifts_7244.loc[gifts_7244['language']=='EN','p']=0\n",
    "gifts_7244.loc[gifts_7244['language']=='NL','p']=1\n",
    "gifts_7244.loc[gifts_7244['language']=='FR','p']=2\n",
    "gifts_7244.loc[gifts_7244['language'].isna(),'p']=969\n",
    "gifts_7244['language']=gifts_7244['p']\n",
    "gifts_7244=gifts_7244.drop(['p'],axis=1)\n",
    "#provice\n",
    "gifts_7244['p']=0\n",
    "gifts_7244.loc[gifts_7244['province'].isna(),['p']]=969\n",
    "gifts_7244.loc[gifts_7244['province'].isna(),['province']]='nothing'\n",
    "gifts_7244['province'] =gifts_7244['province'].astype('category').cat.codes\n",
    "gifts_7244.loc[gifts_7244['p']==969,['province']]=969\n",
    "gifts_7244.pop('p')\n",
    "#region\n",
    "gifts_7244['p']=0\n",
    "gifts_7244.loc[gifts_7244['region'].isna(),['p']]=969\n",
    "gifts_7244.loc[gifts_7244['region'].isna(),['region']]='nothing'\n",
    "gifts_7244['region'] =gifts_7244['region'].astype('category').cat.codes\n",
    "gifts_7244.loc[gifts_7244['p']==969,['region']]=969\n",
    "gifts_7244.pop('p')\n",
    "#drop variables that arent necessary for the model\n",
    "gifts_7244.pop('total_donated_during_dv')\n",
    "gifts_7244.pop('Unnamed: 0')\n",
    "gifts_7244.pop('dateOfBirth')\n",
    "gifts_7244.pop('zipcode')\n",
    "#filling nans\n",
    "gifts_7244['total_donated'] = gifts_7244['total_donated'].fillna(969)#(gifts_6169['total_donated'].mean()))\n",
    "gifts_7244['Recency_dono'] = gifts_7244['Recency_dono'].fillna(969)#(gifts_6169['Recency_dono'].mean()))\n",
    "gifts_7244['last_date_dono'] = gifts_7244['last_date_dono'].fillna(969)#(gifts_6169['last_date_dono'].median()))\n",
    "gifts_7244['frequency_donor'] = gifts_7244['frequency_donor'].fillna(969)#(gifts_6169['frequency_donor'].median()))\n",
    "\n",
    "\n",
    "\n",
    "gifts_7244.head()\n"
   ]
  },
  {
   "cell_type": "code",
   "execution_count": 127,
   "metadata": {},
   "outputs": [],
   "source": [
    "from sklearn.datasets import load_breast_cancer\n",
    "from sklearn.feature_selection import GenericUnivariateSelect, chi2\n",
    "\n",
    "from sklearn.linear_model import LogisticRegression\n",
    "from sklearn.model_selection import train_test_split\n",
    "from sklearn.metrics import accuracy_score\n",
    "\n",
    "\n",
    "# Import Pandas for data manipulation purposes \n",
    "\n",
    "import pandas as pd\n",
    "import numpy as np\n",
    "import seaborn as sns\n",
    "import matplotlib.pyplot as plt\n",
    "from sklearn.model_selection import train_test_split\n",
    "\n",
    "#Logistic Regression\n",
    "from sklearn.linear_model import LogisticRegression\n",
    "\n",
    "#Decision TREES\n",
    "from sklearn.tree import DecisionTreeClassifier\n",
    "\n",
    "# regularized regression with Ridge absolute value alpha\n",
    "from sklearn.linear_model import Lasso\n",
    "\n",
    "\n",
    "#for confusion matrix\n",
    "from sklearn.metrics import confusion_matrix\n",
    "#for having clasification reports\n",
    "from sklearn.metrics import classification_report\n",
    "#ROC curve for analyzing Logistic regression\n",
    "from sklearn.metrics import roc_curve\n",
    "# Cross Validation Score\n",
    "from sklearn.model_selection import cross_val_score\n",
    "# Calculate AUC Score\n",
    "from sklearn.metrics import roc_auc_score\n",
    "\n",
    "#an algotithm to normalize the numbers by dividing them to thairs std\n",
    "from scipy.cluster.vq import whiten\n",
    "\n",
    "from sklearn.metrics import r2_score, accuracy_score\n",
    "from scipy.stats import spearmanr, pearsonr\n",
    "\n",
    "\n",
    "from sklearn.ensemble import RandomForestClassifier"
   ]
  },
  {
   "cell_type": "code",
   "execution_count": 112,
   "metadata": {},
   "outputs": [],
   "source": [
    "gifts_6169=gifts_6169.dropna()\n",
    "\n",
    "X=gifts_6169.drop([\"donated_more_than30_duringdv\",'last_date_dono'],axis=1)\n",
    "y=gifts_6169['donated_more_than30_duringdv']\n",
    "\n",
    "Xtrain,Xtest,ytrain,ytest=train_test_split(X,y,test_size=0.2,stratify=y)"
   ]
  },
  {
   "cell_type": "code",
   "execution_count": 113,
   "metadata": {},
   "outputs": [
    {
     "data": {
      "image/png": "[encoded data removed]",
      "text/plain": [
       "<Figure size 1008x576 with 2 Axes>"
      ]
     },
     "metadata": {
      "needs_background": "light"
     },
     "output_type": "display_data"
    }
   ],
   "source": [
    "# Compute the correlation matrix\n",
    "corr = X.corr()\n",
    "\n",
    "# Generate a mask for the upper triangle\n",
    "mask = np.triu(np.ones_like(corr, dtype=bool))\n",
    "\n",
    "# Heatmap\n",
    "fig = plt.figure(figsize=(14,8))\n",
    "sns.heatmap(corr, annot = True,  fmt='.3f', mask = mask)\n",
    "plt.show()\n"
   ]
  },
  {
   "cell_type": "code",
   "execution_count": 114,
   "metadata": {},
   "outputs": [
    {
     "name": "stdout",
     "output_type": "stream",
     "text": [
      "[ 1.46456920e-07  0.00000000e+00  0.00000000e+00  0.00000000e+00\n",
      " -0.00000000e+00 -0.00000000e+00  0.00000000e+00  0.00000000e+00\n",
      "  3.92796443e-04]\n"
     ]
    }
   ],
   "source": [
    "## Instantiate a lasso regressor: lasso with normalize\n",
    "\n",
    "lasso_norm = Lasso(alpha=0.2)\n",
    "\n",
    "# Fit the regressor to the data\n",
    "lasso_norm.fit(X,y)\n",
    "\n",
    "# Compute and print the coefficients\n",
    "lasso_coef_norm = lasso_norm.fit(X,y).coef_\n",
    "print(lasso_coef_norm)"
   ]
  },
  {
   "cell_type": "code",
   "execution_count": 115,
   "metadata": {},
   "outputs": [
    {
     "data": {
      "image/png": "[encoded data removed]",
      "text/plain": [
       "<Figure size 432x288 with 1 Axes>"
      ]
     },
     "metadata": {
      "needs_background": "light"
     },
     "output_type": "display_data"
    }
   ],
   "source": [
    "# Plot the coefficients\n",
    "plt.plot(range(len(X.columns)), lasso_coef_norm,color='orange')\n",
    "plt.xticks(range(len(X.columns)), X.columns.values, rotation=90)\n",
    "plt.margins(0.02)\n",
    "plt.show()"
   ]
  },
  {
   "cell_type": "code",
   "execution_count": null,
   "metadata": {},
   "outputs": [],
   "source": []
  },
  {
   "cell_type": "code",
   "execution_count": 116,
   "metadata": {},
   "outputs": [],
   "source": [
    "X_end=X.drop([\"Recency_dono\",'frequency_donor'],axis=1)\n",
    "\n",
    "\n",
    "Xtrain,Xtest,ytrain,ytest=train_test_split(X_end,y,test_size=0.2,stratify=y,random_state=613)"
   ]
  },
  {
   "cell_type": "code",
   "execution_count": 117,
   "metadata": {},
   "outputs": [],
   "source": [
    "solvers = ['newton-cg', 'lbfgs', 'liblinear', 'sag', 'saga']\n",
    "train_accuracy = np.empty(len(solvers))\n",
    "test_accuracy = np.empty(len(solvers))"
   ]
  },
  {
   "cell_type": "code",
   "execution_count": 119,
   "metadata": {},
   "outputs": [
    {
     "name": "stderr",
     "output_type": "stream",
     "text": [
      "C:\\tools\\Anaconda3\\envs\\py\\lib\\site-packages\\sklearn\\linear_model\\_sag.py:328: ConvergenceWarning: The max_iter was reached which means the coef_ did not converge\n",
      "  warnings.warn(\"The max_iter was reached which means \"\n",
      "C:\\tools\\Anaconda3\\envs\\py\\lib\\site-packages\\sklearn\\linear_model\\_sag.py:328: ConvergenceWarning: The max_iter was reached which means the coef_ did not converge\n",
      "  warnings.warn(\"The max_iter was reached which means \"\n"
     ]
    }
   ],
   "source": [
    "np.random.seed(613)\n",
    "\n",
    "# Loop over different values of k\n",
    "for i in range(1,len(solvers)):\n",
    "    logs=LogisticRegression(solver=solvers[i])\n",
    "\n",
    "    # Fit the classifier to the training data\n",
    "    logs.fit(Xtrain,ytrain)\n",
    "\n",
    "    #Compute accuracy on the training set\n",
    "  \n",
    "    train_accuracy[i] = logs.score(Xtrain, ytrain)\n",
    "    \n",
    "    #Compute accuracy on the training set\n",
    "    test_accuracy[i] = logs.score(Xtest,ytest)"
   ]
  },
  {
   "cell_type": "code",
   "execution_count": 120,
   "metadata": {},
   "outputs": [
    {
     "data": {
      "image/png": "[encoded data removed]",
      "text/plain": [
       "<Figure size 432x288 with 1 Axes>"
      ]
     },
     "metadata": {
      "needs_background": "light"
     },
     "output_type": "display_data"
    }
   ],
   "source": [
    "plt.title('Logistic Regression: Varying solvers')\n",
    "plt.plot(solvers, test_accuracy, label = 'Validation Accuracy')\n",
    "plt.plot(solvers, train_accuracy, label = 'Training Accuracy')\n",
    "plt.legend()\n",
    "plt.xlabel('max depth')\n",
    "plt.ylabel('Accuracy')\n",
    "plt.show()"
   ]
  },
  {
   "cell_type": "code",
   "execution_count": 108,
   "metadata": {},
   "outputs": [
    {
     "name": "stdout",
     "output_type": "stream",
     "text": [
      "Train:\tACC=0.9724\n",
      "Test:\tACC=0.9723\n"
     ]
    }
   ],
   "source": [
    "lr = LogisticRegression()\n",
    "lr.fit(Xtrain,ytrain)\n",
    "predict_test=lr.predict(Xtest)\n",
    "predict_train=lr.predict(Xtrain)\n",
    "acc_train = accuracy_score(ytrain, np.round(predict_train))\n",
    "acc_test = accuracy_score(ytest, np.round(predict_test))\n",
    "\n",
    "print(f\"Train:\\tACC={acc_train:.4f}\")\n",
    "print(f\"Test:\\tACC={acc_test:.4f}\")"
   ]
  },
  {
   "cell_type": "code",
   "execution_count": 121,
   "metadata": {},
   "outputs": [
    {
     "name": "stdout",
     "output_type": "stream",
     "text": [
      "              precision    recall  f1-score   support\n",
      "\n",
      "           0       0.97      1.00      0.99      6787\n",
      "           1       0.00      0.00      0.00       191\n",
      "\n",
      "    accuracy                           0.97      6978\n",
      "   macro avg       0.49      0.50      0.49      6978\n",
      "weighted avg       0.95      0.97      0.96      6978\n",
      "\n"
     ]
    },
    {
     "name": "stderr",
     "output_type": "stream",
     "text": [
      "C:\\tools\\Anaconda3\\envs\\py\\lib\\site-packages\\sklearn\\linear_model\\_logistic.py:763: ConvergenceWarning: lbfgs failed to converge (status=1):\n",
      "STOP: TOTAL NO. of ITERATIONS REACHED LIMIT.\n",
      "\n",
      "Increase the number of iterations (max_iter) or scale the data as shown in:\n",
      "    https://scikit-learn.org/stable/modules/preprocessing.html\n",
      "Please also refer to the documentation for alternative solver options:\n",
      "    https://scikit-learn.org/stable/modules/linear_model.html#logistic-regression\n",
      "  n_iter_i = _check_optimize_result(\n",
      "C:\\tools\\Anaconda3\\envs\\py\\lib\\site-packages\\sklearn\\linear_model\\_logistic.py:763: ConvergenceWarning: lbfgs failed to converge (status=1):\n",
      "STOP: TOTAL NO. of ITERATIONS REACHED LIMIT.\n",
      "\n",
      "Increase the number of iterations (max_iter) or scale the data as shown in:\n",
      "    https://scikit-learn.org/stable/modules/preprocessing.html\n",
      "Please also refer to the documentation for alternative solver options:\n",
      "    https://scikit-learn.org/stable/modules/linear_model.html#logistic-regression\n",
      "  n_iter_i = _check_optimize_result(\n"
     ]
    },
    {
     "data": {
      "text/plain": [
       "array([0.97205503, 0.97219834, 0.97248495, 0.97248101, 0.9719077 ])"
      ]
     },
     "execution_count": 121,
     "metadata": {},
     "output_type": "execute_result"
    }
   ],
   "source": [
    "print(classification_report(ytest, predict_test))\n",
    "scores = cross_val_score(lr, X, y, cv=5)\n",
    "scores"
   ]
  },
  {
   "cell_type": "code",
   "execution_count": 122,
   "metadata": {},
   "outputs": [
    {
     "data": {
      "text/plain": [
       "array([[-2.13726760e-05, -2.48930278e-03, -4.67032006e-04,\n",
       "        -2.66676180e-05, -1.45360705e-02, -3.49425445e-03,\n",
       "         2.69519112e-02]])"
      ]
     },
     "execution_count": 122,
     "metadata": {},
     "output_type": "execute_result"
    }
   ],
   "source": [
    "y_pred_prob = lr.predict_proba(Xtest)[:,1]\n",
    "fpr,tpr,thresholds=roc_curve(ytest,y_pred_prob)\n",
    "lr.coef_"
   ]
  },
  {
   "cell_type": "code",
   "execution_count": 123,
   "metadata": {},
   "outputs": [
    {
     "data": {
      "image/png": "[encoded data removed]",
      "text/plain": [
       "<Figure size 432x288 with 1 Axes>"
      ]
     },
     "metadata": {
      "needs_background": "light"
     },
     "output_type": "display_data"
    }
   ],
   "source": [
    "plt.plot([0,1],[0,1],'k--', color=\"#876123\")\n",
    "plt.plot(fpr,tpr,color='#345987')\n",
    "plt.xlabel(\"False Positive Rate -- PRECISION\")\n",
    "plt.ylabel(\"True Positive rate -- RECALL\")\n",
    "plt.title(\"Logistic Regression Curve \")\n",
    "plt.show()"
   ]
  },
  {
   "cell_type": "code",
   "execution_count": 133,
   "metadata": {},
   "outputs": [
    {
     "data": {
      "image/png": "[encoded data removed]",
      "text/plain": [
       "<Figure size 432x288 with 2 Axes>"
      ]
     },
     "metadata": {
      "needs_background": "light"
     },
     "output_type": "display_data"
    }
   ],
   "source": [
    "### Source: https://www.stackvidhya.com/plot-confusion-matrix-in-python-and-why/\n",
    "\n",
    "#Generate the confusion matrix\n",
    "\n",
    "cf_matrix = confusion_matrix(ytest, np.round(y_pred_prob))\n",
    "\n",
    "group_counts = [\"{0:0.0f}\".format(value) for value in\n",
    "                cf_matrix.flatten()]\n",
    "\n",
    "group_percentages = [\"{0:.2%}\".format(value) for value in\n",
    "                     cf_matrix.flatten()/np.sum(cf_matrix)]\n",
    "\n",
    "labels = [f\"{v1}\\n{v2}\" for v1, v2 in\n",
    "          zip(group_counts,group_percentages)]\n",
    "\n",
    "labels = np.asarray(labels).reshape(2,2)\n",
    "\n",
    "# Plot correlation Matrix\n",
    "ax = sns.heatmap(cf_matrix, annot=labels, fmt='', cmap='Blues')\n",
    "\n",
    "ax.set_title('Seaborn Confusion Matrix with labels\\n\\n');\n",
    "ax.set_xlabel('\\nPredicted Values')\n",
    "ax.set_ylabel('Actual Values ');\n",
    "\n",
    "## Ticket labels - List must be in alphabetical order\n",
    "ax.xaxis.set_ticklabels(['sth','sth'])\n",
    "ax.yaxis.set_ticklabels(['sth','sth'])\n",
    "\n",
    "\n",
    "\n",
    "## Display the visualization of the Confusion Matrix.\n",
    "plt.show()"
   ]
  },
  {
   "cell_type": "code",
   "execution_count": 134,
   "metadata": {},
   "outputs": [],
   "source": [
    "rfs = np.arange(1, 11)\n",
    "train_accuracy = np.empty(len(rfs))\n",
    "test_accuracy = np.empty(len(rfs))"
   ]
  },
  {
   "cell_type": "code",
   "execution_count": 135,
   "metadata": {},
   "outputs": [],
   "source": [
    "# Loop over different values \n",
    "for i in range (0,10):\n",
    "    # Setup a RF Classifier \n",
    "    rfss=RandomForestClassifier(n_estimators=100, max_depth=i+1, random_state=42)\n",
    "\n",
    "    # Fit the classifier to the training data\n",
    "    rfss.fit(Xtrain,ytrain)\n",
    "    predicted_train = rfss.predict(Xtrain)\n",
    "    predicted_test = rfss.predict(Xtest)\n",
    "\n",
    "    test_accuracy[i] = accuracy_score(ytest, predicted_test)\n",
    "    \n",
    "    #Compute accuracy on the training set\n",
    "    train_accuracy[i] = accuracy_score(ytrain,predicted_train)"
   ]
  },
  {
   "cell_type": "code",
   "execution_count": 136,
   "metadata": {},
   "outputs": [
    {
     "data": {
      "image/png": "[encoded data removed]",
      "text/plain": [
       "<Figure size 432x288 with 1 Axes>"
      ]
     },
     "metadata": {
      "needs_background": "light"
     },
     "output_type": "display_data"
    }
   ],
   "source": [
    "plt.title('random forest: Varying Number max depth')\n",
    "plt.plot(rfs, test_accuracy, label = 'Validation Accuracy')\n",
    "plt.plot(rfs, train_accuracy, label = 'Training Accuracy')\n",
    "plt.legend()\n",
    "plt.xlabel('max depth')\n",
    "plt.ylabel('Accuracy')\n",
    "plt.show()"
   ]
  },
  {
   "cell_type": "code",
   "execution_count": 137,
   "metadata": {},
   "outputs": [
    {
     "data": {
      "image/png": "[encoded data removed]",
      "text/plain": [
       "<Figure size 432x288 with 1 Axes>"
      ]
     },
     "metadata": {
      "needs_background": "light"
     },
     "output_type": "display_data"
    }
   ],
   "source": [
    "rf=RandomForestClassifier(n_estimators=100, max_depth=3, random_state=42)\n",
    "\n",
    "rf = rf.fit(Xtrain,ytrain)\n",
    "\n",
    "# Predict on the validation set\n",
    "y_pred_prob = rf.predict_proba(Xtest)[:,1]\n",
    "\n",
    "# Construct ROC \n",
    "fpr,tpr,thresholds=roc_curve(ytest,y_pred_prob)\n",
    "\n",
    "plt.plot([0,1],[0,1],'k--', color=\"#876123\")\n",
    "plt.plot(fpr,tpr,color='#345987')\n",
    "plt.xlabel(\"False Positive Rate -- PRECISION\")\n",
    "plt.ylabel(\"True Positive rate -- RECALL\")\n",
    "plt.title(\"Random Forest Curve \")\n",
    "plt.show()"
   ]
  },
  {
   "cell_type": "code",
   "execution_count": null,
   "metadata": {},
   "outputs": [],
   "source": []
  }
 ],
 "metadata": {
  "interpreter": {
   "hash": "f1ce4e8569ae4e92577217304b8fdd87e456aa8c2f0d5e3962abb3bd7eecc672"
  },
  "kernelspec": {
   "display_name": "Python 3",
   "language": "python",
   "name": "python3"
  },
  "language_info": {
   "codemirror_mode": {
    "name": "ipython",
    "version": 3
   },
   "file_extension": ".py",
   "mimetype": "text/x-python",
   "name": "python",
   "nbconvert_exporter": "python",
   "pygments_lexer": "ipython3",
   "version": "3.9.4"
  }
 },
 "nbformat": 4,
 "nbformat_minor": 2
}
