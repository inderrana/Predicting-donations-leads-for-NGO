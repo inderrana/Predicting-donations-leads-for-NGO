{
 "cells": [
  {
   "cell_type": "code",
   "execution_count": 1,
   "metadata": {},
   "outputs": [
    {
     "data": {
      "text/plain": [
       "[]"
      ]
     },
     "execution_count": 1,
     "metadata": {},
     "output_type": "execute_result"
    }
   ],
   "source": [
    "import sys\n",
    "import subprocess\n",
    "import importlib\n",
    "\n",
    "packages = ['pandas', 'numpy','pathlib','os','glob', 'textblob']\n",
    "[subprocess.check_call(['pip', 'install', pkg]) \n",
    "for pkg in packages if not importlib.util.find_spec(pkg)]"
   ]
  },
  {
   "cell_type": "code",
   "execution_count": 2,
   "metadata": {},
   "outputs": [],
   "source": [
    "import pandas as pd\n",
    "import numpy as np\n",
    "\n",
    "from pathlib import Path\n",
    "import pathlib\n",
    "import os\n",
    "import glob\n",
    "\n",
    "from textblob import TextBlob"
   ]
  },
  {
   "cell_type": "code",
   "execution_count": 3,
   "metadata": {},
   "outputs": [],
   "source": [
    "# Change to working dir\n",
    "os.chdir(\"Data\")"
   ]
  },
  {
   "cell_type": "markdown",
   "metadata": {},
   "source": [
    "### Load Data"
   ]
  },
  {
   "cell_type": "code",
   "execution_count": 14,
   "metadata": {},
   "outputs": [],
   "source": [
    "# Loop through data folder and add all df's in a dict\n",
    "data_dict={}\n",
    "for txt_file in glob.glob(\"*.csv\"):\n",
    "    #list filenames\n",
    "    filename = txt_file\n",
    "    #create python tablenames\n",
    "    df_name = str.replace(str.replace(txt_file,\".csv\",\"_raw\"),\" \",\"_\")\n",
    "    #read files\n",
    "    df_value = pd.read_csv(filename,  delimiter=\",\")\n",
    "    #add to dict\n",
    "    data_dict[df_name] = df_value"
   ]
  },
  {
   "cell_type": "code",
   "execution_count": 15,
   "metadata": {},
   "outputs": [],
   "source": [
    "# Split dict into indivisual dataframes\n",
    "for var in data_dict.keys():\n",
    "    exec(\"{} = data_dict['{}']\".format(var, var))"
   ]
  },
  {
   "cell_type": "code",
   "execution_count": 16,
   "metadata": {},
   "outputs": [
    {
     "data": {
      "text/plain": [
       "dict_keys(['selection_campaign_7244_raw', 'donors_raw', 'selection_campaign_6169_raw', 'campaigns_raw', 'gifts_raw'])"
      ]
     },
     "execution_count": 16,
     "metadata": {},
     "output_type": "execute_result"
    }
   ],
   "source": [
    "data_dict.keys()"
   ]
  },
  {
   "cell_type": "code",
   "execution_count": 17,
   "metadata": {},
   "outputs": [
    {
     "data": {
      "text/html": [
       "<div>\n",
       "<style scoped>\n",
       "    .dataframe tbody tr th:only-of-type {\n",
       "        vertical-align: middle;\n",
       "    }\n",
       "\n",
       "    .dataframe tbody tr th {\n",
       "        vertical-align: top;\n",
       "    }\n",
       "\n",
       "    .dataframe thead th {\n",
       "        text-align: right;\n",
       "    }\n",
       "</style>\n",
       "<table border=\"1\" class=\"dataframe\">\n",
       "  <thead>\n",
       "    <tr style=\"text-align: right;\">\n",
       "      <th></th>\n",
       "      <th>Unnamed: 0</th>\n",
       "      <th>donorID</th>\n",
       "      <th>zipcode</th>\n",
       "      <th>province</th>\n",
       "      <th>region</th>\n",
       "      <th>gender</th>\n",
       "      <th>language</th>\n",
       "      <th>dateOfBirth</th>\n",
       "    </tr>\n",
       "  </thead>\n",
       "  <tbody>\n",
       "    <tr>\n",
       "      <th>0</th>\n",
       "      <td>0</td>\n",
       "      <td>100001</td>\n",
       "      <td>1861.0</td>\n",
       "      <td>Flemish Brabant</td>\n",
       "      <td>Flanders</td>\n",
       "      <td>F</td>\n",
       "      <td>NL</td>\n",
       "      <td>12/24/1967</td>\n",
       "    </tr>\n",
       "    <tr>\n",
       "      <th>1</th>\n",
       "      <td>1</td>\n",
       "      <td>100002</td>\n",
       "      <td>2260.0</td>\n",
       "      <td>Antwerp</td>\n",
       "      <td>Flanders</td>\n",
       "      <td>M</td>\n",
       "      <td>NL</td>\n",
       "      <td>01/14/1952</td>\n",
       "    </tr>\n",
       "    <tr>\n",
       "      <th>2</th>\n",
       "      <td>2</td>\n",
       "      <td>100003</td>\n",
       "      <td>1780.0</td>\n",
       "      <td>Flemish Brabant</td>\n",
       "      <td>Flanders</td>\n",
       "      <td>M</td>\n",
       "      <td>NL</td>\n",
       "      <td>12/23/1986</td>\n",
       "    </tr>\n",
       "    <tr>\n",
       "      <th>3</th>\n",
       "      <td>3</td>\n",
       "      <td>100004</td>\n",
       "      <td>1020.0</td>\n",
       "      <td>Brussels</td>\n",
       "      <td>Brussels</td>\n",
       "      <td>F</td>\n",
       "      <td>FR</td>\n",
       "      <td>03/29/1952</td>\n",
       "    </tr>\n",
       "    <tr>\n",
       "      <th>4</th>\n",
       "      <td>4</td>\n",
       "      <td>100005</td>\n",
       "      <td>1020.0</td>\n",
       "      <td>Brussels</td>\n",
       "      <td>Brussels</td>\n",
       "      <td>F</td>\n",
       "      <td>FR</td>\n",
       "      <td>06/25/1986</td>\n",
       "    </tr>\n",
       "    <tr>\n",
       "      <th>...</th>\n",
       "      <td>...</td>\n",
       "      <td>...</td>\n",
       "      <td>...</td>\n",
       "      <td>...</td>\n",
       "      <td>...</td>\n",
       "      <td>...</td>\n",
       "      <td>...</td>\n",
       "      <td>...</td>\n",
       "    </tr>\n",
       "    <tr>\n",
       "      <th>44686</th>\n",
       "      <td>44686</td>\n",
       "      <td>144687</td>\n",
       "      <td>4900.0</td>\n",
       "      <td>Liege</td>\n",
       "      <td>Wallonia</td>\n",
       "      <td>M</td>\n",
       "      <td>FR</td>\n",
       "      <td>09/12/1970</td>\n",
       "    </tr>\n",
       "    <tr>\n",
       "      <th>44687</th>\n",
       "      <td>44687</td>\n",
       "      <td>144688</td>\n",
       "      <td>3600.0</td>\n",
       "      <td>Limburg</td>\n",
       "      <td>Flanders</td>\n",
       "      <td>M</td>\n",
       "      <td>NL</td>\n",
       "      <td>11/28/1972</td>\n",
       "    </tr>\n",
       "    <tr>\n",
       "      <th>44688</th>\n",
       "      <td>44688</td>\n",
       "      <td>144689</td>\n",
       "      <td>3061.0</td>\n",
       "      <td>Flemish Brabant</td>\n",
       "      <td>Flanders</td>\n",
       "      <td>M</td>\n",
       "      <td>NL</td>\n",
       "      <td>04/21/1967</td>\n",
       "    </tr>\n",
       "    <tr>\n",
       "      <th>44689</th>\n",
       "      <td>44689</td>\n",
       "      <td>144690</td>\n",
       "      <td>1950.0</td>\n",
       "      <td>Flemish Brabant</td>\n",
       "      <td>Flanders</td>\n",
       "      <td>M</td>\n",
       "      <td>FR</td>\n",
       "      <td>05/07/1976</td>\n",
       "    </tr>\n",
       "    <tr>\n",
       "      <th>44690</th>\n",
       "      <td>44690</td>\n",
       "      <td>144691</td>\n",
       "      <td>1160.0</td>\n",
       "      <td>Brussels</td>\n",
       "      <td>Brussels</td>\n",
       "      <td>M</td>\n",
       "      <td>FR</td>\n",
       "      <td>06/05/1987</td>\n",
       "    </tr>\n",
       "  </tbody>\n",
       "</table>\n",
       "<p>44691 rows × 8 columns</p>\n",
       "</div>"
      ],
      "text/plain": [
       "       Unnamed: 0  donorID  zipcode         province    region gender  \\\n",
       "0               0   100001   1861.0  Flemish Brabant  Flanders      F   \n",
       "1               1   100002   2260.0          Antwerp  Flanders      M   \n",
       "2               2   100003   1780.0  Flemish Brabant  Flanders      M   \n",
       "3               3   100004   1020.0         Brussels  Brussels      F   \n",
       "4               4   100005   1020.0         Brussels  Brussels      F   \n",
       "...           ...      ...      ...              ...       ...    ...   \n",
       "44686       44686   144687   4900.0            Liege  Wallonia      M   \n",
       "44687       44687   144688   3600.0          Limburg  Flanders      M   \n",
       "44688       44688   144689   3061.0  Flemish Brabant  Flanders      M   \n",
       "44689       44689   144690   1950.0  Flemish Brabant  Flanders      M   \n",
       "44690       44690   144691   1160.0         Brussels  Brussels      M   \n",
       "\n",
       "      language dateOfBirth  \n",
       "0           NL  12/24/1967  \n",
       "1           NL  01/14/1952  \n",
       "2           NL  12/23/1986  \n",
       "3           FR  03/29/1952  \n",
       "4           FR  06/25/1986  \n",
       "...        ...         ...  \n",
       "44686       FR  09/12/1970  \n",
       "44687       NL  11/28/1972  \n",
       "44688       NL  04/21/1967  \n",
       "44689       FR  05/07/1976  \n",
       "44690       FR  06/05/1987  \n",
       "\n",
       "[44691 rows x 8 columns]"
      ]
     },
     "execution_count": 17,
     "metadata": {},
     "output_type": "execute_result"
    }
   ],
   "source": [
    "donors_raw"
   ]
  },
  {
   "cell_type": "code",
   "execution_count": 18,
   "metadata": {},
   "outputs": [
    {
     "name": "stdout",
     "output_type": "stream",
     "text": [
      "selection_campaign_7244_raw : 0\n",
      "donors_raw : 34\n",
      "selection_campaign_6169_raw : 0\n",
      "campaigns_raw : 0\n",
      "gifts_raw : 15637\n"
     ]
    }
   ],
   "source": [
    "# Check for null values\n",
    "for keys in data_dict.keys():\n",
    "    print(keys, \":\", data_dict[keys].isna().sum().sum())"
   ]
  },
  {
   "cell_type": "markdown",
   "metadata": {},
   "source": [
    "### Data exploration"
   ]
  },
  {
   "cell_type": "code",
   "execution_count": null,
   "metadata": {},
   "outputs": [],
   "source": []
  }
 ],
 "metadata": {
  "interpreter": {
   "hash": "f1ce4e8569ae4e92577217304b8fdd87e456aa8c2f0d5e3962abb3bd7eecc672"
  },
  "kernelspec": {
   "display_name": "Python 3.8.8 64-bit ('base': conda)",
   "language": "python",
   "name": "python3"
  },
  "language_info": {
   "codemirror_mode": {
    "name": "ipython",
    "version": 3
   },
   "file_extension": ".py",
   "mimetype": "text/x-python",
   "name": "python",
   "nbconvert_exporter": "python",
   "pygments_lexer": "ipython3",
   "version": "3.8.8"
  },
  "orig_nbformat": 4
 },
 "nbformat": 4,
 "nbformat_minor": 2
}
