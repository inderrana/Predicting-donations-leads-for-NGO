{
 "cells": [
  {
   "cell_type": "markdown",
   "metadata": {},
   "source": [
    "## General Workflow\n",
    "\n",
    "### 1) Identifying Business Problem\n",
    "### 2) Data Preprocessing\n",
    "### 3) Exploratory Data Analysis (EDA)"
   ]
  },
  {
   "cell_type": "markdown",
   "metadata": {},
   "source": [
    "### 1) Identifying Business Problem\n",
    "\n",
    "In this case, we're asked to develop a model for an organization that helps non-profit organizations to find donors. This model will be used to predict whether a donor will spend more than or equal to 30€, given that this donor receives a re-activation campaign. The model will be trained based on the previous campaign, and then validated with another data from other campaign.\n",
    "\n",
    "The model is expected to have a good performance and high interpretability. In addition, we also have to emphasize why does implementing the model is better than random guessing campaign. In the end, the model will be used to predict potential customers for the upcoming campaign, and which customers are the most effective to reach."
   ]
  },
  {
   "cell_type": "markdown",
   "metadata": {},
   "source": [
    "### 2) Data Preprocessing\n",
    "\n",
    "Our data consist of 5 csv files which includes the donor database, the amount of donated, and the selected donors during previous campaign"
   ]
  },
  {
   "cell_type": "code",
   "execution_count": 1,
   "metadata": {},
   "outputs": [],
   "source": [
    "import pandas as pd\n",
    "import numpy as np\n",
    "import datetime"
   ]
  },
  {
   "cell_type": "code",
   "execution_count": 2,
   "metadata": {},
   "outputs": [],
   "source": [
    "# Drop 1st Column\n",
    "donors=pd.read_csv(\"./data/donors.csv\")\n",
    "\n",
    "donors['dateOfBirth'] = pd.to_datetime(donors['dateOfBirth'])\n",
    "\n",
    "donors['province'] = donors['province'].apply(lambda row: 'Antwerp' if row == 'ANTWERP' else row)\n",
    "\n",
    "gender_dict={'F':1,'M':0,'NaN':969}\n",
    "language_dict={'EN':1,'FR':2,'NL':3}\n",
    "region_dict={'Brussels':1,'Flanders':2,'Missing':3,'Wallonia':4}\n",
    "province_dict={'Antwerp':1,'Brussels':2,'East Flanders':3,'Flemish Brabant':4,\n",
    "                'Hainaut':5,'Liege':6,'Limburg':7,'Luxembourg':8,'Missing':9,\n",
    "                'Namur':10,'Walloon Brabant':11,'West Flanders':12}\n",
    "\n",
    "\n",
    "#donors = donors.replace({\"province\": province_dict, \"region\": region_dict, \"gender\": gender_dict,\"language\":language_dict})\n",
    "donors = donors.replace({\"gender\": gender_dict})"
   ]
  },
  {
   "cell_type": "code",
   "execution_count": 3,
   "metadata": {},
   "outputs": [
    {
     "data": {
      "text/html": [
       "<div>\n",
       "<style scoped>\n",
       "    .dataframe tbody tr th:only-of-type {\n",
       "        vertical-align: middle;\n",
       "    }\n",
       "\n",
       "    .dataframe tbody tr th {\n",
       "        vertical-align: top;\n",
       "    }\n",
       "\n",
       "    .dataframe thead th {\n",
       "        text-align: right;\n",
       "    }\n",
       "</style>\n",
       "<table border=\"1\" class=\"dataframe\">\n",
       "  <thead>\n",
       "    <tr style=\"text-align: right;\">\n",
       "      <th></th>\n",
       "      <th>Unnamed: 0</th>\n",
       "      <th>donorID</th>\n",
       "      <th>zipcode</th>\n",
       "      <th>gender</th>\n",
       "      <th>dateOfBirth</th>\n",
       "      <th>province_Brussels</th>\n",
       "      <th>province_East Flanders</th>\n",
       "      <th>province_Flemish Brabant</th>\n",
       "      <th>province_Hainaut</th>\n",
       "      <th>province_Liege</th>\n",
       "      <th>...</th>\n",
       "      <th>province_Luxembourg</th>\n",
       "      <th>province_Missing</th>\n",
       "      <th>province_Namur</th>\n",
       "      <th>province_Walloon Brabant</th>\n",
       "      <th>province_West Flanders</th>\n",
       "      <th>region_Flanders</th>\n",
       "      <th>region_Missing</th>\n",
       "      <th>region_Wallonia</th>\n",
       "      <th>language_FR</th>\n",
       "      <th>language_NL</th>\n",
       "    </tr>\n",
       "  </thead>\n",
       "  <tbody>\n",
       "    <tr>\n",
       "      <th>0</th>\n",
       "      <td>0</td>\n",
       "      <td>100001</td>\n",
       "      <td>1861.0</td>\n",
       "      <td>1.0</td>\n",
       "      <td>1967-12-24</td>\n",
       "      <td>0</td>\n",
       "      <td>0</td>\n",
       "      <td>1</td>\n",
       "      <td>0</td>\n",
       "      <td>0</td>\n",
       "      <td>...</td>\n",
       "      <td>0</td>\n",
       "      <td>0</td>\n",
       "      <td>0</td>\n",
       "      <td>0</td>\n",
       "      <td>0</td>\n",
       "      <td>1</td>\n",
       "      <td>0</td>\n",
       "      <td>0</td>\n",
       "      <td>0</td>\n",
       "      <td>1</td>\n",
       "    </tr>\n",
       "    <tr>\n",
       "      <th>1</th>\n",
       "      <td>1</td>\n",
       "      <td>100002</td>\n",
       "      <td>2260.0</td>\n",
       "      <td>0.0</td>\n",
       "      <td>1952-01-14</td>\n",
       "      <td>0</td>\n",
       "      <td>0</td>\n",
       "      <td>0</td>\n",
       "      <td>0</td>\n",
       "      <td>0</td>\n",
       "      <td>...</td>\n",
       "      <td>0</td>\n",
       "      <td>0</td>\n",
       "      <td>0</td>\n",
       "      <td>0</td>\n",
       "      <td>0</td>\n",
       "      <td>1</td>\n",
       "      <td>0</td>\n",
       "      <td>0</td>\n",
       "      <td>0</td>\n",
       "      <td>1</td>\n",
       "    </tr>\n",
       "    <tr>\n",
       "      <th>2</th>\n",
       "      <td>2</td>\n",
       "      <td>100003</td>\n",
       "      <td>1780.0</td>\n",
       "      <td>0.0</td>\n",
       "      <td>1986-12-23</td>\n",
       "      <td>0</td>\n",
       "      <td>0</td>\n",
       "      <td>1</td>\n",
       "      <td>0</td>\n",
       "      <td>0</td>\n",
       "      <td>...</td>\n",
       "      <td>0</td>\n",
       "      <td>0</td>\n",
       "      <td>0</td>\n",
       "      <td>0</td>\n",
       "      <td>0</td>\n",
       "      <td>1</td>\n",
       "      <td>0</td>\n",
       "      <td>0</td>\n",
       "      <td>0</td>\n",
       "      <td>1</td>\n",
       "    </tr>\n",
       "    <tr>\n",
       "      <th>3</th>\n",
       "      <td>3</td>\n",
       "      <td>100004</td>\n",
       "      <td>1020.0</td>\n",
       "      <td>1.0</td>\n",
       "      <td>1952-03-29</td>\n",
       "      <td>1</td>\n",
       "      <td>0</td>\n",
       "      <td>0</td>\n",
       "      <td>0</td>\n",
       "      <td>0</td>\n",
       "      <td>...</td>\n",
       "      <td>0</td>\n",
       "      <td>0</td>\n",
       "      <td>0</td>\n",
       "      <td>0</td>\n",
       "      <td>0</td>\n",
       "      <td>0</td>\n",
       "      <td>0</td>\n",
       "      <td>0</td>\n",
       "      <td>1</td>\n",
       "      <td>0</td>\n",
       "    </tr>\n",
       "    <tr>\n",
       "      <th>4</th>\n",
       "      <td>4</td>\n",
       "      <td>100005</td>\n",
       "      <td>1020.0</td>\n",
       "      <td>1.0</td>\n",
       "      <td>1986-06-25</td>\n",
       "      <td>1</td>\n",
       "      <td>0</td>\n",
       "      <td>0</td>\n",
       "      <td>0</td>\n",
       "      <td>0</td>\n",
       "      <td>...</td>\n",
       "      <td>0</td>\n",
       "      <td>0</td>\n",
       "      <td>0</td>\n",
       "      <td>0</td>\n",
       "      <td>0</td>\n",
       "      <td>0</td>\n",
       "      <td>0</td>\n",
       "      <td>0</td>\n",
       "      <td>1</td>\n",
       "      <td>0</td>\n",
       "    </tr>\n",
       "  </tbody>\n",
       "</table>\n",
       "<p>5 rows × 21 columns</p>\n",
       "</div>"
      ],
      "text/plain": [
       "   Unnamed: 0  donorID  zipcode  gender dateOfBirth  province_Brussels  \\\n",
       "0           0   100001   1861.0     1.0  1967-12-24                  0   \n",
       "1           1   100002   2260.0     0.0  1952-01-14                  0   \n",
       "2           2   100003   1780.0     0.0  1986-12-23                  0   \n",
       "3           3   100004   1020.0     1.0  1952-03-29                  1   \n",
       "4           4   100005   1020.0     1.0  1986-06-25                  1   \n",
       "\n",
       "   province_East Flanders  province_Flemish Brabant  province_Hainaut  \\\n",
       "0                       0                         1                 0   \n",
       "1                       0                         0                 0   \n",
       "2                       0                         1                 0   \n",
       "3                       0                         0                 0   \n",
       "4                       0                         0                 0   \n",
       "\n",
       "   province_Liege  ...  province_Luxembourg  province_Missing  province_Namur  \\\n",
       "0               0  ...                    0                 0               0   \n",
       "1               0  ...                    0                 0               0   \n",
       "2               0  ...                    0                 0               0   \n",
       "3               0  ...                    0                 0               0   \n",
       "4               0  ...                    0                 0               0   \n",
       "\n",
       "   province_Walloon Brabant  province_West Flanders  region_Flanders  \\\n",
       "0                         0                       0                1   \n",
       "1                         0                       0                1   \n",
       "2                         0                       0                1   \n",
       "3                         0                       0                0   \n",
       "4                         0                       0                0   \n",
       "\n",
       "   region_Missing  region_Wallonia  language_FR  language_NL  \n",
       "0               0                0            0            1  \n",
       "1               0                0            0            1  \n",
       "2               0                0            0            1  \n",
       "3               0                0            1            0  \n",
       "4               0                0            1            0  \n",
       "\n",
       "[5 rows x 21 columns]"
      ]
     },
     "execution_count": 3,
     "metadata": {},
     "output_type": "execute_result"
    }
   ],
   "source": [
    "donors = pd.get_dummies(donors, columns=['province', 'region', 'language'], drop_first=True)\n",
    "donors.head()"
   ]
  },
  {
   "cell_type": "code",
   "execution_count": 4,
   "metadata": {},
   "outputs": [
    {
     "data": {
      "text/html": [
       "<div>\n",
       "<style scoped>\n",
       "    .dataframe tbody tr th:only-of-type {\n",
       "        vertical-align: middle;\n",
       "    }\n",
       "\n",
       "    .dataframe tbody tr th {\n",
       "        vertical-align: top;\n",
       "    }\n",
       "\n",
       "    .dataframe thead th {\n",
       "        text-align: right;\n",
       "    }\n",
       "</style>\n",
       "<table border=\"1\" class=\"dataframe\">\n",
       "  <thead>\n",
       "    <tr style=\"text-align: right;\">\n",
       "      <th></th>\n",
       "      <th>campaignID</th>\n",
       "      <th>date</th>\n",
       "      <th>lettersSent</th>\n",
       "      <th>CostUnit</th>\n",
       "    </tr>\n",
       "  </thead>\n",
       "  <tbody>\n",
       "    <tr>\n",
       "      <th>0</th>\n",
       "      <td>153</td>\n",
       "      <td>2004-12-13</td>\n",
       "      <td>6873.0</td>\n",
       "      <td>0.17</td>\n",
       "    </tr>\n",
       "    <tr>\n",
       "      <th>1</th>\n",
       "      <td>154</td>\n",
       "      <td>2005-01-01</td>\n",
       "      <td>7656.0</td>\n",
       "      <td>0.30</td>\n",
       "    </tr>\n",
       "    <tr>\n",
       "      <th>2</th>\n",
       "      <td>180</td>\n",
       "      <td>2005-01-18</td>\n",
       "      <td>9933.0</td>\n",
       "      <td>0.20</td>\n",
       "    </tr>\n",
       "    <tr>\n",
       "      <th>3</th>\n",
       "      <td>433</td>\n",
       "      <td>2005-01-29</td>\n",
       "      <td>7448.0</td>\n",
       "      <td>0.59</td>\n",
       "    </tr>\n",
       "    <tr>\n",
       "      <th>4</th>\n",
       "      <td>476</td>\n",
       "      <td>2005-12-02</td>\n",
       "      <td>6605.0</td>\n",
       "      <td>0.51</td>\n",
       "    </tr>\n",
       "  </tbody>\n",
       "</table>\n",
       "</div>"
      ],
      "text/plain": [
       "   campaignID       date  lettersSent CostUnit\n",
       "0         153 2004-12-13       6873.0     0.17\n",
       "1         154 2005-01-01       7656.0     0.30\n",
       "2         180 2005-01-18       9933.0     0.20\n",
       "3         433 2005-01-29       7448.0     0.59\n",
       "4         476 2005-12-02       6605.0     0.51"
      ]
     },
     "execution_count": 4,
     "metadata": {},
     "output_type": "execute_result"
    }
   ],
   "source": [
    "campaigns=pd.read_csv(\"./Data/campaigns.csv\",delimiter=\";\")\n",
    "\n",
    "for i in range(0,len(campaigns)):\n",
    "    campaigns.iloc[i,2]=campaigns.iloc[i,2].replace('\\u202f','')\n",
    "\n",
    "for i in range(0,len(campaigns)):\n",
    "    campaigns.iloc[i,3]=campaigns.iloc[i,3].replace('\\xa0€','')\n",
    "\n",
    "for i in range(0,len(campaigns)):\n",
    "    campaigns.iloc[i,3]=campaigns.iloc[i,3].replace(',','.')\n",
    "\n",
    "campaigns['date']=pd.to_datetime(campaigns['date'])\n",
    "campaigns['lettersSent']=campaigns['lettersSent'].astype(int)\n",
    "campaigns['lettersSent']=campaigns['lettersSent'].astype(float)\n",
    "campaigns.head()"
   ]
  },
  {
   "cell_type": "code",
   "execution_count": 5,
   "metadata": {},
   "outputs": [
    {
     "data": {
      "text/html": [
       "<div>\n",
       "<style scoped>\n",
       "    .dataframe tbody tr th:only-of-type {\n",
       "        vertical-align: middle;\n",
       "    }\n",
       "\n",
       "    .dataframe tbody tr th {\n",
       "        vertical-align: top;\n",
       "    }\n",
       "\n",
       "    .dataframe thead th {\n",
       "        text-align: right;\n",
       "    }\n",
       "</style>\n",
       "<table border=\"1\" class=\"dataframe\">\n",
       "  <thead>\n",
       "    <tr style=\"text-align: right;\">\n",
       "      <th></th>\n",
       "      <th>Unnamed: 0</th>\n",
       "      <th>donorID</th>\n",
       "      <th>campaignID</th>\n",
       "      <th>amount</th>\n",
       "      <th>date</th>\n",
       "    </tr>\n",
       "  </thead>\n",
       "  <tbody>\n",
       "    <tr>\n",
       "      <th>0</th>\n",
       "      <td>0</td>\n",
       "      <td>100001</td>\n",
       "      <td>NaN</td>\n",
       "      <td>12.39</td>\n",
       "      <td>2004-03-23</td>\n",
       "    </tr>\n",
       "    <tr>\n",
       "      <th>1</th>\n",
       "      <td>1</td>\n",
       "      <td>100001</td>\n",
       "      <td>1577.0</td>\n",
       "      <td>12.39</td>\n",
       "      <td>2007-10-11</td>\n",
       "    </tr>\n",
       "    <tr>\n",
       "      <th>2</th>\n",
       "      <td>2</td>\n",
       "      <td>100001</td>\n",
       "      <td>1634.0</td>\n",
       "      <td>6.69</td>\n",
       "      <td>2007-12-28</td>\n",
       "    </tr>\n",
       "    <tr>\n",
       "      <th>3</th>\n",
       "      <td>3</td>\n",
       "      <td>100001</td>\n",
       "      <td>1778.0</td>\n",
       "      <td>24.79</td>\n",
       "      <td>2008-06-14</td>\n",
       "    </tr>\n",
       "    <tr>\n",
       "      <th>4</th>\n",
       "      <td>4</td>\n",
       "      <td>100001</td>\n",
       "      <td>1808.0</td>\n",
       "      <td>7.44</td>\n",
       "      <td>2008-07-09</td>\n",
       "    </tr>\n",
       "  </tbody>\n",
       "</table>\n",
       "</div>"
      ],
      "text/plain": [
       "   Unnamed: 0  donorID  campaignID  amount       date\n",
       "0           0   100001         NaN   12.39 2004-03-23\n",
       "1           1   100001      1577.0   12.39 2007-10-11\n",
       "2           2   100001      1634.0    6.69 2007-12-28\n",
       "3           3   100001      1778.0   24.79 2008-06-14\n",
       "4           4   100001      1808.0    7.44 2008-07-09"
      ]
     },
     "execution_count": 5,
     "metadata": {},
     "output_type": "execute_result"
    }
   ],
   "source": [
    "gifts=pd.read_csv(\"./Data/gifts.csv\")\n",
    "#cleaning gift\n",
    "# Change date into datetime object\n",
    "gifts['date'] = pd.to_datetime(gifts['date'])\n",
    "#\n",
    "gifts['amount'] = gifts['amount'].str.replace(',', '.')\n",
    "#\n",
    "gifts['amount'] = gifts['amount'].astype('float')\n",
    "#\n",
    "gifts.head()"
   ]
  },
  {
   "cell_type": "code",
   "execution_count": 6,
   "metadata": {},
   "outputs": [
    {
     "data": {
      "text/html": [
       "<div>\n",
       "<style scoped>\n",
       "    .dataframe tbody tr th:only-of-type {\n",
       "        vertical-align: middle;\n",
       "    }\n",
       "\n",
       "    .dataframe tbody tr th {\n",
       "        vertical-align: top;\n",
       "    }\n",
       "\n",
       "    .dataframe thead th {\n",
       "        text-align: right;\n",
       "    }\n",
       "</style>\n",
       "<table border=\"1\" class=\"dataframe\">\n",
       "  <thead>\n",
       "    <tr style=\"text-align: right;\">\n",
       "      <th></th>\n",
       "      <th>donorID</th>\n",
       "      <th>total_donated_during_dv</th>\n",
       "    </tr>\n",
       "  </thead>\n",
       "  <tbody>\n",
       "    <tr>\n",
       "      <th>132</th>\n",
       "      <td>100023</td>\n",
       "      <td>15.0</td>\n",
       "    </tr>\n",
       "    <tr>\n",
       "      <th>705</th>\n",
       "      <td>100126</td>\n",
       "      <td>123.0</td>\n",
       "    </tr>\n",
       "    <tr>\n",
       "      <th>1151</th>\n",
       "      <td>100253</td>\n",
       "      <td>120.0</td>\n",
       "    </tr>\n",
       "    <tr>\n",
       "      <th>1362</th>\n",
       "      <td>100279</td>\n",
       "      <td>75.0</td>\n",
       "    </tr>\n",
       "    <tr>\n",
       "      <th>1804</th>\n",
       "      <td>100320</td>\n",
       "      <td>135.0</td>\n",
       "    </tr>\n",
       "  </tbody>\n",
       "</table>\n",
       "</div>"
      ],
      "text/plain": [
       "      donorID  total_donated_during_dv\n",
       "132    100023                     15.0\n",
       "705    100126                    123.0\n",
       "1151   100253                    120.0\n",
       "1362   100279                     75.0\n",
       "1804   100320                    135.0"
      ]
     },
     "execution_count": 6,
     "metadata": {},
     "output_type": "execute_result"
    }
   ],
   "source": [
    "#\n",
    "def agg_A(tr):\n",
    "    tr['total_donated_during_dv'] = tr['amount'].sum()\n",
    "    return tr\n",
    "#\n",
    "gift_6169=gifts[gifts['campaignID'] == 6169]\n",
    "#\n",
    "gift_6169 = gift_6169.groupby(by='donorID').apply(agg_A)\n",
    "#\n",
    "gift_6169=gift_6169.drop(['campaignID','Unnamed: 0','amount','date'],axis=1)\n",
    "#\n",
    "gift_6169.head()"
   ]
  },
  {
   "cell_type": "code",
   "execution_count": 7,
   "metadata": {},
   "outputs": [
    {
     "data": {
      "text/html": [
       "<div>\n",
       "<style scoped>\n",
       "    .dataframe tbody tr th:only-of-type {\n",
       "        vertical-align: middle;\n",
       "    }\n",
       "\n",
       "    .dataframe tbody tr th {\n",
       "        vertical-align: top;\n",
       "    }\n",
       "\n",
       "    .dataframe thead th {\n",
       "        text-align: right;\n",
       "    }\n",
       "</style>\n",
       "<table border=\"1\" class=\"dataframe\">\n",
       "  <thead>\n",
       "    <tr style=\"text-align: right;\">\n",
       "      <th></th>\n",
       "      <th>donorID</th>\n",
       "      <th>total_donated_during_dv</th>\n",
       "    </tr>\n",
       "  </thead>\n",
       "  <tbody>\n",
       "    <tr>\n",
       "      <th>5828</th>\n",
       "      <td>100724</td>\n",
       "      <td>40.0</td>\n",
       "    </tr>\n",
       "    <tr>\n",
       "      <th>7527</th>\n",
       "      <td>100896</td>\n",
       "      <td>10.0</td>\n",
       "    </tr>\n",
       "    <tr>\n",
       "      <th>8314</th>\n",
       "      <td>100964</td>\n",
       "      <td>100.0</td>\n",
       "    </tr>\n",
       "    <tr>\n",
       "      <th>9269</th>\n",
       "      <td>101066</td>\n",
       "      <td>60.0</td>\n",
       "    </tr>\n",
       "    <tr>\n",
       "      <th>9316</th>\n",
       "      <td>101069</td>\n",
       "      <td>80.0</td>\n",
       "    </tr>\n",
       "  </tbody>\n",
       "</table>\n",
       "</div>"
      ],
      "text/plain": [
       "      donorID  total_donated_during_dv\n",
       "5828   100724                     40.0\n",
       "7527   100896                     10.0\n",
       "8314   100964                    100.0\n",
       "9269   101066                     60.0\n",
       "9316   101069                     80.0"
      ]
     },
     "execution_count": 7,
     "metadata": {},
     "output_type": "execute_result"
    }
   ],
   "source": [
    "#\n",
    "gift_7244=gifts[gifts['campaignID'] == 7244]\n",
    "#\n",
    "gift_7244 = gift_7244.groupby(by='donorID').apply(agg_A)\n",
    "#\n",
    "gift_7244=gift_7244.drop(['campaignID','Unnamed: 0','amount','date'],axis=1)\n",
    "#\n",
    "gift_7244.head()"
   ]
  },
  {
   "cell_type": "code",
   "execution_count": 8,
   "metadata": {},
   "outputs": [],
   "source": [
    "selection_6169=pd.read_csv(\"./Data/selection campaign 6169.csv\")\n",
    "selection_7244=pd.read_csv(\"./Data/selection campaign 7244.csv\")\n",
    "selection_7362=pd.read_csv(\"./Data/new_campaign_selection.csv\")"
   ]
  },
  {
   "cell_type": "code",
   "execution_count": 9,
   "metadata": {},
   "outputs": [],
   "source": [
    "#duration of data gadering\n",
    "iv_period = 180\n",
    "# dayes befor starting the data gadering\n",
    "in_between_period = 30\n",
    "# start and end dates of campaign 6169\n",
    "date_campaign_6169 = datetime.datetime(2018, 9, 4)\n",
    "end_period_6169 = date_campaign_6169 - datetime.timedelta(days = in_between_period)\n",
    "start_period_6169 = end_period_6169 - datetime.timedelta(days = iv_period)\n",
    "# start and end dates of campaign 7244\n",
    "date_campaign_7244 = datetime.datetime(2019, 6, 18)\n",
    "end_period_7244 = date_campaign_7244 - datetime.timedelta(days = in_between_period)\n",
    "start_period_7244 = end_period_7244 - datetime.timedelta(days = iv_period)\n",
    "# start and end dates of campaign 7362\n",
    "date_campaign_7362 = datetime.datetime(2020, 2, 1)\n",
    "end_period_7362 = date_campaign_7362 - datetime.timedelta(days = in_between_period)\n",
    "start_period_7362 = end_period_7362 - datetime.timedelta(days = iv_period)\n"
   ]
  },
  {
   "cell_type": "markdown",
   "metadata": {},
   "source": [
    "## 6169 Base Table"
   ]
  },
  {
   "cell_type": "markdown",
   "metadata": {},
   "source": [
    "# Aggregate Data"
   ]
  },
  {
   "cell_type": "code",
   "execution_count": 10,
   "metadata": {},
   "outputs": [
    {
     "data": {
      "text/html": [
       "<div>\n",
       "<style scoped>\n",
       "    .dataframe tbody tr th:only-of-type {\n",
       "        vertical-align: middle;\n",
       "    }\n",
       "\n",
       "    .dataframe tbody tr th {\n",
       "        vertical-align: top;\n",
       "    }\n",
       "\n",
       "    .dataframe thead th {\n",
       "        text-align: right;\n",
       "    }\n",
       "</style>\n",
       "<table border=\"1\" class=\"dataframe\">\n",
       "  <thead>\n",
       "    <tr style=\"text-align: right;\">\n",
       "      <th></th>\n",
       "      <th>donorID</th>\n",
       "      <th>total_freq_till_now</th>\n",
       "      <th>total_amount_till_now</th>\n",
       "      <th>total_amount_till_last_3_years</th>\n",
       "      <th>total_freq_till_last_3_years</th>\n",
       "    </tr>\n",
       "  </thead>\n",
       "  <tbody>\n",
       "    <tr>\n",
       "      <th>0</th>\n",
       "      <td>100001</td>\n",
       "      <td>12</td>\n",
       "      <td>178.49</td>\n",
       "      <td>0.0</td>\n",
       "      <td>0</td>\n",
       "    </tr>\n",
       "    <tr>\n",
       "      <th>12</th>\n",
       "      <td>100002</td>\n",
       "      <td>1</td>\n",
       "      <td>20.00</td>\n",
       "      <td>0.0</td>\n",
       "      <td>0</td>\n",
       "    </tr>\n",
       "    <tr>\n",
       "      <th>13</th>\n",
       "      <td>100003</td>\n",
       "      <td>3</td>\n",
       "      <td>11.00</td>\n",
       "      <td>11.0</td>\n",
       "      <td>3</td>\n",
       "    </tr>\n",
       "    <tr>\n",
       "      <th>25</th>\n",
       "      <td>100004</td>\n",
       "      <td>26</td>\n",
       "      <td>716.22</td>\n",
       "      <td>0.0</td>\n",
       "      <td>0</td>\n",
       "    </tr>\n",
       "    <tr>\n",
       "      <th>51</th>\n",
       "      <td>100005</td>\n",
       "      <td>3</td>\n",
       "      <td>9.96</td>\n",
       "      <td>5.0</td>\n",
       "      <td>1</td>\n",
       "    </tr>\n",
       "    <tr>\n",
       "      <th>...</th>\n",
       "      <td>...</td>\n",
       "      <td>...</td>\n",
       "      <td>...</td>\n",
       "      <td>...</td>\n",
       "      <td>...</td>\n",
       "    </tr>\n",
       "    <tr>\n",
       "      <th>216566</th>\n",
       "      <td>144687</td>\n",
       "      <td>1</td>\n",
       "      <td>10.00</td>\n",
       "      <td>10.0</td>\n",
       "      <td>1</td>\n",
       "    </tr>\n",
       "    <tr>\n",
       "      <th>216567</th>\n",
       "      <td>144688</td>\n",
       "      <td>7</td>\n",
       "      <td>48.56</td>\n",
       "      <td>15.0</td>\n",
       "      <td>1</td>\n",
       "    </tr>\n",
       "    <tr>\n",
       "      <th>216574</th>\n",
       "      <td>144689</td>\n",
       "      <td>1</td>\n",
       "      <td>24.79</td>\n",
       "      <td>0.0</td>\n",
       "      <td>0</td>\n",
       "    </tr>\n",
       "    <tr>\n",
       "      <th>216578</th>\n",
       "      <td>144690</td>\n",
       "      <td>1</td>\n",
       "      <td>40.00</td>\n",
       "      <td>0.0</td>\n",
       "      <td>0</td>\n",
       "    </tr>\n",
       "    <tr>\n",
       "      <th>216579</th>\n",
       "      <td>144691</td>\n",
       "      <td>1</td>\n",
       "      <td>39.00</td>\n",
       "      <td>39.0</td>\n",
       "      <td>1</td>\n",
       "    </tr>\n",
       "  </tbody>\n",
       "</table>\n",
       "<p>44686 rows × 5 columns</p>\n",
       "</div>"
      ],
      "text/plain": [
       "        donorID  total_freq_till_now  total_amount_till_now  \\\n",
       "0        100001                   12                 178.49   \n",
       "12       100002                    1                  20.00   \n",
       "13       100003                    3                  11.00   \n",
       "25       100004                   26                 716.22   \n",
       "51       100005                    3                   9.96   \n",
       "...         ...                  ...                    ...   \n",
       "216566   144687                    1                  10.00   \n",
       "216567   144688                    7                  48.56   \n",
       "216574   144689                    1                  24.79   \n",
       "216578   144690                    1                  40.00   \n",
       "216579   144691                    1                  39.00   \n",
       "\n",
       "        total_amount_till_last_3_years  total_freq_till_last_3_years  \n",
       "0                                  0.0                             0  \n",
       "12                                 0.0                             0  \n",
       "13                                11.0                             3  \n",
       "25                                 0.0                             0  \n",
       "51                                 5.0                             1  \n",
       "...                                ...                           ...  \n",
       "216566                            10.0                             1  \n",
       "216567                            15.0                             1  \n",
       "216574                             0.0                             0  \n",
       "216578                             0.0                             0  \n",
       "216579                            39.0                             1  \n",
       "\n",
       "[44686 rows x 5 columns]"
      ]
     },
     "execution_count": 10,
     "metadata": {},
     "output_type": "execute_result"
    }
   ],
   "source": [
    "def agg_Till(tr):\n",
    "    \n",
    "    tr['total_freq_till_now'] = tr['amount'].count()\n",
    "    tr['total_amount_till_now'] = tr['amount'].sum()\n",
    "    date=start_period_6169\n",
    "    Last3_years = tr.loc[(tr['date'] > date- datetime.timedelta(days = 3*365))]\n",
    "    tr['total_amount_till_last_3_years'] = Last3_years['amount'].sum()\n",
    "    tr['total_freq_till_last_3_years'] = Last3_years['amount'].count()\n",
    "\n",
    "    tr = tr.drop(['date','amount','Unnamed: 0','campaignID'],axis=1)\n",
    "    return tr\n",
    "\n",
    "gift_till_6169=gifts[gifts['date'] <= start_period_6169]\n",
    "\n",
    "gift_till_6169 = gift_till_6169.groupby(by='donorID').apply(agg_Till)\n",
    "\n",
    "gift_till_6169 = gift_till_6169.drop_duplicates()\n",
    "gift_till_6169"
   ]
  },
  {
   "cell_type": "code",
   "execution_count": 11,
   "metadata": {},
   "outputs": [],
   "source": [
    "def agg_Till(tr):\n",
    "    \n",
    "    tr['total_freq_till_now'] = tr['amount'].count()\n",
    "    tr['total_amount_till_now'] = tr['amount'].sum()\n",
    "    date=start_period_7244\n",
    "    Last3_years = tr.loc[(tr['date'] > date- datetime.timedelta(days = 3*365))]\n",
    "    tr['total_amount_till_last_3_years'] = Last3_years['amount'].sum()\n",
    "    tr['total_freq_till_last_3_years'] = Last3_years['amount'].count()\n",
    "\n",
    "    tr = tr.drop(['date','amount','Unnamed: 0','campaignID'],axis=1)\n",
    "    return tr\n",
    "\n",
    "gift_till_7244=gifts[gifts['date'] <= start_period_7244]\n",
    "\n",
    "gift_till_7244 = gift_till_7244.groupby(by='donorID').apply(agg_Till)\n",
    "\n",
    "gift_till_7244 = gift_till_7244.drop_duplicates()"
   ]
  },
  {
   "cell_type": "code",
   "execution_count": 12,
   "metadata": {},
   "outputs": [],
   "source": [
    "def agg_Till(tr):\n",
    "    \n",
    "    tr['total_freq_till_now'] = tr['amount'].count()\n",
    "    tr['total_amount_till_now'] = tr['amount'].sum()\n",
    "    date=start_period_7362\n",
    "    Last3_years = tr.loc[(tr['date'] > date- datetime.timedelta(days = 3*365))]\n",
    "    tr['total_amount_till_last_3_years'] = Last3_years['amount'].sum()\n",
    "    tr['total_freq_till_last_3_years'] = Last3_years['amount'].count()\n",
    "\n",
    "    tr = tr.drop(['date','amount','Unnamed: 0','campaignID'],axis=1)\n",
    "    return tr\n",
    "\n",
    "gift_till_7362=gifts[gifts['date'] <= start_period_7362]\n",
    "\n",
    "gift_till_7362 = gift_till_7362.groupby(by='donorID').apply(agg_Till)\n",
    "\n",
    "gift_till_7362 = gift_till_7362.drop_duplicates()"
   ]
  },
  {
   "cell_type": "code",
   "execution_count": 13,
   "metadata": {},
   "outputs": [
    {
     "data": {
      "text/html": [
       "<div>\n",
       "<style scoped>\n",
       "    .dataframe tbody tr th:only-of-type {\n",
       "        vertical-align: middle;\n",
       "    }\n",
       "\n",
       "    .dataframe tbody tr th {\n",
       "        vertical-align: top;\n",
       "    }\n",
       "\n",
       "    .dataframe thead th {\n",
       "        text-align: right;\n",
       "    }\n",
       "</style>\n",
       "<table border=\"1\" class=\"dataframe\">\n",
       "  <thead>\n",
       "    <tr style=\"text-align: right;\">\n",
       "      <th></th>\n",
       "      <th>donorID</th>\n",
       "      <th>total_freq_till_now</th>\n",
       "      <th>total_amount_till_now</th>\n",
       "      <th>total_amount_till_last_3_years</th>\n",
       "      <th>total_freq_till_last_3_years</th>\n",
       "    </tr>\n",
       "  </thead>\n",
       "  <tbody>\n",
       "    <tr>\n",
       "      <th>0</th>\n",
       "      <td>100001</td>\n",
       "      <td>12</td>\n",
       "      <td>178.49</td>\n",
       "      <td>0.0</td>\n",
       "      <td>0</td>\n",
       "    </tr>\n",
       "    <tr>\n",
       "      <th>12</th>\n",
       "      <td>100002</td>\n",
       "      <td>1</td>\n",
       "      <td>20.00</td>\n",
       "      <td>0.0</td>\n",
       "      <td>0</td>\n",
       "    </tr>\n",
       "    <tr>\n",
       "      <th>13</th>\n",
       "      <td>100003</td>\n",
       "      <td>12</td>\n",
       "      <td>46.00</td>\n",
       "      <td>46.0</td>\n",
       "      <td>12</td>\n",
       "    </tr>\n",
       "    <tr>\n",
       "      <th>25</th>\n",
       "      <td>100004</td>\n",
       "      <td>26</td>\n",
       "      <td>716.22</td>\n",
       "      <td>0.0</td>\n",
       "      <td>0</td>\n",
       "    </tr>\n",
       "    <tr>\n",
       "      <th>51</th>\n",
       "      <td>100005</td>\n",
       "      <td>5</td>\n",
       "      <td>24.96</td>\n",
       "      <td>20.0</td>\n",
       "      <td>3</td>\n",
       "    </tr>\n",
       "    <tr>\n",
       "      <th>...</th>\n",
       "      <td>...</td>\n",
       "      <td>...</td>\n",
       "      <td>...</td>\n",
       "      <td>...</td>\n",
       "      <td>...</td>\n",
       "    </tr>\n",
       "    <tr>\n",
       "      <th>216589</th>\n",
       "      <td>265584</td>\n",
       "      <td>1</td>\n",
       "      <td>300.00</td>\n",
       "      <td>300.0</td>\n",
       "      <td>1</td>\n",
       "    </tr>\n",
       "    <tr>\n",
       "      <th>216590</th>\n",
       "      <td>281770</td>\n",
       "      <td>1</td>\n",
       "      <td>30.00</td>\n",
       "      <td>30.0</td>\n",
       "      <td>1</td>\n",
       "    </tr>\n",
       "    <tr>\n",
       "      <th>216591</th>\n",
       "      <td>317880</td>\n",
       "      <td>1</td>\n",
       "      <td>157.50</td>\n",
       "      <td>157.5</td>\n",
       "      <td>1</td>\n",
       "    </tr>\n",
       "    <tr>\n",
       "      <th>216592</th>\n",
       "      <td>480980</td>\n",
       "      <td>1</td>\n",
       "      <td>36.00</td>\n",
       "      <td>36.0</td>\n",
       "      <td>1</td>\n",
       "    </tr>\n",
       "    <tr>\n",
       "      <th>216593</th>\n",
       "      <td>1474536</td>\n",
       "      <td>1</td>\n",
       "      <td>183.00</td>\n",
       "      <td>183.0</td>\n",
       "      <td>1</td>\n",
       "    </tr>\n",
       "  </tbody>\n",
       "</table>\n",
       "<p>44700 rows × 5 columns</p>\n",
       "</div>"
      ],
      "text/plain": [
       "        donorID  total_freq_till_now  total_amount_till_now  \\\n",
       "0        100001                   12                 178.49   \n",
       "12       100002                    1                  20.00   \n",
       "13       100003                   12                  46.00   \n",
       "25       100004                   26                 716.22   \n",
       "51       100005                    5                  24.96   \n",
       "...         ...                  ...                    ...   \n",
       "216589   265584                    1                 300.00   \n",
       "216590   281770                    1                  30.00   \n",
       "216591   317880                    1                 157.50   \n",
       "216592   480980                    1                  36.00   \n",
       "216593  1474536                    1                 183.00   \n",
       "\n",
       "        total_amount_till_last_3_years  total_freq_till_last_3_years  \n",
       "0                                  0.0                             0  \n",
       "12                                 0.0                             0  \n",
       "13                                46.0                            12  \n",
       "25                                 0.0                             0  \n",
       "51                                20.0                             3  \n",
       "...                                ...                           ...  \n",
       "216589                           300.0                             1  \n",
       "216590                            30.0                             1  \n",
       "216591                           157.5                             1  \n",
       "216592                            36.0                             1  \n",
       "216593                           183.0                             1  \n",
       "\n",
       "[44700 rows x 5 columns]"
      ]
     },
     "execution_count": 13,
     "metadata": {},
     "output_type": "execute_result"
    }
   ],
   "source": [
    "gift_till_7362"
   ]
  },
  {
   "cell_type": "code",
   "execution_count": 14,
   "metadata": {},
   "outputs": [],
   "source": [
    "#\n",
    "def agg_B(tr):\n",
    "    tr['last_date_dono'] = tr['date'].max()\n",
    "    tr['frequency_donor'] = tr['amount'].count()\n",
    "    tr['total_donated'] = tr['amount'].sum()\n",
    "    c_5434 = tr.loc[(tr['campaignID'] == 5434)]\n",
    "    tr['C1'] = c_5434['amount'].sum()\n",
    "\n",
    "    c_5397 = tr.loc[(tr['campaignID'] == 5397)]\n",
    "    tr['C2'] = c_5397['amount'].sum()\n",
    "\n",
    "    c_5359 = tr.loc[(tr['campaignID'] == 5359)]\n",
    "    tr['C3'] = c_5359['amount'].sum()\n",
    "\n",
    "    c_5326 = tr.loc[(tr['campaignID'] == 5326)]\n",
    "    tr['C4'] = c_5326['amount'].sum()\n",
    "\n",
    "    c_5316 = tr.loc[(tr['campaignID'] == 5316)]\n",
    "    tr['C5'] = c_5316['amount'].sum()\n",
    "\n",
    "    c_5296 = tr.loc[(tr['campaignID'] == 5296)]\n",
    "    tr['C6'] = c_5296['amount'].sum()\n",
    "\n",
    "    c_5270 = tr.loc[(tr['campaignID'] == 5270)]\n",
    "    tr['C7'] = c_5270['amount'].sum()\n",
    "\n",
    "    c_5267 = tr.loc[(tr['campaignID'] == 5267)]\n",
    "    tr['C8'] = c_5267['amount'].sum()\n",
    "\n",
    "    c_5232 = tr.loc[(tr['campaignID'] == 5232)]\n",
    "    tr['C9'] = c_5232['amount'].sum()\n",
    "\n",
    "    c_5213 = tr.loc[(tr['campaignID'] == 5213)]\n",
    "    tr['C10'] = c_5213['amount'].sum()\n",
    "\n",
    "    c_5186 = tr.loc[(tr['campaignID'] == 5186)]\n",
    "    tr['C11'] = c_5186['amount'].sum()\n",
    "\n",
    "    c_5175 = tr.loc[(tr['campaignID'] == 5175)]\n",
    "    tr['C12'] = c_5175['amount'].sum()\n",
    "\n",
    "    c_5104 = tr.loc[(tr['campaignID'] == 5104)]\n",
    "    tr['C13'] = c_5104['amount'].sum()\n",
    "    date=start_period_6169\n",
    "    month_1= tr.loc[(tr['date'] > date- datetime.timedelta(days = 30))]\n",
    "    tr['total_amount_1_month'] = month_1['amount'].sum()\n",
    "    tr['total_freq_1_month'] = month_1['amount'].count()\n",
    "    month_2= tr.loc[(tr['date'] > date- datetime.timedelta(days = 2*30))&\n",
    "                     (tr['date'] <= date- datetime.timedelta(days = 30))]\n",
    "    tr['total_amount_2_month'] = month_2['amount'].sum()\n",
    "    tr['total_freq_2_month'] = month_2['amount'].count()\n",
    "    month_3= tr.loc[(tr['date'] > date- datetime.timedelta(days = 3*30))&\n",
    "                     (tr['date'] <= date- datetime.timedelta(days = 2*30))]\n",
    "    tr['total_amount_3_month'] = month_3['amount'].sum()\n",
    "    tr['total_freq_3_month'] = month_3['amount'].count()\n",
    "    month_4= tr.loc[(tr['date'] > date- datetime.timedelta(days = 4*30))&\n",
    "                     (tr['date'] <= date- datetime.timedelta(days = 3*30))]\n",
    "    tr['total_amount_4_month'] = month_4['amount'].sum()\n",
    "    tr['total_freq_4_month'] = month_4['amount'].count()\n",
    "    month_5= tr.loc[(tr['date'] > date- datetime.timedelta(days = 5*30))&\n",
    "                     (tr['date'] <= date- datetime.timedelta(days = 4*30))]\n",
    "    tr['total_amount_5_month'] = month_5['amount'].sum()\n",
    "    tr['total_freq_5_month'] = month_5['amount'].count()\n",
    "    month_6= tr.loc[(tr['date'] > date- datetime.timedelta(days = 6*30))&\n",
    "                     (tr['date'] <= date- datetime.timedelta(days = 5*30))]\n",
    "    tr['total_amount_6_month'] = month_6['amount'].sum()\n",
    "    tr['total_freq_6_month'] = month_6['amount'].count()\n",
    "    \n",
    "    tr = tr.drop(['date','amount','Unnamed: 0'],axis=1)\n",
    "    return tr"
   ]
  },
  {
   "cell_type": "code",
   "execution_count": 15,
   "metadata": {},
   "outputs": [
    {
     "data": {
      "text/html": [
       "<div>\n",
       "<style scoped>\n",
       "    .dataframe tbody tr th:only-of-type {\n",
       "        vertical-align: middle;\n",
       "    }\n",
       "\n",
       "    .dataframe tbody tr th {\n",
       "        vertical-align: top;\n",
       "    }\n",
       "\n",
       "    .dataframe thead th {\n",
       "        text-align: right;\n",
       "    }\n",
       "</style>\n",
       "<table border=\"1\" class=\"dataframe\">\n",
       "  <thead>\n",
       "    <tr style=\"text-align: right;\">\n",
       "      <th></th>\n",
       "      <th>donorID</th>\n",
       "      <th>campaignID</th>\n",
       "      <th>frequency_donor</th>\n",
       "      <th>total_donated</th>\n",
       "      <th>C1</th>\n",
       "      <th>C2</th>\n",
       "      <th>C3</th>\n",
       "      <th>C4</th>\n",
       "      <th>C5</th>\n",
       "      <th>C6</th>\n",
       "      <th>...</th>\n",
       "      <th>region_Missing</th>\n",
       "      <th>region_Wallonia</th>\n",
       "      <th>language_FR</th>\n",
       "      <th>language_NL</th>\n",
       "      <th>total_freq_till_now</th>\n",
       "      <th>total_amount_till_now</th>\n",
       "      <th>total_amount_till_last_3_years</th>\n",
       "      <th>total_freq_till_last_3_years</th>\n",
       "      <th>donated_more_than30_duringdv</th>\n",
       "      <th>Age</th>\n",
       "    </tr>\n",
       "  </thead>\n",
       "  <tbody>\n",
       "    <tr>\n",
       "      <th>0</th>\n",
       "      <td>100001</td>\n",
       "      <td>NaN</td>\n",
       "      <td>NaN</td>\n",
       "      <td>NaN</td>\n",
       "      <td>NaN</td>\n",
       "      <td>NaN</td>\n",
       "      <td>NaN</td>\n",
       "      <td>NaN</td>\n",
       "      <td>NaN</td>\n",
       "      <td>NaN</td>\n",
       "      <td>...</td>\n",
       "      <td>0.0</td>\n",
       "      <td>0.0</td>\n",
       "      <td>0.0</td>\n",
       "      <td>1.0</td>\n",
       "      <td>12.0</td>\n",
       "      <td>178.49</td>\n",
       "      <td>0.0</td>\n",
       "      <td>0.0</td>\n",
       "      <td>0</td>\n",
       "      <td>50.0</td>\n",
       "    </tr>\n",
       "    <tr>\n",
       "      <th>1</th>\n",
       "      <td>100002</td>\n",
       "      <td>NaN</td>\n",
       "      <td>NaN</td>\n",
       "      <td>NaN</td>\n",
       "      <td>NaN</td>\n",
       "      <td>NaN</td>\n",
       "      <td>NaN</td>\n",
       "      <td>NaN</td>\n",
       "      <td>NaN</td>\n",
       "      <td>NaN</td>\n",
       "      <td>...</td>\n",
       "      <td>0.0</td>\n",
       "      <td>0.0</td>\n",
       "      <td>0.0</td>\n",
       "      <td>1.0</td>\n",
       "      <td>1.0</td>\n",
       "      <td>20.00</td>\n",
       "      <td>0.0</td>\n",
       "      <td>0.0</td>\n",
       "      <td>0</td>\n",
       "      <td>66.0</td>\n",
       "    </tr>\n",
       "    <tr>\n",
       "      <th>2</th>\n",
       "      <td>100004</td>\n",
       "      <td>NaN</td>\n",
       "      <td>NaN</td>\n",
       "      <td>NaN</td>\n",
       "      <td>NaN</td>\n",
       "      <td>NaN</td>\n",
       "      <td>NaN</td>\n",
       "      <td>NaN</td>\n",
       "      <td>NaN</td>\n",
       "      <td>NaN</td>\n",
       "      <td>...</td>\n",
       "      <td>0.0</td>\n",
       "      <td>0.0</td>\n",
       "      <td>1.0</td>\n",
       "      <td>0.0</td>\n",
       "      <td>26.0</td>\n",
       "      <td>716.22</td>\n",
       "      <td>0.0</td>\n",
       "      <td>0.0</td>\n",
       "      <td>0</td>\n",
       "      <td>66.0</td>\n",
       "    </tr>\n",
       "    <tr>\n",
       "      <th>3</th>\n",
       "      <td>100008</td>\n",
       "      <td>NaN</td>\n",
       "      <td>NaN</td>\n",
       "      <td>NaN</td>\n",
       "      <td>NaN</td>\n",
       "      <td>NaN</td>\n",
       "      <td>NaN</td>\n",
       "      <td>NaN</td>\n",
       "      <td>NaN</td>\n",
       "      <td>NaN</td>\n",
       "      <td>...</td>\n",
       "      <td>0.0</td>\n",
       "      <td>0.0</td>\n",
       "      <td>1.0</td>\n",
       "      <td>0.0</td>\n",
       "      <td>3.0</td>\n",
       "      <td>124.37</td>\n",
       "      <td>0.0</td>\n",
       "      <td>0.0</td>\n",
       "      <td>0</td>\n",
       "      <td>81.0</td>\n",
       "    </tr>\n",
       "    <tr>\n",
       "      <th>4</th>\n",
       "      <td>100009</td>\n",
       "      <td>NaN</td>\n",
       "      <td>NaN</td>\n",
       "      <td>NaN</td>\n",
       "      <td>NaN</td>\n",
       "      <td>NaN</td>\n",
       "      <td>NaN</td>\n",
       "      <td>NaN</td>\n",
       "      <td>NaN</td>\n",
       "      <td>NaN</td>\n",
       "      <td>...</td>\n",
       "      <td>0.0</td>\n",
       "      <td>0.0</td>\n",
       "      <td>1.0</td>\n",
       "      <td>0.0</td>\n",
       "      <td>19.0</td>\n",
       "      <td>326.78</td>\n",
       "      <td>0.0</td>\n",
       "      <td>0.0</td>\n",
       "      <td>0</td>\n",
       "      <td>86.0</td>\n",
       "    </tr>\n",
       "  </tbody>\n",
       "</table>\n",
       "<p>5 rows × 54 columns</p>\n",
       "</div>"
      ],
      "text/plain": [
       "   donorID  campaignID  frequency_donor  total_donated  C1  C2  C3  C4  C5  \\\n",
       "0   100001         NaN              NaN            NaN NaN NaN NaN NaN NaN   \n",
       "1   100002         NaN              NaN            NaN NaN NaN NaN NaN NaN   \n",
       "2   100004         NaN              NaN            NaN NaN NaN NaN NaN NaN   \n",
       "3   100008         NaN              NaN            NaN NaN NaN NaN NaN NaN   \n",
       "4   100009         NaN              NaN            NaN NaN NaN NaN NaN NaN   \n",
       "\n",
       "   C6  ...  region_Missing  region_Wallonia  language_FR  language_NL  \\\n",
       "0 NaN  ...             0.0              0.0          0.0          1.0   \n",
       "1 NaN  ...             0.0              0.0          0.0          1.0   \n",
       "2 NaN  ...             0.0              0.0          1.0          0.0   \n",
       "3 NaN  ...             0.0              0.0          1.0          0.0   \n",
       "4 NaN  ...             0.0              0.0          1.0          0.0   \n",
       "\n",
       "   total_freq_till_now  total_amount_till_now  total_amount_till_last_3_years  \\\n",
       "0                 12.0                 178.49                             0.0   \n",
       "1                  1.0                  20.00                             0.0   \n",
       "2                 26.0                 716.22                             0.0   \n",
       "3                  3.0                 124.37                             0.0   \n",
       "4                 19.0                 326.78                             0.0   \n",
       "\n",
       "   total_freq_till_last_3_years  donated_more_than30_duringdv   Age  \n",
       "0                           0.0                             0  50.0  \n",
       "1                           0.0                             0  66.0  \n",
       "2                           0.0                             0  66.0  \n",
       "3                           0.0                             0  81.0  \n",
       "4                           0.0                             0  86.0  \n",
       "\n",
       "[5 rows x 54 columns]"
      ]
     },
     "execution_count": 15,
     "metadata": {},
     "output_type": "execute_result"
    }
   ],
   "source": [
    "#\n",
    "gift_base_6169 = gifts[(gifts['date'] >= start_period_6169) &  (gifts['date'] <= end_period_6169)]\n",
    "#\n",
    "gift_base_6169 = gift_base_6169.groupby(by='donorID').apply(agg_B)\n",
    "# remove duplicate rows\n",
    "gift_base_6169 = gift_base_6169.drop_duplicates(subset=['donorID'])\n",
    "#\n",
    "gift_base_6169['Recency_dono'] = end_period_6169 - gift_base_6169['last_date_dono']\n",
    "#\n",
    "gift_base_6169['Recency_dono'] = gift_base_6169['Recency_dono'].dt.days\n",
    "#\n",
    "gift_base_6169=gift_base_6169.drop(['last_date_dono'],axis=1)\n",
    "# Build Base Table Based On the 6169 Campaign Data\n",
    "gift_base_6169 = pd.merge(selection_6169,gift_base_6169, how='left', on='donorID')\n",
    "# Merge with dv table\n",
    "gift_base_6169 = pd.merge(gift_base_6169, gift_6169, how='left', on='donorID')\n",
    "# Merge with donor database\n",
    "gift_base_6169 = pd.merge(gift_base_6169, donors, how='left', on='donorID')\n",
    "#_______Hadi added this merge_ U can check it guys :)\n",
    "gift_base_6169 = pd.merge(gift_base_6169, gift_till_6169, how='left', on='donorID')\n",
    "#________________________________________\n",
    "# Target Variable\n",
    "gift_base_6169['donated_more_than30_duringdv'] = gift_base_6169['total_donated_during_dv'].apply(\n",
    "                                                                lambda row: 1 if row >= 30 else 0)\n",
    "#\n",
    "gift_base_6169['Age'] = gift_base_6169['dateOfBirth'].apply(lambda row:\n",
    "                 date_campaign_6169.year - row.year -((date_campaign_6169.month, date_campaign_6169.day) < (row.month, row.day) ))\n",
    "#\n",
    "gift_base_6169=gift_base_6169.drop(['Unnamed: 0','total_donated_during_dv','dateOfBirth'],axis=1)\n",
    "gift_base_6169.head()"
   ]
  },
  {
   "cell_type": "code",
   "execution_count": 16,
   "metadata": {},
   "outputs": [
    {
     "data": {
      "text/html": [
       "<div>\n",
       "<style scoped>\n",
       "    .dataframe tbody tr th:only-of-type {\n",
       "        vertical-align: middle;\n",
       "    }\n",
       "\n",
       "    .dataframe tbody tr th {\n",
       "        vertical-align: top;\n",
       "    }\n",
       "\n",
       "    .dataframe thead th {\n",
       "        text-align: right;\n",
       "    }\n",
       "</style>\n",
       "<table border=\"1\" class=\"dataframe\">\n",
       "  <thead>\n",
       "    <tr style=\"text-align: right;\">\n",
       "      <th></th>\n",
       "      <th>donorID</th>\n",
       "      <th>campaignID</th>\n",
       "      <th>frequency_donor</th>\n",
       "      <th>total_donated</th>\n",
       "      <th>C1</th>\n",
       "      <th>C2</th>\n",
       "      <th>C3</th>\n",
       "      <th>C4</th>\n",
       "      <th>C5</th>\n",
       "      <th>C6</th>\n",
       "      <th>...</th>\n",
       "      <th>region_Missing</th>\n",
       "      <th>region_Wallonia</th>\n",
       "      <th>language_FR</th>\n",
       "      <th>language_NL</th>\n",
       "      <th>total_freq_till_now</th>\n",
       "      <th>total_amount_till_now</th>\n",
       "      <th>total_amount_till_last_3_years</th>\n",
       "      <th>total_freq_till_last_3_years</th>\n",
       "      <th>donated_more_than30_duringdv</th>\n",
       "      <th>Age</th>\n",
       "    </tr>\n",
       "  </thead>\n",
       "  <tbody>\n",
       "    <tr>\n",
       "      <th>0</th>\n",
       "      <td>100001</td>\n",
       "      <td>NaN</td>\n",
       "      <td>0.0</td>\n",
       "      <td>0.0</td>\n",
       "      <td>NaN</td>\n",
       "      <td>NaN</td>\n",
       "      <td>NaN</td>\n",
       "      <td>NaN</td>\n",
       "      <td>NaN</td>\n",
       "      <td>NaN</td>\n",
       "      <td>...</td>\n",
       "      <td>0.0</td>\n",
       "      <td>0.0</td>\n",
       "      <td>0.0</td>\n",
       "      <td>1.0</td>\n",
       "      <td>12.0</td>\n",
       "      <td>178.49</td>\n",
       "      <td>0.0</td>\n",
       "      <td>0.0</td>\n",
       "      <td>0</td>\n",
       "      <td>50.0</td>\n",
       "    </tr>\n",
       "    <tr>\n",
       "      <th>1</th>\n",
       "      <td>100002</td>\n",
       "      <td>NaN</td>\n",
       "      <td>0.0</td>\n",
       "      <td>0.0</td>\n",
       "      <td>NaN</td>\n",
       "      <td>NaN</td>\n",
       "      <td>NaN</td>\n",
       "      <td>NaN</td>\n",
       "      <td>NaN</td>\n",
       "      <td>NaN</td>\n",
       "      <td>...</td>\n",
       "      <td>0.0</td>\n",
       "      <td>0.0</td>\n",
       "      <td>0.0</td>\n",
       "      <td>1.0</td>\n",
       "      <td>1.0</td>\n",
       "      <td>20.00</td>\n",
       "      <td>0.0</td>\n",
       "      <td>0.0</td>\n",
       "      <td>0</td>\n",
       "      <td>66.0</td>\n",
       "    </tr>\n",
       "    <tr>\n",
       "      <th>2</th>\n",
       "      <td>100004</td>\n",
       "      <td>NaN</td>\n",
       "      <td>0.0</td>\n",
       "      <td>0.0</td>\n",
       "      <td>NaN</td>\n",
       "      <td>NaN</td>\n",
       "      <td>NaN</td>\n",
       "      <td>NaN</td>\n",
       "      <td>NaN</td>\n",
       "      <td>NaN</td>\n",
       "      <td>...</td>\n",
       "      <td>0.0</td>\n",
       "      <td>0.0</td>\n",
       "      <td>1.0</td>\n",
       "      <td>0.0</td>\n",
       "      <td>26.0</td>\n",
       "      <td>716.22</td>\n",
       "      <td>0.0</td>\n",
       "      <td>0.0</td>\n",
       "      <td>0</td>\n",
       "      <td>66.0</td>\n",
       "    </tr>\n",
       "    <tr>\n",
       "      <th>3</th>\n",
       "      <td>100008</td>\n",
       "      <td>NaN</td>\n",
       "      <td>0.0</td>\n",
       "      <td>0.0</td>\n",
       "      <td>NaN</td>\n",
       "      <td>NaN</td>\n",
       "      <td>NaN</td>\n",
       "      <td>NaN</td>\n",
       "      <td>NaN</td>\n",
       "      <td>NaN</td>\n",
       "      <td>...</td>\n",
       "      <td>0.0</td>\n",
       "      <td>0.0</td>\n",
       "      <td>1.0</td>\n",
       "      <td>0.0</td>\n",
       "      <td>3.0</td>\n",
       "      <td>124.37</td>\n",
       "      <td>0.0</td>\n",
       "      <td>0.0</td>\n",
       "      <td>0</td>\n",
       "      <td>81.0</td>\n",
       "    </tr>\n",
       "    <tr>\n",
       "      <th>4</th>\n",
       "      <td>100009</td>\n",
       "      <td>NaN</td>\n",
       "      <td>0.0</td>\n",
       "      <td>0.0</td>\n",
       "      <td>NaN</td>\n",
       "      <td>NaN</td>\n",
       "      <td>NaN</td>\n",
       "      <td>NaN</td>\n",
       "      <td>NaN</td>\n",
       "      <td>NaN</td>\n",
       "      <td>...</td>\n",
       "      <td>0.0</td>\n",
       "      <td>0.0</td>\n",
       "      <td>1.0</td>\n",
       "      <td>0.0</td>\n",
       "      <td>19.0</td>\n",
       "      <td>326.78</td>\n",
       "      <td>0.0</td>\n",
       "      <td>0.0</td>\n",
       "      <td>0</td>\n",
       "      <td>86.0</td>\n",
       "    </tr>\n",
       "  </tbody>\n",
       "</table>\n",
       "<p>5 rows × 54 columns</p>\n",
       "</div>"
      ],
      "text/plain": [
       "   donorID  campaignID  frequency_donor  total_donated  C1  C2  C3  C4  C5  \\\n",
       "0   100001         NaN              0.0            0.0 NaN NaN NaN NaN NaN   \n",
       "1   100002         NaN              0.0            0.0 NaN NaN NaN NaN NaN   \n",
       "2   100004         NaN              0.0            0.0 NaN NaN NaN NaN NaN   \n",
       "3   100008         NaN              0.0            0.0 NaN NaN NaN NaN NaN   \n",
       "4   100009         NaN              0.0            0.0 NaN NaN NaN NaN NaN   \n",
       "\n",
       "   C6  ...  region_Missing  region_Wallonia  language_FR  language_NL  \\\n",
       "0 NaN  ...             0.0              0.0          0.0          1.0   \n",
       "1 NaN  ...             0.0              0.0          0.0          1.0   \n",
       "2 NaN  ...             0.0              0.0          1.0          0.0   \n",
       "3 NaN  ...             0.0              0.0          1.0          0.0   \n",
       "4 NaN  ...             0.0              0.0          1.0          0.0   \n",
       "\n",
       "   total_freq_till_now  total_amount_till_now  total_amount_till_last_3_years  \\\n",
       "0                 12.0                 178.49                             0.0   \n",
       "1                  1.0                  20.00                             0.0   \n",
       "2                 26.0                 716.22                             0.0   \n",
       "3                  3.0                 124.37                             0.0   \n",
       "4                 19.0                 326.78                             0.0   \n",
       "\n",
       "   total_freq_till_last_3_years  donated_more_than30_duringdv   Age  \n",
       "0                           0.0                             0  50.0  \n",
       "1                           0.0                             0  66.0  \n",
       "2                           0.0                             0  66.0  \n",
       "3                           0.0                             0  81.0  \n",
       "4                           0.0                             0  86.0  \n",
       "\n",
       "[5 rows x 54 columns]"
      ]
     },
     "execution_count": 16,
     "metadata": {},
     "output_type": "execute_result"
    }
   ],
   "source": [
    "#filling nans\n",
    "gift_base_6169['total_donated'] = gift_base_6169['total_donated'].fillna(0)#gift_base_6169['total_donated'].mean())\n",
    "gift_base_6169['Recency_dono'] = gift_base_6169['Recency_dono'].fillna(0)#gift_base_6169['Recency_dono'].mean())\n",
    "gift_base_6169['frequency_donor'] = gift_base_6169['frequency_donor'].fillna(0)#gift_base_6169['frequency_donor'].median())\n",
    "#save base tabel 6169 \n",
    "gift_base_6169.to_csv('./data/gift_base_6169.csv')\n",
    "#showing Data\n",
    "gift_base_6169.head()"
   ]
  },
  {
   "cell_type": "code",
   "execution_count": 17,
   "metadata": {},
   "outputs": [],
   "source": [
    "#\n",
    "def agg_B(tr):\n",
    "    tr['last_date_dono'] = tr['date'].max()\n",
    "    tr['frequency_donor'] = tr['amount'].count()\n",
    "    tr['total_donated'] = tr['amount'].sum()\n",
    "    c_7229 = tr.loc[(tr['campaignID'] == 7229)]\n",
    "    tr['C1'] = c_7229['amount'].sum()\n",
    "\n",
    "    c_7212 = tr.loc[(tr['campaignID'] == 7212)]\n",
    "    tr['C2'] = c_7212['amount'].sum()\n",
    "\n",
    "    c_7199 = tr.loc[(tr['campaignID'] == 7199)]\n",
    "    tr['C3'] = c_7199['amount'].sum()\n",
    "\n",
    "    c_7108 = tr.loc[(tr['campaignID'] == 7108)]\n",
    "    tr['C4'] = c_7108['amount'].sum()\n",
    "\n",
    "    c_7090 = tr.loc[(tr['campaignID'] == 7090)]\n",
    "    tr['C5'] = c_7090['amount'].sum()\n",
    "\n",
    "    c_7074 = tr.loc[(tr['campaignID'] == 7074)]\n",
    "    tr['C6'] = c_7074['amount'].sum()\n",
    "\n",
    "    c_7064 = tr.loc[(tr['campaignID'] == 7064)]\n",
    "    tr['C7'] = c_7064['amount'].sum()\n",
    "\n",
    "    c_7059 = tr.loc[(tr['campaignID'] == 7059)]\n",
    "    tr['C8'] = c_7059['amount'].sum()\n",
    "\n",
    "    c_7037 = tr.loc[(tr['campaignID'] == 7037)]\n",
    "    tr['C9'] = c_7037['amount'].sum()\n",
    "\n",
    "    c_7005 = tr.loc[(tr['campaignID'] == 7005)]\n",
    "    tr['C10'] = c_7005['amount'].sum()\n",
    "\n",
    "    c_7002 = tr.loc[(tr['campaignID'] == 7002)]\n",
    "    tr['C11'] = c_7002['amount'].sum()\n",
    "\n",
    "    c_6959 = tr.loc[(tr['campaignID'] == 6959)]\n",
    "    tr['C12'] = c_6959['amount'].sum()\n",
    "\n",
    "    c_6958 = tr.loc[(tr['campaignID'] == 6958)]\n",
    "    tr['C13'] = c_6958['amount'].sum()\n",
    "\n",
    "    date=start_period_7244\n",
    "    month_1= tr.loc[(tr['date'] > date- datetime.timedelta(days = 30))]\n",
    "    tr['total_amount_1_month'] = month_1['amount'].sum()\n",
    "    tr['total_freq_1_month'] = month_1['amount'].count()\n",
    "    month_2= tr.loc[(tr['date'] > date- datetime.timedelta(days = 2*30))&\n",
    "                     (tr['date'] <= date- datetime.timedelta(days = 30))]\n",
    "    tr['total_amount_2_month'] = month_2['amount'].sum()\n",
    "    tr['total_freq_2_month'] = month_2['amount'].count()\n",
    "    month_3= tr.loc[(tr['date'] > date- datetime.timedelta(days = 3*30))&\n",
    "                     (tr['date'] <= date- datetime.timedelta(days = 2*30))]\n",
    "    tr['total_amount_3_month'] = month_3['amount'].sum()\n",
    "    tr['total_freq_3_month'] = month_3['amount'].count()\n",
    "    month_4= tr.loc[(tr['date'] > date- datetime.timedelta(days = 4*30))&\n",
    "                     (tr['date'] <= date- datetime.timedelta(days = 3*30))]\n",
    "    tr['total_amount_4_month'] = month_4['amount'].sum()\n",
    "    tr['total_freq_4_month'] = month_4['amount'].count()\n",
    "    month_5= tr.loc[(tr['date'] > date- datetime.timedelta(days = 5*30))&\n",
    "                     (tr['date'] <= date- datetime.timedelta(days = 4*30))]\n",
    "    tr['total_amount_5_month'] = month_5['amount'].sum()\n",
    "    tr['total_freq_5_month'] = month_5['amount'].count()\n",
    "    month_6= tr.loc[(tr['date'] > date- datetime.timedelta(days = 6*30))&\n",
    "                     (tr['date'] <= date- datetime.timedelta(days = 5*30))]\n",
    "    tr['total_amount_6_month'] = month_6['amount'].sum()\n",
    "    tr['total_freq_6_month'] = month_6['amount'].count()\n",
    "    \n",
    "    tr = tr.drop(['date','amount','Unnamed: 0'],axis=1)\n",
    "    return tr"
   ]
  },
  {
   "cell_type": "code",
   "execution_count": 18,
   "metadata": {},
   "outputs": [
    {
     "data": {
      "text/html": [
       "<div>\n",
       "<style scoped>\n",
       "    .dataframe tbody tr th:only-of-type {\n",
       "        vertical-align: middle;\n",
       "    }\n",
       "\n",
       "    .dataframe tbody tr th {\n",
       "        vertical-align: top;\n",
       "    }\n",
       "\n",
       "    .dataframe thead th {\n",
       "        text-align: right;\n",
       "    }\n",
       "</style>\n",
       "<table border=\"1\" class=\"dataframe\">\n",
       "  <thead>\n",
       "    <tr style=\"text-align: right;\">\n",
       "      <th></th>\n",
       "      <th>donorID</th>\n",
       "      <th>campaignID</th>\n",
       "      <th>frequency_donor</th>\n",
       "      <th>total_donated</th>\n",
       "      <th>C1</th>\n",
       "      <th>C2</th>\n",
       "      <th>C3</th>\n",
       "      <th>C4</th>\n",
       "      <th>C5</th>\n",
       "      <th>C6</th>\n",
       "      <th>...</th>\n",
       "      <th>region_Missing</th>\n",
       "      <th>region_Wallonia</th>\n",
       "      <th>language_FR</th>\n",
       "      <th>language_NL</th>\n",
       "      <th>total_freq_till_now</th>\n",
       "      <th>total_amount_till_now</th>\n",
       "      <th>total_amount_till_last_3_years</th>\n",
       "      <th>total_freq_till_last_3_years</th>\n",
       "      <th>donated_more_than30_duringdv</th>\n",
       "      <th>Age</th>\n",
       "    </tr>\n",
       "  </thead>\n",
       "  <tbody>\n",
       "    <tr>\n",
       "      <th>0</th>\n",
       "      <td>100001</td>\n",
       "      <td>NaN</td>\n",
       "      <td>0.0</td>\n",
       "      <td>0.0</td>\n",
       "      <td>NaN</td>\n",
       "      <td>NaN</td>\n",
       "      <td>NaN</td>\n",
       "      <td>NaN</td>\n",
       "      <td>NaN</td>\n",
       "      <td>NaN</td>\n",
       "      <td>...</td>\n",
       "      <td>0</td>\n",
       "      <td>0</td>\n",
       "      <td>0</td>\n",
       "      <td>1</td>\n",
       "      <td>12.0</td>\n",
       "      <td>178.49</td>\n",
       "      <td>0.0</td>\n",
       "      <td>0.0</td>\n",
       "      <td>0</td>\n",
       "      <td>51</td>\n",
       "    </tr>\n",
       "    <tr>\n",
       "      <th>1</th>\n",
       "      <td>100002</td>\n",
       "      <td>NaN</td>\n",
       "      <td>0.0</td>\n",
       "      <td>0.0</td>\n",
       "      <td>NaN</td>\n",
       "      <td>NaN</td>\n",
       "      <td>NaN</td>\n",
       "      <td>NaN</td>\n",
       "      <td>NaN</td>\n",
       "      <td>NaN</td>\n",
       "      <td>...</td>\n",
       "      <td>0</td>\n",
       "      <td>0</td>\n",
       "      <td>0</td>\n",
       "      <td>1</td>\n",
       "      <td>1.0</td>\n",
       "      <td>20.00</td>\n",
       "      <td>0.0</td>\n",
       "      <td>0.0</td>\n",
       "      <td>0</td>\n",
       "      <td>67</td>\n",
       "    </tr>\n",
       "    <tr>\n",
       "      <th>2</th>\n",
       "      <td>100008</td>\n",
       "      <td>NaN</td>\n",
       "      <td>0.0</td>\n",
       "      <td>0.0</td>\n",
       "      <td>NaN</td>\n",
       "      <td>NaN</td>\n",
       "      <td>NaN</td>\n",
       "      <td>NaN</td>\n",
       "      <td>NaN</td>\n",
       "      <td>NaN</td>\n",
       "      <td>...</td>\n",
       "      <td>0</td>\n",
       "      <td>0</td>\n",
       "      <td>1</td>\n",
       "      <td>0</td>\n",
       "      <td>3.0</td>\n",
       "      <td>124.37</td>\n",
       "      <td>0.0</td>\n",
       "      <td>0.0</td>\n",
       "      <td>0</td>\n",
       "      <td>81</td>\n",
       "    </tr>\n",
       "    <tr>\n",
       "      <th>3</th>\n",
       "      <td>100009</td>\n",
       "      <td>NaN</td>\n",
       "      <td>0.0</td>\n",
       "      <td>0.0</td>\n",
       "      <td>NaN</td>\n",
       "      <td>NaN</td>\n",
       "      <td>NaN</td>\n",
       "      <td>NaN</td>\n",
       "      <td>NaN</td>\n",
       "      <td>NaN</td>\n",
       "      <td>...</td>\n",
       "      <td>0</td>\n",
       "      <td>0</td>\n",
       "      <td>1</td>\n",
       "      <td>0</td>\n",
       "      <td>19.0</td>\n",
       "      <td>326.78</td>\n",
       "      <td>0.0</td>\n",
       "      <td>0.0</td>\n",
       "      <td>0</td>\n",
       "      <td>87</td>\n",
       "    </tr>\n",
       "    <tr>\n",
       "      <th>4</th>\n",
       "      <td>100010</td>\n",
       "      <td>NaN</td>\n",
       "      <td>0.0</td>\n",
       "      <td>0.0</td>\n",
       "      <td>NaN</td>\n",
       "      <td>NaN</td>\n",
       "      <td>NaN</td>\n",
       "      <td>NaN</td>\n",
       "      <td>NaN</td>\n",
       "      <td>NaN</td>\n",
       "      <td>...</td>\n",
       "      <td>0</td>\n",
       "      <td>0</td>\n",
       "      <td>1</td>\n",
       "      <td>0</td>\n",
       "      <td>1.0</td>\n",
       "      <td>40.00</td>\n",
       "      <td>0.0</td>\n",
       "      <td>0.0</td>\n",
       "      <td>0</td>\n",
       "      <td>36</td>\n",
       "    </tr>\n",
       "  </tbody>\n",
       "</table>\n",
       "<p>5 rows × 54 columns</p>\n",
       "</div>"
      ],
      "text/plain": [
       "   donorID  campaignID  frequency_donor  total_donated  C1  C2  C3  C4  C5  \\\n",
       "0   100001         NaN              0.0            0.0 NaN NaN NaN NaN NaN   \n",
       "1   100002         NaN              0.0            0.0 NaN NaN NaN NaN NaN   \n",
       "2   100008         NaN              0.0            0.0 NaN NaN NaN NaN NaN   \n",
       "3   100009         NaN              0.0            0.0 NaN NaN NaN NaN NaN   \n",
       "4   100010         NaN              0.0            0.0 NaN NaN NaN NaN NaN   \n",
       "\n",
       "   C6  ...  region_Missing  region_Wallonia  language_FR  language_NL  \\\n",
       "0 NaN  ...               0                0            0            1   \n",
       "1 NaN  ...               0                0            0            1   \n",
       "2 NaN  ...               0                0            1            0   \n",
       "3 NaN  ...               0                0            1            0   \n",
       "4 NaN  ...               0                0            1            0   \n",
       "\n",
       "   total_freq_till_now  total_amount_till_now  total_amount_till_last_3_years  \\\n",
       "0                 12.0                 178.49                             0.0   \n",
       "1                  1.0                  20.00                             0.0   \n",
       "2                  3.0                 124.37                             0.0   \n",
       "3                 19.0                 326.78                             0.0   \n",
       "4                  1.0                  40.00                             0.0   \n",
       "\n",
       "   total_freq_till_last_3_years  donated_more_than30_duringdv  Age  \n",
       "0                           0.0                             0   51  \n",
       "1                           0.0                             0   67  \n",
       "2                           0.0                             0   81  \n",
       "3                           0.0                             0   87  \n",
       "4                           0.0                             0   36  \n",
       "\n",
       "[5 rows x 54 columns]"
      ]
     },
     "execution_count": 18,
     "metadata": {},
     "output_type": "execute_result"
    }
   ],
   "source": [
    "gift_base_7244 = gifts[(gifts['date'] >= start_period_7244) &  (gifts['date'] <= end_period_7244)]\n",
    "#\n",
    "gift_base_7244=gift_base_7244.groupby(by='donorID').apply(agg_B)\n",
    "# remove duplicate rows\n",
    "gift_base_7244 = gift_base_7244.drop_duplicates(subset=['donorID'])\n",
    "#\n",
    "gift_base_7244['Recency_dono'] = end_period_7244 - gift_base_7244['last_date_dono']\n",
    "#\n",
    "gift_base_7244['Recency_dono'] = gift_base_7244['Recency_dono'].dt.days\n",
    "#\n",
    "gift_base_7244=gift_base_7244.drop(['last_date_dono'],axis=1)\n",
    "# Build Base Table Based On the 7244 Campaign Data\n",
    "gift_base_7244 = pd.merge(selection_7244,gift_base_7244, how='left', on='donorID')\n",
    "# # Merge with iv table\n",
    "gift_base_7244 = pd.merge(gift_base_7244, gift_7244, how='left', on='donorID')\n",
    "# Merge with donor database\n",
    "gift_base_7244 = pd.merge(gift_base_7244, donors, how='left', on='donorID')\n",
    "#_______Hadi added this merge_ U can check it guys :)\n",
    "gift_base_7244 = pd.merge(gift_base_7244, gift_till_7244, how='left', on='donorID')\n",
    "#________________________________________\n",
    "# Target Variable\n",
    "gift_base_7244['donated_more_than30_duringdv'] = gift_base_7244['total_donated_during_dv'].apply(\n",
    "                                                                lambda row: 1 if row >= 30 else 0)\n",
    "#\n",
    "gift_base_7244['Age'] = gift_base_7244['dateOfBirth'].apply(lambda row:\n",
    "                 date_campaign_7244.year - row.year -((date_campaign_7244.month, date_campaign_7244.day) < (row.month, row.day) ))\n",
    "#\n",
    "gift_base_7244=gift_base_7244.drop(['Unnamed: 0','total_donated_during_dv','dateOfBirth'],axis=1)\n",
    "#filling nans\n",
    "gift_base_7244['total_donated'] = gift_base_7244['total_donated'].fillna(0)#gift_base_7244['total_donated'].mean())\n",
    "gift_base_7244['Recency_dono'] = gift_base_7244['Recency_dono'].fillna(0)#gift_base_7244['Recency_dono'].mean())\n",
    "gift_base_7244['frequency_donor'] = gift_base_7244['frequency_donor'].fillna(0)#gift_base_7244['frequency_donor'].median())\n",
    "#save base tabel 7244\n",
    "gift_base_7244.to_csv('./data/gift_base_7244.csv')\n",
    "#showing Data\n",
    "gift_base_7244.head()"
   ]
  },
  {
   "cell_type": "code",
   "execution_count": 19,
   "metadata": {},
   "outputs": [
    {
     "data": {
      "text/html": [
       "<div>\n",
       "<style scoped>\n",
       "    .dataframe tbody tr th:only-of-type {\n",
       "        vertical-align: middle;\n",
       "    }\n",
       "\n",
       "    .dataframe tbody tr th {\n",
       "        vertical-align: top;\n",
       "    }\n",
       "\n",
       "    .dataframe thead th {\n",
       "        text-align: right;\n",
       "    }\n",
       "</style>\n",
       "<table border=\"1\" class=\"dataframe\">\n",
       "  <thead>\n",
       "    <tr style=\"text-align: right;\">\n",
       "      <th></th>\n",
       "      <th>donorID</th>\n",
       "      <th>campaignID</th>\n",
       "      <th>frequency_donor</th>\n",
       "      <th>total_donated</th>\n",
       "      <th>C1</th>\n",
       "      <th>C2</th>\n",
       "      <th>C3</th>\n",
       "      <th>C4</th>\n",
       "      <th>C5</th>\n",
       "      <th>C6</th>\n",
       "      <th>...</th>\n",
       "      <th>region_Flanders</th>\n",
       "      <th>region_Missing</th>\n",
       "      <th>region_Wallonia</th>\n",
       "      <th>language_FR</th>\n",
       "      <th>language_NL</th>\n",
       "      <th>total_freq_till_now</th>\n",
       "      <th>total_amount_till_now</th>\n",
       "      <th>total_amount_till_last_3_years</th>\n",
       "      <th>total_freq_till_last_3_years</th>\n",
       "      <th>Age</th>\n",
       "    </tr>\n",
       "  </thead>\n",
       "  <tbody>\n",
       "    <tr>\n",
       "      <th>0</th>\n",
       "      <td>134242</td>\n",
       "      <td>NaN</td>\n",
       "      <td>0.0</td>\n",
       "      <td>0.0</td>\n",
       "      <td>NaN</td>\n",
       "      <td>NaN</td>\n",
       "      <td>NaN</td>\n",
       "      <td>NaN</td>\n",
       "      <td>NaN</td>\n",
       "      <td>NaN</td>\n",
       "      <td>...</td>\n",
       "      <td>1</td>\n",
       "      <td>0</td>\n",
       "      <td>0</td>\n",
       "      <td>0</td>\n",
       "      <td>1</td>\n",
       "      <td>2.0</td>\n",
       "      <td>30.00</td>\n",
       "      <td>0.0</td>\n",
       "      <td>0.0</td>\n",
       "      <td>53</td>\n",
       "    </tr>\n",
       "    <tr>\n",
       "      <th>1</th>\n",
       "      <td>126503</td>\n",
       "      <td>NaN</td>\n",
       "      <td>0.0</td>\n",
       "      <td>0.0</td>\n",
       "      <td>NaN</td>\n",
       "      <td>NaN</td>\n",
       "      <td>NaN</td>\n",
       "      <td>NaN</td>\n",
       "      <td>NaN</td>\n",
       "      <td>NaN</td>\n",
       "      <td>...</td>\n",
       "      <td>0</td>\n",
       "      <td>0</td>\n",
       "      <td>1</td>\n",
       "      <td>1</td>\n",
       "      <td>0</td>\n",
       "      <td>1.0</td>\n",
       "      <td>50.00</td>\n",
       "      <td>0.0</td>\n",
       "      <td>0.0</td>\n",
       "      <td>70</td>\n",
       "    </tr>\n",
       "    <tr>\n",
       "      <th>2</th>\n",
       "      <td>104392</td>\n",
       "      <td>NaN</td>\n",
       "      <td>0.0</td>\n",
       "      <td>0.0</td>\n",
       "      <td>NaN</td>\n",
       "      <td>NaN</td>\n",
       "      <td>NaN</td>\n",
       "      <td>NaN</td>\n",
       "      <td>NaN</td>\n",
       "      <td>NaN</td>\n",
       "      <td>...</td>\n",
       "      <td>0</td>\n",
       "      <td>0</td>\n",
       "      <td>1</td>\n",
       "      <td>1</td>\n",
       "      <td>0</td>\n",
       "      <td>1.0</td>\n",
       "      <td>50.00</td>\n",
       "      <td>0.0</td>\n",
       "      <td>0.0</td>\n",
       "      <td>45</td>\n",
       "    </tr>\n",
       "    <tr>\n",
       "      <th>3</th>\n",
       "      <td>105905</td>\n",
       "      <td>7519.0</td>\n",
       "      <td>1.0</td>\n",
       "      <td>55.0</td>\n",
       "      <td>0.0</td>\n",
       "      <td>55.0</td>\n",
       "      <td>0.0</td>\n",
       "      <td>0.0</td>\n",
       "      <td>0.0</td>\n",
       "      <td>0.0</td>\n",
       "      <td>...</td>\n",
       "      <td>1</td>\n",
       "      <td>0</td>\n",
       "      <td>0</td>\n",
       "      <td>0</td>\n",
       "      <td>1</td>\n",
       "      <td>2.0</td>\n",
       "      <td>155.00</td>\n",
       "      <td>155.0</td>\n",
       "      <td>2.0</td>\n",
       "      <td>49</td>\n",
       "    </tr>\n",
       "    <tr>\n",
       "      <th>4</th>\n",
       "      <td>120506</td>\n",
       "      <td>NaN</td>\n",
       "      <td>0.0</td>\n",
       "      <td>0.0</td>\n",
       "      <td>NaN</td>\n",
       "      <td>NaN</td>\n",
       "      <td>NaN</td>\n",
       "      <td>NaN</td>\n",
       "      <td>NaN</td>\n",
       "      <td>NaN</td>\n",
       "      <td>...</td>\n",
       "      <td>1</td>\n",
       "      <td>0</td>\n",
       "      <td>0</td>\n",
       "      <td>0</td>\n",
       "      <td>1</td>\n",
       "      <td>5.0</td>\n",
       "      <td>61.89</td>\n",
       "      <td>0.0</td>\n",
       "      <td>0.0</td>\n",
       "      <td>46</td>\n",
       "    </tr>\n",
       "  </tbody>\n",
       "</table>\n",
       "<p>5 rows × 53 columns</p>\n",
       "</div>"
      ],
      "text/plain": [
       "   donorID  campaignID  frequency_donor  total_donated   C1    C2   C3   C4  \\\n",
       "0   134242         NaN              0.0            0.0  NaN   NaN  NaN  NaN   \n",
       "1   126503         NaN              0.0            0.0  NaN   NaN  NaN  NaN   \n",
       "2   104392         NaN              0.0            0.0  NaN   NaN  NaN  NaN   \n",
       "3   105905      7519.0              1.0           55.0  0.0  55.0  0.0  0.0   \n",
       "4   120506         NaN              0.0            0.0  NaN   NaN  NaN  NaN   \n",
       "\n",
       "    C5   C6  ...  region_Flanders  region_Missing  region_Wallonia  \\\n",
       "0  NaN  NaN  ...                1               0                0   \n",
       "1  NaN  NaN  ...                0               0                1   \n",
       "2  NaN  NaN  ...                0               0                1   \n",
       "3  0.0  0.0  ...                1               0                0   \n",
       "4  NaN  NaN  ...                1               0                0   \n",
       "\n",
       "   language_FR  language_NL  total_freq_till_now  total_amount_till_now  \\\n",
       "0            0            1                  2.0                  30.00   \n",
       "1            1            0                  1.0                  50.00   \n",
       "2            1            0                  1.0                  50.00   \n",
       "3            0            1                  2.0                 155.00   \n",
       "4            0            1                  5.0                  61.89   \n",
       "\n",
       "   total_amount_till_last_3_years  total_freq_till_last_3_years  Age  \n",
       "0                             0.0                           0.0   53  \n",
       "1                             0.0                           0.0   70  \n",
       "2                             0.0                           0.0   45  \n",
       "3                           155.0                           2.0   49  \n",
       "4                             0.0                           0.0   46  \n",
       "\n",
       "[5 rows x 53 columns]"
      ]
     },
     "execution_count": 19,
     "metadata": {},
     "output_type": "execute_result"
    }
   ],
   "source": [
    "#\n",
    "def agg_B(tr):\n",
    "    tr['last_date_dono'] = tr['date'].max()\n",
    "    tr['frequency_donor'] = tr['amount'].count()\n",
    "    tr['total_donated'] = tr['amount'].sum()\n",
    "    c_7536 = tr.loc[(tr['campaignID'] == 7536)]\n",
    "    tr['C1'] = c_7536['amount'].sum()\n",
    "\n",
    "    c_7519 = tr.loc[(tr['campaignID'] == 7519)]\n",
    "    tr['C2'] = c_7519['amount'].sum()\n",
    "\n",
    "    c_7505 = tr.loc[(tr['campaignID'] == 7505)]\n",
    "    tr['C3'] = c_7505['amount'].sum()\n",
    "\n",
    "    c_7503 = tr.loc[(tr['campaignID'] == 7503)]\n",
    "    tr['C4'] = c_7503['amount'].sum()\n",
    "\n",
    "    c_7494 = tr.loc[(tr['campaignID'] == 7494)]\n",
    "    tr['C5'] = c_7494['amount'].sum()\n",
    "\n",
    "    c_7408 = tr.loc[(tr['campaignID'] == 7408)]\n",
    "    tr['C6'] = c_7408['amount'].sum()\n",
    "\n",
    "    c_7395 = tr.loc[(tr['campaignID'] == 7395)]\n",
    "    tr['C7'] = c_7395['amount'].sum()\n",
    "\n",
    "    c_7356 = tr.loc[(tr['campaignID'] == 7356)]\n",
    "    tr['C8'] = c_7356['amount'].sum()\n",
    "\n",
    "    c_7346 = tr.loc[(tr['campaignID'] == 7346)]\n",
    "    tr['C9'] = c_7346['amount'].sum()\n",
    "\n",
    "    c_7335 = tr.loc[(tr['campaignID'] == 7335)]\n",
    "    tr['C10'] = c_7335['amount'].sum()\n",
    "\n",
    "    c_7330 = tr.loc[(tr['campaignID'] == 7330)]\n",
    "    tr['C11'] = c_7330['amount'].sum()\n",
    "\n",
    "    c_7276 = tr.loc[(tr['campaignID'] == 7276)]\n",
    "    tr['C12'] = c_7276['amount'].sum()\n",
    "\n",
    "    c_7244 = tr.loc[(tr['campaignID'] == 7244)]\n",
    "    tr['C13'] = c_7244['amount'].sum()\n",
    "\n",
    "    date=start_period_7362\n",
    "    month_1= tr.loc[(tr['date'] > date- datetime.timedelta(days = 30))]\n",
    "    tr['total_amount_1_month'] = month_1['amount'].sum()\n",
    "    tr['total_freq_1_month'] = month_1['amount'].count()\n",
    "    month_2= tr.loc[(tr['date'] > date- datetime.timedelta(days = 2*30))&\n",
    "                     (tr['date'] <= date- datetime.timedelta(days = 30))]\n",
    "    tr['total_amount_2_month'] = month_2['amount'].sum()\n",
    "    tr['total_freq_2_month'] = month_2['amount'].count()\n",
    "    month_3= tr.loc[(tr['date'] > date- datetime.timedelta(days = 3*30))&\n",
    "                     (tr['date'] <= date- datetime.timedelta(days = 2*30))]\n",
    "    tr['total_amount_3_month'] = month_3['amount'].sum()\n",
    "    tr['total_freq_3_month'] = month_3['amount'].count()\n",
    "    month_4= tr.loc[(tr['date'] > date- datetime.timedelta(days = 4*30))&\n",
    "                     (tr['date'] <= date- datetime.timedelta(days = 3*30))]\n",
    "    tr['total_amount_4_month'] = month_4['amount'].sum()\n",
    "    tr['total_freq_4_month'] = month_4['amount'].count()\n",
    "    month_5= tr.loc[(tr['date'] > date- datetime.timedelta(days = 5*30))&\n",
    "                     (tr['date'] <= date- datetime.timedelta(days = 4*30))]\n",
    "    tr['total_amount_5_month'] = month_5['amount'].sum()\n",
    "    tr['total_freq_5_month'] = month_5['amount'].count()\n",
    "    month_6= tr.loc[(tr['date'] > date- datetime.timedelta(days = 6*30))&\n",
    "                     (tr['date'] <= date- datetime.timedelta(days = 5*30))]\n",
    "    tr['total_amount_6_month'] = month_6['amount'].sum()\n",
    "    tr['total_freq_6_month'] = month_6['amount'].count()\n",
    "    \n",
    "    tr = tr.drop(['date','amount','Unnamed: 0'],axis=1)\n",
    "    return tr\n",
    "gift_base_7362 = gifts[(gifts['date'] >= start_period_7362) &  (gifts['date'] <= end_period_7362)]\n",
    "#\n",
    "gift_base_7362=gift_base_7362.groupby(by='donorID').apply(agg_B)\n",
    "# remove duplicate rows\n",
    "gift_base_7362 = gift_base_7362.drop_duplicates(subset=['donorID'])\n",
    "#\n",
    "gift_base_7362['Recency_dono'] = end_period_7362 - gift_base_7362['last_date_dono']\n",
    "#\n",
    "gift_base_7362['Recency_dono'] = gift_base_7362['Recency_dono'].dt.days\n",
    "#\n",
    "gift_base_7362=gift_base_7362.drop(['last_date_dono'],axis=1)\n",
    "# Build Base Table Based On the 7362 Campaign Data\n",
    "gift_base_7362 = pd.merge(selection_7362,gift_base_7362, how='left', on='donorID')\n",
    "# Merge with donor database\n",
    "gift_base_7362 = pd.merge(gift_base_7362, donors, how='left', on='donorID')\n",
    "#_______Hadi added this merge_ U can check it guys :)\n",
    "gift_base_7362 = pd.merge(gift_base_7362, gift_till_7362, how='left', on='donorID')\n",
    "#________________________________________\n",
    "gift_base_7362['Age'] = gift_base_7362['dateOfBirth'].apply(lambda row:\n",
    "                 date_campaign_7362.year - row.year -((date_campaign_7362.month, date_campaign_7362.day) < (row.month, row.day) ))\n",
    "#\n",
    "gift_base_7362=gift_base_7362.drop(['Unnamed: 0','dateOfBirth'],axis=1)\n",
    "#filling nans\n",
    "gift_base_7362['total_donated'] = gift_base_7362['total_donated'].fillna(0)#gift_base_7362['total_donated'].mean())\n",
    "gift_base_7362['Recency_dono'] = gift_base_7362['Recency_dono'].fillna(0)#gift_base_7362['Recency_dono'].mean())\n",
    "gift_base_7362['frequency_donor'] = gift_base_7362['frequency_donor'].fillna(0)#gift_base_7362['frequency_donor'].median())\n",
    "#save base tabel 7362\n",
    "gift_base_7362.to_csv('./data/gift_base_7362.csv')\n",
    "#showing Data\n",
    "gift_base_7362.head()"
   ]
  },
  {
   "cell_type": "code",
   "execution_count": 38,
   "metadata": {},
   "outputs": [
    {
     "data": {
      "text/html": [
       "<div>\n",
       "<style scoped>\n",
       "    .dataframe tbody tr th:only-of-type {\n",
       "        vertical-align: middle;\n",
       "    }\n",
       "\n",
       "    .dataframe tbody tr th {\n",
       "        vertical-align: top;\n",
       "    }\n",
       "\n",
       "    .dataframe thead th {\n",
       "        text-align: right;\n",
       "    }\n",
       "</style>\n",
       "<table border=\"1\" class=\"dataframe\">\n",
       "  <thead>\n",
       "    <tr style=\"text-align: right;\">\n",
       "      <th></th>\n",
       "      <th>donorID</th>\n",
       "      <th>campaignID</th>\n",
       "      <th>frequency_donor</th>\n",
       "      <th>total_donated</th>\n",
       "      <th>C1</th>\n",
       "      <th>C2</th>\n",
       "      <th>C3</th>\n",
       "      <th>C4</th>\n",
       "      <th>C5</th>\n",
       "      <th>C6</th>\n",
       "      <th>...</th>\n",
       "      <th>region_Wallonia</th>\n",
       "      <th>language_FR</th>\n",
       "      <th>language_NL</th>\n",
       "      <th>total_freq_till_now</th>\n",
       "      <th>total_amount_till_now</th>\n",
       "      <th>total_amount_till_last_3_years</th>\n",
       "      <th>total_freq_till_last_3_years</th>\n",
       "      <th>donated_more_than30_duringdv</th>\n",
       "      <th>Age</th>\n",
       "      <th>caimpaign_flag</th>\n",
       "    </tr>\n",
       "  </thead>\n",
       "  <tbody>\n",
       "    <tr>\n",
       "      <th>0</th>\n",
       "      <td>100001</td>\n",
       "      <td>0.0</td>\n",
       "      <td>0.0</td>\n",
       "      <td>0.0</td>\n",
       "      <td>0.0</td>\n",
       "      <td>0.0</td>\n",
       "      <td>0.0</td>\n",
       "      <td>0.0</td>\n",
       "      <td>0.0</td>\n",
       "      <td>0.0</td>\n",
       "      <td>...</td>\n",
       "      <td>0.0</td>\n",
       "      <td>0.0</td>\n",
       "      <td>1.0</td>\n",
       "      <td>12.0</td>\n",
       "      <td>178.49</td>\n",
       "      <td>0.0</td>\n",
       "      <td>0.0</td>\n",
       "      <td>0</td>\n",
       "      <td>50.0</td>\n",
       "      <td>0</td>\n",
       "    </tr>\n",
       "    <tr>\n",
       "      <th>1</th>\n",
       "      <td>100002</td>\n",
       "      <td>0.0</td>\n",
       "      <td>0.0</td>\n",
       "      <td>0.0</td>\n",
       "      <td>0.0</td>\n",
       "      <td>0.0</td>\n",
       "      <td>0.0</td>\n",
       "      <td>0.0</td>\n",
       "      <td>0.0</td>\n",
       "      <td>0.0</td>\n",
       "      <td>...</td>\n",
       "      <td>0.0</td>\n",
       "      <td>0.0</td>\n",
       "      <td>1.0</td>\n",
       "      <td>1.0</td>\n",
       "      <td>20.00</td>\n",
       "      <td>0.0</td>\n",
       "      <td>0.0</td>\n",
       "      <td>0</td>\n",
       "      <td>66.0</td>\n",
       "      <td>0</td>\n",
       "    </tr>\n",
       "    <tr>\n",
       "      <th>2</th>\n",
       "      <td>100004</td>\n",
       "      <td>0.0</td>\n",
       "      <td>0.0</td>\n",
       "      <td>0.0</td>\n",
       "      <td>0.0</td>\n",
       "      <td>0.0</td>\n",
       "      <td>0.0</td>\n",
       "      <td>0.0</td>\n",
       "      <td>0.0</td>\n",
       "      <td>0.0</td>\n",
       "      <td>...</td>\n",
       "      <td>0.0</td>\n",
       "      <td>1.0</td>\n",
       "      <td>0.0</td>\n",
       "      <td>26.0</td>\n",
       "      <td>716.22</td>\n",
       "      <td>0.0</td>\n",
       "      <td>0.0</td>\n",
       "      <td>0</td>\n",
       "      <td>66.0</td>\n",
       "      <td>0</td>\n",
       "    </tr>\n",
       "    <tr>\n",
       "      <th>3</th>\n",
       "      <td>100008</td>\n",
       "      <td>0.0</td>\n",
       "      <td>0.0</td>\n",
       "      <td>0.0</td>\n",
       "      <td>0.0</td>\n",
       "      <td>0.0</td>\n",
       "      <td>0.0</td>\n",
       "      <td>0.0</td>\n",
       "      <td>0.0</td>\n",
       "      <td>0.0</td>\n",
       "      <td>...</td>\n",
       "      <td>0.0</td>\n",
       "      <td>1.0</td>\n",
       "      <td>0.0</td>\n",
       "      <td>3.0</td>\n",
       "      <td>124.37</td>\n",
       "      <td>0.0</td>\n",
       "      <td>0.0</td>\n",
       "      <td>0</td>\n",
       "      <td>81.0</td>\n",
       "      <td>0</td>\n",
       "    </tr>\n",
       "    <tr>\n",
       "      <th>4</th>\n",
       "      <td>100009</td>\n",
       "      <td>0.0</td>\n",
       "      <td>0.0</td>\n",
       "      <td>0.0</td>\n",
       "      <td>0.0</td>\n",
       "      <td>0.0</td>\n",
       "      <td>0.0</td>\n",
       "      <td>0.0</td>\n",
       "      <td>0.0</td>\n",
       "      <td>0.0</td>\n",
       "      <td>...</td>\n",
       "      <td>0.0</td>\n",
       "      <td>1.0</td>\n",
       "      <td>0.0</td>\n",
       "      <td>19.0</td>\n",
       "      <td>326.78</td>\n",
       "      <td>0.0</td>\n",
       "      <td>0.0</td>\n",
       "      <td>0</td>\n",
       "      <td>86.0</td>\n",
       "      <td>0</td>\n",
       "    </tr>\n",
       "    <tr>\n",
       "      <th>...</th>\n",
       "      <td>...</td>\n",
       "      <td>...</td>\n",
       "      <td>...</td>\n",
       "      <td>...</td>\n",
       "      <td>...</td>\n",
       "      <td>...</td>\n",
       "      <td>...</td>\n",
       "      <td>...</td>\n",
       "      <td>...</td>\n",
       "      <td>...</td>\n",
       "      <td>...</td>\n",
       "      <td>...</td>\n",
       "      <td>...</td>\n",
       "      <td>...</td>\n",
       "      <td>...</td>\n",
       "      <td>...</td>\n",
       "      <td>...</td>\n",
       "      <td>...</td>\n",
       "      <td>...</td>\n",
       "      <td>...</td>\n",
       "      <td>...</td>\n",
       "    </tr>\n",
       "    <tr>\n",
       "      <th>34883</th>\n",
       "      <td>144686</td>\n",
       "      <td>0.0</td>\n",
       "      <td>0.0</td>\n",
       "      <td>0.0</td>\n",
       "      <td>0.0</td>\n",
       "      <td>0.0</td>\n",
       "      <td>0.0</td>\n",
       "      <td>0.0</td>\n",
       "      <td>0.0</td>\n",
       "      <td>0.0</td>\n",
       "      <td>...</td>\n",
       "      <td>0.0</td>\n",
       "      <td>0.0</td>\n",
       "      <td>1.0</td>\n",
       "      <td>1.0</td>\n",
       "      <td>50.00</td>\n",
       "      <td>50.0</td>\n",
       "      <td>1.0</td>\n",
       "      <td>0</td>\n",
       "      <td>53.0</td>\n",
       "      <td>0</td>\n",
       "    </tr>\n",
       "    <tr>\n",
       "      <th>34884</th>\n",
       "      <td>144687</td>\n",
       "      <td>0.0</td>\n",
       "      <td>0.0</td>\n",
       "      <td>0.0</td>\n",
       "      <td>0.0</td>\n",
       "      <td>0.0</td>\n",
       "      <td>0.0</td>\n",
       "      <td>0.0</td>\n",
       "      <td>0.0</td>\n",
       "      <td>0.0</td>\n",
       "      <td>...</td>\n",
       "      <td>1.0</td>\n",
       "      <td>1.0</td>\n",
       "      <td>0.0</td>\n",
       "      <td>1.0</td>\n",
       "      <td>10.00</td>\n",
       "      <td>10.0</td>\n",
       "      <td>1.0</td>\n",
       "      <td>0</td>\n",
       "      <td>47.0</td>\n",
       "      <td>0</td>\n",
       "    </tr>\n",
       "    <tr>\n",
       "      <th>34885</th>\n",
       "      <td>144689</td>\n",
       "      <td>5326.0</td>\n",
       "      <td>1.0</td>\n",
       "      <td>0.0</td>\n",
       "      <td>0.0</td>\n",
       "      <td>0.0</td>\n",
       "      <td>0.0</td>\n",
       "      <td>100.0</td>\n",
       "      <td>0.0</td>\n",
       "      <td>0.0</td>\n",
       "      <td>...</td>\n",
       "      <td>0.0</td>\n",
       "      <td>0.0</td>\n",
       "      <td>1.0</td>\n",
       "      <td>1.0</td>\n",
       "      <td>24.79</td>\n",
       "      <td>0.0</td>\n",
       "      <td>0.0</td>\n",
       "      <td>0</td>\n",
       "      <td>51.0</td>\n",
       "      <td>1</td>\n",
       "    </tr>\n",
       "    <tr>\n",
       "      <th>34886</th>\n",
       "      <td>144690</td>\n",
       "      <td>0.0</td>\n",
       "      <td>0.0</td>\n",
       "      <td>0.0</td>\n",
       "      <td>0.0</td>\n",
       "      <td>0.0</td>\n",
       "      <td>0.0</td>\n",
       "      <td>0.0</td>\n",
       "      <td>0.0</td>\n",
       "      <td>0.0</td>\n",
       "      <td>...</td>\n",
       "      <td>0.0</td>\n",
       "      <td>1.0</td>\n",
       "      <td>0.0</td>\n",
       "      <td>1.0</td>\n",
       "      <td>40.00</td>\n",
       "      <td>0.0</td>\n",
       "      <td>0.0</td>\n",
       "      <td>0</td>\n",
       "      <td>42.0</td>\n",
       "      <td>0</td>\n",
       "    </tr>\n",
       "    <tr>\n",
       "      <th>34887</th>\n",
       "      <td>144691</td>\n",
       "      <td>0.0</td>\n",
       "      <td>0.0</td>\n",
       "      <td>0.0</td>\n",
       "      <td>0.0</td>\n",
       "      <td>0.0</td>\n",
       "      <td>0.0</td>\n",
       "      <td>0.0</td>\n",
       "      <td>0.0</td>\n",
       "      <td>0.0</td>\n",
       "      <td>...</td>\n",
       "      <td>0.0</td>\n",
       "      <td>1.0</td>\n",
       "      <td>0.0</td>\n",
       "      <td>1.0</td>\n",
       "      <td>39.00</td>\n",
       "      <td>39.0</td>\n",
       "      <td>1.0</td>\n",
       "      <td>0</td>\n",
       "      <td>31.0</td>\n",
       "      <td>0</td>\n",
       "    </tr>\n",
       "  </tbody>\n",
       "</table>\n",
       "<p>34888 rows × 55 columns</p>\n",
       "</div>"
      ],
      "text/plain": [
       "       donorID  campaignID  frequency_donor  total_donated   C1   C2   C3  \\\n",
       "0       100001         0.0              0.0            0.0  0.0  0.0  0.0   \n",
       "1       100002         0.0              0.0            0.0  0.0  0.0  0.0   \n",
       "2       100004         0.0              0.0            0.0  0.0  0.0  0.0   \n",
       "3       100008         0.0              0.0            0.0  0.0  0.0  0.0   \n",
       "4       100009         0.0              0.0            0.0  0.0  0.0  0.0   \n",
       "...        ...         ...              ...            ...  ...  ...  ...   \n",
       "34883   144686         0.0              0.0            0.0  0.0  0.0  0.0   \n",
       "34884   144687         0.0              0.0            0.0  0.0  0.0  0.0   \n",
       "34885   144689      5326.0              1.0            0.0  0.0  0.0  0.0   \n",
       "34886   144690         0.0              0.0            0.0  0.0  0.0  0.0   \n",
       "34887   144691         0.0              0.0            0.0  0.0  0.0  0.0   \n",
       "\n",
       "          C4   C5   C6  ...  region_Wallonia  language_FR  language_NL  \\\n",
       "0        0.0  0.0  0.0  ...              0.0          0.0          1.0   \n",
       "1        0.0  0.0  0.0  ...              0.0          0.0          1.0   \n",
       "2        0.0  0.0  0.0  ...              0.0          1.0          0.0   \n",
       "3        0.0  0.0  0.0  ...              0.0          1.0          0.0   \n",
       "4        0.0  0.0  0.0  ...              0.0          1.0          0.0   \n",
       "...      ...  ...  ...  ...              ...          ...          ...   \n",
       "34883    0.0  0.0  0.0  ...              0.0          0.0          1.0   \n",
       "34884    0.0  0.0  0.0  ...              1.0          1.0          0.0   \n",
       "34885  100.0  0.0  0.0  ...              0.0          0.0          1.0   \n",
       "34886    0.0  0.0  0.0  ...              0.0          1.0          0.0   \n",
       "34887    0.0  0.0  0.0  ...              0.0          1.0          0.0   \n",
       "\n",
       "       total_freq_till_now  total_amount_till_now  \\\n",
       "0                     12.0                 178.49   \n",
       "1                      1.0                  20.00   \n",
       "2                     26.0                 716.22   \n",
       "3                      3.0                 124.37   \n",
       "4                     19.0                 326.78   \n",
       "...                    ...                    ...   \n",
       "34883                  1.0                  50.00   \n",
       "34884                  1.0                  10.00   \n",
       "34885                  1.0                  24.79   \n",
       "34886                  1.0                  40.00   \n",
       "34887                  1.0                  39.00   \n",
       "\n",
       "       total_amount_till_last_3_years  total_freq_till_last_3_years  \\\n",
       "0                                 0.0                           0.0   \n",
       "1                                 0.0                           0.0   \n",
       "2                                 0.0                           0.0   \n",
       "3                                 0.0                           0.0   \n",
       "4                                 0.0                           0.0   \n",
       "...                               ...                           ...   \n",
       "34883                            50.0                           1.0   \n",
       "34884                            10.0                           1.0   \n",
       "34885                             0.0                           0.0   \n",
       "34886                             0.0                           0.0   \n",
       "34887                            39.0                           1.0   \n",
       "\n",
       "       donated_more_than30_duringdv   Age  caimpaign_flag  \n",
       "0                                 0  50.0               0  \n",
       "1                                 0  66.0               0  \n",
       "2                                 0  66.0               0  \n",
       "3                                 0  81.0               0  \n",
       "4                                 0  86.0               0  \n",
       "...                             ...   ...             ...  \n",
       "34883                             0  53.0               0  \n",
       "34884                             0  47.0               0  \n",
       "34885                             0  51.0               1  \n",
       "34886                             0  42.0               0  \n",
       "34887                             0  31.0               0  \n",
       "\n",
       "[34888 rows x 55 columns]"
      ]
     },
     "execution_count": 38,
     "metadata": {},
     "output_type": "execute_result"
    }
   ],
   "source": [
    "gift_base_6169"
   ]
  },
  {
   "cell_type": "code",
   "execution_count": 39,
   "metadata": {},
   "outputs": [
    {
     "data": {
      "text/plain": [
       "Index(['donorID', 'campaignID', 'frequency_donor', 'total_donated', 'C1', 'C2',\n",
       "       'C3', 'C4', 'C5', 'C6', 'C7', 'C8', 'C9', 'C10', 'C11', 'C12', 'C13',\n",
       "       'total_amount_1_month', 'total_freq_1_month', 'total_amount_2_month',\n",
       "       'total_freq_2_month', 'total_amount_3_month', 'total_freq_3_month',\n",
       "       'total_amount_4_month', 'total_freq_4_month', 'total_amount_5_month',\n",
       "       'total_freq_5_month', 'total_amount_6_month', 'total_freq_6_month',\n",
       "       'Recency_dono', 'zipcode', 'gender', 'province_Brussels',\n",
       "       'province_East Flanders', 'province_Flemish Brabant',\n",
       "       'province_Hainaut', 'province_Liege', 'province_Limburg',\n",
       "       'province_Luxembourg', 'province_Missing', 'province_Namur',\n",
       "       'province_Walloon Brabant', 'province_West Flanders', 'region_Flanders',\n",
       "       'region_Missing', 'region_Wallonia', 'language_FR', 'language_NL',\n",
       "       'total_freq_till_now', 'total_amount_till_now',\n",
       "       'total_amount_till_last_3_years', 'total_freq_till_last_3_years',\n",
       "       'donated_more_than30_duringdv', 'Age', 'caimpaign_flag'],\n",
       "      dtype='object')"
      ]
     },
     "execution_count": 39,
     "metadata": {},
     "output_type": "execute_result"
    }
   ],
   "source": [
    "gift_base_6169.columns"
   ]
  },
  {
   "cell_type": "code",
   "execution_count": 40,
   "metadata": {},
   "outputs": [],
   "source": [
    "cols_to_fill = ['C1', 'C2','C3', 'C4', 'C5', 'C6', 'C7', 'C8', 'C9', 'C10', 'C11', 'C12', 'C13',\n",
    "       'total_amount_1_month', 'total_freq_1_month', 'total_amount_2_month', 'total_freq_2_month', \n",
    "       'total_amount_3_month', 'total_freq_3_month','total_amount_4_month', 'total_freq_4_month', 'total_amount_5_month',\n",
    "       'total_freq_5_month', 'total_amount_6_month', 'total_freq_6_month', 'province_Brussels','province_East Flanders',\n",
    "       'province_Hainaut','province_Liege','province_Limburg','province_Luxembourg','province_Missing','province_Namur','province_Walloon Brabant'\n",
    "       ,'province_West Flanders','region_Flanders','region_Missing','region_Wallonia','language_FR','language_NL','total_freq_till_now','total_amount_till_now'\n",
    "       ,'total_amount_till_last_3_years','total_freq_till_last_3_years','province_Flemish Brabant']"
   ]
  },
  {
   "cell_type": "code",
   "execution_count": 41,
   "metadata": {},
   "outputs": [
    {
     "data": {
      "text/html": [
       "<div>\n",
       "<style scoped>\n",
       "    .dataframe tbody tr th:only-of-type {\n",
       "        vertical-align: middle;\n",
       "    }\n",
       "\n",
       "    .dataframe tbody tr th {\n",
       "        vertical-align: top;\n",
       "    }\n",
       "\n",
       "    .dataframe thead th {\n",
       "        text-align: right;\n",
       "    }\n",
       "</style>\n",
       "<table border=\"1\" class=\"dataframe\">\n",
       "  <thead>\n",
       "    <tr style=\"text-align: right;\">\n",
       "      <th></th>\n",
       "      <th>donorID</th>\n",
       "      <th>campaignID</th>\n",
       "      <th>frequency_donor</th>\n",
       "      <th>total_donated</th>\n",
       "      <th>C1</th>\n",
       "      <th>C2</th>\n",
       "      <th>C3</th>\n",
       "      <th>C4</th>\n",
       "      <th>C5</th>\n",
       "      <th>C6</th>\n",
       "      <th>...</th>\n",
       "      <th>region_Wallonia</th>\n",
       "      <th>language_FR</th>\n",
       "      <th>language_NL</th>\n",
       "      <th>total_freq_till_now</th>\n",
       "      <th>total_amount_till_now</th>\n",
       "      <th>total_amount_till_last_3_years</th>\n",
       "      <th>total_freq_till_last_3_years</th>\n",
       "      <th>donated_more_than30_duringdv</th>\n",
       "      <th>Age</th>\n",
       "      <th>caimpaign_flag</th>\n",
       "    </tr>\n",
       "  </thead>\n",
       "  <tbody>\n",
       "    <tr>\n",
       "      <th>0</th>\n",
       "      <td>100001</td>\n",
       "      <td>0.0</td>\n",
       "      <td>0.0</td>\n",
       "      <td>0.0</td>\n",
       "      <td>0.0</td>\n",
       "      <td>0.0</td>\n",
       "      <td>0.0</td>\n",
       "      <td>0.0</td>\n",
       "      <td>0.0</td>\n",
       "      <td>0.0</td>\n",
       "      <td>...</td>\n",
       "      <td>0.0</td>\n",
       "      <td>0.0</td>\n",
       "      <td>1.0</td>\n",
       "      <td>12.0</td>\n",
       "      <td>178.49</td>\n",
       "      <td>0.0</td>\n",
       "      <td>0.0</td>\n",
       "      <td>0</td>\n",
       "      <td>50.0</td>\n",
       "      <td>0</td>\n",
       "    </tr>\n",
       "    <tr>\n",
       "      <th>1</th>\n",
       "      <td>100002</td>\n",
       "      <td>0.0</td>\n",
       "      <td>0.0</td>\n",
       "      <td>0.0</td>\n",
       "      <td>0.0</td>\n",
       "      <td>0.0</td>\n",
       "      <td>0.0</td>\n",
       "      <td>0.0</td>\n",
       "      <td>0.0</td>\n",
       "      <td>0.0</td>\n",
       "      <td>...</td>\n",
       "      <td>0.0</td>\n",
       "      <td>0.0</td>\n",
       "      <td>1.0</td>\n",
       "      <td>1.0</td>\n",
       "      <td>20.00</td>\n",
       "      <td>0.0</td>\n",
       "      <td>0.0</td>\n",
       "      <td>0</td>\n",
       "      <td>66.0</td>\n",
       "      <td>0</td>\n",
       "    </tr>\n",
       "    <tr>\n",
       "      <th>2</th>\n",
       "      <td>100004</td>\n",
       "      <td>0.0</td>\n",
       "      <td>0.0</td>\n",
       "      <td>0.0</td>\n",
       "      <td>0.0</td>\n",
       "      <td>0.0</td>\n",
       "      <td>0.0</td>\n",
       "      <td>0.0</td>\n",
       "      <td>0.0</td>\n",
       "      <td>0.0</td>\n",
       "      <td>...</td>\n",
       "      <td>0.0</td>\n",
       "      <td>1.0</td>\n",
       "      <td>0.0</td>\n",
       "      <td>26.0</td>\n",
       "      <td>716.22</td>\n",
       "      <td>0.0</td>\n",
       "      <td>0.0</td>\n",
       "      <td>0</td>\n",
       "      <td>66.0</td>\n",
       "      <td>0</td>\n",
       "    </tr>\n",
       "    <tr>\n",
       "      <th>3</th>\n",
       "      <td>100008</td>\n",
       "      <td>0.0</td>\n",
       "      <td>0.0</td>\n",
       "      <td>0.0</td>\n",
       "      <td>0.0</td>\n",
       "      <td>0.0</td>\n",
       "      <td>0.0</td>\n",
       "      <td>0.0</td>\n",
       "      <td>0.0</td>\n",
       "      <td>0.0</td>\n",
       "      <td>...</td>\n",
       "      <td>0.0</td>\n",
       "      <td>1.0</td>\n",
       "      <td>0.0</td>\n",
       "      <td>3.0</td>\n",
       "      <td>124.37</td>\n",
       "      <td>0.0</td>\n",
       "      <td>0.0</td>\n",
       "      <td>0</td>\n",
       "      <td>81.0</td>\n",
       "      <td>0</td>\n",
       "    </tr>\n",
       "    <tr>\n",
       "      <th>4</th>\n",
       "      <td>100009</td>\n",
       "      <td>0.0</td>\n",
       "      <td>0.0</td>\n",
       "      <td>0.0</td>\n",
       "      <td>0.0</td>\n",
       "      <td>0.0</td>\n",
       "      <td>0.0</td>\n",
       "      <td>0.0</td>\n",
       "      <td>0.0</td>\n",
       "      <td>0.0</td>\n",
       "      <td>...</td>\n",
       "      <td>0.0</td>\n",
       "      <td>1.0</td>\n",
       "      <td>0.0</td>\n",
       "      <td>19.0</td>\n",
       "      <td>326.78</td>\n",
       "      <td>0.0</td>\n",
       "      <td>0.0</td>\n",
       "      <td>0</td>\n",
       "      <td>86.0</td>\n",
       "      <td>0</td>\n",
       "    </tr>\n",
       "    <tr>\n",
       "      <th>...</th>\n",
       "      <td>...</td>\n",
       "      <td>...</td>\n",
       "      <td>...</td>\n",
       "      <td>...</td>\n",
       "      <td>...</td>\n",
       "      <td>...</td>\n",
       "      <td>...</td>\n",
       "      <td>...</td>\n",
       "      <td>...</td>\n",
       "      <td>...</td>\n",
       "      <td>...</td>\n",
       "      <td>...</td>\n",
       "      <td>...</td>\n",
       "      <td>...</td>\n",
       "      <td>...</td>\n",
       "      <td>...</td>\n",
       "      <td>...</td>\n",
       "      <td>...</td>\n",
       "      <td>...</td>\n",
       "      <td>...</td>\n",
       "      <td>...</td>\n",
       "    </tr>\n",
       "    <tr>\n",
       "      <th>34883</th>\n",
       "      <td>144686</td>\n",
       "      <td>0.0</td>\n",
       "      <td>0.0</td>\n",
       "      <td>0.0</td>\n",
       "      <td>0.0</td>\n",
       "      <td>0.0</td>\n",
       "      <td>0.0</td>\n",
       "      <td>0.0</td>\n",
       "      <td>0.0</td>\n",
       "      <td>0.0</td>\n",
       "      <td>...</td>\n",
       "      <td>0.0</td>\n",
       "      <td>0.0</td>\n",
       "      <td>1.0</td>\n",
       "      <td>1.0</td>\n",
       "      <td>50.00</td>\n",
       "      <td>50.0</td>\n",
       "      <td>1.0</td>\n",
       "      <td>0</td>\n",
       "      <td>53.0</td>\n",
       "      <td>0</td>\n",
       "    </tr>\n",
       "    <tr>\n",
       "      <th>34884</th>\n",
       "      <td>144687</td>\n",
       "      <td>0.0</td>\n",
       "      <td>0.0</td>\n",
       "      <td>0.0</td>\n",
       "      <td>0.0</td>\n",
       "      <td>0.0</td>\n",
       "      <td>0.0</td>\n",
       "      <td>0.0</td>\n",
       "      <td>0.0</td>\n",
       "      <td>0.0</td>\n",
       "      <td>...</td>\n",
       "      <td>1.0</td>\n",
       "      <td>1.0</td>\n",
       "      <td>0.0</td>\n",
       "      <td>1.0</td>\n",
       "      <td>10.00</td>\n",
       "      <td>10.0</td>\n",
       "      <td>1.0</td>\n",
       "      <td>0</td>\n",
       "      <td>47.0</td>\n",
       "      <td>0</td>\n",
       "    </tr>\n",
       "    <tr>\n",
       "      <th>34885</th>\n",
       "      <td>144689</td>\n",
       "      <td>5326.0</td>\n",
       "      <td>1.0</td>\n",
       "      <td>0.0</td>\n",
       "      <td>0.0</td>\n",
       "      <td>0.0</td>\n",
       "      <td>0.0</td>\n",
       "      <td>100.0</td>\n",
       "      <td>0.0</td>\n",
       "      <td>0.0</td>\n",
       "      <td>...</td>\n",
       "      <td>0.0</td>\n",
       "      <td>0.0</td>\n",
       "      <td>1.0</td>\n",
       "      <td>1.0</td>\n",
       "      <td>24.79</td>\n",
       "      <td>0.0</td>\n",
       "      <td>0.0</td>\n",
       "      <td>0</td>\n",
       "      <td>51.0</td>\n",
       "      <td>1</td>\n",
       "    </tr>\n",
       "    <tr>\n",
       "      <th>34886</th>\n",
       "      <td>144690</td>\n",
       "      <td>0.0</td>\n",
       "      <td>0.0</td>\n",
       "      <td>0.0</td>\n",
       "      <td>0.0</td>\n",
       "      <td>0.0</td>\n",
       "      <td>0.0</td>\n",
       "      <td>0.0</td>\n",
       "      <td>0.0</td>\n",
       "      <td>0.0</td>\n",
       "      <td>...</td>\n",
       "      <td>0.0</td>\n",
       "      <td>1.0</td>\n",
       "      <td>0.0</td>\n",
       "      <td>1.0</td>\n",
       "      <td>40.00</td>\n",
       "      <td>0.0</td>\n",
       "      <td>0.0</td>\n",
       "      <td>0</td>\n",
       "      <td>42.0</td>\n",
       "      <td>0</td>\n",
       "    </tr>\n",
       "    <tr>\n",
       "      <th>34887</th>\n",
       "      <td>144691</td>\n",
       "      <td>0.0</td>\n",
       "      <td>0.0</td>\n",
       "      <td>0.0</td>\n",
       "      <td>0.0</td>\n",
       "      <td>0.0</td>\n",
       "      <td>0.0</td>\n",
       "      <td>0.0</td>\n",
       "      <td>0.0</td>\n",
       "      <td>0.0</td>\n",
       "      <td>...</td>\n",
       "      <td>0.0</td>\n",
       "      <td>1.0</td>\n",
       "      <td>0.0</td>\n",
       "      <td>1.0</td>\n",
       "      <td>39.00</td>\n",
       "      <td>39.0</td>\n",
       "      <td>1.0</td>\n",
       "      <td>0</td>\n",
       "      <td>31.0</td>\n",
       "      <td>0</td>\n",
       "    </tr>\n",
       "  </tbody>\n",
       "</table>\n",
       "<p>34888 rows × 55 columns</p>\n",
       "</div>"
      ],
      "text/plain": [
       "       donorID  campaignID  frequency_donor  total_donated   C1   C2   C3  \\\n",
       "0       100001         0.0              0.0            0.0  0.0  0.0  0.0   \n",
       "1       100002         0.0              0.0            0.0  0.0  0.0  0.0   \n",
       "2       100004         0.0              0.0            0.0  0.0  0.0  0.0   \n",
       "3       100008         0.0              0.0            0.0  0.0  0.0  0.0   \n",
       "4       100009         0.0              0.0            0.0  0.0  0.0  0.0   \n",
       "...        ...         ...              ...            ...  ...  ...  ...   \n",
       "34883   144686         0.0              0.0            0.0  0.0  0.0  0.0   \n",
       "34884   144687         0.0              0.0            0.0  0.0  0.0  0.0   \n",
       "34885   144689      5326.0              1.0            0.0  0.0  0.0  0.0   \n",
       "34886   144690         0.0              0.0            0.0  0.0  0.0  0.0   \n",
       "34887   144691         0.0              0.0            0.0  0.0  0.0  0.0   \n",
       "\n",
       "          C4   C5   C6  ...  region_Wallonia  language_FR  language_NL  \\\n",
       "0        0.0  0.0  0.0  ...              0.0          0.0          1.0   \n",
       "1        0.0  0.0  0.0  ...              0.0          0.0          1.0   \n",
       "2        0.0  0.0  0.0  ...              0.0          1.0          0.0   \n",
       "3        0.0  0.0  0.0  ...              0.0          1.0          0.0   \n",
       "4        0.0  0.0  0.0  ...              0.0          1.0          0.0   \n",
       "...      ...  ...  ...  ...              ...          ...          ...   \n",
       "34883    0.0  0.0  0.0  ...              0.0          0.0          1.0   \n",
       "34884    0.0  0.0  0.0  ...              1.0          1.0          0.0   \n",
       "34885  100.0  0.0  0.0  ...              0.0          0.0          1.0   \n",
       "34886    0.0  0.0  0.0  ...              0.0          1.0          0.0   \n",
       "34887    0.0  0.0  0.0  ...              0.0          1.0          0.0   \n",
       "\n",
       "       total_freq_till_now  total_amount_till_now  \\\n",
       "0                     12.0                 178.49   \n",
       "1                      1.0                  20.00   \n",
       "2                     26.0                 716.22   \n",
       "3                      3.0                 124.37   \n",
       "4                     19.0                 326.78   \n",
       "...                    ...                    ...   \n",
       "34883                  1.0                  50.00   \n",
       "34884                  1.0                  10.00   \n",
       "34885                  1.0                  24.79   \n",
       "34886                  1.0                  40.00   \n",
       "34887                  1.0                  39.00   \n",
       "\n",
       "       total_amount_till_last_3_years  total_freq_till_last_3_years  \\\n",
       "0                                 0.0                           0.0   \n",
       "1                                 0.0                           0.0   \n",
       "2                                 0.0                           0.0   \n",
       "3                                 0.0                           0.0   \n",
       "4                                 0.0                           0.0   \n",
       "...                               ...                           ...   \n",
       "34883                            50.0                           1.0   \n",
       "34884                            10.0                           1.0   \n",
       "34885                             0.0                           0.0   \n",
       "34886                             0.0                           0.0   \n",
       "34887                            39.0                           1.0   \n",
       "\n",
       "       donated_more_than30_duringdv   Age  caimpaign_flag  \n",
       "0                                 0  50.0               0  \n",
       "1                                 0  66.0               0  \n",
       "2                                 0  66.0               0  \n",
       "3                                 0  81.0               0  \n",
       "4                                 0  86.0               0  \n",
       "...                             ...   ...             ...  \n",
       "34883                             0  53.0               0  \n",
       "34884                             0  47.0               0  \n",
       "34885                             0  51.0               1  \n",
       "34886                             0  42.0               0  \n",
       "34887                             0  31.0               0  \n",
       "\n",
       "[34888 rows x 55 columns]"
      ]
     },
     "execution_count": 41,
     "metadata": {},
     "output_type": "execute_result"
    }
   ],
   "source": [
    "import random\n",
    "\n",
    "for col in cols_to_fill:\n",
    "    gift_base_6169[col] = gift_base_6169[col].fillna(0)\n",
    "\n",
    "gift_base_6169[\"Age\"] = gift_base_6169[\"Age\"].fillna(gift_base_6169[\"Age\"].mean())\n",
    "\n",
    "gift_base_6169[\"gender\"].fillna(random.choice(gift_base_6169['gender'][gift_base_6169['gender'].notna()]), inplace=True)\n",
    "#gift_base_6169[\"language\"].fillna(random.choice(gift_base_6169['language'][gift_base_6169['language'].notna()]), inplace=True)\n",
    "\n",
    "\n",
    "#gift_base_6169['region'].fillna(random.choice(gift_base_6169['region'][gift_base_6169['region'].notna()]), inplace=True)\n",
    "#gift_base_6169['province'].fillna(random.choice(gift_base_6169['province'][gift_base_6169['province'].notna()]), inplace=True)\n",
    "gift_base_6169['zipcode'].fillna(random.choice(gift_base_6169['zipcode'][gift_base_6169['zipcode'].notna()]), inplace=True)\n",
    "\n",
    "\n",
    "gift_base_6169[\"campaignID\"].replace({\"unknown\": 0}, inplace=True)\n",
    "gift_base_6169[\"campaignID\"].fillna(0, inplace=True)\n",
    "gift_base_6169"
   ]
  },
  {
   "cell_type": "code",
   "execution_count": 42,
   "metadata": {},
   "outputs": [],
   "source": [
    "for col in cols_to_fill:\n",
    "    gift_base_7244[col] = gift_base_7244[col].fillna(0)\n",
    "\n",
    "gift_base_7244[\"Age\"] = gift_base_7244[\"Age\"].fillna(gift_base_7244[\"Age\"].mean())\n",
    "\n",
    "gift_base_7244[\"gender\"].fillna(random.choice(gift_base_7244['gender'][gift_base_7244['gender'].notna()]), inplace=True)\n",
    "#gift_base_7244[\"language\"].fillna(random.choice(gift_base_7244['language'][gift_base_7244['language'].notna()]), inplace=True)\n",
    "\n",
    "\n",
    "#gift_base_7244['region'].fillna(random.choice(gift_base_7244['region'][gift_base_7244['region'].notna()]), inplace=True)\n",
    "#gift_base_7244['province'].fillna(random.choice(gift_base_7244['province'][gift_base_7244['province'].notna()]), inplace=True)\n",
    "gift_base_7244['zipcode'].fillna(random.choice(gift_base_7244['zipcode'][gift_base_7244['zipcode'].notna()]), inplace=True)\n",
    "\n",
    "\n",
    "gift_base_7244[\"campaignID\"].replace({\"unknown\": 0}, inplace=True)\n",
    "gift_base_7244[\"campaignID\"].fillna(0, inplace=True)"
   ]
  },
  {
   "cell_type": "code",
   "execution_count": 43,
   "metadata": {},
   "outputs": [
    {
     "data": {
      "text/html": [
       "<div>\n",
       "<style scoped>\n",
       "    .dataframe tbody tr th:only-of-type {\n",
       "        vertical-align: middle;\n",
       "    }\n",
       "\n",
       "    .dataframe tbody tr th {\n",
       "        vertical-align: top;\n",
       "    }\n",
       "\n",
       "    .dataframe thead th {\n",
       "        text-align: right;\n",
       "    }\n",
       "</style>\n",
       "<table border=\"1\" class=\"dataframe\">\n",
       "  <thead>\n",
       "    <tr style=\"text-align: right;\">\n",
       "      <th></th>\n",
       "      <th>donorID</th>\n",
       "      <th>campaignID</th>\n",
       "      <th>frequency_donor</th>\n",
       "      <th>total_donated</th>\n",
       "      <th>C1</th>\n",
       "      <th>C2</th>\n",
       "      <th>C3</th>\n",
       "      <th>C4</th>\n",
       "      <th>C5</th>\n",
       "      <th>C6</th>\n",
       "      <th>...</th>\n",
       "      <th>region_Wallonia</th>\n",
       "      <th>language_FR</th>\n",
       "      <th>language_NL</th>\n",
       "      <th>total_freq_till_now</th>\n",
       "      <th>total_amount_till_now</th>\n",
       "      <th>total_amount_till_last_3_years</th>\n",
       "      <th>total_freq_till_last_3_years</th>\n",
       "      <th>donated_more_than30_duringdv</th>\n",
       "      <th>Age</th>\n",
       "      <th>caimpaign_flag</th>\n",
       "    </tr>\n",
       "  </thead>\n",
       "  <tbody>\n",
       "    <tr>\n",
       "      <th>0</th>\n",
       "      <td>100001</td>\n",
       "      <td>0.0</td>\n",
       "      <td>0.0</td>\n",
       "      <td>0.0</td>\n",
       "      <td>0.0</td>\n",
       "      <td>0.0</td>\n",
       "      <td>0.0</td>\n",
       "      <td>0.0</td>\n",
       "      <td>0.0</td>\n",
       "      <td>0.0</td>\n",
       "      <td>...</td>\n",
       "      <td>0</td>\n",
       "      <td>0</td>\n",
       "      <td>1</td>\n",
       "      <td>12.0</td>\n",
       "      <td>178.49</td>\n",
       "      <td>0.0</td>\n",
       "      <td>0.0</td>\n",
       "      <td>0</td>\n",
       "      <td>51</td>\n",
       "      <td>0</td>\n",
       "    </tr>\n",
       "    <tr>\n",
       "      <th>1</th>\n",
       "      <td>100002</td>\n",
       "      <td>0.0</td>\n",
       "      <td>0.0</td>\n",
       "      <td>0.0</td>\n",
       "      <td>0.0</td>\n",
       "      <td>0.0</td>\n",
       "      <td>0.0</td>\n",
       "      <td>0.0</td>\n",
       "      <td>0.0</td>\n",
       "      <td>0.0</td>\n",
       "      <td>...</td>\n",
       "      <td>0</td>\n",
       "      <td>0</td>\n",
       "      <td>1</td>\n",
       "      <td>1.0</td>\n",
       "      <td>20.00</td>\n",
       "      <td>0.0</td>\n",
       "      <td>0.0</td>\n",
       "      <td>0</td>\n",
       "      <td>67</td>\n",
       "      <td>0</td>\n",
       "    </tr>\n",
       "    <tr>\n",
       "      <th>2</th>\n",
       "      <td>100008</td>\n",
       "      <td>0.0</td>\n",
       "      <td>0.0</td>\n",
       "      <td>0.0</td>\n",
       "      <td>0.0</td>\n",
       "      <td>0.0</td>\n",
       "      <td>0.0</td>\n",
       "      <td>0.0</td>\n",
       "      <td>0.0</td>\n",
       "      <td>0.0</td>\n",
       "      <td>...</td>\n",
       "      <td>0</td>\n",
       "      <td>1</td>\n",
       "      <td>0</td>\n",
       "      <td>3.0</td>\n",
       "      <td>124.37</td>\n",
       "      <td>0.0</td>\n",
       "      <td>0.0</td>\n",
       "      <td>0</td>\n",
       "      <td>81</td>\n",
       "      <td>0</td>\n",
       "    </tr>\n",
       "    <tr>\n",
       "      <th>3</th>\n",
       "      <td>100009</td>\n",
       "      <td>0.0</td>\n",
       "      <td>0.0</td>\n",
       "      <td>0.0</td>\n",
       "      <td>0.0</td>\n",
       "      <td>0.0</td>\n",
       "      <td>0.0</td>\n",
       "      <td>0.0</td>\n",
       "      <td>0.0</td>\n",
       "      <td>0.0</td>\n",
       "      <td>...</td>\n",
       "      <td>0</td>\n",
       "      <td>1</td>\n",
       "      <td>0</td>\n",
       "      <td>19.0</td>\n",
       "      <td>326.78</td>\n",
       "      <td>0.0</td>\n",
       "      <td>0.0</td>\n",
       "      <td>0</td>\n",
       "      <td>87</td>\n",
       "      <td>0</td>\n",
       "    </tr>\n",
       "    <tr>\n",
       "      <th>4</th>\n",
       "      <td>100010</td>\n",
       "      <td>0.0</td>\n",
       "      <td>0.0</td>\n",
       "      <td>0.0</td>\n",
       "      <td>0.0</td>\n",
       "      <td>0.0</td>\n",
       "      <td>0.0</td>\n",
       "      <td>0.0</td>\n",
       "      <td>0.0</td>\n",
       "      <td>0.0</td>\n",
       "      <td>...</td>\n",
       "      <td>0</td>\n",
       "      <td>1</td>\n",
       "      <td>0</td>\n",
       "      <td>1.0</td>\n",
       "      <td>40.00</td>\n",
       "      <td>0.0</td>\n",
       "      <td>0.0</td>\n",
       "      <td>0</td>\n",
       "      <td>36</td>\n",
       "      <td>0</td>\n",
       "    </tr>\n",
       "    <tr>\n",
       "      <th>...</th>\n",
       "      <td>...</td>\n",
       "      <td>...</td>\n",
       "      <td>...</td>\n",
       "      <td>...</td>\n",
       "      <td>...</td>\n",
       "      <td>...</td>\n",
       "      <td>...</td>\n",
       "      <td>...</td>\n",
       "      <td>...</td>\n",
       "      <td>...</td>\n",
       "      <td>...</td>\n",
       "      <td>...</td>\n",
       "      <td>...</td>\n",
       "      <td>...</td>\n",
       "      <td>...</td>\n",
       "      <td>...</td>\n",
       "      <td>...</td>\n",
       "      <td>...</td>\n",
       "      <td>...</td>\n",
       "      <td>...</td>\n",
       "      <td>...</td>\n",
       "    </tr>\n",
       "    <tr>\n",
       "      <th>25640</th>\n",
       "      <td>144682</td>\n",
       "      <td>0.0</td>\n",
       "      <td>0.0</td>\n",
       "      <td>0.0</td>\n",
       "      <td>0.0</td>\n",
       "      <td>0.0</td>\n",
       "      <td>0.0</td>\n",
       "      <td>0.0</td>\n",
       "      <td>0.0</td>\n",
       "      <td>0.0</td>\n",
       "      <td>...</td>\n",
       "      <td>0</td>\n",
       "      <td>1</td>\n",
       "      <td>0</td>\n",
       "      <td>1.0</td>\n",
       "      <td>40.00</td>\n",
       "      <td>40.0</td>\n",
       "      <td>1.0</td>\n",
       "      <td>0</td>\n",
       "      <td>36</td>\n",
       "      <td>0</td>\n",
       "    </tr>\n",
       "    <tr>\n",
       "      <th>25641</th>\n",
       "      <td>144683</td>\n",
       "      <td>0.0</td>\n",
       "      <td>0.0</td>\n",
       "      <td>0.0</td>\n",
       "      <td>0.0</td>\n",
       "      <td>0.0</td>\n",
       "      <td>0.0</td>\n",
       "      <td>0.0</td>\n",
       "      <td>0.0</td>\n",
       "      <td>0.0</td>\n",
       "      <td>...</td>\n",
       "      <td>0</td>\n",
       "      <td>0</td>\n",
       "      <td>1</td>\n",
       "      <td>1.0</td>\n",
       "      <td>50.00</td>\n",
       "      <td>0.0</td>\n",
       "      <td>0.0</td>\n",
       "      <td>0</td>\n",
       "      <td>34</td>\n",
       "      <td>0</td>\n",
       "    </tr>\n",
       "    <tr>\n",
       "      <th>25642</th>\n",
       "      <td>144686</td>\n",
       "      <td>0.0</td>\n",
       "      <td>0.0</td>\n",
       "      <td>0.0</td>\n",
       "      <td>0.0</td>\n",
       "      <td>0.0</td>\n",
       "      <td>0.0</td>\n",
       "      <td>0.0</td>\n",
       "      <td>0.0</td>\n",
       "      <td>0.0</td>\n",
       "      <td>...</td>\n",
       "      <td>0</td>\n",
       "      <td>0</td>\n",
       "      <td>1</td>\n",
       "      <td>1.0</td>\n",
       "      <td>50.00</td>\n",
       "      <td>0.0</td>\n",
       "      <td>0.0</td>\n",
       "      <td>0</td>\n",
       "      <td>54</td>\n",
       "      <td>0</td>\n",
       "    </tr>\n",
       "    <tr>\n",
       "      <th>25643</th>\n",
       "      <td>144690</td>\n",
       "      <td>0.0</td>\n",
       "      <td>0.0</td>\n",
       "      <td>0.0</td>\n",
       "      <td>0.0</td>\n",
       "      <td>0.0</td>\n",
       "      <td>0.0</td>\n",
       "      <td>0.0</td>\n",
       "      <td>0.0</td>\n",
       "      <td>0.0</td>\n",
       "      <td>...</td>\n",
       "      <td>0</td>\n",
       "      <td>1</td>\n",
       "      <td>0</td>\n",
       "      <td>1.0</td>\n",
       "      <td>40.00</td>\n",
       "      <td>0.0</td>\n",
       "      <td>0.0</td>\n",
       "      <td>0</td>\n",
       "      <td>43</td>\n",
       "      <td>0</td>\n",
       "    </tr>\n",
       "    <tr>\n",
       "      <th>25644</th>\n",
       "      <td>144691</td>\n",
       "      <td>0.0</td>\n",
       "      <td>0.0</td>\n",
       "      <td>0.0</td>\n",
       "      <td>0.0</td>\n",
       "      <td>0.0</td>\n",
       "      <td>0.0</td>\n",
       "      <td>0.0</td>\n",
       "      <td>0.0</td>\n",
       "      <td>0.0</td>\n",
       "      <td>...</td>\n",
       "      <td>0</td>\n",
       "      <td>1</td>\n",
       "      <td>0</td>\n",
       "      <td>1.0</td>\n",
       "      <td>39.00</td>\n",
       "      <td>39.0</td>\n",
       "      <td>1.0</td>\n",
       "      <td>0</td>\n",
       "      <td>32</td>\n",
       "      <td>0</td>\n",
       "    </tr>\n",
       "  </tbody>\n",
       "</table>\n",
       "<p>25645 rows × 55 columns</p>\n",
       "</div>"
      ],
      "text/plain": [
       "       donorID  campaignID  frequency_donor  total_donated   C1   C2   C3  \\\n",
       "0       100001         0.0              0.0            0.0  0.0  0.0  0.0   \n",
       "1       100002         0.0              0.0            0.0  0.0  0.0  0.0   \n",
       "2       100008         0.0              0.0            0.0  0.0  0.0  0.0   \n",
       "3       100009         0.0              0.0            0.0  0.0  0.0  0.0   \n",
       "4       100010         0.0              0.0            0.0  0.0  0.0  0.0   \n",
       "...        ...         ...              ...            ...  ...  ...  ...   \n",
       "25640   144682         0.0              0.0            0.0  0.0  0.0  0.0   \n",
       "25641   144683         0.0              0.0            0.0  0.0  0.0  0.0   \n",
       "25642   144686         0.0              0.0            0.0  0.0  0.0  0.0   \n",
       "25643   144690         0.0              0.0            0.0  0.0  0.0  0.0   \n",
       "25644   144691         0.0              0.0            0.0  0.0  0.0  0.0   \n",
       "\n",
       "        C4   C5   C6  ...  region_Wallonia  language_FR  language_NL  \\\n",
       "0      0.0  0.0  0.0  ...                0            0            1   \n",
       "1      0.0  0.0  0.0  ...                0            0            1   \n",
       "2      0.0  0.0  0.0  ...                0            1            0   \n",
       "3      0.0  0.0  0.0  ...                0            1            0   \n",
       "4      0.0  0.0  0.0  ...                0            1            0   \n",
       "...    ...  ...  ...  ...              ...          ...          ...   \n",
       "25640  0.0  0.0  0.0  ...                0            1            0   \n",
       "25641  0.0  0.0  0.0  ...                0            0            1   \n",
       "25642  0.0  0.0  0.0  ...                0            0            1   \n",
       "25643  0.0  0.0  0.0  ...                0            1            0   \n",
       "25644  0.0  0.0  0.0  ...                0            1            0   \n",
       "\n",
       "       total_freq_till_now  total_amount_till_now  \\\n",
       "0                     12.0                 178.49   \n",
       "1                      1.0                  20.00   \n",
       "2                      3.0                 124.37   \n",
       "3                     19.0                 326.78   \n",
       "4                      1.0                  40.00   \n",
       "...                    ...                    ...   \n",
       "25640                  1.0                  40.00   \n",
       "25641                  1.0                  50.00   \n",
       "25642                  1.0                  50.00   \n",
       "25643                  1.0                  40.00   \n",
       "25644                  1.0                  39.00   \n",
       "\n",
       "       total_amount_till_last_3_years  total_freq_till_last_3_years  \\\n",
       "0                                 0.0                           0.0   \n",
       "1                                 0.0                           0.0   \n",
       "2                                 0.0                           0.0   \n",
       "3                                 0.0                           0.0   \n",
       "4                                 0.0                           0.0   \n",
       "...                               ...                           ...   \n",
       "25640                            40.0                           1.0   \n",
       "25641                             0.0                           0.0   \n",
       "25642                             0.0                           0.0   \n",
       "25643                             0.0                           0.0   \n",
       "25644                            39.0                           1.0   \n",
       "\n",
       "       donated_more_than30_duringdv  Age  caimpaign_flag  \n",
       "0                                 0   51               0  \n",
       "1                                 0   67               0  \n",
       "2                                 0   81               0  \n",
       "3                                 0   87               0  \n",
       "4                                 0   36               0  \n",
       "...                             ...  ...             ...  \n",
       "25640                             0   36               0  \n",
       "25641                             0   34               0  \n",
       "25642                             0   54               0  \n",
       "25643                             0   43               0  \n",
       "25644                             0   32               0  \n",
       "\n",
       "[25645 rows x 55 columns]"
      ]
     },
     "execution_count": 43,
     "metadata": {},
     "output_type": "execute_result"
    }
   ],
   "source": [
    "gift_base_7244"
   ]
  },
  {
   "cell_type": "code",
   "execution_count": 44,
   "metadata": {},
   "outputs": [],
   "source": [
    "from scipy.stats.mstats import winsorize"
   ]
  },
  {
   "cell_type": "code",
   "execution_count": 45,
   "metadata": {},
   "outputs": [],
   "source": [
    "gift_base_6169[\"total_donated\"] = winsorize(gift_base_6169[\"total_donated\"], limits=[0.05, .95])\n",
    "gift_base_7244[\"total_donated\"] = winsorize(gift_base_7244[\"total_donated\"], limits=[0.05, .95])\n",
    "gift_base_7362[\"total_donated\"] = winsorize(gift_base_7362[\"total_donated\"], limits=[0.05, .95])"
   ]
  },
  {
   "cell_type": "code",
   "execution_count": 46,
   "metadata": {},
   "outputs": [
    {
     "data": {
      "text/html": [
       "<div>\n",
       "<style scoped>\n",
       "    .dataframe tbody tr th:only-of-type {\n",
       "        vertical-align: middle;\n",
       "    }\n",
       "\n",
       "    .dataframe tbody tr th {\n",
       "        vertical-align: top;\n",
       "    }\n",
       "\n",
       "    .dataframe thead th {\n",
       "        text-align: right;\n",
       "    }\n",
       "</style>\n",
       "<table border=\"1\" class=\"dataframe\">\n",
       "  <thead>\n",
       "    <tr style=\"text-align: right;\">\n",
       "      <th></th>\n",
       "      <th>donorID</th>\n",
       "      <th>campaignID</th>\n",
       "      <th>frequency_donor</th>\n",
       "      <th>total_donated</th>\n",
       "      <th>C1</th>\n",
       "      <th>C2</th>\n",
       "      <th>C3</th>\n",
       "      <th>C4</th>\n",
       "      <th>C5</th>\n",
       "      <th>C6</th>\n",
       "      <th>...</th>\n",
       "      <th>region_Wallonia</th>\n",
       "      <th>language_FR</th>\n",
       "      <th>language_NL</th>\n",
       "      <th>total_freq_till_now</th>\n",
       "      <th>total_amount_till_now</th>\n",
       "      <th>total_amount_till_last_3_years</th>\n",
       "      <th>total_freq_till_last_3_years</th>\n",
       "      <th>donated_more_than30_duringdv</th>\n",
       "      <th>Age</th>\n",
       "      <th>caimpaign_flag</th>\n",
       "    </tr>\n",
       "  </thead>\n",
       "  <tbody>\n",
       "    <tr>\n",
       "      <th>0</th>\n",
       "      <td>100001</td>\n",
       "      <td>0.0</td>\n",
       "      <td>0.0</td>\n",
       "      <td>0.0</td>\n",
       "      <td>0.0</td>\n",
       "      <td>0.0</td>\n",
       "      <td>0.0</td>\n",
       "      <td>0.0</td>\n",
       "      <td>0.0</td>\n",
       "      <td>0.0</td>\n",
       "      <td>...</td>\n",
       "      <td>0.0</td>\n",
       "      <td>0.0</td>\n",
       "      <td>1.0</td>\n",
       "      <td>12.0</td>\n",
       "      <td>178.49</td>\n",
       "      <td>0.0</td>\n",
       "      <td>0.0</td>\n",
       "      <td>0</td>\n",
       "      <td>50.0</td>\n",
       "      <td>0</td>\n",
       "    </tr>\n",
       "    <tr>\n",
       "      <th>1</th>\n",
       "      <td>100002</td>\n",
       "      <td>0.0</td>\n",
       "      <td>0.0</td>\n",
       "      <td>0.0</td>\n",
       "      <td>0.0</td>\n",
       "      <td>0.0</td>\n",
       "      <td>0.0</td>\n",
       "      <td>0.0</td>\n",
       "      <td>0.0</td>\n",
       "      <td>0.0</td>\n",
       "      <td>...</td>\n",
       "      <td>0.0</td>\n",
       "      <td>0.0</td>\n",
       "      <td>1.0</td>\n",
       "      <td>1.0</td>\n",
       "      <td>20.00</td>\n",
       "      <td>0.0</td>\n",
       "      <td>0.0</td>\n",
       "      <td>0</td>\n",
       "      <td>66.0</td>\n",
       "      <td>0</td>\n",
       "    </tr>\n",
       "    <tr>\n",
       "      <th>2</th>\n",
       "      <td>100004</td>\n",
       "      <td>0.0</td>\n",
       "      <td>0.0</td>\n",
       "      <td>0.0</td>\n",
       "      <td>0.0</td>\n",
       "      <td>0.0</td>\n",
       "      <td>0.0</td>\n",
       "      <td>0.0</td>\n",
       "      <td>0.0</td>\n",
       "      <td>0.0</td>\n",
       "      <td>...</td>\n",
       "      <td>0.0</td>\n",
       "      <td>1.0</td>\n",
       "      <td>0.0</td>\n",
       "      <td>26.0</td>\n",
       "      <td>716.22</td>\n",
       "      <td>0.0</td>\n",
       "      <td>0.0</td>\n",
       "      <td>0</td>\n",
       "      <td>66.0</td>\n",
       "      <td>0</td>\n",
       "    </tr>\n",
       "    <tr>\n",
       "      <th>3</th>\n",
       "      <td>100008</td>\n",
       "      <td>0.0</td>\n",
       "      <td>0.0</td>\n",
       "      <td>0.0</td>\n",
       "      <td>0.0</td>\n",
       "      <td>0.0</td>\n",
       "      <td>0.0</td>\n",
       "      <td>0.0</td>\n",
       "      <td>0.0</td>\n",
       "      <td>0.0</td>\n",
       "      <td>...</td>\n",
       "      <td>0.0</td>\n",
       "      <td>1.0</td>\n",
       "      <td>0.0</td>\n",
       "      <td>3.0</td>\n",
       "      <td>124.37</td>\n",
       "      <td>0.0</td>\n",
       "      <td>0.0</td>\n",
       "      <td>0</td>\n",
       "      <td>81.0</td>\n",
       "      <td>0</td>\n",
       "    </tr>\n",
       "    <tr>\n",
       "      <th>4</th>\n",
       "      <td>100009</td>\n",
       "      <td>0.0</td>\n",
       "      <td>0.0</td>\n",
       "      <td>0.0</td>\n",
       "      <td>0.0</td>\n",
       "      <td>0.0</td>\n",
       "      <td>0.0</td>\n",
       "      <td>0.0</td>\n",
       "      <td>0.0</td>\n",
       "      <td>0.0</td>\n",
       "      <td>...</td>\n",
       "      <td>0.0</td>\n",
       "      <td>1.0</td>\n",
       "      <td>0.0</td>\n",
       "      <td>19.0</td>\n",
       "      <td>326.78</td>\n",
       "      <td>0.0</td>\n",
       "      <td>0.0</td>\n",
       "      <td>0</td>\n",
       "      <td>86.0</td>\n",
       "      <td>0</td>\n",
       "    </tr>\n",
       "  </tbody>\n",
       "</table>\n",
       "<p>5 rows × 55 columns</p>\n",
       "</div>"
      ],
      "text/plain": [
       "   donorID  campaignID  frequency_donor  total_donated   C1   C2   C3   C4  \\\n",
       "0   100001         0.0              0.0            0.0  0.0  0.0  0.0  0.0   \n",
       "1   100002         0.0              0.0            0.0  0.0  0.0  0.0  0.0   \n",
       "2   100004         0.0              0.0            0.0  0.0  0.0  0.0  0.0   \n",
       "3   100008         0.0              0.0            0.0  0.0  0.0  0.0  0.0   \n",
       "4   100009         0.0              0.0            0.0  0.0  0.0  0.0  0.0   \n",
       "\n",
       "    C5   C6  ...  region_Wallonia  language_FR  language_NL  \\\n",
       "0  0.0  0.0  ...              0.0          0.0          1.0   \n",
       "1  0.0  0.0  ...              0.0          0.0          1.0   \n",
       "2  0.0  0.0  ...              0.0          1.0          0.0   \n",
       "3  0.0  0.0  ...              0.0          1.0          0.0   \n",
       "4  0.0  0.0  ...              0.0          1.0          0.0   \n",
       "\n",
       "   total_freq_till_now  total_amount_till_now  total_amount_till_last_3_years  \\\n",
       "0                 12.0                 178.49                             0.0   \n",
       "1                  1.0                  20.00                             0.0   \n",
       "2                 26.0                 716.22                             0.0   \n",
       "3                  3.0                 124.37                             0.0   \n",
       "4                 19.0                 326.78                             0.0   \n",
       "\n",
       "   total_freq_till_last_3_years  donated_more_than30_duringdv   Age  \\\n",
       "0                           0.0                             0  50.0   \n",
       "1                           0.0                             0  66.0   \n",
       "2                           0.0                             0  66.0   \n",
       "3                           0.0                             0  81.0   \n",
       "4                           0.0                             0  86.0   \n",
       "\n",
       "   caimpaign_flag  \n",
       "0               0  \n",
       "1               0  \n",
       "2               0  \n",
       "3               0  \n",
       "4               0  \n",
       "\n",
       "[5 rows x 55 columns]"
      ]
     },
     "execution_count": 46,
     "metadata": {},
     "output_type": "execute_result"
    }
   ],
   "source": [
    "gift_base_6169.head()"
   ]
  },
  {
   "cell_type": "markdown",
   "metadata": {},
   "source": [
    "# Model building"
   ]
  },
  {
   "cell_type": "code",
   "execution_count": 47,
   "metadata": {},
   "outputs": [],
   "source": [
    "from sklearn.model_selection import train_test_split\n",
    "from sklearn.metrics import accuracy_score\n",
    "\n",
    "import matplotlib.pyplot as plt\n",
    "import plotly.express as px\n",
    "import seaborn as sns\n",
    "\n",
    "from sklearn.linear_model import LogisticRegression\n",
    "from sklearn.linear_model import Lasso\n",
    "\n",
    "#for confusion matrix\n",
    "from sklearn.metrics import confusion_matrix\n",
    "#for having clasification reports\n",
    "from sklearn.metrics import classification_report\n",
    "#ROC curve for analyzing Logistic regression\n",
    "from sklearn.metrics import roc_curve\n",
    "# Cross Validation Score\n",
    "from sklearn.model_selection import cross_val_score\n",
    "# Calculate AUC Score\n",
    "from sklearn.metrics import roc_auc_score\n",
    "\n",
    "#an algotithm to normalize the numbers by dividing them to thairs std\n",
    "from scipy.cluster.vq import whiten\n",
    "\n",
    "from sklearn.metrics import r2_score, accuracy_score\n",
    "from scipy.stats import spearmanr, pearsonr\n",
    "\n",
    "from sklearn.ensemble import RandomForestClassifier"
   ]
  },
  {
   "cell_type": "code",
   "execution_count": 48,
   "metadata": {},
   "outputs": [],
   "source": [
    "gift_base_6169[\"caimpaign_flag\"] = np.where(gift_base_6169[\"campaignID\"]==0,0,1)\n",
    "gift_base_7244[\"caimpaign_flag\"] = np.where(gift_base_7244[\"campaignID\"]==0,0,1)\n",
    "gift_base_7362[\"caimpaign_flag\"] = np.where(gift_base_7362[\"campaignID\"]==0,0,1)"
   ]
  },
  {
   "cell_type": "code",
   "execution_count": 49,
   "metadata": {},
   "outputs": [
    {
     "data": {
      "text/plain": [
       "Index(['donorID', 'campaignID', 'frequency_donor', 'total_donated', 'C1', 'C2',\n",
       "       'C3', 'C4', 'C5', 'C6', 'C7', 'C8', 'C9', 'C10', 'C11', 'C12', 'C13',\n",
       "       'total_amount_1_month', 'total_freq_1_month', 'total_amount_2_month',\n",
       "       'total_freq_2_month', 'total_amount_3_month', 'total_freq_3_month',\n",
       "       'total_amount_4_month', 'total_freq_4_month', 'total_amount_5_month',\n",
       "       'total_freq_5_month', 'total_amount_6_month', 'total_freq_6_month',\n",
       "       'Recency_dono', 'zipcode', 'gender', 'province_Brussels',\n",
       "       'province_East Flanders', 'province_Flemish Brabant',\n",
       "       'province_Hainaut', 'province_Liege', 'province_Limburg',\n",
       "       'province_Luxembourg', 'province_Missing', 'province_Namur',\n",
       "       'province_Walloon Brabant', 'province_West Flanders', 'region_Flanders',\n",
       "       'region_Missing', 'region_Wallonia', 'language_FR', 'language_NL',\n",
       "       'total_freq_till_now', 'total_amount_till_now',\n",
       "       'total_amount_till_last_3_years', 'total_freq_till_last_3_years',\n",
       "       'donated_more_than30_duringdv', 'Age', 'caimpaign_flag'],\n",
       "      dtype='object')"
      ]
     },
     "execution_count": 49,
     "metadata": {},
     "output_type": "execute_result"
    }
   ],
   "source": [
    "gift_base_6169.columns"
   ]
  },
  {
   "cell_type": "code",
   "execution_count": 50,
   "metadata": {},
   "outputs": [],
   "source": [
    "features = ['donorID', 'campaignID', 'frequency_donor', 'total_donated', 'C1', 'C2',\n",
    "       'C3', 'C4', 'C5', 'C6', 'C7', 'C8', 'C9', 'C10', 'C11', 'C12', 'C13',\n",
    "       'total_amount_1_month', 'total_freq_1_month', 'total_amount_2_month',\n",
    "       'total_freq_2_month', 'total_amount_3_month', 'total_freq_3_month',\n",
    "       'total_amount_4_month', 'total_freq_4_month', 'total_amount_5_month',\n",
    "       'total_freq_5_month', 'total_amount_6_month', 'total_freq_6_month',\n",
    "       'Recency_dono', 'gender', 'province_Brussels',\n",
    "       'province_East Flanders', 'province_Flemish Brabant',\n",
    "       'province_Hainaut', 'province_Liege', 'province_Limburg',\n",
    "       'province_Luxembourg', 'province_Missing', 'province_Namur',\n",
    "       'province_Walloon Brabant', 'province_West Flanders', 'region_Flanders',\n",
    "       'region_Missing', 'region_Wallonia', 'language_FR', 'language_NL',\n",
    "       'total_freq_till_now', 'total_amount_till_now',\n",
    "       'total_amount_till_last_3_years', 'total_freq_till_last_3_years',\n",
    "       'Age', 'caimpaign_flag']\n",
    "                    \n",
    "\n",
    "X = gift_base_6169[features]\n",
    "y = gift_base_6169['donated_more_than30_duringdv']"
   ]
  },
  {
   "cell_type": "code",
   "execution_count": 51,
   "metadata": {},
   "outputs": [
    {
     "data": {
      "text/html": [
       "<div>\n",
       "<style scoped>\n",
       "    .dataframe tbody tr th:only-of-type {\n",
       "        vertical-align: middle;\n",
       "    }\n",
       "\n",
       "    .dataframe tbody tr th {\n",
       "        vertical-align: top;\n",
       "    }\n",
       "\n",
       "    .dataframe thead th {\n",
       "        text-align: right;\n",
       "    }\n",
       "</style>\n",
       "<table border=\"1\" class=\"dataframe\">\n",
       "  <thead>\n",
       "    <tr style=\"text-align: right;\">\n",
       "      <th></th>\n",
       "      <th>donorID</th>\n",
       "      <th>campaignID</th>\n",
       "      <th>frequency_donor</th>\n",
       "      <th>total_donated</th>\n",
       "      <th>C1</th>\n",
       "      <th>C2</th>\n",
       "      <th>C3</th>\n",
       "      <th>C4</th>\n",
       "      <th>C5</th>\n",
       "      <th>C6</th>\n",
       "      <th>...</th>\n",
       "      <th>region_Missing</th>\n",
       "      <th>region_Wallonia</th>\n",
       "      <th>language_FR</th>\n",
       "      <th>language_NL</th>\n",
       "      <th>total_freq_till_now</th>\n",
       "      <th>total_amount_till_now</th>\n",
       "      <th>total_amount_till_last_3_years</th>\n",
       "      <th>total_freq_till_last_3_years</th>\n",
       "      <th>Age</th>\n",
       "      <th>caimpaign_flag</th>\n",
       "    </tr>\n",
       "  </thead>\n",
       "  <tbody>\n",
       "    <tr>\n",
       "      <th>0</th>\n",
       "      <td>100001</td>\n",
       "      <td>0.0</td>\n",
       "      <td>0.0</td>\n",
       "      <td>0.0</td>\n",
       "      <td>0.0</td>\n",
       "      <td>0.0</td>\n",
       "      <td>0.0</td>\n",
       "      <td>0.0</td>\n",
       "      <td>0.0</td>\n",
       "      <td>0.0</td>\n",
       "      <td>...</td>\n",
       "      <td>0.0</td>\n",
       "      <td>0.0</td>\n",
       "      <td>0.0</td>\n",
       "      <td>1.0</td>\n",
       "      <td>12.0</td>\n",
       "      <td>178.49</td>\n",
       "      <td>0.0</td>\n",
       "      <td>0.0</td>\n",
       "      <td>50.0</td>\n",
       "      <td>0</td>\n",
       "    </tr>\n",
       "    <tr>\n",
       "      <th>1</th>\n",
       "      <td>100002</td>\n",
       "      <td>0.0</td>\n",
       "      <td>0.0</td>\n",
       "      <td>0.0</td>\n",
       "      <td>0.0</td>\n",
       "      <td>0.0</td>\n",
       "      <td>0.0</td>\n",
       "      <td>0.0</td>\n",
       "      <td>0.0</td>\n",
       "      <td>0.0</td>\n",
       "      <td>...</td>\n",
       "      <td>0.0</td>\n",
       "      <td>0.0</td>\n",
       "      <td>0.0</td>\n",
       "      <td>1.0</td>\n",
       "      <td>1.0</td>\n",
       "      <td>20.00</td>\n",
       "      <td>0.0</td>\n",
       "      <td>0.0</td>\n",
       "      <td>66.0</td>\n",
       "      <td>0</td>\n",
       "    </tr>\n",
       "    <tr>\n",
       "      <th>2</th>\n",
       "      <td>100004</td>\n",
       "      <td>0.0</td>\n",
       "      <td>0.0</td>\n",
       "      <td>0.0</td>\n",
       "      <td>0.0</td>\n",
       "      <td>0.0</td>\n",
       "      <td>0.0</td>\n",
       "      <td>0.0</td>\n",
       "      <td>0.0</td>\n",
       "      <td>0.0</td>\n",
       "      <td>...</td>\n",
       "      <td>0.0</td>\n",
       "      <td>0.0</td>\n",
       "      <td>1.0</td>\n",
       "      <td>0.0</td>\n",
       "      <td>26.0</td>\n",
       "      <td>716.22</td>\n",
       "      <td>0.0</td>\n",
       "      <td>0.0</td>\n",
       "      <td>66.0</td>\n",
       "      <td>0</td>\n",
       "    </tr>\n",
       "    <tr>\n",
       "      <th>3</th>\n",
       "      <td>100008</td>\n",
       "      <td>0.0</td>\n",
       "      <td>0.0</td>\n",
       "      <td>0.0</td>\n",
       "      <td>0.0</td>\n",
       "      <td>0.0</td>\n",
       "      <td>0.0</td>\n",
       "      <td>0.0</td>\n",
       "      <td>0.0</td>\n",
       "      <td>0.0</td>\n",
       "      <td>...</td>\n",
       "      <td>0.0</td>\n",
       "      <td>0.0</td>\n",
       "      <td>1.0</td>\n",
       "      <td>0.0</td>\n",
       "      <td>3.0</td>\n",
       "      <td>124.37</td>\n",
       "      <td>0.0</td>\n",
       "      <td>0.0</td>\n",
       "      <td>81.0</td>\n",
       "      <td>0</td>\n",
       "    </tr>\n",
       "    <tr>\n",
       "      <th>4</th>\n",
       "      <td>100009</td>\n",
       "      <td>0.0</td>\n",
       "      <td>0.0</td>\n",
       "      <td>0.0</td>\n",
       "      <td>0.0</td>\n",
       "      <td>0.0</td>\n",
       "      <td>0.0</td>\n",
       "      <td>0.0</td>\n",
       "      <td>0.0</td>\n",
       "      <td>0.0</td>\n",
       "      <td>...</td>\n",
       "      <td>0.0</td>\n",
       "      <td>0.0</td>\n",
       "      <td>1.0</td>\n",
       "      <td>0.0</td>\n",
       "      <td>19.0</td>\n",
       "      <td>326.78</td>\n",
       "      <td>0.0</td>\n",
       "      <td>0.0</td>\n",
       "      <td>86.0</td>\n",
       "      <td>0</td>\n",
       "    </tr>\n",
       "  </tbody>\n",
       "</table>\n",
       "<p>5 rows × 53 columns</p>\n",
       "</div>"
      ],
      "text/plain": [
       "   donorID  campaignID  frequency_donor  total_donated   C1   C2   C3   C4  \\\n",
       "0   100001         0.0              0.0            0.0  0.0  0.0  0.0  0.0   \n",
       "1   100002         0.0              0.0            0.0  0.0  0.0  0.0  0.0   \n",
       "2   100004         0.0              0.0            0.0  0.0  0.0  0.0  0.0   \n",
       "3   100008         0.0              0.0            0.0  0.0  0.0  0.0  0.0   \n",
       "4   100009         0.0              0.0            0.0  0.0  0.0  0.0  0.0   \n",
       "\n",
       "    C5   C6  ...  region_Missing  region_Wallonia  language_FR  language_NL  \\\n",
       "0  0.0  0.0  ...             0.0              0.0          0.0          1.0   \n",
       "1  0.0  0.0  ...             0.0              0.0          0.0          1.0   \n",
       "2  0.0  0.0  ...             0.0              0.0          1.0          0.0   \n",
       "3  0.0  0.0  ...             0.0              0.0          1.0          0.0   \n",
       "4  0.0  0.0  ...             0.0              0.0          1.0          0.0   \n",
       "\n",
       "   total_freq_till_now  total_amount_till_now  total_amount_till_last_3_years  \\\n",
       "0                 12.0                 178.49                             0.0   \n",
       "1                  1.0                  20.00                             0.0   \n",
       "2                 26.0                 716.22                             0.0   \n",
       "3                  3.0                 124.37                             0.0   \n",
       "4                 19.0                 326.78                             0.0   \n",
       "\n",
       "   total_freq_till_last_3_years   Age  caimpaign_flag  \n",
       "0                           0.0  50.0               0  \n",
       "1                           0.0  66.0               0  \n",
       "2                           0.0  66.0               0  \n",
       "3                           0.0  81.0               0  \n",
       "4                           0.0  86.0               0  \n",
       "\n",
       "[5 rows x 53 columns]"
      ]
     },
     "execution_count": 51,
     "metadata": {},
     "output_type": "execute_result"
    }
   ],
   "source": [
    "X.head()"
   ]
  },
  {
   "cell_type": "code",
   "execution_count": 55,
   "metadata": {},
   "outputs": [],
   "source": [
    "X_train,X_test,y_train,y_test=train_test_split(X,y,test_size=0.2,stratify=y, shuffle=True)"
   ]
  },
  {
   "cell_type": "code",
   "execution_count": 56,
   "metadata": {},
   "outputs": [
    {
     "data": {
      "text/plain": [
       "0"
      ]
     },
     "execution_count": 56,
     "metadata": {},
     "output_type": "execute_result"
    }
   ],
   "source": [
    "gift_base_6169.isna().sum().sum()"
   ]
  },
  {
   "cell_type": "code",
   "execution_count": 36,
   "metadata": {},
   "outputs": [],
   "source": [
    "import h2o\n",
    "from h2o.automl import H2OAutoML"
   ]
  },
  {
   "cell_type": "code",
   "execution_count": 93,
   "metadata": {},
   "outputs": [
    {
     "name": "stdout",
     "output_type": "stream",
     "text": [
      "Checking whether there is an H2O instance running at http://localhost:54321 . connected.\n"
     ]
    },
    {
     "data": {
      "text/html": [
       "<div style=\"overflow:auto\"><table style=\"width:50%\"><tr><td>H2O_cluster_uptime:</td>\n",
       "<td>1 hour 9 mins</td></tr>\n",
       "<tr><td>H2O_cluster_timezone:</td>\n",
       "<td>Europe/Paris</td></tr>\n",
       "<tr><td>H2O_data_parsing_timezone:</td>\n",
       "<td>UTC</td></tr>\n",
       "<tr><td>H2O_cluster_version:</td>\n",
       "<td>3.34.0.3</td></tr>\n",
       "<tr><td>H2O_cluster_version_age:</td>\n",
       "<td>1 month and 29 days </td></tr>\n",
       "<tr><td>H2O_cluster_name:</td>\n",
       "<td>H2O_from_python_irana_3dbdis</td></tr>\n",
       "<tr><td>H2O_cluster_total_nodes:</td>\n",
       "<td>1</td></tr>\n",
       "<tr><td>H2O_cluster_free_memory:</td>\n",
       "<td>1.886 Gb</td></tr>\n",
       "<tr><td>H2O_cluster_total_cores:</td>\n",
       "<td>8</td></tr>\n",
       "<tr><td>H2O_cluster_allowed_cores:</td>\n",
       "<td>8</td></tr>\n",
       "<tr><td>H2O_cluster_status:</td>\n",
       "<td>locked, healthy</td></tr>\n",
       "<tr><td>H2O_connection_url:</td>\n",
       "<td>http://localhost:54321</td></tr>\n",
       "<tr><td>H2O_connection_proxy:</td>\n",
       "<td>{\"http\": null, \"https\": null}</td></tr>\n",
       "<tr><td>H2O_internal_security:</td>\n",
       "<td>False</td></tr>\n",
       "<tr><td>H2O_API_Extensions:</td>\n",
       "<td>Amazon S3, Algos, AutoML, Core V3, TargetEncoder, Core V4</td></tr>\n",
       "<tr><td>Python_version:</td>\n",
       "<td>3.8.8 final</td></tr></table></div>"
      ],
      "text/plain": [
       "--------------------------  ---------------------------------------------------------\n",
       "H2O_cluster_uptime:         1 hour 9 mins\n",
       "H2O_cluster_timezone:       Europe/Paris\n",
       "H2O_data_parsing_timezone:  UTC\n",
       "H2O_cluster_version:        3.34.0.3\n",
       "H2O_cluster_version_age:    1 month and 29 days\n",
       "H2O_cluster_name:           H2O_from_python_irana_3dbdis\n",
       "H2O_cluster_total_nodes:    1\n",
       "H2O_cluster_free_memory:    1.886 Gb\n",
       "H2O_cluster_total_cores:    8\n",
       "H2O_cluster_allowed_cores:  8\n",
       "H2O_cluster_status:         locked, healthy\n",
       "H2O_connection_url:         http://localhost:54321\n",
       "H2O_connection_proxy:       {\"http\": null, \"https\": null}\n",
       "H2O_internal_security:      False\n",
       "H2O_API_Extensions:         Amazon S3, Algos, AutoML, Core V3, TargetEncoder, Core V4\n",
       "Python_version:             3.8.8 final\n",
       "--------------------------  ---------------------------------------------------------"
      ]
     },
     "metadata": {},
     "output_type": "display_data"
    }
   ],
   "source": [
    "h2o.init(nthreads = -1,max_mem_size_GB = 2)"
   ]
  },
  {
   "cell_type": "code",
   "execution_count": 57,
   "metadata": {},
   "outputs": [],
   "source": [
    "from imblearn.under_sampling import RandomUnderSampler"
   ]
  },
  {
   "cell_type": "code",
   "execution_count": 63,
   "metadata": {},
   "outputs": [],
   "source": [
    "X = gift_base_6169[features]\n",
    "y = gift_base_6169['donated_more_than30_duringdv']"
   ]
  },
  {
   "cell_type": "code",
   "execution_count": 64,
   "metadata": {},
   "outputs": [],
   "source": [
    "sampling_strategy = 0.8\n",
    "rus = RandomUnderSampler(sampling_strategy=sampling_strategy)"
   ]
  },
  {
   "cell_type": "code",
   "execution_count": 65,
   "metadata": {},
   "outputs": [],
   "source": [
    "X_res, y_res = rus.fit_resample(X, y)"
   ]
  },
  {
   "cell_type": "code",
   "execution_count": 68,
   "metadata": {},
   "outputs": [
    {
     "name": "stdout",
     "output_type": "stream",
     "text": [
      "(2153, 53)\n",
      "(2153,)\n"
     ]
    }
   ],
   "source": [
    "print(X_res.shape)\n",
    "print(y_res.shape)"
   ]
  },
  {
   "cell_type": "code",
   "execution_count": 70,
   "metadata": {},
   "outputs": [],
   "source": [
    "X_train,X_test,y_train,y_test=train_test_split(X_res,y_res,test_size=0.2, shuffle=True)"
   ]
  },
  {
   "cell_type": "code",
   "execution_count": 127,
   "metadata": {},
   "outputs": [
    {
     "data": {
      "text/html": [
       "<div>\n",
       "<style scoped>\n",
       "    .dataframe tbody tr th:only-of-type {\n",
       "        vertical-align: middle;\n",
       "    }\n",
       "\n",
       "    .dataframe tbody tr th {\n",
       "        vertical-align: top;\n",
       "    }\n",
       "\n",
       "    .dataframe thead th {\n",
       "        text-align: right;\n",
       "    }\n",
       "</style>\n",
       "<table border=\"1\" class=\"dataframe\">\n",
       "  <thead>\n",
       "    <tr style=\"text-align: right;\">\n",
       "      <th></th>\n",
       "      <th>donated_more_than30_duringdv</th>\n",
       "      <th>count(donorID)</th>\n",
       "    </tr>\n",
       "  </thead>\n",
       "  <tbody>\n",
       "    <tr>\n",
       "      <th>0</th>\n",
       "      <td>0</td>\n",
       "      <td>33931</td>\n",
       "    </tr>\n",
       "    <tr>\n",
       "      <th>1</th>\n",
       "      <td>1</td>\n",
       "      <td>957</td>\n",
       "    </tr>\n",
       "  </tbody>\n",
       "</table>\n",
       "</div>"
      ],
      "text/plain": [
       "   donated_more_than30_duringdv  count(donorID)\n",
       "0                             0           33931\n",
       "1                             1             957"
      ]
     },
     "execution_count": 127,
     "metadata": {},
     "output_type": "execute_result"
    }
   ],
   "source": [
    "import sqldf\n",
    "sqldf.run(\"\"\"\n",
    "select\n",
    "donated_more_than30_duringdv,\n",
    "count(donorID)\n",
    "from gift_base_6169\n",
    "group by 1\n",
    "\"\"\")\n"
   ]
  },
  {
   "cell_type": "code",
   "execution_count": 129,
   "metadata": {},
   "outputs": [],
   "source": [
    "donators = sqldf.run(\"\"\"\n",
    "select\n",
    "*\n",
    "from gift_base_6169\n",
    "where donated_more_than30_duringdv =1\n",
    "\"\"\")"
   ]
  },
  {
   "cell_type": "code",
   "execution_count": 248,
   "metadata": {},
   "outputs": [],
   "source": [
    "not_donators = sqldf.run(\"\"\"\n",
    "select\n",
    "*\n",
    "from gift_base_6169\n",
    "where donated_more_than30_duringdv =0\n",
    "and campaignID is not null\n",
    "ORDER BY RANDOM()\n",
    "limit 7000\n",
    "\"\"\")"
   ]
  },
  {
   "cell_type": "code",
   "execution_count": 249,
   "metadata": {},
   "outputs": [],
   "source": [
    "from sklearn.utils import shuffle\n",
    "donators = shuffle(donators)\n",
    "not_donators = shuffle(not_donators)"
   ]
  },
  {
   "cell_type": "code",
   "execution_count": 250,
   "metadata": {},
   "outputs": [],
   "source": [
    "test_camp = sqldf.run(\"\"\"\n",
    "select * from not_donators\n",
    "union \n",
    "select * from donators\n",
    "\"\"\")\n",
    "\n",
    "test_camp = shuffle(test_camp)"
   ]
  },
  {
   "cell_type": "code",
   "execution_count": 251,
   "metadata": {},
   "outputs": [],
   "source": [
    "test_camp = test_camp.reset_index(drop=True)"
   ]
  },
  {
   "cell_type": "code",
   "execution_count": 252,
   "metadata": {},
   "outputs": [],
   "source": [
    "test_camp = test_camp.drop(\"level_0\", axis=1)\n",
    "test_camp = test_camp.drop(\"index\", axis=1)"
   ]
  },
  {
   "cell_type": "code",
   "execution_count": 253,
   "metadata": {},
   "outputs": [
    {
     "data": {
      "text/html": [
       "<div>\n",
       "<style scoped>\n",
       "    .dataframe tbody tr th:only-of-type {\n",
       "        vertical-align: middle;\n",
       "    }\n",
       "\n",
       "    .dataframe tbody tr th {\n",
       "        vertical-align: top;\n",
       "    }\n",
       "\n",
       "    .dataframe thead th {\n",
       "        text-align: right;\n",
       "    }\n",
       "</style>\n",
       "<table border=\"1\" class=\"dataframe\">\n",
       "  <thead>\n",
       "    <tr style=\"text-align: right;\">\n",
       "      <th></th>\n",
       "      <th>donated_more_than30_duringdv</th>\n",
       "      <th>count(donorID)</th>\n",
       "    </tr>\n",
       "  </thead>\n",
       "  <tbody>\n",
       "    <tr>\n",
       "      <th>0</th>\n",
       "      <td>0</td>\n",
       "      <td>7000</td>\n",
       "    </tr>\n",
       "    <tr>\n",
       "      <th>1</th>\n",
       "      <td>1</td>\n",
       "      <td>957</td>\n",
       "    </tr>\n",
       "  </tbody>\n",
       "</table>\n",
       "</div>"
      ],
      "text/plain": [
       "   donated_more_than30_duringdv  count(donorID)\n",
       "0                             0            7000\n",
       "1                             1             957"
      ]
     },
     "execution_count": 253,
     "metadata": {},
     "output_type": "execute_result"
    }
   ],
   "source": [
    "sqldf.run(\"\"\"\n",
    "select\n",
    "donated_more_than30_duringdv,\n",
    "count(donorID)\n",
    "from test_camp\n",
    "group by 1\n",
    "\"\"\")\n"
   ]
  },
  {
   "cell_type": "code",
   "execution_count": 226,
   "metadata": {},
   "outputs": [],
   "source": [
    "X_train = X_res\n",
    "X_train[\"target\"] = y_res\n",
    "#X_train"
   ]
  },
  {
   "cell_type": "code",
   "execution_count": 368,
   "metadata": {},
   "outputs": [
    {
     "name": "stdout",
     "output_type": "stream",
     "text": [
      "Parse progress: |████████████████████████████████████████████████████████████████| (done) 100%\n"
     ]
    }
   ],
   "source": [
    "#Create H2O frame\n",
    "#hdf_train =  h2o.H2OFrame(gift_base_6169)\n",
    "hdf_train =  h2o.H2OFrame(test_camp)\n",
    "\n",
    "train, test =hdf_train.split_frame(ratios=[0.3], seed = 42)\n",
    "\n",
    "y = \"donated_more_than30_duringdv\"\n",
    "\n",
    "# For binary classification, response should be a factor\n",
    "#train[y] = train[y].asfactor()\n",
    "#test[y] = test[y].asfactor()"
   ]
  },
  {
   "cell_type": "code",
   "execution_count": 371,
   "metadata": {},
   "outputs": [
    {
     "data": {
      "text/plain": [
       "h2o.frame.H2OFrame"
      ]
     },
     "execution_count": 371,
     "metadata": {},
     "output_type": "execute_result"
    }
   ],
   "source": [
    "type(hdf_train)"
   ]
  },
  {
   "cell_type": "code",
   "execution_count": 311,
   "metadata": {},
   "outputs": [],
   "source": [
    "lr = LogisticRegression()"
   ]
  },
  {
   "cell_type": "code",
   "execution_count": 312,
   "metadata": {},
   "outputs": [],
   "source": [
    "X_train,X_test,y_train,y_test=train_test_split(X,y,test_size=0.3,stratify=y, shuffle=True)"
   ]
  },
  {
   "cell_type": "code",
   "execution_count": 313,
   "metadata": {},
   "outputs": [
    {
     "data": {
      "text/plain": [
       "LogisticRegression()"
      ]
     },
     "execution_count": 313,
     "metadata": {},
     "output_type": "execute_result"
    }
   ],
   "source": [
    "lr.fit(X_train, y_train)"
   ]
  },
  {
   "cell_type": "code",
   "execution_count": 314,
   "metadata": {},
   "outputs": [],
   "source": [
    "lr_predict = lr.predict_proba(X_test)"
   ]
  },
  {
   "cell_type": "code",
   "execution_count": 315,
   "metadata": {},
   "outputs": [
    {
     "data": {
      "application/vnd.plotly.v1+json": {
       "config": {
        "plotlyServerURL": "https://plot.ly"
       },
       "data": [
        {
         "hovertemplate": "False Positive Rate=%{x}<br>True Positive Rate=%{y}<extra></extra>",
         "legendgroup": "",
         "line": {
          "color": "#636efa"
         },
         "mode": "lines",
         "name": "",
         "orientation": "v",
         "showlegend": false,
         "stackgroup": "1",
         "type": "scatter",
         "x": [
          0,
          0.00047596382674916705,
          0.0019038553069966682,
          0.0019038553069966682,
          0.002379819133745835,
          0.002379819133745835,
          0.0033317467872441696,
          0.0033317467872441696,
          0.0038077106139933364,
          0.0038077106139933364,
          0.00475963826749167,
          0.00475963826749167,
          0.005711565920990005,
          0.005711565920990005,
          0.006663493574488339,
          0.006663493574488339,
          0.007615421227986673,
          0.007615421227986673,
          0.00951927653498334,
          0.00951927653498334,
          0.017610661589719183,
          0.017610661589719183,
          0.019990480723465015,
          0.019990480723465015,
          0.02237029985721085,
          0.02237029985721085,
          0.026653974297953357,
          0.026653974297953357,
          0.02760590195145169,
          0.02760590195145169,
          0.028557829604950024,
          0.028557829604950024,
          0.029509757258448358,
          0.029509757258448358,
          0.029985721085197526,
          0.029985721085197526,
          0.035221323179438366,
          0.035221323179438366,
          0.03664921465968586,
          0.03664921465968586,
          0.039504997620180865,
          0.039504997620180865,
          0.03998096144693003,
          0.03998096144693003,
          0.04140885292717753,
          0.04140885292717753,
          0.044264635887672536,
          0.044264635887672536,
          0.046644455021418375,
          0.046644455021418375,
          0.04712041884816754,
          0.04712041884816754,
          0.04807234650166587,
          0.04807234650166587,
          0.049976201808662545,
          0.049976201808662545,
          0.05045216563541171,
          0.05045216563541171,
          0.05235602094240838,
          0.05235602094240838,
          0.053307948595906714,
          0.053307948595906714,
          0.054259876249405044,
          0.054259876249405044,
          0.05521180390290338,
          0.05521180390290338,
          0.05663969538315088,
          0.05663969538315088,
          0.059019514516896715,
          0.059019514516896715,
          0.05997144217039505,
          0.05997144217039505,
          0.06092336982389338,
          0.06092336982389338,
          0.061399333650642554,
          0.061399333650642554,
          0.06615897191813422,
          0.06615897191813422,
          0.06853879105188006,
          0.06853879105188006,
          0.07282246549262256,
          0.07282246549262256,
          0.07425035697287007,
          0.07425035697287007,
          0.07663017610661589,
          0.07663017610661589,
          0.07758210376011423,
          0.07758210376011423,
          0.07900999524036173,
          0.07900999524036173,
          0.0794859590671109,
          0.0794859590671109,
          0.08472156116135174,
          0.08472156116135174,
          0.0851975249881009,
          0.0851975249881009,
          0.08662541646834841,
          0.08662541646834841,
          0.08710138029509758,
          0.08710138029509758,
          0.08805330794859591,
          0.08805330794859591,
          0.09138505473584008,
          0.09138505473584008,
          0.09424083769633508,
          0.09424083769633508,
          0.09804854831032842,
          0.09804854831032842,
          0.09995240361732509,
          0.09995240361732509,
          0.10185625892432175,
          0.10185625892432175,
          0.10947168015230842,
          0.10947168015230842,
          0.1099476439790576,
          0.1099476439790576,
          0.11089957163255593,
          0.11089957163255593,
          0.1142313184198001,
          0.1142313184198001,
          0.11470728224654926,
          0.11470728224654926,
          0.11565920990004759,
          0.11565920990004759,
          0.11661113755354593,
          0.11661113755354593,
          0.1170871013802951,
          0.1170871013802951,
          0.11899095668729176,
          0.11899095668729176,
          0.11946692051404094,
          0.11946692051404094,
          0.12089481199428843,
          0.12089481199428843,
          0.1242265587815326,
          0.1242265587815326,
          0.1256544502617801,
          0.1256544502617801,
          0.12613041408852926,
          0.12613041408852926,
          0.12660637791527843,
          0.12660637791527843,
          0.12898619704902428,
          0.12898619704902428,
          0.1313660161827701,
          0.1313660161827701,
          0.13945740123750594,
          0.13945740123750594,
          0.14088529271775346,
          0.14088529271775346,
          0.14231318419800096,
          0.14231318419800096,
          0.1432651118514993,
          0.1432651118514993,
          0.14516896715849595,
          0.14516896715849595,
          0.14659685863874344,
          0.14659685863874344,
          0.15326035221323178,
          0.15326035221323178,
          0.1561161351737268,
          0.1561161351737268,
          0.1589719181342218,
          0.1589719181342218,
          0.15944788196097096,
          0.15944788196097096,
          0.1603998096144693,
          0.1603998096144693,
          0.1632555925749643,
          0.1632555925749643,
          0.16515944788196096,
          0.16515944788196096,
          0.16849119466920515,
          0.16849119466920515,
          0.1689671584959543,
          0.1689671584959543,
          0.17991432651118516,
          0.17991432651118516,
          0.18134221799143266,
          0.18134221799143266,
          0.18324607329842932,
          0.18324607329842932,
          0.1846739647786768,
          0.1846739647786768,
          0.1865778200856735,
          0.1865778200856735,
          0.18848167539267016,
          0.18848167539267016,
          0.19419324131366017,
          0.19419324131366017,
          0.20894811994288434,
          0.20894811994288434,
          0.21180390290337933,
          0.21180390290337933,
          0.21703950499762018,
          0.21703950499762018,
          0.21751546882436934,
          0.21751546882436934,
          0.22322703474535935,
          0.22322703474535935,
          0.22608281770585437,
          0.22608281770585437,
          0.22893860066634936,
          0.22893860066634936,
          0.23131841980009518,
          0.23131841980009518,
          0.23179438362684435,
          0.23179438362684435,
          0.23750594954783436,
          0.23750594954783436,
          0.24559733460257022,
          0.24559733460257022,
          0.24940504521656354,
          0.24940504521656354,
          0.2541646834840552,
          0.2541646834840552,
          0.2622560685387911,
          0.2622560685387911,
          0.2670157068062827,
          0.2670157068062827,
          0.26844359828653025,
          0.26844359828653025,
          0.2717753450737744,
          0.2717753450737744,
          0.2746311280342694,
          0.2746311280342694,
          0.2765349833412661,
          0.2765349833412661,
          0.2860542598762494,
          0.2860542598762494,
          0.28843407900999524,
          0.28843407900999524,
          0.28986197049024276,
          0.28986197049024276,
          0.29271775345073775,
          0.29271775345073775,
          0.2979533555449786,
          0.2979533555449786,
          0.29842931937172773,
          0.29842931937172773,
          0.3008091385054736,
          0.3008091385054736,
          0.3084245597334603,
          0.3084245597334603,
          0.31032841504045694,
          0.31032841504045694,
          0.31366016182770107,
          0.31366016182770107,
          0.31699190861494525,
          0.31699190861494525,
          0.3184198000951928,
          0.3184198000951928,
          0.32127558305568776,
          0.32127558305568776,
          0.3222275107091861,
          0.3222275107091861,
          0.32793907663017613,
          0.32793907663017613,
          0.3293669681104236,
          0.3293669681104236,
          0.33745835316515943,
          0.33745835316515943,
          0.3398381722989053,
          0.3398381722989053,
          0.3441218467396478,
          0.3441218467396478,
          0.34554973821989526,
          0.34554973821989526,
          0.34602570204664446,
          0.34602570204664446,
          0.3498334126606378,
          0.3498334126606378,
          0.35316515944788196,
          0.35316515944788196,
          0.3545930509281295,
          0.3545930509281295,
          0.35602094240837695,
          0.35602094240837695,
          0.364588291289862,
          0.364588291289862,
          0.3660161827701095,
          0.3660161827701095,
          0.36744407425035697,
          0.36744407425035697,
          0.376011423131842,
          0.376011423131842,
          0.38362684435982863,
          0.38362684435982863,
          0.3860066634935745,
          0.3860066634935745,
          0.3888624464540695,
          0.3888624464540695,
          0.3974297953355545,
          0.3974297953355545,
          0.40504521656354114,
          0.40504521656354114,
          0.40647310804378867,
          0.40647310804378867,
          0.40694907187053786,
          0.40694907187053786,
          0.41266063779152784,
          0.41266063779152784,
          0.41361256544502617,
          0.41361256544502617,
          0.415992384578772,
          0.415992384578772,
          0.41646834840552116,
          0.41646834840552116,
          0.4250356972870062,
          0.4250356972870062,
          0.43027129938124703,
          0.43027129938124703,
          0.43074726320799617,
          0.43074726320799617,
          0.433127082341742,
          0.433127082341742,
          0.4407425035697287,
          0.4407425035697287,
          0.4421703950499762,
          0.4421703950499762,
          0.44502617801047123,
          0.44502617801047123,
          0.44835792479771536,
          0.44835792479771536,
          0.4583531651594479,
          0.4583531651594479,
          0.4645406949071871,
          0.4645406949071871,
          0.46882436934792954,
          0.46882436934792954,
          0.46930033317467873,
          0.46930033317467873,
          0.4883388862446454,
          0.4883388862446454,
          0.4940504521656354,
          0.4940504521656354,
          0.5116611137553546,
          0.5116611137553546,
          0.5221323179438363,
          0.5221323179438363,
          0.5254640647310804,
          0.5254640647310804,
          0.5273679200380771,
          0.5273679200380771,
          0.5373631603998096,
          0.5373631603998096,
          0.5392670157068062,
          0.5392670157068062,
          0.5402189433603046,
          0.5402189433603046,
          0.5411708710138029,
          0.5411708710138029,
          0.5425987624940505,
          0.5425987624940505,
          0.5492622560685388,
          0.5492622560685388,
          0.5554497858162779,
          0.5554497858162779,
          0.5568776772965255,
          0.5568776772965255,
          0.5621132793907663,
          0.5621132793907663,
          0.5692527367920038,
          0.5692527367920038,
          0.5768681580199905,
          0.5768681580199905,
          0.5816277962874822,
          0.5816277962874822,
          0.5873393622084722,
          0.5873393622084722,
          0.5930509281294621,
          0.5930509281294621,
          0.598286530223703,
          0.598286530223703,
          0.6111375535459305,
          0.6111375535459305,
          0.6158971918134222,
          0.6158971918134222,
          0.618277010947168,
          0.618277010947168,
          0.6225606853879105,
          0.6225606853879105,
          0.626844359828653,
          0.626844359828653,
          0.6316039980961446,
          0.6316039980961446,
          0.6349357448833889,
          0.6349357448833889,
          0.6358876725368872,
          0.6358876725368872,
          0.6411232746311281,
          0.6411232746311281,
          0.6534983341266064,
          0.6534983341266064,
          0.6639695383150881,
          0.6639695383150881,
          0.6720609233698239,
          0.6720609233698239,
          0.6787244169443122,
          0.6787244169443122,
          0.6796763445978106,
          0.6796763445978106,
          0.6820561637315564,
          0.6820561637315564,
          0.6891956211327939,
          0.6891956211327939,
          0.6901475487862923,
          0.6901475487862923,
          0.6920514040932889,
          0.6920514040932889,
          0.7006187529747739,
          0.7006187529747739,
          0.709186101856259,
          0.709186101856259,
          0.7210851975249881,
          0.7210851975249881,
          0.7244169443122322,
          0.7244169443122322,
          0.737743931461209,
          0.737743931461209,
          0.743455497382199,
          0.743455497382199,
          0.7505949547834364,
          0.7505949547834364,
          0.752022846263684,
          0.752022846263684,
          0.7553545930509281,
          0.7553545930509281,
          0.7586863398381724,
          0.7586863398381724,
          0.7653498334126606,
          0.7653498334126606,
          0.7667777248929082,
          0.7667777248929082,
          0.7682056163731557,
          0.7682056163731557,
          0.7739171822941456,
          0.7739171822941456,
          0.7772489290813898,
          0.7772489290813898,
          0.7981913374583531,
          0.7981913374583531,
          0.7996192289386007,
          0.7996192289386007,
          0.8024750118990956,
          0.8024750118990956,
          0.8048548310328415,
          0.8048548310328415,
          0.8077106139933365,
          0.8077106139933365,
          0.8138981437410757,
          0.8138981437410757,
          0.831984769157544,
          0.831984769157544,
          0.8329366968110423,
          0.8329366968110423,
          0.8386482627320324,
          0.8386482627320324,
          0.849119466920514,
          0.849119466920514,
          0.8619704902427415,
          0.8619704902427415,
          0.8653022370299858,
          0.8653022370299858,
          0.8738695859114707,
          0.8738695859114707,
          0.8814850071394574,
          0.8814850071394574,
          0.9024274155164208,
          0.9024274155164208,
          0.9057591623036649,
          0.9057591623036649,
          0.9162303664921466,
          0.9162303664921466,
          0.9247977153736316,
          0.9247977153736316,
          0.9347929557353641,
          0.9347929557353641,
          0.9723940980485483,
          0.9723940980485483,
          0.9904807234650167,
          0.9904807234650167,
          0.9938124702522608,
          0.9938124702522608,
          0.9990480723465016,
          0.9990480723465016,
          1,
          1
         ],
         "xaxis": "x",
         "y": [
          0,
          0,
          0,
          0.003484320557491289,
          0.003484320557491289,
          0.006968641114982578,
          0.006968641114982578,
          0.010452961672473868,
          0.010452961672473868,
          0.013937282229965157,
          0.013937282229965157,
          0.017421602787456445,
          0.017421602787456445,
          0.027874564459930314,
          0.027874564459930314,
          0.0313588850174216,
          0.0313588850174216,
          0.03484320557491289,
          0.03484320557491289,
          0.03832752613240418,
          0.03832752613240418,
          0.041811846689895474,
          0.041811846689895474,
          0.04529616724738676,
          0.04529616724738676,
          0.04878048780487805,
          0.04878048780487805,
          0.05574912891986063,
          0.05574912891986063,
          0.059233449477351915,
          0.059233449477351915,
          0.0627177700348432,
          0.0627177700348432,
          0.06620209059233449,
          0.06620209059233449,
          0.06968641114982578,
          0.06968641114982578,
          0.07665505226480836,
          0.07665505226480836,
          0.08013937282229965,
          0.08013937282229965,
          0.08362369337979095,
          0.08362369337979095,
          0.08710801393728224,
          0.08710801393728224,
          0.09059233449477352,
          0.09059233449477352,
          0.09407665505226481,
          0.09407665505226481,
          0.10104529616724739,
          0.10104529616724739,
          0.10801393728222997,
          0.10801393728222997,
          0.11149825783972125,
          0.11149825783972125,
          0.11498257839721254,
          0.11498257839721254,
          0.11846689895470383,
          0.11846689895470383,
          0.12195121951219512,
          0.12195121951219512,
          0.1254355400696864,
          0.1254355400696864,
          0.13937282229965156,
          0.13937282229965156,
          0.14285714285714285,
          0.14285714285714285,
          0.14982578397212543,
          0.14982578397212543,
          0.15331010452961671,
          0.15331010452961671,
          0.156794425087108,
          0.156794425087108,
          0.1602787456445993,
          0.1602787456445993,
          0.1672473867595819,
          0.1672473867595819,
          0.17073170731707318,
          0.17073170731707318,
          0.17421602787456447,
          0.17421602787456447,
          0.17770034843205576,
          0.17770034843205576,
          0.18118466898954705,
          0.18118466898954705,
          0.18466898954703834,
          0.18466898954703834,
          0.18815331010452963,
          0.18815331010452963,
          0.1916376306620209,
          0.1916376306620209,
          0.1951219512195122,
          0.1951219512195122,
          0.1986062717770035,
          0.1986062717770035,
          0.20209059233449478,
          0.20209059233449478,
          0.21254355400696864,
          0.21254355400696864,
          0.21951219512195122,
          0.21951219512195122,
          0.2229965156794425,
          0.2229965156794425,
          0.2264808362369338,
          0.2264808362369338,
          0.22996515679442509,
          0.22996515679442509,
          0.23344947735191637,
          0.23344947735191637,
          0.23693379790940766,
          0.23693379790940766,
          0.24041811846689895,
          0.24041811846689895,
          0.24390243902439024,
          0.24390243902439024,
          0.24738675958188153,
          0.24738675958188153,
          0.2508710801393728,
          0.2508710801393728,
          0.25435540069686413,
          0.25435540069686413,
          0.2578397212543554,
          0.2578397212543554,
          0.2613240418118467,
          0.2613240418118467,
          0.26480836236933797,
          0.26480836236933797,
          0.2682926829268293,
          0.2682926829268293,
          0.27177700348432055,
          0.27177700348432055,
          0.27526132404181186,
          0.27526132404181186,
          0.2787456445993031,
          0.2787456445993031,
          0.28222996515679444,
          0.28222996515679444,
          0.2857142857142857,
          0.2857142857142857,
          0.2926829268292683,
          0.2926829268292683,
          0.2961672473867596,
          0.2961672473867596,
          0.29965156794425085,
          0.29965156794425085,
          0.30313588850174217,
          0.30313588850174217,
          0.30662020905923343,
          0.30662020905923343,
          0.31010452961672474,
          0.31010452961672474,
          0.313588850174216,
          0.313588850174216,
          0.3170731707317073,
          0.3170731707317073,
          0.3205574912891986,
          0.3205574912891986,
          0.32752613240418116,
          0.32752613240418116,
          0.3310104529616725,
          0.3310104529616725,
          0.33797909407665505,
          0.33797909407665505,
          0.34146341463414637,
          0.34146341463414637,
          0.34494773519163763,
          0.34494773519163763,
          0.34843205574912894,
          0.34843205574912894,
          0.3519163763066202,
          0.3519163763066202,
          0.3554006968641115,
          0.3554006968641115,
          0.3623693379790941,
          0.3623693379790941,
          0.36585365853658536,
          0.36585365853658536,
          0.3693379790940767,
          0.3693379790940767,
          0.37282229965156793,
          0.37282229965156793,
          0.37630662020905925,
          0.37630662020905925,
          0.3797909407665505,
          0.3797909407665505,
          0.3832752613240418,
          0.3832752613240418,
          0.3867595818815331,
          0.3867595818815331,
          0.39372822299651566,
          0.39372822299651566,
          0.397212543554007,
          0.397212543554007,
          0.40069686411149824,
          0.40069686411149824,
          0.40418118466898956,
          0.40418118466898956,
          0.4076655052264808,
          0.4076655052264808,
          0.41114982578397213,
          0.41114982578397213,
          0.4181184668989547,
          0.4181184668989547,
          0.4250871080139373,
          0.4250871080139373,
          0.42857142857142855,
          0.42857142857142855,
          0.43205574912891986,
          0.43205574912891986,
          0.4355400696864111,
          0.4355400696864111,
          0.43902439024390244,
          0.43902439024390244,
          0.4425087108013937,
          0.4425087108013937,
          0.445993031358885,
          0.445993031358885,
          0.4529616724738676,
          0.4529616724738676,
          0.45993031358885017,
          0.45993031358885017,
          0.4634146341463415,
          0.4634146341463415,
          0.46689895470383275,
          0.46689895470383275,
          0.47038327526132406,
          0.47038327526132406,
          0.47735191637630664,
          0.47735191637630664,
          0.4808362369337979,
          0.4808362369337979,
          0.4843205574912892,
          0.4843205574912892,
          0.4878048780487805,
          0.4878048780487805,
          0.4912891986062718,
          0.4912891986062718,
          0.49477351916376305,
          0.49477351916376305,
          0.49825783972125437,
          0.49825783972125437,
          0.5017421602787456,
          0.5017421602787456,
          0.5087108013937283,
          0.5087108013937283,
          0.5121951219512195,
          0.5121951219512195,
          0.5156794425087108,
          0.5156794425087108,
          0.519163763066202,
          0.519163763066202,
          0.5226480836236934,
          0.5226480836236934,
          0.5261324041811847,
          0.5261324041811847,
          0.5296167247386759,
          0.5296167247386759,
          0.5331010452961672,
          0.5331010452961672,
          0.5365853658536586,
          0.5365853658536586,
          0.5400696864111498,
          0.5400696864111498,
          0.5435540069686411,
          0.5435540069686411,
          0.5470383275261324,
          0.5470383275261324,
          0.5505226480836237,
          0.5505226480836237,
          0.554006968641115,
          0.554006968641115,
          0.5609756097560976,
          0.5609756097560976,
          0.5679442508710801,
          0.5679442508710801,
          0.5714285714285714,
          0.5714285714285714,
          0.5749128919860628,
          0.5749128919860628,
          0.578397212543554,
          0.578397212543554,
          0.5818815331010453,
          0.5818815331010453,
          0.5853658536585366,
          0.5853658536585366,
          0.5888501742160279,
          0.5888501742160279,
          0.5958188153310104,
          0.5958188153310104,
          0.6027874564459931,
          0.6027874564459931,
          0.6062717770034843,
          0.6062717770034843,
          0.6097560975609756,
          0.6097560975609756,
          0.6132404181184669,
          0.6132404181184669,
          0.6167247386759582,
          0.6167247386759582,
          0.6202090592334495,
          0.6202090592334495,
          0.6236933797909407,
          0.6236933797909407,
          0.6306620209059234,
          0.6306620209059234,
          0.6376306620209059,
          0.6376306620209059,
          0.6411149825783972,
          0.6411149825783972,
          0.6445993031358885,
          0.6445993031358885,
          0.6480836236933798,
          0.6480836236933798,
          0.6515679442508711,
          0.6515679442508711,
          0.6585365853658537,
          0.6585365853658537,
          0.662020905923345,
          0.662020905923345,
          0.6655052264808362,
          0.6655052264808362,
          0.6724738675958188,
          0.6724738675958188,
          0.6759581881533101,
          0.6759581881533101,
          0.6794425087108014,
          0.6794425087108014,
          0.6829268292682927,
          0.6829268292682927,
          0.686411149825784,
          0.686411149825784,
          0.6898954703832753,
          0.6898954703832753,
          0.6933797909407665,
          0.6933797909407665,
          0.6968641114982579,
          0.6968641114982579,
          0.7003484320557491,
          0.7003484320557491,
          0.7073170731707317,
          0.7073170731707317,
          0.710801393728223,
          0.710801393728223,
          0.7142857142857143,
          0.7142857142857143,
          0.7212543554006968,
          0.7212543554006968,
          0.7247386759581882,
          0.7247386759581882,
          0.7282229965156795,
          0.7282229965156795,
          0.735191637630662,
          0.735191637630662,
          0.7386759581881533,
          0.7386759581881533,
          0.7421602787456446,
          0.7421602787456446,
          0.7456445993031359,
          0.7456445993031359,
          0.7491289198606271,
          0.7491289198606271,
          0.7526132404181185,
          0.7526132404181185,
          0.7560975609756098,
          0.7560975609756098,
          0.759581881533101,
          0.759581881533101,
          0.7630662020905923,
          0.7630662020905923,
          0.7665505226480837,
          0.7665505226480837,
          0.7700348432055749,
          0.7700348432055749,
          0.7735191637630662,
          0.7735191637630662,
          0.7770034843205574,
          0.7770034843205574,
          0.7804878048780488,
          0.7804878048780488,
          0.7839721254355401,
          0.7839721254355401,
          0.7874564459930313,
          0.7874564459930313,
          0.7909407665505227,
          0.7909407665505227,
          0.794425087108014,
          0.794425087108014,
          0.8013937282229965,
          0.8013937282229965,
          0.8048780487804879,
          0.8048780487804879,
          0.8083623693379791,
          0.8083623693379791,
          0.8118466898954704,
          0.8118466898954704,
          0.8153310104529616,
          0.8153310104529616,
          0.818815331010453,
          0.818815331010453,
          0.8222996515679443,
          0.8222996515679443,
          0.8292682926829268,
          0.8292682926829268,
          0.8327526132404182,
          0.8327526132404182,
          0.8362369337979094,
          0.8362369337979094,
          0.8397212543554007,
          0.8397212543554007,
          0.8432055749128919,
          0.8432055749128919,
          0.8466898954703833,
          0.8466898954703833,
          0.8501742160278746,
          0.8501742160278746,
          0.8536585365853658,
          0.8536585365853658,
          0.8571428571428571,
          0.8571428571428571,
          0.8606271777003485,
          0.8606271777003485,
          0.8641114982578397,
          0.8641114982578397,
          0.867595818815331,
          0.867595818815331,
          0.8710801393728222,
          0.8710801393728222,
          0.8745644599303136,
          0.8745644599303136,
          0.8780487804878049,
          0.8780487804878049,
          0.8815331010452961,
          0.8815331010452961,
          0.8850174216027874,
          0.8850174216027874,
          0.8885017421602788,
          0.8885017421602788,
          0.89198606271777,
          0.89198606271777,
          0.8954703832752613,
          0.8954703832752613,
          0.8989547038327527,
          0.8989547038327527,
          0.9024390243902439,
          0.9024390243902439,
          0.9059233449477352,
          0.9059233449477352,
          0.9094076655052264,
          0.9094076655052264,
          0.9128919860627178,
          0.9128919860627178,
          0.9198606271777003,
          0.9198606271777003,
          0.926829268292683,
          0.926829268292683,
          0.9337979094076655,
          0.9337979094076655,
          0.9372822299651568,
          0.9372822299651568,
          0.9407665505226481,
          0.9407665505226481,
          0.9442508710801394,
          0.9442508710801394,
          0.9477351916376306,
          0.9477351916376306,
          0.9512195121951219,
          0.9512195121951219,
          0.9547038327526133,
          0.9547038327526133,
          0.9581881533101045,
          0.9581881533101045,
          0.9651567944250871,
          0.9651567944250871,
          0.9686411149825784,
          0.9686411149825784,
          0.9721254355400697,
          0.9721254355400697,
          0.975609756097561,
          0.975609756097561,
          0.9790940766550522,
          0.9790940766550522,
          0.9825783972125436,
          0.9825783972125436,
          0.9895470383275261,
          0.9895470383275261,
          0.9930313588850174,
          0.9930313588850174,
          1
         ],
         "yaxis": "y"
        }
       ],
       "layout": {
        "height": 500,
        "legend": {
         "tracegroupgap": 0
        },
        "shapes": [
         {
          "line": {
           "dash": "dash"
          },
          "type": "line",
          "x0": 0,
          "x1": 1,
          "y0": 0,
          "y1": 1
         }
        ],
        "template": {
         "data": {
          "bar": [
           {
            "error_x": {
             "color": "#2a3f5f"
            },
            "error_y": {
             "color": "#2a3f5f"
            },
            "marker": {
             "line": {
              "color": "#E5ECF6",
              "width": 0.5
             },
             "pattern": {
              "fillmode": "overlay",
              "size": 10,
              "solidity": 0.2
             }
            },
            "type": "bar"
           }
          ],
          "barpolar": [
           {
            "marker": {
             "line": {
              "color": "#E5ECF6",
              "width": 0.5
             },
             "pattern": {
              "fillmode": "overlay",
              "size": 10,
              "solidity": 0.2
             }
            },
            "type": "barpolar"
           }
          ],
          "carpet": [
           {
            "aaxis": {
             "endlinecolor": "#2a3f5f",
             "gridcolor": "white",
             "linecolor": "white",
             "minorgridcolor": "white",
             "startlinecolor": "#2a3f5f"
            },
            "baxis": {
             "endlinecolor": "#2a3f5f",
             "gridcolor": "white",
             "linecolor": "white",
             "minorgridcolor": "white",
             "startlinecolor": "#2a3f5f"
            },
            "type": "carpet"
           }
          ],
          "choropleth": [
           {
            "colorbar": {
             "outlinewidth": 0,
             "ticks": ""
            },
            "type": "choropleth"
           }
          ],
          "contour": [
           {
            "colorbar": {
             "outlinewidth": 0,
             "ticks": ""
            },
            "colorscale": [
             [
              0,
              "#0d0887"
             ],
             [
              0.1111111111111111,
              "#46039f"
             ],
             [
              0.2222222222222222,
              "#7201a8"
             ],
             [
              0.3333333333333333,
              "#9c179e"
             ],
             [
              0.4444444444444444,
              "#bd3786"
             ],
             [
              0.5555555555555556,
              "#d8576b"
             ],
             [
              0.6666666666666666,
              "#ed7953"
             ],
             [
              0.7777777777777778,
              "#fb9f3a"
             ],
             [
              0.8888888888888888,
              "#fdca26"
             ],
             [
              1,
              "#f0f921"
             ]
            ],
            "type": "contour"
           }
          ],
          "contourcarpet": [
           {
            "colorbar": {
             "outlinewidth": 0,
             "ticks": ""
            },
            "type": "contourcarpet"
           }
          ],
          "heatmap": [
           {
            "colorbar": {
             "outlinewidth": 0,
             "ticks": ""
            },
            "colorscale": [
             [
              0,
              "#0d0887"
             ],
             [
              0.1111111111111111,
              "#46039f"
             ],
             [
              0.2222222222222222,
              "#7201a8"
             ],
             [
              0.3333333333333333,
              "#9c179e"
             ],
             [
              0.4444444444444444,
              "#bd3786"
             ],
             [
              0.5555555555555556,
              "#d8576b"
             ],
             [
              0.6666666666666666,
              "#ed7953"
             ],
             [
              0.7777777777777778,
              "#fb9f3a"
             ],
             [
              0.8888888888888888,
              "#fdca26"
             ],
             [
              1,
              "#f0f921"
             ]
            ],
            "type": "heatmap"
           }
          ],
          "heatmapgl": [
           {
            "colorbar": {
             "outlinewidth": 0,
             "ticks": ""
            },
            "colorscale": [
             [
              0,
              "#0d0887"
             ],
             [
              0.1111111111111111,
              "#46039f"
             ],
             [
              0.2222222222222222,
              "#7201a8"
             ],
             [
              0.3333333333333333,
              "#9c179e"
             ],
             [
              0.4444444444444444,
              "#bd3786"
             ],
             [
              0.5555555555555556,
              "#d8576b"
             ],
             [
              0.6666666666666666,
              "#ed7953"
             ],
             [
              0.7777777777777778,
              "#fb9f3a"
             ],
             [
              0.8888888888888888,
              "#fdca26"
             ],
             [
              1,
              "#f0f921"
             ]
            ],
            "type": "heatmapgl"
           }
          ],
          "histogram": [
           {
            "marker": {
             "pattern": {
              "fillmode": "overlay",
              "size": 10,
              "solidity": 0.2
             }
            },
            "type": "histogram"
           }
          ],
          "histogram2d": [
           {
            "colorbar": {
             "outlinewidth": 0,
             "ticks": ""
            },
            "colorscale": [
             [
              0,
              "#0d0887"
             ],
             [
              0.1111111111111111,
              "#46039f"
             ],
             [
              0.2222222222222222,
              "#7201a8"
             ],
             [
              0.3333333333333333,
              "#9c179e"
             ],
             [
              0.4444444444444444,
              "#bd3786"
             ],
             [
              0.5555555555555556,
              "#d8576b"
             ],
             [
              0.6666666666666666,
              "#ed7953"
             ],
             [
              0.7777777777777778,
              "#fb9f3a"
             ],
             [
              0.8888888888888888,
              "#fdca26"
             ],
             [
              1,
              "#f0f921"
             ]
            ],
            "type": "histogram2d"
           }
          ],
          "histogram2dcontour": [
           {
            "colorbar": {
             "outlinewidth": 0,
             "ticks": ""
            },
            "colorscale": [
             [
              0,
              "#0d0887"
             ],
             [
              0.1111111111111111,
              "#46039f"
             ],
             [
              0.2222222222222222,
              "#7201a8"
             ],
             [
              0.3333333333333333,
              "#9c179e"
             ],
             [
              0.4444444444444444,
              "#bd3786"
             ],
             [
              0.5555555555555556,
              "#d8576b"
             ],
             [
              0.6666666666666666,
              "#ed7953"
             ],
             [
              0.7777777777777778,
              "#fb9f3a"
             ],
             [
              0.8888888888888888,
              "#fdca26"
             ],
             [
              1,
              "#f0f921"
             ]
            ],
            "type": "histogram2dcontour"
           }
          ],
          "mesh3d": [
           {
            "colorbar": {
             "outlinewidth": 0,
             "ticks": ""
            },
            "type": "mesh3d"
           }
          ],
          "parcoords": [
           {
            "line": {
             "colorbar": {
              "outlinewidth": 0,
              "ticks": ""
             }
            },
            "type": "parcoords"
           }
          ],
          "pie": [
           {
            "automargin": true,
            "type": "pie"
           }
          ],
          "scatter": [
           {
            "marker": {
             "colorbar": {
              "outlinewidth": 0,
              "ticks": ""
             }
            },
            "type": "scatter"
           }
          ],
          "scatter3d": [
           {
            "line": {
             "colorbar": {
              "outlinewidth": 0,
              "ticks": ""
             }
            },
            "marker": {
             "colorbar": {
              "outlinewidth": 0,
              "ticks": ""
             }
            },
            "type": "scatter3d"
           }
          ],
          "scattercarpet": [
           {
            "marker": {
             "colorbar": {
              "outlinewidth": 0,
              "ticks": ""
             }
            },
            "type": "scattercarpet"
           }
          ],
          "scattergeo": [
           {
            "marker": {
             "colorbar": {
              "outlinewidth": 0,
              "ticks": ""
             }
            },
            "type": "scattergeo"
           }
          ],
          "scattergl": [
           {
            "marker": {
             "colorbar": {
              "outlinewidth": 0,
              "ticks": ""
             }
            },
            "type": "scattergl"
           }
          ],
          "scattermapbox": [
           {
            "marker": {
             "colorbar": {
              "outlinewidth": 0,
              "ticks": ""
             }
            },
            "type": "scattermapbox"
           }
          ],
          "scatterpolar": [
           {
            "marker": {
             "colorbar": {
              "outlinewidth": 0,
              "ticks": ""
             }
            },
            "type": "scatterpolar"
           }
          ],
          "scatterpolargl": [
           {
            "marker": {
             "colorbar": {
              "outlinewidth": 0,
              "ticks": ""
             }
            },
            "type": "scatterpolargl"
           }
          ],
          "scatterternary": [
           {
            "marker": {
             "colorbar": {
              "outlinewidth": 0,
              "ticks": ""
             }
            },
            "type": "scatterternary"
           }
          ],
          "surface": [
           {
            "colorbar": {
             "outlinewidth": 0,
             "ticks": ""
            },
            "colorscale": [
             [
              0,
              "#0d0887"
             ],
             [
              0.1111111111111111,
              "#46039f"
             ],
             [
              0.2222222222222222,
              "#7201a8"
             ],
             [
              0.3333333333333333,
              "#9c179e"
             ],
             [
              0.4444444444444444,
              "#bd3786"
             ],
             [
              0.5555555555555556,
              "#d8576b"
             ],
             [
              0.6666666666666666,
              "#ed7953"
             ],
             [
              0.7777777777777778,
              "#fb9f3a"
             ],
             [
              0.8888888888888888,
              "#fdca26"
             ],
             [
              1,
              "#f0f921"
             ]
            ],
            "type": "surface"
           }
          ],
          "table": [
           {
            "cells": {
             "fill": {
              "color": "#EBF0F8"
             },
             "line": {
              "color": "white"
             }
            },
            "header": {
             "fill": {
              "color": "#C8D4E3"
             },
             "line": {
              "color": "white"
             }
            },
            "type": "table"
           }
          ]
         },
         "layout": {
          "annotationdefaults": {
           "arrowcolor": "#2a3f5f",
           "arrowhead": 0,
           "arrowwidth": 1
          },
          "autotypenumbers": "strict",
          "coloraxis": {
           "colorbar": {
            "outlinewidth": 0,
            "ticks": ""
           }
          },
          "colorscale": {
           "diverging": [
            [
             0,
             "#8e0152"
            ],
            [
             0.1,
             "#c51b7d"
            ],
            [
             0.2,
             "#de77ae"
            ],
            [
             0.3,
             "#f1b6da"
            ],
            [
             0.4,
             "#fde0ef"
            ],
            [
             0.5,
             "#f7f7f7"
            ],
            [
             0.6,
             "#e6f5d0"
            ],
            [
             0.7,
             "#b8e186"
            ],
            [
             0.8,
             "#7fbc41"
            ],
            [
             0.9,
             "#4d9221"
            ],
            [
             1,
             "#276419"
            ]
           ],
           "sequential": [
            [
             0,
             "#0d0887"
            ],
            [
             0.1111111111111111,
             "#46039f"
            ],
            [
             0.2222222222222222,
             "#7201a8"
            ],
            [
             0.3333333333333333,
             "#9c179e"
            ],
            [
             0.4444444444444444,
             "#bd3786"
            ],
            [
             0.5555555555555556,
             "#d8576b"
            ],
            [
             0.6666666666666666,
             "#ed7953"
            ],
            [
             0.7777777777777778,
             "#fb9f3a"
            ],
            [
             0.8888888888888888,
             "#fdca26"
            ],
            [
             1,
             "#f0f921"
            ]
           ],
           "sequentialminus": [
            [
             0,
             "#0d0887"
            ],
            [
             0.1111111111111111,
             "#46039f"
            ],
            [
             0.2222222222222222,
             "#7201a8"
            ],
            [
             0.3333333333333333,
             "#9c179e"
            ],
            [
             0.4444444444444444,
             "#bd3786"
            ],
            [
             0.5555555555555556,
             "#d8576b"
            ],
            [
             0.6666666666666666,
             "#ed7953"
            ],
            [
             0.7777777777777778,
             "#fb9f3a"
            ],
            [
             0.8888888888888888,
             "#fdca26"
            ],
            [
             1,
             "#f0f921"
            ]
           ]
          },
          "colorway": [
           "#636efa",
           "#EF553B",
           "#00cc96",
           "#ab63fa",
           "#FFA15A",
           "#19d3f3",
           "#FF6692",
           "#B6E880",
           "#FF97FF",
           "#FECB52"
          ],
          "font": {
           "color": "#2a3f5f"
          },
          "geo": {
           "bgcolor": "white",
           "lakecolor": "white",
           "landcolor": "#E5ECF6",
           "showlakes": true,
           "showland": true,
           "subunitcolor": "white"
          },
          "hoverlabel": {
           "align": "left"
          },
          "hovermode": "closest",
          "mapbox": {
           "style": "light"
          },
          "paper_bgcolor": "white",
          "plot_bgcolor": "#E5ECF6",
          "polar": {
           "angularaxis": {
            "gridcolor": "white",
            "linecolor": "white",
            "ticks": ""
           },
           "bgcolor": "#E5ECF6",
           "radialaxis": {
            "gridcolor": "white",
            "linecolor": "white",
            "ticks": ""
           }
          },
          "scene": {
           "xaxis": {
            "backgroundcolor": "#E5ECF6",
            "gridcolor": "white",
            "gridwidth": 2,
            "linecolor": "white",
            "showbackground": true,
            "ticks": "",
            "zerolinecolor": "white"
           },
           "yaxis": {
            "backgroundcolor": "#E5ECF6",
            "gridcolor": "white",
            "gridwidth": 2,
            "linecolor": "white",
            "showbackground": true,
            "ticks": "",
            "zerolinecolor": "white"
           },
           "zaxis": {
            "backgroundcolor": "#E5ECF6",
            "gridcolor": "white",
            "gridwidth": 2,
            "linecolor": "white",
            "showbackground": true,
            "ticks": "",
            "zerolinecolor": "white"
           }
          },
          "shapedefaults": {
           "line": {
            "color": "#2a3f5f"
           }
          },
          "ternary": {
           "aaxis": {
            "gridcolor": "white",
            "linecolor": "white",
            "ticks": ""
           },
           "baxis": {
            "gridcolor": "white",
            "linecolor": "white",
            "ticks": ""
           },
           "bgcolor": "#E5ECF6",
           "caxis": {
            "gridcolor": "white",
            "linecolor": "white",
            "ticks": ""
           }
          },
          "title": {
           "x": 0.05
          },
          "xaxis": {
           "automargin": true,
           "gridcolor": "white",
           "linecolor": "white",
           "ticks": "",
           "title": {
            "standoff": 15
           },
           "zerolinecolor": "white",
           "zerolinewidth": 2
          },
          "yaxis": {
           "automargin": true,
           "gridcolor": "white",
           "linecolor": "white",
           "ticks": "",
           "title": {
            "standoff": 15
           },
           "zerolinecolor": "white",
           "zerolinewidth": 2
          }
         }
        },
        "title": {
         "text": "ROC Curve (AUC=0.6429)"
        },
        "width": 700,
        "xaxis": {
         "anchor": "y",
         "constrain": "domain",
         "domain": [
          0,
          1
         ],
         "title": {
          "text": "False Positive Rate"
         }
        },
        "yaxis": {
         "anchor": "x",
         "domain": [
          0,
          1
         ],
         "scaleanchor": "x",
         "scaleratio": 1,
         "title": {
          "text": "True Positive Rate"
         }
        }
       }
      }
     },
     "metadata": {},
     "output_type": "display_data"
    }
   ],
   "source": [
    "from sklearn.metrics import roc_curve, auc\n",
    "\n",
    "fpr, tpr, thresholds = roc_curve(y_test, lr_predict[:,1])\n",
    "\n",
    "#Plot ROC AUC Curve \n",
    "fig = px.area(\n",
    "    x=fpr, y=tpr,\n",
    "    title=f'ROC Curve (AUC={auc(fpr, tpr):.4f})',\n",
    "    labels=dict(x='False Positive Rate', y='True Positive Rate'),\n",
    "    width=700, height=500\n",
    ")\n",
    "fig.add_shape(\n",
    "    type='line', line=dict(dash='dash'),\n",
    "    x0=0, x1=1, y0=0, y1=1\n",
    ")\n",
    "\n",
    "fig.update_yaxes(scaleanchor=\"x\", scaleratio=1)\n",
    "fig.update_xaxes(constrain='domain')\n",
    "fig.show()"
   ]
  },
  {
   "cell_type": "code",
   "execution_count": 270,
   "metadata": {},
   "outputs": [
    {
     "data": {
      "text/plain": [
       "array([0.10743745, 0.207215  , 0.15269763, ..., 0.14361818, 0.21872903,\n",
       "       0.15158592])"
      ]
     },
     "execution_count": 270,
     "metadata": {},
     "output_type": "execute_result"
    }
   ],
   "source": [
    "lr_predict[:,1]"
   ]
  },
  {
   "cell_type": "code",
   "execution_count": 272,
   "metadata": {},
   "outputs": [
    {
     "data": {
      "text/plain": [
       "Text(69.0, 0.5, 'Truth')"
      ]
     },
     "execution_count": 272,
     "metadata": {},
     "output_type": "execute_result"
    },
    {
     "data": {
      "image/png": "[encoded data removed]",
      "text/plain": [
       "<Figure size 720x504 with 2 Axes>"
      ]
     },
     "metadata": {
      "needs_background": "light"
     },
     "output_type": "display_data"
    }
   ],
   "source": [
    "import tensorflow as tf\n",
    "import seaborn as sn\n",
    "#pred = pred_7244[\"predict\"]\n",
    "\n",
    "pred = np.where(lr_predict[:,1]>0.34,1,0)\n",
    "\n",
    "cm = tf.math.confusion_matrix(labels=y_test,predictions=pred)\n",
    "\n",
    "plt.figure(figsize = (10,7))\n",
    "sn.heatmap(cm, annot=True, fmt='d')\n",
    "plt.xlabel('Predicted')\n",
    "plt.ylabel('Truth')"
   ]
  },
  {
   "cell_type": "code",
   "execution_count": 498,
   "metadata": {},
   "outputs": [],
   "source": [
    "from sklearn.neural_network import MLPRegressor, MLPClassifier\n",
    "from sklearn.ensemble import GradientBoostingClassifier\n",
    "from xgboost import XGBClassifier\n",
    "import lightgbm as lgb"
   ]
  },
  {
   "cell_type": "code",
   "execution_count": 499,
   "metadata": {},
   "outputs": [],
   "source": [
    "# instanciate the models\n",
    "#tree         = DecisionTreeClassifier()\n",
    "logistic     = LogisticRegression(max_iter = 1000)\n",
    "randomForest = RandomForestClassifier(n_estimators = 700)\n",
    "boostedTree  = GradientBoostingClassifier()\n",
    "XG           = XGBClassifier()\n",
    "lgb          = lgb.LGBMRegressor()\n",
    "#svm          = SVC(gamma = \"scale\", probability = True)\n",
    "#neuralNetR    = MLPRegressor()\n",
    "#neuralNetC    = MLPClassifier()\n",
    "#neighbors    = KNeighborsClassifier()\n",
    "\n",
    "# create a dict to loop through the models later on\n",
    "models = {\n",
    "          \"logistic\"     :logistic,\n",
    "          \"randomForest\" :randomForest,\n",
    "          \"boostedTree\"  :boostedTree,\n",
    "          \"XG\"           :XG,\n",
    "          \"lgb\"           :lgb\n",
    "\n",
    "          #\"neuralNetR\"     :MLPRegressor,\n",
    "          #\"neuralNetC\"     :MLPClassifier\n",
    "         }"
   ]
  },
  {
   "cell_type": "code",
   "execution_count": 501,
   "metadata": {},
   "outputs": [],
   "source": [
    "#X_train = X_train.drop(\"donorID\", axis=1)\n"
   ]
  },
  {
   "cell_type": "code",
   "execution_count": 502,
   "metadata": {},
   "outputs": [
    {
     "name": "stdout",
     "output_type": "stream",
     "text": [
      "logistic has been trained successfully\n",
      "randomForest has been trained successfully\n",
      "boostedTree has been trained successfully\n",
      "[17:51:39] WARNING: C:/Users/Administrator/workspace/xgboost-win64_release_1.5.1/src/learner.cc:1115: Starting in XGBoost 1.3.0, the default evaluation metric used with the objective 'binary:logistic' was changed from 'error' to 'logloss'. Explicitly set eval_metric if you'd like to restore the old behavior.\n",
      "XG has been trained successfully\n",
      "lgb has been trained successfully\n"
     ]
    }
   ],
   "source": [
    "# fit the models\n",
    "for model in models:\n",
    "    models[model].fit(X_train,y_train)\n",
    "    print(f\"{model} has been trained successfully\")"
   ]
  },
  {
   "cell_type": "code",
   "execution_count": 289,
   "metadata": {},
   "outputs": [],
   "source": [
    "# all_feat =['donorID', 'campaignID', 'frequency_donor', 'total_donated', 'C1', 'C2',\n",
    "#        'C3', 'C4', 'C5', 'C6', 'C7', 'C8', 'C9', 'C10', 'C11', 'C12', 'C13',\n",
    "#        'total_amount_1_month', 'total_freq_1_month', 'total_amount_2_month',\n",
    "#        'total_freq_2_month', 'total_amount_3_month', 'total_freq_3_month',\n",
    "#        'total_amount_4_month', 'total_freq_4_month', 'total_amount_5_month',\n",
    "#        'total_freq_5_month', 'total_amount_6_month', 'total_freq_6_month',\n",
    "#        'Recency_dono', 'zipcode', 'gender', 'province_Brussels',\n",
    "#        'province_East Flanders', 'province_Flemish Brabant',\n",
    "#        'province_Hainaut', 'province_Liege', 'province_Limburg',\n",
    "#        'province_Luxembourg', 'province_Missing', 'province_Namur',\n",
    "#        'province_Walloon Brabant', 'province_West Flanders', 'region_Flanders',\n",
    "#        'region_Missing', 'region_Wallonia', 'language_FR', 'language_NL',\n",
    "#        'total_freq_till_now', 'total_amount_till_now',\n",
    "#        'total_amount_till_last_3_years', 'total_freq_till_last_3_years', 'Age',\n",
    "#        'caimpaign_flag']"
   ]
  },
  {
   "cell_type": "code",
   "execution_count": 319,
   "metadata": {},
   "outputs": [],
   "source": [
    "X_test_72 = gift_base_7244[imp_vars]\n",
    "y_test_72 = gift_base_7244[\"donated_more_than30_duringdv\"]"
   ]
  },
  {
   "cell_type": "code",
   "execution_count": 416,
   "metadata": {},
   "outputs": [],
   "source": [
    "X_test_72_2 = X_test_72.drop(\"donorID\", axis=1)"
   ]
  },
  {
   "cell_type": "code",
   "execution_count": 503,
   "metadata": {},
   "outputs": [
    {
     "ename": "AttributeError",
     "evalue": "'LGBMRegressor' object has no attribute 'predict_proba'",
     "output_type": "error",
     "traceback": [
      "\u001b[1;31m---------------------------------------------------------------------------\u001b[0m",
      "\u001b[1;31mAttributeError\u001b[0m                            Traceback (most recent call last)",
      "\u001b[1;32m~\\AppData\\Local\\Temp/ipykernel_6392/2282867448.py\u001b[0m in \u001b[0;36m<module>\u001b[1;34m\u001b[0m\n\u001b[0;32m      5\u001b[0m \u001b[1;32mfor\u001b[0m \u001b[0mmodel\u001b[0m \u001b[1;32min\u001b[0m \u001b[0mmodels\u001b[0m\u001b[1;33m:\u001b[0m\u001b[1;33m\u001b[0m\u001b[1;33m\u001b[0m\u001b[0m\n\u001b[0;32m      6\u001b[0m     \u001b[0mpredictions\u001b[0m   \u001b[1;33m=\u001b[0m \u001b[0mmodels\u001b[0m\u001b[1;33m[\u001b[0m\u001b[0mmodel\u001b[0m\u001b[1;33m]\u001b[0m\u001b[1;33m.\u001b[0m\u001b[0mpredict\u001b[0m\u001b[1;33m(\u001b[0m\u001b[0mX_test_72_2\u001b[0m\u001b[1;33m)\u001b[0m\u001b[1;33m\u001b[0m\u001b[1;33m\u001b[0m\u001b[0m\n\u001b[1;32m----> 7\u001b[1;33m     \u001b[0mprobabilities\u001b[0m \u001b[1;33m=\u001b[0m \u001b[0mpd\u001b[0m\u001b[1;33m.\u001b[0m\u001b[0mDataFrame\u001b[0m\u001b[1;33m(\u001b[0m\u001b[0mmodels\u001b[0m\u001b[1;33m[\u001b[0m\u001b[0mmodel\u001b[0m\u001b[1;33m]\u001b[0m\u001b[1;33m.\u001b[0m\u001b[0mpredict_proba\u001b[0m\u001b[1;33m(\u001b[0m\u001b[0mX_test_72_2\u001b[0m\u001b[1;33m)\u001b[0m\u001b[1;33m)\u001b[0m\u001b[1;33m[\u001b[0m\u001b[1;36m1\u001b[0m\u001b[1;33m]\u001b[0m\u001b[1;33m\u001b[0m\u001b[1;33m\u001b[0m\u001b[0m\n\u001b[0m\u001b[0;32m      8\u001b[0m     \u001b[0maccuracy\u001b[0m      \u001b[1;33m=\u001b[0m \u001b[0maccuracy_score\u001b[0m\u001b[1;33m(\u001b[0m\u001b[0my_test_72\u001b[0m\u001b[1;33m,\u001b[0m\u001b[0mpredictions\u001b[0m\u001b[1;33m)\u001b[0m\u001b[1;33m\u001b[0m\u001b[1;33m\u001b[0m\u001b[0m\n\u001b[0;32m      9\u001b[0m     \u001b[0mauc\u001b[0m           \u001b[1;33m=\u001b[0m \u001b[0mroc_auc_score\u001b[0m\u001b[1;33m(\u001b[0m\u001b[0mnp\u001b[0m\u001b[1;33m.\u001b[0m\u001b[0marray\u001b[0m\u001b[1;33m(\u001b[0m\u001b[0my_test_72\u001b[0m\u001b[1;33m)\u001b[0m\u001b[1;33m,\u001b[0m\u001b[0mnp\u001b[0m\u001b[1;33m.\u001b[0m\u001b[0marray\u001b[0m\u001b[1;33m(\u001b[0m\u001b[0mprobabilities\u001b[0m\u001b[1;33m)\u001b[0m\u001b[1;33m)\u001b[0m\u001b[1;33m\u001b[0m\u001b[1;33m\u001b[0m\u001b[0m\n",
      "\u001b[1;31mAttributeError\u001b[0m: 'LGBMRegressor' object has no attribute 'predict_proba'"
     ]
    }
   ],
   "source": [
    "# AUC\n",
    "\n",
    "performances = {}\n",
    "\n",
    "for model in models:\n",
    "    predictions   = models[model].predict(X_test_72_2)\n",
    "    probabilities = pd.DataFrame(models[model].predict_proba(X_test_72_2))[1]\n",
    "    accuracy      = accuracy_score(y_test_72,predictions)\n",
    "    auc           = roc_auc_score(np.array(y_test_72),np.array(probabilities))\n",
    "    \n",
    "    performances[model] = {\"Accuracy\":accuracy,\"AUC\":auc}\n",
    "\n",
    "pd.DataFrame(performances)"
   ]
  },
  {
   "cell_type": "code",
   "execution_count": 450,
   "metadata": {},
   "outputs": [],
   "source": []
  },
  {
   "cell_type": "code",
   "execution_count": 482,
   "metadata": {},
   "outputs": [],
   "source": []
  },
  {
   "cell_type": "code",
   "execution_count": 490,
   "metadata": {},
   "outputs": [
    {
     "data": {
      "text/plain": [
       "array([[0.936417  , 0.063583  ],\n",
       "       [0.97909589, 0.02090411],\n",
       "       [0.90624026, 0.09375975],\n",
       "       ...,\n",
       "       [0.93702567, 0.06297433],\n",
       "       [0.98672679, 0.01327319],\n",
       "       [0.8619857 , 0.1380143 ]])"
      ]
     },
     "execution_count": 490,
     "metadata": {},
     "output_type": "execute_result"
    }
   ],
   "source": [
    "combined"
   ]
  },
  {
   "cell_type": "code",
   "execution_count": 491,
   "metadata": {},
   "outputs": [
    {
     "data": {
      "text/plain": [
       "0.7153817882098112"
      ]
     },
     "execution_count": 491,
     "metadata": {},
     "output_type": "execute_result"
    }
   ],
   "source": [
    "roc_auc_score(np.array(y_test_72),combined[:,1])"
   ]
  },
  {
   "cell_type": "code",
   "execution_count": 483,
   "metadata": {},
   "outputs": [
    {
     "data": {
      "text/plain": [
       "array([[0.936417  , 0.063583  ],\n",
       "       [0.97909589, 0.02090411],\n",
       "       [0.90624026, 0.09375975],\n",
       "       ...,\n",
       "       [0.93702567, 0.06297433],\n",
       "       [0.98672679, 0.01327319],\n",
       "       [0.8619857 , 0.1380143 ]])"
      ]
     },
     "execution_count": 483,
     "metadata": {},
     "output_type": "execute_result"
    }
   ],
   "source": [
    "combined"
   ]
  },
  {
   "cell_type": "code",
   "execution_count": 515,
   "metadata": {},
   "outputs": [
    {
     "data": {
      "text/plain": [
       "array([ 0.04405969,  0.0079675 ,  0.12986806, ...,  0.07000628,\n",
       "       -0.01409163,  0.21566327])"
      ]
     },
     "execution_count": 515,
     "metadata": {},
     "output_type": "execute_result"
    }
   ],
   "source": [
    "predictions"
   ]
  },
  {
   "cell_type": "code",
   "execution_count": 520,
   "metadata": {},
   "outputs": [
    {
     "data": {
      "text/plain": [
       "Text(69.0, 0.5, 'Truth')"
      ]
     },
     "execution_count": 520,
     "metadata": {},
     "output_type": "execute_result"
    },
    {
     "data": {
      "image/png": "[encoded data removed]",
      "text/plain": [
       "<Figure size 720x504 with 2 Axes>"
      ]
     },
     "metadata": {
      "needs_background": "light"
     },
     "output_type": "display_data"
    }
   ],
   "source": [
    "import tensorflow as tf\n",
    "import seaborn as sn\n",
    "#pred = pred_7244[\"predict\"]\n",
    "pred = np.where(predictions>.5, 1, 0)\n",
    "#pred = np.where(predictions[:,1]>0.4,1,0)\n",
    "\n",
    "cm = tf.math.confusion_matrix(labels=y_test_72,predictions=pred)\n",
    "\n",
    "plt.figure(figsize = (10,7))\n",
    "sn.heatmap(cm, annot=True, fmt='d')\n",
    "plt.xlabel('Predicted')\n",
    "plt.ylabel('Truth')"
   ]
  },
  {
   "cell_type": "code",
   "execution_count": 372,
   "metadata": {},
   "outputs": [
    {
     "data": {
      "text/plain": [
       "(7957, 55)"
      ]
     },
     "execution_count": 372,
     "metadata": {},
     "output_type": "execute_result"
    }
   ],
   "source": [
    "hdf_train.shape"
   ]
  },
  {
   "cell_type": "code",
   "execution_count": 373,
   "metadata": {},
   "outputs": [],
   "source": [
    "aml = H2OAutoML(seed=13, max_models=10, max_runtime_secs_per_model=120, max_runtime_secs=600)"
   ]
  },
  {
   "cell_type": "code",
   "execution_count": 379,
   "metadata": {},
   "outputs": [
    {
     "ename": "ValueError",
     "evalue": "Unexpected __getitem__ selector: <class 'pandas.core.frame.DataFrame'> <class 'pandas.core.frame.DataFrame'>",
     "output_type": "error",
     "traceback": [
      "\u001b[1;31m---------------------------------------------------------------------------\u001b[0m",
      "\u001b[1;31mValueError\u001b[0m                                Traceback (most recent call last)",
      "\u001b[1;32m~\\AppData\\Local\\Temp/ipykernel_6392/229984587.py\u001b[0m in \u001b[0;36m<module>\u001b[1;34m\u001b[0m\n\u001b[1;32m----> 1\u001b[1;33m \u001b[0maml\u001b[0m\u001b[1;33m.\u001b[0m\u001b[0mtrain\u001b[0m\u001b[1;33m(\u001b[0m\u001b[0mtraining_frame\u001b[0m\u001b[1;33m=\u001b[0m\u001b[0mhdf_train\u001b[0m\u001b[1;33m[\u001b[0m\u001b[0mvar_imp\u001b[0m\u001b[1;33m]\u001b[0m\u001b[1;33m,\u001b[0m \u001b[0my\u001b[0m\u001b[1;33m=\u001b[0m\u001b[0my\u001b[0m\u001b[1;33m)\u001b[0m\u001b[1;33m\u001b[0m\u001b[1;33m\u001b[0m\u001b[0m\n\u001b[0m",
      "\u001b[1;32mC:\\tools\\Anaconda3\\lib\\site-packages\\h2o\\frame.py\u001b[0m in \u001b[0;36m__getitem__\u001b[1;34m(self, item)\u001b[0m\n\u001b[0;32m   2323\u001b[0m             \u001b[0mflatten\u001b[0m \u001b[1;33m=\u001b[0m \u001b[0mis_type\u001b[0m\u001b[1;33m(\u001b[0m\u001b[0mrows\u001b[0m\u001b[1;33m,\u001b[0m \u001b[0mint\u001b[0m\u001b[1;33m)\u001b[0m \u001b[1;32mand\u001b[0m \u001b[0mis_type\u001b[0m\u001b[1;33m(\u001b[0m\u001b[0mcols\u001b[0m\u001b[1;33m,\u001b[0m \u001b[0mstr\u001b[0m\u001b[1;33m,\u001b[0m \u001b[0mint\u001b[0m\u001b[1;33m)\u001b[0m\u001b[1;33m\u001b[0m\u001b[1;33m\u001b[0m\u001b[0m\n\u001b[0;32m   2324\u001b[0m         \u001b[1;32melse\u001b[0m\u001b[1;33m:\u001b[0m\u001b[1;33m\u001b[0m\u001b[1;33m\u001b[0m\u001b[0m\n\u001b[1;32m-> 2325\u001b[1;33m             \u001b[1;32mraise\u001b[0m \u001b[0mValueError\u001b[0m\u001b[1;33m(\u001b[0m\u001b[1;34m\"Unexpected __getitem__ selector: \"\u001b[0m \u001b[1;33m+\u001b[0m \u001b[0mstr\u001b[0m\u001b[1;33m(\u001b[0m\u001b[0mtype\u001b[0m\u001b[1;33m(\u001b[0m\u001b[0mitem\u001b[0m\u001b[1;33m)\u001b[0m\u001b[1;33m)\u001b[0m \u001b[1;33m+\u001b[0m \u001b[1;34m\" \"\u001b[0m \u001b[1;33m+\u001b[0m \u001b[0mstr\u001b[0m\u001b[1;33m(\u001b[0m\u001b[0mitem\u001b[0m\u001b[1;33m.\u001b[0m\u001b[0m__class__\u001b[0m\u001b[1;33m)\u001b[0m\u001b[1;33m)\u001b[0m\u001b[1;33m\u001b[0m\u001b[1;33m\u001b[0m\u001b[0m\n\u001b[0m\u001b[0;32m   2326\u001b[0m \u001b[1;33m\u001b[0m\u001b[0m\n\u001b[0;32m   2327\u001b[0m         \u001b[1;32massert\u001b[0m \u001b[0mfr\u001b[0m \u001b[1;32mis\u001b[0m \u001b[1;32mnot\u001b[0m \u001b[1;32mNone\u001b[0m\u001b[1;33m\u001b[0m\u001b[1;33m\u001b[0m\u001b[0m\n",
      "\u001b[1;31mValueError\u001b[0m: Unexpected __getitem__ selector: <class 'pandas.core.frame.DataFrame'> <class 'pandas.core.frame.DataFrame'>"
     ]
    }
   ],
   "source": [
    "aml.train(training_frame=hdf_train, y=y)"
   ]
  },
  {
   "cell_type": "code",
   "execution_count": 376,
   "metadata": {},
   "outputs": [
    {
     "data": {
      "text/html": [
       "<table>\n",
       "<thead>\n",
       "<tr><th>model_id                                               </th><th style=\"text-align: right;\">  mean_residual_deviance</th><th style=\"text-align: right;\">    rmse</th><th style=\"text-align: right;\">      mse</th><th style=\"text-align: right;\">     mae</th><th style=\"text-align: right;\">   rmsle</th><th style=\"text-align: right;\">  training_time_ms</th><th style=\"text-align: right;\">  predict_time_per_row_ms</th><th>algo           </th></tr>\n",
       "</thead>\n",
       "<tbody>\n",
       "<tr><td>StackedEnsemble_AllModels_4_AutoML_4_20211206_165400   </td><td style=\"text-align: right;\">               0.0658387</td><td style=\"text-align: right;\">0.256591</td><td style=\"text-align: right;\">0.0658387</td><td style=\"text-align: right;\">0.129133</td><td style=\"text-align: right;\">0.179607</td><td style=\"text-align: right;\">              1282</td><td style=\"text-align: right;\">                 0.054882</td><td>StackedEnsemble</td></tr>\n",
       "<tr><td>StackedEnsemble_AllModels_3_AutoML_4_20211206_165400   </td><td style=\"text-align: right;\">               0.0683491</td><td style=\"text-align: right;\">0.261437</td><td style=\"text-align: right;\">0.0683491</td><td style=\"text-align: right;\">0.148024</td><td style=\"text-align: right;\">0.184032</td><td style=\"text-align: right;\">               327</td><td style=\"text-align: right;\">                 0.01933 </td><td>StackedEnsemble</td></tr>\n",
       "<tr><td>StackedEnsemble_AllModels_5_AutoML_4_20211206_165400   </td><td style=\"text-align: right;\">               0.0684964</td><td style=\"text-align: right;\">0.261718</td><td style=\"text-align: right;\">0.0684964</td><td style=\"text-align: right;\">0.148032</td><td style=\"text-align: right;\">0.183691</td><td style=\"text-align: right;\">               636</td><td style=\"text-align: right;\">                 0.019612</td><td>StackedEnsemble</td></tr>\n",
       "<tr><td>StackedEnsemble_AllModels_2_AutoML_4_20211206_165400   </td><td style=\"text-align: right;\">               0.068961 </td><td style=\"text-align: right;\">0.262604</td><td style=\"text-align: right;\">0.068961 </td><td style=\"text-align: right;\">0.150209</td><td style=\"text-align: right;\">0.184874</td><td style=\"text-align: right;\">               271</td><td style=\"text-align: right;\">                 0.017389</td><td>StackedEnsemble</td></tr>\n",
       "<tr><td>StackedEnsemble_AllModels_1_AutoML_4_20211206_165400   </td><td style=\"text-align: right;\">               0.0692079</td><td style=\"text-align: right;\">0.263074</td><td style=\"text-align: right;\">0.0692079</td><td style=\"text-align: right;\">0.150569</td><td style=\"text-align: right;\">0.185282</td><td style=\"text-align: right;\">               239</td><td style=\"text-align: right;\">                 0.014225</td><td>StackedEnsemble</td></tr>\n",
       "<tr><td>StackedEnsemble_BestOfFamily_4_AutoML_4_20211206_165400</td><td style=\"text-align: right;\">               0.0698811</td><td style=\"text-align: right;\">0.26435 </td><td style=\"text-align: right;\">0.0698811</td><td style=\"text-align: right;\">0.13656 </td><td style=\"text-align: right;\">0.185172</td><td style=\"text-align: right;\">              1061</td><td style=\"text-align: right;\">                 0.018682</td><td>StackedEnsemble</td></tr>\n",
       "<tr><td>StackedEnsemble_BestOfFamily_5_AutoML_4_20211206_165400</td><td style=\"text-align: right;\">               0.0702876</td><td style=\"text-align: right;\">0.265118</td><td style=\"text-align: right;\">0.0702876</td><td style=\"text-align: right;\">0.152654</td><td style=\"text-align: right;\">0.186868</td><td style=\"text-align: right;\">               574</td><td style=\"text-align: right;\">                 0.013539</td><td>StackedEnsemble</td></tr>\n",
       "<tr><td>StackedEnsemble_BestOfFamily_2_AutoML_4_20211206_165400</td><td style=\"text-align: right;\">               0.07029  </td><td style=\"text-align: right;\">0.265123</td><td style=\"text-align: right;\">0.07029  </td><td style=\"text-align: right;\">0.152717</td><td style=\"text-align: right;\">0.187131</td><td style=\"text-align: right;\">               222</td><td style=\"text-align: right;\">                 0.013998</td><td>StackedEnsemble</td></tr>\n",
       "<tr><td>GBM_4_AutoML_4_20211206_165400                         </td><td style=\"text-align: right;\">               0.0703443</td><td style=\"text-align: right;\">0.265225</td><td style=\"text-align: right;\">0.0703443</td><td style=\"text-align: right;\">0.152972</td><td style=\"text-align: right;\">0.186613</td><td style=\"text-align: right;\">               756</td><td style=\"text-align: right;\">                 0.01929 </td><td>GBM            </td></tr>\n",
       "<tr><td>StackedEnsemble_BestOfFamily_3_AutoML_4_20211206_165400</td><td style=\"text-align: right;\">               0.0703557</td><td style=\"text-align: right;\">0.265246</td><td style=\"text-align: right;\">0.0703557</td><td style=\"text-align: right;\">0.152804</td><td style=\"text-align: right;\">0.18724 </td><td style=\"text-align: right;\">               223</td><td style=\"text-align: right;\">                 0.013987</td><td>StackedEnsemble</td></tr>\n",
       "</tbody>\n",
       "</table>"
      ]
     },
     "metadata": {},
     "output_type": "display_data"
    },
    {
     "data": {
      "text/plain": []
     },
     "execution_count": 376,
     "metadata": {},
     "output_type": "execute_result"
    }
   ],
   "source": [
    "# Get third model\n",
    "lb = h2o.automl.get_leaderboard(aml, extra_columns = \"ALL\")\n",
    "lb"
   ]
  },
  {
   "cell_type": "code",
   "execution_count": 377,
   "metadata": {},
   "outputs": [],
   "source": [
    "m = h2o.get_model(\"GBM_4_AutoML_4_20211206_165400\")"
   ]
  },
  {
   "cell_type": "code",
   "execution_count": 378,
   "metadata": {},
   "outputs": [
    {
     "data": {
      "image/png": "[encoded data removed]",
      "text/plain": [
       "<Figure size 1008x720 with 1 Axes>"
      ]
     },
     "metadata": {
      "needs_background": "light"
     },
     "output_type": "display_data"
    }
   ],
   "source": [
    "m.varimp_plot()"
   ]
  },
  {
   "cell_type": "code",
   "execution_count": 380,
   "metadata": {},
   "outputs": [
    {
     "data": {
      "text/html": [
       "<div>\n",
       "<style scoped>\n",
       "    .dataframe tbody tr th:only-of-type {\n",
       "        vertical-align: middle;\n",
       "    }\n",
       "\n",
       "    .dataframe tbody tr th {\n",
       "        vertical-align: top;\n",
       "    }\n",
       "\n",
       "    .dataframe thead th {\n",
       "        text-align: right;\n",
       "    }\n",
       "</style>\n",
       "<table border=\"1\" class=\"dataframe\">\n",
       "  <thead>\n",
       "    <tr style=\"text-align: right;\">\n",
       "      <th></th>\n",
       "      <th>variable</th>\n",
       "      <th>relative_importance</th>\n",
       "      <th>scaled_importance</th>\n",
       "      <th>percentage</th>\n",
       "    </tr>\n",
       "  </thead>\n",
       "  <tbody>\n",
       "    <tr>\n",
       "      <th>0</th>\n",
       "      <td>total_amount_till_now</td>\n",
       "      <td>849.072205</td>\n",
       "      <td>1.000000</td>\n",
       "      <td>0.292531</td>\n",
       "    </tr>\n",
       "    <tr>\n",
       "      <th>1</th>\n",
       "      <td>Age</td>\n",
       "      <td>510.056854</td>\n",
       "      <td>0.600723</td>\n",
       "      <td>0.175730</td>\n",
       "    </tr>\n",
       "    <tr>\n",
       "      <th>2</th>\n",
       "      <td>total_amount_till_last_3_years</td>\n",
       "      <td>406.280762</td>\n",
       "      <td>0.478500</td>\n",
       "      <td>0.139976</td>\n",
       "    </tr>\n",
       "    <tr>\n",
       "      <th>3</th>\n",
       "      <td>donorID</td>\n",
       "      <td>365.651154</td>\n",
       "      <td>0.430648</td>\n",
       "      <td>0.125978</td>\n",
       "    </tr>\n",
       "    <tr>\n",
       "      <th>4</th>\n",
       "      <td>zipcode</td>\n",
       "      <td>248.176086</td>\n",
       "      <td>0.292291</td>\n",
       "      <td>0.085504</td>\n",
       "    </tr>\n",
       "    <tr>\n",
       "      <th>5</th>\n",
       "      <td>gender</td>\n",
       "      <td>215.021194</td>\n",
       "      <td>0.253243</td>\n",
       "      <td>0.074081</td>\n",
       "    </tr>\n",
       "    <tr>\n",
       "      <th>6</th>\n",
       "      <td>total_freq_till_now</td>\n",
       "      <td>176.075912</td>\n",
       "      <td>0.207374</td>\n",
       "      <td>0.060663</td>\n",
       "    </tr>\n",
       "    <tr>\n",
       "      <th>7</th>\n",
       "      <td>total_freq_till_last_3_years</td>\n",
       "      <td>39.397484</td>\n",
       "      <td>0.046401</td>\n",
       "      <td>0.013574</td>\n",
       "    </tr>\n",
       "    <tr>\n",
       "      <th>8</th>\n",
       "      <td>province_West Flanders</td>\n",
       "      <td>22.202629</td>\n",
       "      <td>0.026149</td>\n",
       "      <td>0.007649</td>\n",
       "    </tr>\n",
       "    <tr>\n",
       "      <th>9</th>\n",
       "      <td>province_Flemish Brabant</td>\n",
       "      <td>15.831305</td>\n",
       "      <td>0.018645</td>\n",
       "      <td>0.005454</td>\n",
       "    </tr>\n",
       "    <tr>\n",
       "      <th>10</th>\n",
       "      <td>province_East Flanders</td>\n",
       "      <td>14.119031</td>\n",
       "      <td>0.016629</td>\n",
       "      <td>0.004864</td>\n",
       "    </tr>\n",
       "    <tr>\n",
       "      <th>11</th>\n",
       "      <td>language_NL</td>\n",
       "      <td>9.550956</td>\n",
       "      <td>0.011249</td>\n",
       "      <td>0.003291</td>\n",
       "    </tr>\n",
       "    <tr>\n",
       "      <th>12</th>\n",
       "      <td>province_Limburg</td>\n",
       "      <td>8.823033</td>\n",
       "      <td>0.010391</td>\n",
       "      <td>0.003040</td>\n",
       "    </tr>\n",
       "    <tr>\n",
       "      <th>13</th>\n",
       "      <td>region_Flanders</td>\n",
       "      <td>8.135384</td>\n",
       "      <td>0.009581</td>\n",
       "      <td>0.002803</td>\n",
       "    </tr>\n",
       "    <tr>\n",
       "      <th>14</th>\n",
       "      <td>language_FR</td>\n",
       "      <td>6.705429</td>\n",
       "      <td>0.007897</td>\n",
       "      <td>0.002310</td>\n",
       "    </tr>\n",
       "    <tr>\n",
       "      <th>15</th>\n",
       "      <td>province_Liege</td>\n",
       "      <td>2.171249</td>\n",
       "      <td>0.002557</td>\n",
       "      <td>0.000748</td>\n",
       "    </tr>\n",
       "    <tr>\n",
       "      <th>16</th>\n",
       "      <td>region_Wallonia</td>\n",
       "      <td>1.662988</td>\n",
       "      <td>0.001959</td>\n",
       "      <td>0.000573</td>\n",
       "    </tr>\n",
       "    <tr>\n",
       "      <th>17</th>\n",
       "      <td>total_amount_1_month</td>\n",
       "      <td>0.945556</td>\n",
       "      <td>0.001114</td>\n",
       "      <td>0.000326</td>\n",
       "    </tr>\n",
       "    <tr>\n",
       "      <th>18</th>\n",
       "      <td>province_Brussels</td>\n",
       "      <td>0.888324</td>\n",
       "      <td>0.001046</td>\n",
       "      <td>0.000306</td>\n",
       "    </tr>\n",
       "    <tr>\n",
       "      <th>19</th>\n",
       "      <td>province_Luxembourg</td>\n",
       "      <td>0.406219</td>\n",
       "      <td>0.000478</td>\n",
       "      <td>0.000140</td>\n",
       "    </tr>\n",
       "    <tr>\n",
       "      <th>20</th>\n",
       "      <td>campaignID</td>\n",
       "      <td>0.281585</td>\n",
       "      <td>0.000332</td>\n",
       "      <td>0.000097</td>\n",
       "    </tr>\n",
       "    <tr>\n",
       "      <th>21</th>\n",
       "      <td>province_Namur</td>\n",
       "      <td>0.236344</td>\n",
       "      <td>0.000278</td>\n",
       "      <td>0.000081</td>\n",
       "    </tr>\n",
       "    <tr>\n",
       "      <th>22</th>\n",
       "      <td>province_Hainaut</td>\n",
       "      <td>0.217182</td>\n",
       "      <td>0.000256</td>\n",
       "      <td>0.000075</td>\n",
       "    </tr>\n",
       "    <tr>\n",
       "      <th>23</th>\n",
       "      <td>frequency_donor</td>\n",
       "      <td>0.211207</td>\n",
       "      <td>0.000249</td>\n",
       "      <td>0.000073</td>\n",
       "    </tr>\n",
       "    <tr>\n",
       "      <th>24</th>\n",
       "      <td>province_Walloon Brabant</td>\n",
       "      <td>0.187109</td>\n",
       "      <td>0.000220</td>\n",
       "      <td>0.000064</td>\n",
       "    </tr>\n",
       "    <tr>\n",
       "      <th>25</th>\n",
       "      <td>Recency_dono</td>\n",
       "      <td>0.106627</td>\n",
       "      <td>0.000126</td>\n",
       "      <td>0.000037</td>\n",
       "    </tr>\n",
       "    <tr>\n",
       "      <th>26</th>\n",
       "      <td>caimpaign_flag</td>\n",
       "      <td>0.091673</td>\n",
       "      <td>0.000108</td>\n",
       "      <td>0.000032</td>\n",
       "    </tr>\n",
       "    <tr>\n",
       "      <th>27</th>\n",
       "      <td>C1</td>\n",
       "      <td>0.000000</td>\n",
       "      <td>0.000000</td>\n",
       "      <td>0.000000</td>\n",
       "    </tr>\n",
       "    <tr>\n",
       "      <th>28</th>\n",
       "      <td>C3</td>\n",
       "      <td>0.000000</td>\n",
       "      <td>0.000000</td>\n",
       "      <td>0.000000</td>\n",
       "    </tr>\n",
       "    <tr>\n",
       "      <th>29</th>\n",
       "      <td>C4</td>\n",
       "      <td>0.000000</td>\n",
       "      <td>0.000000</td>\n",
       "      <td>0.000000</td>\n",
       "    </tr>\n",
       "    <tr>\n",
       "      <th>30</th>\n",
       "      <td>C5</td>\n",
       "      <td>0.000000</td>\n",
       "      <td>0.000000</td>\n",
       "      <td>0.000000</td>\n",
       "    </tr>\n",
       "    <tr>\n",
       "      <th>31</th>\n",
       "      <td>C6</td>\n",
       "      <td>0.000000</td>\n",
       "      <td>0.000000</td>\n",
       "      <td>0.000000</td>\n",
       "    </tr>\n",
       "    <tr>\n",
       "      <th>32</th>\n",
       "      <td>C8</td>\n",
       "      <td>0.000000</td>\n",
       "      <td>0.000000</td>\n",
       "      <td>0.000000</td>\n",
       "    </tr>\n",
       "    <tr>\n",
       "      <th>33</th>\n",
       "      <td>C9</td>\n",
       "      <td>0.000000</td>\n",
       "      <td>0.000000</td>\n",
       "      <td>0.000000</td>\n",
       "    </tr>\n",
       "    <tr>\n",
       "      <th>34</th>\n",
       "      <td>C11</td>\n",
       "      <td>0.000000</td>\n",
       "      <td>0.000000</td>\n",
       "      <td>0.000000</td>\n",
       "    </tr>\n",
       "    <tr>\n",
       "      <th>35</th>\n",
       "      <td>C12</td>\n",
       "      <td>0.000000</td>\n",
       "      <td>0.000000</td>\n",
       "      <td>0.000000</td>\n",
       "    </tr>\n",
       "    <tr>\n",
       "      <th>36</th>\n",
       "      <td>C13</td>\n",
       "      <td>0.000000</td>\n",
       "      <td>0.000000</td>\n",
       "      <td>0.000000</td>\n",
       "    </tr>\n",
       "    <tr>\n",
       "      <th>37</th>\n",
       "      <td>total_freq_1_month</td>\n",
       "      <td>0.000000</td>\n",
       "      <td>0.000000</td>\n",
       "      <td>0.000000</td>\n",
       "    </tr>\n",
       "    <tr>\n",
       "      <th>38</th>\n",
       "      <td>province_Missing</td>\n",
       "      <td>0.000000</td>\n",
       "      <td>0.000000</td>\n",
       "      <td>0.000000</td>\n",
       "    </tr>\n",
       "    <tr>\n",
       "      <th>39</th>\n",
       "      <td>region_Missing</td>\n",
       "      <td>0.000000</td>\n",
       "      <td>0.000000</td>\n",
       "      <td>0.000000</td>\n",
       "    </tr>\n",
       "  </tbody>\n",
       "</table>\n",
       "</div>"
      ],
      "text/plain": [
       "                          variable  relative_importance  scaled_importance  \\\n",
       "0            total_amount_till_now           849.072205           1.000000   \n",
       "1                              Age           510.056854           0.600723   \n",
       "2   total_amount_till_last_3_years           406.280762           0.478500   \n",
       "3                          donorID           365.651154           0.430648   \n",
       "4                          zipcode           248.176086           0.292291   \n",
       "5                           gender           215.021194           0.253243   \n",
       "6              total_freq_till_now           176.075912           0.207374   \n",
       "7     total_freq_till_last_3_years            39.397484           0.046401   \n",
       "8           province_West Flanders            22.202629           0.026149   \n",
       "9         province_Flemish Brabant            15.831305           0.018645   \n",
       "10          province_East Flanders            14.119031           0.016629   \n",
       "11                     language_NL             9.550956           0.011249   \n",
       "12                province_Limburg             8.823033           0.010391   \n",
       "13                 region_Flanders             8.135384           0.009581   \n",
       "14                     language_FR             6.705429           0.007897   \n",
       "15                  province_Liege             2.171249           0.002557   \n",
       "16                 region_Wallonia             1.662988           0.001959   \n",
       "17            total_amount_1_month             0.945556           0.001114   \n",
       "18               province_Brussels             0.888324           0.001046   \n",
       "19             province_Luxembourg             0.406219           0.000478   \n",
       "20                      campaignID             0.281585           0.000332   \n",
       "21                  province_Namur             0.236344           0.000278   \n",
       "22                province_Hainaut             0.217182           0.000256   \n",
       "23                 frequency_donor             0.211207           0.000249   \n",
       "24        province_Walloon Brabant             0.187109           0.000220   \n",
       "25                    Recency_dono             0.106627           0.000126   \n",
       "26                  caimpaign_flag             0.091673           0.000108   \n",
       "27                              C1             0.000000           0.000000   \n",
       "28                              C3             0.000000           0.000000   \n",
       "29                              C4             0.000000           0.000000   \n",
       "30                              C5             0.000000           0.000000   \n",
       "31                              C6             0.000000           0.000000   \n",
       "32                              C8             0.000000           0.000000   \n",
       "33                              C9             0.000000           0.000000   \n",
       "34                             C11             0.000000           0.000000   \n",
       "35                             C12             0.000000           0.000000   \n",
       "36                             C13             0.000000           0.000000   \n",
       "37              total_freq_1_month             0.000000           0.000000   \n",
       "38                province_Missing             0.000000           0.000000   \n",
       "39                  region_Missing             0.000000           0.000000   \n",
       "\n",
       "    percentage  \n",
       "0     0.292531  \n",
       "1     0.175730  \n",
       "2     0.139976  \n",
       "3     0.125978  \n",
       "4     0.085504  \n",
       "5     0.074081  \n",
       "6     0.060663  \n",
       "7     0.013574  \n",
       "8     0.007649  \n",
       "9     0.005454  \n",
       "10    0.004864  \n",
       "11    0.003291  \n",
       "12    0.003040  \n",
       "13    0.002803  \n",
       "14    0.002310  \n",
       "15    0.000748  \n",
       "16    0.000573  \n",
       "17    0.000326  \n",
       "18    0.000306  \n",
       "19    0.000140  \n",
       "20    0.000097  \n",
       "21    0.000081  \n",
       "22    0.000075  \n",
       "23    0.000073  \n",
       "24    0.000064  \n",
       "25    0.000037  \n",
       "26    0.000032  \n",
       "27    0.000000  \n",
       "28    0.000000  \n",
       "29    0.000000  \n",
       "30    0.000000  \n",
       "31    0.000000  \n",
       "32    0.000000  \n",
       "33    0.000000  \n",
       "34    0.000000  \n",
       "35    0.000000  \n",
       "36    0.000000  \n",
       "37    0.000000  \n",
       "38    0.000000  \n",
       "39    0.000000  "
      ]
     },
     "execution_count": 380,
     "metadata": {},
     "output_type": "execute_result"
    }
   ],
   "source": [
    "m.varimp(use_pandas=True)"
   ]
  },
  {
   "cell_type": "code",
   "execution_count": 381,
   "metadata": {},
   "outputs": [
    {
     "data": {
      "text/plain": [
       "array(['total_amount_till_now', 'Age', 'total_amount_till_last_3_years',\n",
       "       'donorID', 'zipcode', 'gender', 'total_freq_till_now',\n",
       "       'total_freq_till_last_3_years', 'province_West Flanders'],\n",
       "      dtype=object)"
      ]
     },
     "execution_count": 381,
     "metadata": {},
     "output_type": "execute_result"
    }
   ],
   "source": [
    "var_imp = m.varimp(use_pandas=True)\n",
    "imp_vars = np.array(var_imp[var_imp.scaled_importance>0.026149][\"variable\"])\n",
    "imp_vars"
   ]
  },
  {
   "cell_type": "code",
   "execution_count": 383,
   "metadata": {},
   "outputs": [],
   "source": [
    "features = np.delete(features,4)"
   ]
  },
  {
   "cell_type": "code",
   "execution_count": 387,
   "metadata": {},
   "outputs": [],
   "source": [
    "features = imp_vars\n",
    "features = np.append(features, 'donated_more_than30_duringdv')\n",
    "\n",
    "X = gift_base_6169[features]\n",
    "y = gift_base_6169['donated_more_than30_duringdv']"
   ]
  },
  {
   "cell_type": "code",
   "execution_count": 388,
   "metadata": {},
   "outputs": [
    {
     "name": "stdout",
     "output_type": "stream",
     "text": [
      "Parse progress: |████████████████████████████████████████████████████████████████| (done) 100%\n",
      "AutoML progress: |█\n",
      "16:54:00.246: AutoML: XGBoost is not available; skipping it.\n",
      "16:54:00.250: Step 'best_of_family_xgboost' not defined in provider 'StackedEnsemble': skipping it.\n",
      "16:54:00.250: Step 'all_xgboost' not defined in provider 'StackedEnsemble': skipping it.\n",
      "17:01:35.638: New models will be added to existing leaderboard AutoML_4_20211206_165400@@donated_more_than30_duringdv (leaderboard frame=null) with already 20 models.\n",
      "17:01:35.638: AutoML: XGBoost is not available; skipping it.\n",
      "17:01:35.639: Step 'best_of_family_xgboost' not defined in provider 'StackedEnsemble': skipping it.\n",
      "17:01:35.639: Step 'all_xgboost' not defined in provider 'StackedEnsemble': skipping it.\n",
      "17:01:39.697: StackedEnsemble_BestOfFamily_6_AutoML_5_20211206_170135 [StackedEnsemble best_of_family_1 (built with AUTO metalearner, using top model from each algorithm type)] failed: water.exceptions.H2OIllegalArgumentException: Base models are inconsistent: they use different size (number of rows) training frames. Found: 6381 (StackedEnsemble) and 7957 (model DRF_1_AutoML_4_20211206_165400).\n",
      "\n",
      "██████████████████████████████████████████████████████████████| (done) 100%\n",
      "\n",
      "17:01:48.778: StackedEnsemble_BestOfFamily_7_AutoML_5_20211206_170135 [StackedEnsemble best_of_family_2 (built with AUTO metalearner, using top model from each algorithm type)] failed: water.exceptions.H2OIllegalArgumentException: Base models are inconsistent: they use different size (number of rows) training frames. Found: 6381 (StackedEnsemble) and 7957 (model XRT_1_AutoML_4_20211206_165400).\n",
      "17:01:49.791: StackedEnsemble_AllModels_6_AutoML_5_20211206_170135 [StackedEnsemble all_2 (built with AUTO metalearner, using all AutoML models)] failed: water.exceptions.H2OIllegalArgumentException: Base models are inconsistent: they use different size (number of rows) training frames. Found: 6381 (StackedEnsemble) and 7957 (model GBM_3_AutoML_4_20211206_165400).\n",
      "17:01:55.880: StackedEnsemble_BestOfFamily_8_AutoML_5_20211206_170135 [StackedEnsemble best_of_family_3 (built with AUTO metalearner, using top model from each algorithm type)] failed: water.exceptions.H2OIllegalArgumentException: Failed to find the xval predictions frame. . .  Looks like keep_cross_validation_predictions wasn't set when building the models, or the frame was deleted.\n",
      "17:01:56.885: StackedEnsemble_AllModels_7_AutoML_5_20211206_170135 [StackedEnsemble all_3 (built with AUTO metalearner, using all AutoML models)] failed: water.exceptions.H2OIllegalArgumentException: Base models are inconsistent: they use different size (number of rows) training frames. Found: 6381 (StackedEnsemble) and 7957 (model GBM_3_AutoML_4_20211206_165400).\n",
      "17:02:00.961: StackedEnsemble_AllModels_8_AutoML_5_20211206_170135 [StackedEnsemble all_4 (built with AUTO metalearner, using all AutoML models)] failed: water.exceptions.H2OIllegalArgumentException: Base models are inconsistent: they use different size (number of rows) training frames. Found: 6381 (StackedEnsemble) and 7957 (model GBM_4_AutoML_4_20211206_165400).\n",
      "17:02:01.972: StackedEnsemble_AllModels_9_AutoML_5_20211206_170135 [StackedEnsemble all_5 (built with AUTO metalearner, using all AutoML models)] failed: water.exceptions.H2OIllegalArgumentException: Base models are inconsistent: they use different size (number of rows) training frames. Found: 6381 (StackedEnsemble) and 7957 (model GBM_4_AutoML_4_20211206_165400).\n",
      "17:02:04.0: StackedEnsemble_AllModels_10_AutoML_5_20211206_170135 [StackedEnsemble all_gbm (built with gbm metalearner, using all AutoML models)] failed: water.exceptions.H2OIllegalArgumentException: Base models are inconsistent: they use different size (number of rows) training frames. Found: 6381 (StackedEnsemble) and 7957 (model GBM_4_AutoML_4_20211206_165400).\n",
      "17:02:06.20: StackedEnsemble_AllModels_11_AutoML_5_20211206_170135 [StackedEnsemble all_xglm (built with AUTO metalearner, using all AutoML models)] failed: water.exceptions.H2OIllegalArgumentException: Base models are inconsistent: they use different size (number of rows) training frames. Found: 6381 (StackedEnsemble) and 7957 (model GBM_4_AutoML_4_20211206_165400).\n",
      "17:02:07.33: StackedEnsemble_Best1000_1_AutoML_5_20211206_170135 [StackedEnsemble best_N (built with AUTO metalearner, using best 1000 non-SE models)] failed: water.exceptions.H2OIllegalArgumentException: Base models are inconsistent: they use different size (number of rows) training frames. Found: 6381 (StackedEnsemble) and 7957 (model GBM_4_AutoML_4_20211206_165400).\n",
      "\n",
      "Model Details\n",
      "=============\n",
      "H2OStackedEnsembleEstimator :  Stacked Ensemble\n",
      "Model Key:  StackedEnsemble_AllModels_4_AutoML_4_20211206_165400\n",
      "\n",
      "No model summary for this model\n",
      "\n",
      "ModelMetricsRegression: stackedensemble\n",
      "** Reported on train data. **\n",
      "\n",
      "MSE: 0.0472823019405541\n",
      "RMSE: 0.21744494002058107\n",
      "MAE: 0.10453736830881122\n",
      "RMSLE: 0.14827525677851677\n",
      "Mean Residual Deviance: 0.0472823019405541\n",
      "\n",
      "ModelMetricsRegression: stackedensemble\n",
      "** Reported on cross-validation data. **\n",
      "\n",
      "MSE: 0.06583870761372594\n",
      "RMSE: 0.25659054466937387\n",
      "MAE: 0.12913256337287374\n",
      "RMSLE: 0.1796071968650558\n",
      "Mean Residual Deviance: 0.06583870761372594\n"
     ]
    },
    {
     "data": {
      "text/plain": []
     },
     "execution_count": 388,
     "metadata": {},
     "output_type": "execute_result"
    }
   ],
   "source": [
    "#Create H2O frame\n",
    "hdf_train =  h2o.H2OFrame(test_camp[features])\n",
    "\n",
    "train, test =hdf_train.split_frame(ratios=[0.8], seed = 42)\n",
    "\n",
    "y = \"donated_more_than30_duringdv\"\n",
    "\n",
    "aml.train(training_frame=train, y=y)"
   ]
  },
  {
   "cell_type": "code",
   "execution_count": 104,
   "metadata": {},
   "outputs": [
    {
     "name": "stdout",
     "output_type": "stream",
     "text": [
      "Parse progress: |████████████████████████████████████████████████████████████████| (done) 100%\n"
     ]
    }
   ],
   "source": [
    "h_gift_7244 = gift_base_7244[features]\n",
    "y_7244 = gift_base_7244['donated_more_than30_duringdv']\n",
    "\n",
    "#h_gift_7244 = h_gift_7244.drop(\"donated_more_than30_duringdv\")\n",
    "\n",
    "h_7244 =  h2o.H2OFrame(h_gift_7244)"
   ]
  },
  {
   "cell_type": "code",
   "execution_count": 105,
   "metadata": {},
   "outputs": [
    {
     "data": {
      "text/plain": [
       "h2o.frame.H2OFrame"
      ]
     },
     "execution_count": 105,
     "metadata": {},
     "output_type": "execute_result"
    }
   ],
   "source": [
    "type(h_7244)"
   ]
  },
  {
   "cell_type": "code",
   "execution_count": 111,
   "metadata": {},
   "outputs": [],
   "source": [
    "m = aml.leader"
   ]
  },
  {
   "cell_type": "code",
   "execution_count": 106,
   "metadata": {},
   "outputs": [
    {
     "name": "stdout",
     "output_type": "stream",
     "text": [
      "stackedensemble prediction progress: |███████████████████████████████████████████| (done) 100%\n"
     ]
    }
   ],
   "source": [
    "import shutup\n",
    "shutup.please()\n",
    "pred_7244 = aml.predict(h_7244)\n",
    "#pred = np.where(pred_7244[\"predict\"]>0.51,1,0)"
   ]
  },
  {
   "cell_type": "code",
   "execution_count": 107,
   "metadata": {},
   "outputs": [
    {
     "data": {
      "text/plain": [
       "764"
      ]
     },
     "execution_count": 107,
     "metadata": {},
     "output_type": "execute_result"
    }
   ],
   "source": [
    "len(train[train[\"donated_more_than30_duringdv\"]==1])"
   ]
  },
  {
   "cell_type": "code",
   "execution_count": 108,
   "metadata": {},
   "outputs": [
    {
     "data": {
      "text/html": [
       "<div>\n",
       "<style scoped>\n",
       "    .dataframe tbody tr th:only-of-type {\n",
       "        vertical-align: middle;\n",
       "    }\n",
       "\n",
       "    .dataframe tbody tr th {\n",
       "        vertical-align: top;\n",
       "    }\n",
       "\n",
       "    .dataframe thead th {\n",
       "        text-align: right;\n",
       "    }\n",
       "</style>\n",
       "<table border=\"1\" class=\"dataframe\">\n",
       "  <thead>\n",
       "    <tr style=\"text-align: right;\">\n",
       "      <th></th>\n",
       "      <th>predict</th>\n",
       "    </tr>\n",
       "  </thead>\n",
       "  <tbody>\n",
       "    <tr>\n",
       "      <th>0</th>\n",
       "      <td>0.684769</td>\n",
       "    </tr>\n",
       "    <tr>\n",
       "      <th>1</th>\n",
       "      <td>0.289550</td>\n",
       "    </tr>\n",
       "    <tr>\n",
       "      <th>2</th>\n",
       "      <td>0.594960</td>\n",
       "    </tr>\n",
       "    <tr>\n",
       "      <th>3</th>\n",
       "      <td>0.722252</td>\n",
       "    </tr>\n",
       "    <tr>\n",
       "      <th>4</th>\n",
       "      <td>0.156112</td>\n",
       "    </tr>\n",
       "    <tr>\n",
       "      <th>...</th>\n",
       "      <td>...</td>\n",
       "    </tr>\n",
       "    <tr>\n",
       "      <th>25640</th>\n",
       "      <td>0.396752</td>\n",
       "    </tr>\n",
       "    <tr>\n",
       "      <th>25641</th>\n",
       "      <td>0.106739</td>\n",
       "    </tr>\n",
       "    <tr>\n",
       "      <th>25642</th>\n",
       "      <td>0.255584</td>\n",
       "    </tr>\n",
       "    <tr>\n",
       "      <th>25643</th>\n",
       "      <td>0.278090</td>\n",
       "    </tr>\n",
       "    <tr>\n",
       "      <th>25644</th>\n",
       "      <td>0.406993</td>\n",
       "    </tr>\n",
       "  </tbody>\n",
       "</table>\n",
       "<p>25645 rows × 1 columns</p>\n",
       "</div>"
      ],
      "text/plain": [
       "        predict\n",
       "0      0.684769\n",
       "1      0.289550\n",
       "2      0.594960\n",
       "3      0.722252\n",
       "4      0.156112\n",
       "...         ...\n",
       "25640  0.396752\n",
       "25641  0.106739\n",
       "25642  0.255584\n",
       "25643  0.278090\n",
       "25644  0.406993\n",
       "\n",
       "[25645 rows x 1 columns]"
      ]
     },
     "execution_count": 108,
     "metadata": {},
     "output_type": "execute_result"
    }
   ],
   "source": [
    "pred_7244 = h2o.as_list(pred_7244)\n",
    "pred_7244"
   ]
  },
  {
   "cell_type": "code",
   "execution_count": 109,
   "metadata": {},
   "outputs": [
    {
     "data": {
      "application/vnd.plotly.v1+json": {
       "config": {
        "plotlyServerURL": "https://plot.ly"
       },
       "data": [
        {
         "hovertemplate": "False Positive Rate=%{x}<br>True Positive Rate=%{y}<extra></extra>",
         "legendgroup": "",
         "line": {
          "color": "#636efa"
         },
         "mode": "lines",
         "name": "",
         "orientation": "v",
         "showlegend": false,
         "stackgroup": "1",
         "type": "scatter",
         "x": [
          0,
          0.00003932672644329086,
          0.00015730690577316344,
          0.00015730690577316344,
          0.0006685543495359446,
          0.0006685543495359446,
          0.0018483561428346705,
          0.0018483561428346705,
          0.0018876828692779614,
          0.0018876828692779614,
          0.0020843165014944156,
          0.0020843165014944156,
          0.0038146924649992133,
          0.0038146924649992133,
          0.004719207173194903,
          0.004719207173194903,
          0.007668711656441718,
          0.007668711656441718,
          0.008651879817523989,
          0.008651879817523989,
          0.00912380053484348,
          0.00912380053484348,
          0.01187667138587384,
          0.01187667138587384,
          0.014432908604687746,
          0.014432908604687746,
          0.01466886896334749,
          0.01466886896334749,
          0.02005663048607834,
          0.02005663048607834,
          0.021393739185150227,
          0.021393739185150227,
          0.022770174610665408,
          0.022770174610665408,
          0.02552304546169577,
          0.02552304546169577,
          0.027607361963190184,
          0.027607361963190184,
          0.0296916784646846,
          0.0296916784646846,
          0.029809658644014473,
          0.029809658644014473,
          0.030045619002674218,
          0.030045619002674218,
          0.031854648419065594,
          0.031854648419065594,
          0.035747994336951396,
          0.035747994336951396,
          0.04357401289916627,
          0.04357401289916627,
          0.043691993078496145,
          0.043691993078496145,
          0.055018090294163914,
          0.055018090294163914,
          0.05576529809658644,
          0.05576529809658644,
          0.058557495674060094,
          0.058557495674060094,
          0.061939594148183105,
          0.061939594148183105,
          0.06488909863142991,
          0.06488909863142991,
          0.06803523674689319,
          0.06803523674689319,
          0.06913638508730534,
          0.06913638508730534,
          0.07389491898694353,
          0.07389491898694353,
          0.07586125530910807,
          0.07586125530910807,
          0.0787321063394683,
          0.0787321063394683,
          0.08223218499292119,
          0.08223218499292119,
          0.0873053327041057,
          0.0873053327041057,
          0.08868176812962089,
          0.08868176812962089,
          0.0929290545854963,
          0.0929290545854963,
          0.09414818310523831,
          0.09414818310523831,
          0.0946987572754444,
          0.0946987572754444,
          0.09493471763410413,
          0.09493471763410413,
          0.09658644014472235,
          0.09658644014472235,
          0.09764826175869121,
          0.09764826175869121,
          0.10095170677992764,
          0.10095170677992764,
          0.10366525090451471,
          0.10366525090451471,
          0.10531697341513292,
          0.10531697341513292,
          0.1054349535944628,
          0.1054349535944628,
          0.1058282208588957,
          0.1058282208588957,
          0.11011483404121442,
          0.11011483404121442,
          0.1127103979864716,
          0.1127103979864716,
          0.11495202139373918,
          0.11495202139373918,
          0.12151958470976876,
          0.12151958470976876,
          0.12372188139059305,
          0.12372188139059305,
          0.12773320748780873,
          0.12773320748780873,
          0.12792984112002517,
          0.12792984112002517,
          0.13001415762151958,
          0.13001415762151958,
          0.13186251376435426,
          0.13186251376435426,
          0.13701431492842536,
          0.13701431492842536,
          0.13839075035394055,
          0.13839075035394055,
          0.13917728488280637,
          0.13917728488280637,
          0.13988516595878558,
          0.13988516595878558,
          0.14244140317759948,
          0.14244140317759948,
          0.14377851187667137,
          0.14377851187667137,
          0.14806512505899008,
          0.14806512505899008,
          0.15730690577316345,
          0.15730690577316345,
          0.16021708352996697,
          0.16021708352996697,
          0.16029573698285354,
          0.16029573698285354,
          0.16485763725027527,
          0.16485763725027527,
          0.1806669812804782,
          0.1806669812804782,
          0.18703791096429134,
          0.18703791096429134,
          0.19419537517697028,
          0.19419537517697028,
          0.19820670127418594,
          0.19820670127418594,
          0.2000943841434639,
          0.2000943841434639,
          0.20552147239263804,
          0.20552147239263804,
          0.20681925436526663,
          0.20681925436526663,
          0.20819568979078182,
          0.20819568979078182,
          0.21102721409469877,
          0.21102721409469877,
          0.21535315400346075,
          0.21535315400346075,
          0.2212128362435111,
          0.2212128362435111,
          0.2237297467358817,
          0.2237297467358817,
          0.23045461695768443,
          0.23045461695768443,
          0.23210633946830267,
          0.23210633946830267,
          0.23222431964763254,
          0.23222431964763254,
          0.23548843794242566,
          0.23548843794242566,
          0.23855592260500236,
          0.23855592260500236,
          0.2387918829636621,
          0.2387918829636621,
          0.24205600125845525,
          0.24205600125845525,
          0.2431178228724241,
          0.2431178228724241,
          0.25255623721881393,
          0.25255623721881393,
          0.2525955639452572,
          0.2525955639452572,
          0.254325939908762,
          0.254325939908762,
          0.25574170206072044,
          0.25574170206072044,
          0.2573540978448954,
          0.2573540978448954,
          0.2606968695925751,
          0.2606968695925751,
          0.2645902155104609,
          0.2645902155104609,
          0.26694981909705834,
          0.26694981909705834,
          0.2683262545225735,
          0.2683262545225735,
          0.2723375806197892,
          0.2723375806197892,
          0.27261286770489224,
          0.27261286770489224,
          0.2745005505741702,
          0.2745005505741702,
          0.27697813434009755,
          0.27697813434009755,
          0.27878716375648893,
          0.27878716375648893,
          0.2804782129935504,
          0.2804782129935504,
          0.28216926223061195,
          0.28216926223061195,
          0.2837030045619003,
          0.2837030045619003,
          0.2841749252792198,
          0.2841749252792198,
          0.29247286455875415,
          0.29247286455875415,
          0.2951470819568979,
          0.2951470819568979,
          0.29577630957999057,
          0.29577630957999057,
          0.29801793298725815,
          0.29801793298725815,
          0.3004168633002989,
          0.3004168633002989,
          0.3037203083215353,
          0.3037203083215353,
          0.30596193172880287,
          0.30596193172880287,
          0.3123721881390593,
          0.3123721881390593,
          0.31862513764354256,
          0.31862513764354256,
          0.3221645430234387,
          0.3221645430234387,
          0.32641182947931413,
          0.32641182947931413,
          0.3536259241780714,
          0.3536259241780714,
          0.3538225578102879,
          0.3538225578102879,
          0.35480572597137017,
          0.35480572597137017,
          0.3571653295579676,
          0.3571653295579676,
          0.36074406166430706,
          0.36074406166430706,
          0.3680195060563159,
          0.3680195060563159,
          0.3697105552933774,
          0.3697105552933774,
          0.3730140003146138,
          0.3730140003146138,
          0.3761208117036338,
          0.3761208117036338,
          0.3820198206701274,
          0.3820198206701274,
          0.3923627497247129,
          0.3923627497247129,
          0.3988123328614126,
          0.3988123328614126,
          0.40376750039326725,
          0.40376750039326725,
          0.4049079754601227,
          0.4049079754601227,
          0.4071889255938336,
          0.4071889255938336,
          0.41454302343872895,
          0.41454302343872895,
          0.416981280478213,
          0.416981280478213,
          0.4255545068428504,
          0.4255545068428504,
          0.42634104137171625,
          0.42634104137171625,
          0.42925121912851977,
          0.42925121912851977,
          0.4328692779613025,
          0.4328692779613025,
          0.4344423470190341,
          0.4344423470190341,
          0.4376278118609407,
          0.4376278118609407,
          0.4377064653138273,
          0.4377064653138273,
          0.4392008809186723,
          0.4392008809186723,
          0.4401447223533113,
          0.4401447223533113,
          0.44116721724083685,
          0.44116721724083685,
          0.4438807613654239,
          0.4438807613654239,
          0.4442347019034136,
          0.4442347019034136,
          0.4443920088091867,
          0.4443920088091867,
          0.45379109642913323,
          0.45379109642913323,
          0.4547349378637722,
          0.4547349378637722,
          0.4578024225263489,
          0.4578024225263489,
          0.45949347176341043,
          0.45949347176341043,
          0.4642913323894919,
          0.4642913323894919,
          0.46613968853232657,
          0.46613968853232657,
          0.47270725184835616,
          0.47270725184835616,
          0.47439830108541764,
          0.47439830108541764,
          0.4770725184835614,
          0.4770725184835614,
          0.47837030045619,
          0.47837030045619,
          0.47970740915526194,
          0.47970740915526194,
          0.48246028000629226,
          0.48246028000629226,
          0.48426930942268365,
          0.48426930942268365,
          0.495674060091238,
          0.495674060091238,
          0.49976403964134025,
          0.49976403964134025,
          0.49980336636778355,
          0.49980336636778355,
          0.5007472078024225,
          0.5007472078024225,
          0.5014550888784017,
          0.5014550888784017,
          0.5068428504011326,
          0.5068428504011326,
          0.5081013056473179,
          0.5081013056473179,
          0.5190734623249961,
          0.5190734623249961,
          0.5318546484190656,
          0.5318546484190656,
          0.5337423312883436,
          0.5337423312883436,
          0.5414896963976719,
          0.5414896963976719,
          0.5455010224948875,
          0.5455010224948875,
          0.5489617744218971,
          0.5489617744218971,
          0.5574956740600913,
          0.5574956740600913,
          0.5617036337895234,
          0.5617036337895234,
          0.5739342457133868,
          0.5739342457133868,
          0.588288500865188,
          0.588288500865188,
          0.6083451313512663,
          0.6083451313512663,
          0.612356457448482,
          0.612356457448482,
          0.6124351109013686,
          0.6124351109013686,
          0.6172722982538933,
          0.6172722982538933,
          0.621676891615542,
          0.621676891615542,
          0.6217555450684285,
          0.6217555450684285,
          0.6338288500865188,
          0.6338288500865188,
          0.6495202139373919,
          0.6495202139373919,
          0.6522337580619789,
          0.6522337580619789,
          0.6527450055057417,
          0.6527450055057417,
          0.6644643699858424,
          0.6644643699858424,
          0.6850322479156835,
          0.6850322479156835,
          0.6900660689004248,
          0.6900660689004248,
          0.7109485606418122,
          0.7109485606418122,
          0.716336322164543,
          0.716336322164543,
          0.7186172722982539,
          0.7186172722982539,
          0.7503539405379896,
          0.7503539405379896,
          0.754325939908762,
          0.754325939908762,
          0.7696240364952022,
          0.7696240364952022,
          0.77162969954381,
          0.77162969954381,
          0.7722982538933459,
          0.7722982538933459,
          0.8492999842693094,
          0.8492999842693094,
          0.8598002202296681,
          0.8598002202296681,
          0.8602328142205443,
          0.8602328142205443,
          0.8828850086518798,
          0.8828850086518798,
          0.8898851659587856,
          0.8898851659587856,
          0.9033742331288344,
          0.9033742331288344,
          0.9055765298096586,
          0.9055765298096586,
          0.9161554192229039,
          0.9161554192229039,
          0.9183577159037282,
          0.9183577159037282,
          0.919144250432594,
          0.919144250432594,
          0.9504089979550102,
          0.9504089979550102,
          0.9523360075507314,
          0.9523360075507314,
          0.9548922447695454,
          0.9548922447695454,
          0.9673588170520686,
          0.9673588170520686,
          0.9710162026112946,
          0.9710162026112946,
          0.9882019820670127,
          0.9882019820670127,
          0.9939830108541765,
          0.9939830108541765,
          1
         ],
         "xaxis": "x",
         "y": [
          0,
          0,
          0,
          0.004608294930875576,
          0.004608294930875576,
          0.009216589861751152,
          0.009216589861751152,
          0.013824884792626729,
          0.013824884792626729,
          0.018433179723502304,
          0.018433179723502304,
          0.02304147465437788,
          0.02304147465437788,
          0.027649769585253458,
          0.027649769585253458,
          0.03225806451612903,
          0.03225806451612903,
          0.03686635944700461,
          0.03686635944700461,
          0.041474654377880185,
          0.041474654377880185,
          0.04608294930875576,
          0.04608294930875576,
          0.055299539170506916,
          0.055299539170506916,
          0.059907834101382486,
          0.059907834101382486,
          0.06451612903225806,
          0.06451612903225806,
          0.06912442396313365,
          0.06912442396313365,
          0.07373271889400922,
          0.07373271889400922,
          0.07834101382488479,
          0.07834101382488479,
          0.08294930875576037,
          0.08294930875576037,
          0.08755760368663594,
          0.08755760368663594,
          0.09216589861751152,
          0.09216589861751152,
          0.0967741935483871,
          0.0967741935483871,
          0.10138248847926268,
          0.10138248847926268,
          0.10599078341013825,
          0.10599078341013825,
          0.11059907834101383,
          0.11059907834101383,
          0.1152073732718894,
          0.1152073732718894,
          0.11981566820276497,
          0.11981566820276497,
          0.12442396313364056,
          0.12442396313364056,
          0.12903225806451613,
          0.12903225806451613,
          0.1336405529953917,
          0.1336405529953917,
          0.1382488479262673,
          0.1382488479262673,
          0.14285714285714285,
          0.14285714285714285,
          0.14746543778801843,
          0.14746543778801843,
          0.15207373271889402,
          0.15207373271889402,
          0.15668202764976957,
          0.15668202764976957,
          0.16129032258064516,
          0.16129032258064516,
          0.16589861751152074,
          0.16589861751152074,
          0.17050691244239632,
          0.17050691244239632,
          0.17511520737327188,
          0.17511520737327188,
          0.17972350230414746,
          0.17972350230414746,
          0.18433179723502305,
          0.18433179723502305,
          0.1889400921658986,
          0.1889400921658986,
          0.1935483870967742,
          0.1935483870967742,
          0.19815668202764977,
          0.19815668202764977,
          0.20276497695852536,
          0.20276497695852536,
          0.2073732718894009,
          0.2073732718894009,
          0.2119815668202765,
          0.2119815668202765,
          0.21658986175115208,
          0.21658986175115208,
          0.22119815668202766,
          0.22119815668202766,
          0.22580645161290322,
          0.22580645161290322,
          0.2304147465437788,
          0.2304147465437788,
          0.2350230414746544,
          0.2350230414746544,
          0.23963133640552994,
          0.23963133640552994,
          0.24423963133640553,
          0.24423963133640553,
          0.2488479262672811,
          0.2488479262672811,
          0.2534562211981567,
          0.2534562211981567,
          0.25806451612903225,
          0.25806451612903225,
          0.2626728110599078,
          0.2626728110599078,
          0.2672811059907834,
          0.2672811059907834,
          0.271889400921659,
          0.271889400921659,
          0.2764976958525346,
          0.2764976958525346,
          0.28110599078341014,
          0.28110599078341014,
          0.2857142857142857,
          0.2857142857142857,
          0.2903225806451613,
          0.2903225806451613,
          0.29493087557603687,
          0.29493087557603687,
          0.2995391705069124,
          0.2995391705069124,
          0.30414746543778803,
          0.30414746543778803,
          0.3087557603686636,
          0.3087557603686636,
          0.31336405529953915,
          0.31336405529953915,
          0.31797235023041476,
          0.31797235023041476,
          0.3225806451612903,
          0.3225806451612903,
          0.3271889400921659,
          0.3271889400921659,
          0.3317972350230415,
          0.3317972350230415,
          0.33640552995391704,
          0.33640552995391704,
          0.34101382488479265,
          0.34101382488479265,
          0.3456221198156682,
          0.3456221198156682,
          0.35023041474654376,
          0.35023041474654376,
          0.3548387096774194,
          0.3548387096774194,
          0.35944700460829493,
          0.35944700460829493,
          0.3640552995391705,
          0.3640552995391705,
          0.3686635944700461,
          0.3686635944700461,
          0.37327188940092165,
          0.37327188940092165,
          0.3778801843317972,
          0.3778801843317972,
          0.3824884792626728,
          0.3824884792626728,
          0.3870967741935484,
          0.3870967741935484,
          0.391705069124424,
          0.391705069124424,
          0.39631336405529954,
          0.39631336405529954,
          0.4009216589861751,
          0.4009216589861751,
          0.4055299539170507,
          0.4055299539170507,
          0.41013824884792627,
          0.41013824884792627,
          0.4147465437788018,
          0.4147465437788018,
          0.41935483870967744,
          0.41935483870967744,
          0.423963133640553,
          0.423963133640553,
          0.42857142857142855,
          0.42857142857142855,
          0.43317972350230416,
          0.43317972350230416,
          0.4377880184331797,
          0.4377880184331797,
          0.4423963133640553,
          0.4423963133640553,
          0.4470046082949309,
          0.4470046082949309,
          0.45161290322580644,
          0.45161290322580644,
          0.45622119815668205,
          0.45622119815668205,
          0.4608294930875576,
          0.4608294930875576,
          0.46543778801843316,
          0.46543778801843316,
          0.4700460829493088,
          0.4700460829493088,
          0.47465437788018433,
          0.47465437788018433,
          0.4792626728110599,
          0.4792626728110599,
          0.4838709677419355,
          0.4838709677419355,
          0.48847926267281105,
          0.48847926267281105,
          0.4930875576036866,
          0.4930875576036866,
          0.4976958525345622,
          0.4976958525345622,
          0.5023041474654378,
          0.5023041474654378,
          0.5069124423963134,
          0.5069124423963134,
          0.511520737327189,
          0.511520737327189,
          0.5161290322580645,
          0.5161290322580645,
          0.5207373271889401,
          0.5207373271889401,
          0.5253456221198156,
          0.5253456221198156,
          0.5299539170506913,
          0.5299539170506913,
          0.5345622119815668,
          0.5345622119815668,
          0.5391705069124424,
          0.5391705069124424,
          0.543778801843318,
          0.543778801843318,
          0.5483870967741935,
          0.5483870967741935,
          0.5529953917050692,
          0.5529953917050692,
          0.5576036866359447,
          0.5576036866359447,
          0.5622119815668203,
          0.5622119815668203,
          0.5668202764976958,
          0.5668202764976958,
          0.5714285714285714,
          0.5714285714285714,
          0.576036866359447,
          0.576036866359447,
          0.5806451612903226,
          0.5806451612903226,
          0.5852534562211982,
          0.5852534562211982,
          0.5898617511520737,
          0.5898617511520737,
          0.5944700460829493,
          0.5944700460829493,
          0.5990783410138248,
          0.5990783410138248,
          0.6036866359447005,
          0.6036866359447005,
          0.6082949308755761,
          0.6082949308755761,
          0.6129032258064516,
          0.6129032258064516,
          0.6175115207373272,
          0.6175115207373272,
          0.6221198156682027,
          0.6221198156682027,
          0.6267281105990783,
          0.6267281105990783,
          0.631336405529954,
          0.631336405529954,
          0.6359447004608295,
          0.6359447004608295,
          0.6405529953917051,
          0.6405529953917051,
          0.6451612903225806,
          0.6451612903225806,
          0.6497695852534562,
          0.6497695852534562,
          0.6543778801843319,
          0.6543778801843319,
          0.6589861751152074,
          0.6589861751152074,
          0.663594470046083,
          0.663594470046083,
          0.6682027649769585,
          0.6682027649769585,
          0.6728110599078341,
          0.6728110599078341,
          0.6774193548387096,
          0.6774193548387096,
          0.6820276497695853,
          0.6820276497695853,
          0.6866359447004609,
          0.6866359447004609,
          0.6912442396313364,
          0.6912442396313364,
          0.695852534562212,
          0.695852534562212,
          0.7004608294930875,
          0.7004608294930875,
          0.7050691244239631,
          0.7050691244239631,
          0.7096774193548387,
          0.7096774193548387,
          0.7142857142857143,
          0.7142857142857143,
          0.7188940092165899,
          0.7188940092165899,
          0.7235023041474654,
          0.7235023041474654,
          0.728110599078341,
          0.728110599078341,
          0.7327188940092166,
          0.7327188940092166,
          0.7373271889400922,
          0.7373271889400922,
          0.7419354838709677,
          0.7419354838709677,
          0.7465437788018433,
          0.7465437788018433,
          0.7511520737327189,
          0.7511520737327189,
          0.7557603686635944,
          0.7557603686635944,
          0.7603686635944701,
          0.7603686635944701,
          0.7649769585253456,
          0.7649769585253456,
          0.7695852534562212,
          0.7695852534562212,
          0.7741935483870968,
          0.7741935483870968,
          0.7788018433179723,
          0.7788018433179723,
          0.783410138248848,
          0.783410138248848,
          0.7880184331797235,
          0.7880184331797235,
          0.7926267281105991,
          0.7926267281105991,
          0.7972350230414746,
          0.7972350230414746,
          0.8018433179723502,
          0.8018433179723502,
          0.8064516129032258,
          0.8064516129032258,
          0.8110599078341014,
          0.8110599078341014,
          0.815668202764977,
          0.815668202764977,
          0.8202764976958525,
          0.8202764976958525,
          0.8248847926267281,
          0.8248847926267281,
          0.8294930875576036,
          0.8294930875576036,
          0.8341013824884793,
          0.8341013824884793,
          0.8387096774193549,
          0.8387096774193549,
          0.8433179723502304,
          0.8433179723502304,
          0.847926267281106,
          0.847926267281106,
          0.8525345622119815,
          0.8525345622119815,
          0.8571428571428571,
          0.8571428571428571,
          0.8617511520737328,
          0.8617511520737328,
          0.8663594470046083,
          0.8663594470046083,
          0.8709677419354839,
          0.8709677419354839,
          0.8755760368663594,
          0.8755760368663594,
          0.880184331797235,
          0.880184331797235,
          0.8847926267281107,
          0.8847926267281107,
          0.8894009216589862,
          0.8894009216589862,
          0.8940092165898618,
          0.8940092165898618,
          0.8986175115207373,
          0.8986175115207373,
          0.9032258064516129,
          0.9032258064516129,
          0.9078341013824884,
          0.9078341013824884,
          0.9124423963133641,
          0.9124423963133641,
          0.9170506912442397,
          0.9170506912442397,
          0.9216589861751152,
          0.9216589861751152,
          0.9262672811059908,
          0.9262672811059908,
          0.9308755760368663,
          0.9308755760368663,
          0.9354838709677419,
          0.9354838709677419,
          0.9400921658986175,
          0.9400921658986175,
          0.9447004608294931,
          0.9447004608294931,
          0.9493087557603687,
          0.9493087557603687,
          0.9539170506912442,
          0.9539170506912442,
          0.9585253456221198,
          0.9585253456221198,
          0.9631336405529954,
          0.9631336405529954,
          0.967741935483871,
          0.967741935483871,
          0.9723502304147466,
          0.9723502304147466,
          0.9769585253456221,
          0.9769585253456221,
          0.9815668202764977,
          0.9815668202764977,
          0.9861751152073732,
          0.9861751152073732,
          0.9907834101382489,
          0.9907834101382489,
          0.9953917050691244,
          0.9953917050691244,
          1,
          1
         ],
         "yaxis": "y"
        }
       ],
       "layout": {
        "height": 500,
        "legend": {
         "tracegroupgap": 0
        },
        "shapes": [
         {
          "line": {
           "dash": "dash"
          },
          "type": "line",
          "x0": 0,
          "x1": 1,
          "y0": 0,
          "y1": 1
         }
        ],
        "template": {
         "data": {
          "bar": [
           {
            "error_x": {
             "color": "#2a3f5f"
            },
            "error_y": {
             "color": "#2a3f5f"
            },
            "marker": {
             "line": {
              "color": "#E5ECF6",
              "width": 0.5
             },
             "pattern": {
              "fillmode": "overlay",
              "size": 10,
              "solidity": 0.2
             }
            },
            "type": "bar"
           }
          ],
          "barpolar": [
           {
            "marker": {
             "line": {
              "color": "#E5ECF6",
              "width": 0.5
             },
             "pattern": {
              "fillmode": "overlay",
              "size": 10,
              "solidity": 0.2
             }
            },
            "type": "barpolar"
           }
          ],
          "carpet": [
           {
            "aaxis": {
             "endlinecolor": "#2a3f5f",
             "gridcolor": "white",
             "linecolor": "white",
             "minorgridcolor": "white",
             "startlinecolor": "#2a3f5f"
            },
            "baxis": {
             "endlinecolor": "#2a3f5f",
             "gridcolor": "white",
             "linecolor": "white",
             "minorgridcolor": "white",
             "startlinecolor": "#2a3f5f"
            },
            "type": "carpet"
           }
          ],
          "choropleth": [
           {
            "colorbar": {
             "outlinewidth": 0,
             "ticks": ""
            },
            "type": "choropleth"
           }
          ],
          "contour": [
           {
            "colorbar": {
             "outlinewidth": 0,
             "ticks": ""
            },
            "colorscale": [
             [
              0,
              "#0d0887"
             ],
             [
              0.1111111111111111,
              "#46039f"
             ],
             [
              0.2222222222222222,
              "#7201a8"
             ],
             [
              0.3333333333333333,
              "#9c179e"
             ],
             [
              0.4444444444444444,
              "#bd3786"
             ],
             [
              0.5555555555555556,
              "#d8576b"
             ],
             [
              0.6666666666666666,
              "#ed7953"
             ],
             [
              0.7777777777777778,
              "#fb9f3a"
             ],
             [
              0.8888888888888888,
              "#fdca26"
             ],
             [
              1,
              "#f0f921"
             ]
            ],
            "type": "contour"
           }
          ],
          "contourcarpet": [
           {
            "colorbar": {
             "outlinewidth": 0,
             "ticks": ""
            },
            "type": "contourcarpet"
           }
          ],
          "heatmap": [
           {
            "colorbar": {
             "outlinewidth": 0,
             "ticks": ""
            },
            "colorscale": [
             [
              0,
              "#0d0887"
             ],
             [
              0.1111111111111111,
              "#46039f"
             ],
             [
              0.2222222222222222,
              "#7201a8"
             ],
             [
              0.3333333333333333,
              "#9c179e"
             ],
             [
              0.4444444444444444,
              "#bd3786"
             ],
             [
              0.5555555555555556,
              "#d8576b"
             ],
             [
              0.6666666666666666,
              "#ed7953"
             ],
             [
              0.7777777777777778,
              "#fb9f3a"
             ],
             [
              0.8888888888888888,
              "#fdca26"
             ],
             [
              1,
              "#f0f921"
             ]
            ],
            "type": "heatmap"
           }
          ],
          "heatmapgl": [
           {
            "colorbar": {
             "outlinewidth": 0,
             "ticks": ""
            },
            "colorscale": [
             [
              0,
              "#0d0887"
             ],
             [
              0.1111111111111111,
              "#46039f"
             ],
             [
              0.2222222222222222,
              "#7201a8"
             ],
             [
              0.3333333333333333,
              "#9c179e"
             ],
             [
              0.4444444444444444,
              "#bd3786"
             ],
             [
              0.5555555555555556,
              "#d8576b"
             ],
             [
              0.6666666666666666,
              "#ed7953"
             ],
             [
              0.7777777777777778,
              "#fb9f3a"
             ],
             [
              0.8888888888888888,
              "#fdca26"
             ],
             [
              1,
              "#f0f921"
             ]
            ],
            "type": "heatmapgl"
           }
          ],
          "histogram": [
           {
            "marker": {
             "pattern": {
              "fillmode": "overlay",
              "size": 10,
              "solidity": 0.2
             }
            },
            "type": "histogram"
           }
          ],
          "histogram2d": [
           {
            "colorbar": {
             "outlinewidth": 0,
             "ticks": ""
            },
            "colorscale": [
             [
              0,
              "#0d0887"
             ],
             [
              0.1111111111111111,
              "#46039f"
             ],
             [
              0.2222222222222222,
              "#7201a8"
             ],
             [
              0.3333333333333333,
              "#9c179e"
             ],
             [
              0.4444444444444444,
              "#bd3786"
             ],
             [
              0.5555555555555556,
              "#d8576b"
             ],
             [
              0.6666666666666666,
              "#ed7953"
             ],
             [
              0.7777777777777778,
              "#fb9f3a"
             ],
             [
              0.8888888888888888,
              "#fdca26"
             ],
             [
              1,
              "#f0f921"
             ]
            ],
            "type": "histogram2d"
           }
          ],
          "histogram2dcontour": [
           {
            "colorbar": {
             "outlinewidth": 0,
             "ticks": ""
            },
            "colorscale": [
             [
              0,
              "#0d0887"
             ],
             [
              0.1111111111111111,
              "#46039f"
             ],
             [
              0.2222222222222222,
              "#7201a8"
             ],
             [
              0.3333333333333333,
              "#9c179e"
             ],
             [
              0.4444444444444444,
              "#bd3786"
             ],
             [
              0.5555555555555556,
              "#d8576b"
             ],
             [
              0.6666666666666666,
              "#ed7953"
             ],
             [
              0.7777777777777778,
              "#fb9f3a"
             ],
             [
              0.8888888888888888,
              "#fdca26"
             ],
             [
              1,
              "#f0f921"
             ]
            ],
            "type": "histogram2dcontour"
           }
          ],
          "mesh3d": [
           {
            "colorbar": {
             "outlinewidth": 0,
             "ticks": ""
            },
            "type": "mesh3d"
           }
          ],
          "parcoords": [
           {
            "line": {
             "colorbar": {
              "outlinewidth": 0,
              "ticks": ""
             }
            },
            "type": "parcoords"
           }
          ],
          "pie": [
           {
            "automargin": true,
            "type": "pie"
           }
          ],
          "scatter": [
           {
            "marker": {
             "colorbar": {
              "outlinewidth": 0,
              "ticks": ""
             }
            },
            "type": "scatter"
           }
          ],
          "scatter3d": [
           {
            "line": {
             "colorbar": {
              "outlinewidth": 0,
              "ticks": ""
             }
            },
            "marker": {
             "colorbar": {
              "outlinewidth": 0,
              "ticks": ""
             }
            },
            "type": "scatter3d"
           }
          ],
          "scattercarpet": [
           {
            "marker": {
             "colorbar": {
              "outlinewidth": 0,
              "ticks": ""
             }
            },
            "type": "scattercarpet"
           }
          ],
          "scattergeo": [
           {
            "marker": {
             "colorbar": {
              "outlinewidth": 0,
              "ticks": ""
             }
            },
            "type": "scattergeo"
           }
          ],
          "scattergl": [
           {
            "marker": {
             "colorbar": {
              "outlinewidth": 0,
              "ticks": ""
             }
            },
            "type": "scattergl"
           }
          ],
          "scattermapbox": [
           {
            "marker": {
             "colorbar": {
              "outlinewidth": 0,
              "ticks": ""
             }
            },
            "type": "scattermapbox"
           }
          ],
          "scatterpolar": [
           {
            "marker": {
             "colorbar": {
              "outlinewidth": 0,
              "ticks": ""
             }
            },
            "type": "scatterpolar"
           }
          ],
          "scatterpolargl": [
           {
            "marker": {
             "colorbar": {
              "outlinewidth": 0,
              "ticks": ""
             }
            },
            "type": "scatterpolargl"
           }
          ],
          "scatterternary": [
           {
            "marker": {
             "colorbar": {
              "outlinewidth": 0,
              "ticks": ""
             }
            },
            "type": "scatterternary"
           }
          ],
          "surface": [
           {
            "colorbar": {
             "outlinewidth": 0,
             "ticks": ""
            },
            "colorscale": [
             [
              0,
              "#0d0887"
             ],
             [
              0.1111111111111111,
              "#46039f"
             ],
             [
              0.2222222222222222,
              "#7201a8"
             ],
             [
              0.3333333333333333,
              "#9c179e"
             ],
             [
              0.4444444444444444,
              "#bd3786"
             ],
             [
              0.5555555555555556,
              "#d8576b"
             ],
             [
              0.6666666666666666,
              "#ed7953"
             ],
             [
              0.7777777777777778,
              "#fb9f3a"
             ],
             [
              0.8888888888888888,
              "#fdca26"
             ],
             [
              1,
              "#f0f921"
             ]
            ],
            "type": "surface"
           }
          ],
          "table": [
           {
            "cells": {
             "fill": {
              "color": "#EBF0F8"
             },
             "line": {
              "color": "white"
             }
            },
            "header": {
             "fill": {
              "color": "#C8D4E3"
             },
             "line": {
              "color": "white"
             }
            },
            "type": "table"
           }
          ]
         },
         "layout": {
          "annotationdefaults": {
           "arrowcolor": "#2a3f5f",
           "arrowhead": 0,
           "arrowwidth": 1
          },
          "autotypenumbers": "strict",
          "coloraxis": {
           "colorbar": {
            "outlinewidth": 0,
            "ticks": ""
           }
          },
          "colorscale": {
           "diverging": [
            [
             0,
             "#8e0152"
            ],
            [
             0.1,
             "#c51b7d"
            ],
            [
             0.2,
             "#de77ae"
            ],
            [
             0.3,
             "#f1b6da"
            ],
            [
             0.4,
             "#fde0ef"
            ],
            [
             0.5,
             "#f7f7f7"
            ],
            [
             0.6,
             "#e6f5d0"
            ],
            [
             0.7,
             "#b8e186"
            ],
            [
             0.8,
             "#7fbc41"
            ],
            [
             0.9,
             "#4d9221"
            ],
            [
             1,
             "#276419"
            ]
           ],
           "sequential": [
            [
             0,
             "#0d0887"
            ],
            [
             0.1111111111111111,
             "#46039f"
            ],
            [
             0.2222222222222222,
             "#7201a8"
            ],
            [
             0.3333333333333333,
             "#9c179e"
            ],
            [
             0.4444444444444444,
             "#bd3786"
            ],
            [
             0.5555555555555556,
             "#d8576b"
            ],
            [
             0.6666666666666666,
             "#ed7953"
            ],
            [
             0.7777777777777778,
             "#fb9f3a"
            ],
            [
             0.8888888888888888,
             "#fdca26"
            ],
            [
             1,
             "#f0f921"
            ]
           ],
           "sequentialminus": [
            [
             0,
             "#0d0887"
            ],
            [
             0.1111111111111111,
             "#46039f"
            ],
            [
             0.2222222222222222,
             "#7201a8"
            ],
            [
             0.3333333333333333,
             "#9c179e"
            ],
            [
             0.4444444444444444,
             "#bd3786"
            ],
            [
             0.5555555555555556,
             "#d8576b"
            ],
            [
             0.6666666666666666,
             "#ed7953"
            ],
            [
             0.7777777777777778,
             "#fb9f3a"
            ],
            [
             0.8888888888888888,
             "#fdca26"
            ],
            [
             1,
             "#f0f921"
            ]
           ]
          },
          "colorway": [
           "#636efa",
           "#EF553B",
           "#00cc96",
           "#ab63fa",
           "#FFA15A",
           "#19d3f3",
           "#FF6692",
           "#B6E880",
           "#FF97FF",
           "#FECB52"
          ],
          "font": {
           "color": "#2a3f5f"
          },
          "geo": {
           "bgcolor": "white",
           "lakecolor": "white",
           "landcolor": "#E5ECF6",
           "showlakes": true,
           "showland": true,
           "subunitcolor": "white"
          },
          "hoverlabel": {
           "align": "left"
          },
          "hovermode": "closest",
          "mapbox": {
           "style": "light"
          },
          "paper_bgcolor": "white",
          "plot_bgcolor": "#E5ECF6",
          "polar": {
           "angularaxis": {
            "gridcolor": "white",
            "linecolor": "white",
            "ticks": ""
           },
           "bgcolor": "#E5ECF6",
           "radialaxis": {
            "gridcolor": "white",
            "linecolor": "white",
            "ticks": ""
           }
          },
          "scene": {
           "xaxis": {
            "backgroundcolor": "#E5ECF6",
            "gridcolor": "white",
            "gridwidth": 2,
            "linecolor": "white",
            "showbackground": true,
            "ticks": "",
            "zerolinecolor": "white"
           },
           "yaxis": {
            "backgroundcolor": "#E5ECF6",
            "gridcolor": "white",
            "gridwidth": 2,
            "linecolor": "white",
            "showbackground": true,
            "ticks": "",
            "zerolinecolor": "white"
           },
           "zaxis": {
            "backgroundcolor": "#E5ECF6",
            "gridcolor": "white",
            "gridwidth": 2,
            "linecolor": "white",
            "showbackground": true,
            "ticks": "",
            "zerolinecolor": "white"
           }
          },
          "shapedefaults": {
           "line": {
            "color": "#2a3f5f"
           }
          },
          "ternary": {
           "aaxis": {
            "gridcolor": "white",
            "linecolor": "white",
            "ticks": ""
           },
           "baxis": {
            "gridcolor": "white",
            "linecolor": "white",
            "ticks": ""
           },
           "bgcolor": "#E5ECF6",
           "caxis": {
            "gridcolor": "white",
            "linecolor": "white",
            "ticks": ""
           }
          },
          "title": {
           "x": 0.05
          },
          "xaxis": {
           "automargin": true,
           "gridcolor": "white",
           "linecolor": "white",
           "ticks": "",
           "title": {
            "standoff": 15
           },
           "zerolinecolor": "white",
           "zerolinewidth": 2
          },
          "yaxis": {
           "automargin": true,
           "gridcolor": "white",
           "linecolor": "white",
           "ticks": "",
           "title": {
            "standoff": 15
           },
           "zerolinecolor": "white",
           "zerolinewidth": 2
          }
         }
        },
        "title": {
         "text": "ROC Curve (AUC=0.6543)"
        },
        "width": 700,
        "xaxis": {
         "anchor": "y",
         "constrain": "domain",
         "domain": [
          0,
          1
         ],
         "title": {
          "text": "False Positive Rate"
         }
        },
        "yaxis": {
         "anchor": "x",
         "domain": [
          0,
          1
         ],
         "scaleanchor": "x",
         "scaleratio": 1,
         "title": {
          "text": "True Positive Rate"
         }
        }
       }
      }
     },
     "metadata": {},
     "output_type": "display_data"
    }
   ],
   "source": [
    "from sklearn.metrics import roc_curve, auc\n",
    "\n",
    "fpr, tpr, thresholds = roc_curve(y_7244, pred_7244)\n",
    "\n",
    "#Plot ROC AUC Curve \n",
    "fig = px.area(\n",
    "    x=fpr, y=tpr,\n",
    "    title=f'ROC Curve (AUC={auc(fpr, tpr):.4f})',\n",
    "    labels=dict(x='False Positive Rate', y='True Positive Rate'),\n",
    "    width=700, height=500\n",
    ")\n",
    "fig.add_shape(\n",
    "    type='line', line=dict(dash='dash'),\n",
    "    x0=0, x1=1, y0=0, y1=1\n",
    ")\n",
    "\n",
    "fig.update_yaxes(scaleanchor=\"x\", scaleratio=1)\n",
    "fig.update_xaxes(constrain='domain')\n",
    "fig.show()"
   ]
  },
  {
   "cell_type": "code",
   "execution_count": 121,
   "metadata": {},
   "outputs": [
    {
     "name": "stdout",
     "output_type": "stream",
     "text": [
      "[[21677  3751]\n",
      " [  152    65]]\n"
     ]
    }
   ],
   "source": [
    "from sklearn.metrics import confusion_matrix\n",
    "pred = np.where(pred_7244[\"predict\"]>0.6,1,0)\n",
    "#Generate the confusion matrix\n",
    "cf_matrix = confusion_matrix(y_7244, pred)\n",
    "\n",
    "print(cf_matrix)"
   ]
  },
  {
   "cell_type": "code",
   "execution_count": 130,
   "metadata": {},
   "outputs": [],
   "source": [
    "gift_base_7244.to_csv(\"7244.csv\")"
   ]
  },
  {
   "cell_type": "code",
   "execution_count": 396,
   "metadata": {},
   "outputs": [
    {
     "data": {
      "text/plain": [
       "Text(69.0, 0.5, 'Truth')"
      ]
     },
     "execution_count": 396,
     "metadata": {},
     "output_type": "execute_result"
    },
    {
     "data": {
      "image/png": "[encoded data removed]",
      "text/plain": [
       "<Figure size 720x504 with 2 Axes>"
      ]
     },
     "metadata": {
      "needs_background": "light"
     },
     "output_type": "display_data"
    }
   ],
   "source": [
    "import tensorflow as tf\n",
    "import seaborn as sn\n",
    "#pred = pred_7244[\"predict\"]\n",
    "pred = np.where(pred_7244[\"predict\"]>0.8,1,0)\n",
    "\n",
    "cm = tf.math.confusion_matrix(labels=y_7244,predictions=pred)\n",
    "\n",
    "plt.figure(figsize = (10,7))\n",
    "sn.heatmap(cm, annot=True, fmt='d')\n",
    "plt.xlabel('Predicted')\n",
    "plt.ylabel('Truth')"
   ]
  },
  {
   "cell_type": "code",
   "execution_count": 792,
   "metadata": {},
   "outputs": [],
   "source": [
    "# from sklearn.svm import SVR\n",
    "\n",
    "# lr = LogisticRegression(penalty=\"none\", fit_intercept=True\n",
    "#                 , intercept_scaling=1, random_state=None, solver=\"lbfgs\"\n",
    "#                 , max_iter=300, multi_class=\"auto\"\n",
    "#                 , verbose=0, warm_start=False, n_jobs=None, l1_ratio=None)\n",
    "\n",
    "\n",
    "\n",
    "# svr = SVR(kernel = 'sigmoid')"
   ]
  },
  {
   "cell_type": "code",
   "execution_count": 828,
   "metadata": {},
   "outputs": [],
   "source": [
    "h_7244_res = h2o.as_list(h_7244)\n",
    "h_7244_res[\"pred\"] = pred_7244[\"predict\"]\n",
    "h_7244_res.to_csv(\"h_7244_res.csv\")"
   ]
  },
  {
   "cell_type": "code",
   "execution_count": 793,
   "metadata": {},
   "outputs": [
    {
     "data": {
      "text/plain": [
       "LogisticRegression(max_iter=300, penalty='none')"
      ]
     },
     "execution_count": 793,
     "metadata": {},
     "output_type": "execute_result"
    }
   ],
   "source": [
    "lr.fit(X_train, y_train)\n",
    "\n",
    "#svr.fit(X_train, y_train)"
   ]
  },
  {
   "cell_type": "code",
   "execution_count": 794,
   "metadata": {},
   "outputs": [],
   "source": [
    "from sklearn.metrics import accuracy_score, mean_absolute_error"
   ]
  },
  {
   "cell_type": "code",
   "execution_count": 795,
   "metadata": {},
   "outputs": [],
   "source": [
    "X_7244 = gift_base_7244[features]\n",
    "y_7244 = gift_base_7244[\"donated_more_than30_duringdv\"]"
   ]
  },
  {
   "cell_type": "code",
   "execution_count": 798,
   "metadata": {},
   "outputs": [],
   "source": [
    "# # predict\n",
    "# pred_train_lr = lr.predict(X_train)\n",
    "# pred_test_lr = lr.predict(X_test)\n",
    "# pred_7244_lr = lr.predict(X_7244)\n",
    "\n",
    "# # pred_train_svr = svr.predict(X_train)\n",
    "# # pred_test_svr = svr.predict(X_test)\n",
    "# # pred_7244_svr = svr.predict(X_7244)\n",
    "\n",
    "# # evaluate predictions\n",
    "# rf_mae_train_lr = mean_absolute_error(y_train, pred_train_lr)\n",
    "# rf_mae_test_lr = mean_absolute_error(y_test, pred_test_lr)\n",
    "\n",
    "# #rf_mae_train_svr = mean_absolute_error(y_train, pred_train_svr)\n",
    "# #rf_mae_test_svr = mean_absolute_error(y_test, pred_test_svr)"
   ]
  },
  {
   "cell_type": "code",
   "execution_count": 226,
   "metadata": {},
   "outputs": [
    {
     "name": "stdout",
     "output_type": "stream",
     "text": [
      "AUC LR: 0.500\n",
      "AUC SVR: 0.485\n"
     ]
    }
   ],
   "source": [
    "fpr, tpr, thresholds = roc_curve(y_test, pred_test_lr)\n",
    "\n",
    "auc = roc_auc_score(y_test, pred_test_lr)\n",
    "print('AUC LR: %.3f' % auc)\n",
    "\n",
    "fpr, tpr, thresholds = roc_curve(y_test, pred_test_svr)\n",
    "\n",
    "auc = roc_auc_score(y_test, pred_test_svr)\n",
    "print('AUC SVR: %.3f' % auc)"
   ]
  },
  {
   "cell_type": "code",
   "execution_count": 235,
   "metadata": {},
   "outputs": [
    {
     "name": "stdout",
     "output_type": "stream",
     "text": [
      "AUC LR 7244: 0.500\n",
      "AUC SVR 7244: 0.487\n"
     ]
    }
   ],
   "source": [
    "fpr, tpr, thresholds = roc_curve(y_7244, pred_7244_lr)\n",
    "\n",
    "auc = roc_auc_score(y_7244, pred_7244_lr)\n",
    "print('AUC LR 7244: %.3f' % auc)\n",
    "\n",
    "fpr, tpr, thresholds = roc_curve(y_7244, pred_7244_svr)\n",
    "\n",
    "auc = roc_auc_score(y_7244, pred_7244_svr)\n",
    "print('AUC SVR 7244: %.3f' % auc)"
   ]
  },
  {
   "cell_type": "code",
   "execution_count": 237,
   "metadata": {},
   "outputs": [
    {
     "data": {
      "text/plain": [
       "0.9915383115617079"
      ]
     },
     "execution_count": 237,
     "metadata": {},
     "output_type": "execute_result"
    }
   ],
   "source": [
    "threshold = 0.6\n",
    "\n",
    "predicted_proba = lr.predict_proba(X_7244)\n",
    "pred_test = (predicted_proba [:,1] >= threshold).astype('int')\n",
    "\n",
    "accuracy = accuracy_score(y_7244, pred_test)\n",
    "accuracy"
   ]
  },
  {
   "cell_type": "code",
   "execution_count": 92,
   "metadata": {},
   "outputs": [],
   "source": [
    "# X_test[\"pred\"] = pred_test"
   ]
  },
  {
   "cell_type": "code",
   "execution_count": 93,
   "metadata": {},
   "outputs": [],
   "source": [
    "# X_test.to_csv(\"test.csv\", index=False)"
   ]
  },
  {
   "cell_type": "code",
   "execution_count": 94,
   "metadata": {},
   "outputs": [],
   "source": [
    "# gift_base_6169.to_csv(\"6169.csv\", index=False)"
   ]
  },
  {
   "cell_type": "code",
   "execution_count": 95,
   "metadata": {},
   "outputs": [],
   "source": [
    "# import sqldf\n"
   ]
  },
  {
   "cell_type": "code",
   "execution_count": 96,
   "metadata": {},
   "outputs": [
    {
     "data": {
      "text/html": [
       "<div>\n",
       "<style scoped>\n",
       "    .dataframe tbody tr th:only-of-type {\n",
       "        vertical-align: middle;\n",
       "    }\n",
       "\n",
       "    .dataframe tbody tr th {\n",
       "        vertical-align: top;\n",
       "    }\n",
       "\n",
       "    .dataframe thead th {\n",
       "        text-align: right;\n",
       "    }\n",
       "</style>\n",
       "<table border=\"1\" class=\"dataframe\">\n",
       "  <thead>\n",
       "    <tr style=\"text-align: right;\">\n",
       "      <th></th>\n",
       "      <th>donorID</th>\n",
       "      <th>pred</th>\n",
       "      <th>donated_more_than30_duringdv</th>\n",
       "    </tr>\n",
       "  </thead>\n",
       "  <tbody>\n",
       "  </tbody>\n",
       "</table>\n",
       "</div>"
      ],
      "text/plain": [
       "Empty DataFrame\n",
       "Columns: [donorID, pred, donated_more_than30_duringdv]\n",
       "Index: []"
      ]
     },
     "execution_count": 96,
     "metadata": {},
     "output_type": "execute_result"
    }
   ],
   "source": [
    "# sqldf.run(\"\"\"\n",
    "# select \n",
    "# a.donorID,\n",
    "# a.pred,\n",
    "# b.donated_more_than30_duringdv\n",
    "#  from \n",
    "# X_test as a\n",
    "# inner join gift_base_6169 as b on a.donorID=b.donorID\n",
    "# where a.pred = 1\n",
    "\n",
    "# \"\"\")"
   ]
  },
  {
   "cell_type": "code",
   "execution_count": 238,
   "metadata": {},
   "outputs": [
    {
     "name": "stdout",
     "output_type": "stream",
     "text": [
      "0.9915253335279611\n"
     ]
    }
   ],
   "source": [
    "from sklearn.ensemble import GradientBoostingClassifier\n",
    "\n",
    "gb = GradientBoostingClassifier(loss=\"exponential\", learning_rate=0.1, n_estimators=100)\n",
    "\n",
    "gb.fit(X_train, y_train)\n",
    "\n",
    "gb_predictions_train = gb.predict(X_train)\n",
    "gb_predictions_test = gb.predict(X_7244)\n",
    "\n",
    "from sklearn.model_selection import cross_val_score\n",
    "from sklearn.model_selection import RepeatedStratifiedKFold\n",
    "\n",
    "cv = RepeatedStratifiedKFold(n_splits=10, n_repeats=3, random_state=1)\n",
    "\n",
    "n_scores = cross_val_score(gb, X_7244, y_7244, scoring='accuracy', cv=cv, n_jobs=-1)\n",
    "print(n_scores.mean())"
   ]
  },
  {
   "cell_type": "code",
   "execution_count": 419,
   "metadata": {},
   "outputs": [],
   "source": [
    "# from sklearn.metrics import roc_curve, auc\n",
    "\n",
    "\n",
    "# fpr, tpr, thresholds = roc_curve(y_7244,  gb.predict_proba(X_7244)[:,1])\n",
    "\n",
    "# #Plot ROC AUC Curve \n",
    "# fig = px.area(\n",
    "#     x=fpr, y=tpr,\n",
    "#     title=f'ROC Curve (AUC={auc(fpr, tpr):.4f})',\n",
    "#     labels=dict(x='False Positive Rate', y='True Positive Rate'),\n",
    "#     width=700, height=500\n",
    "# )\n",
    "# fig.add_shape(\n",
    "#     type='line', line=dict(dash='dash'),\n",
    "#     x0=0, x1=1, y0=0, y1=1\n",
    "# )\n",
    "\n",
    "# fig.update_yaxes(scaleanchor=\"x\", scaleratio=1)\n",
    "# fig.update_xaxes(constrain='domain')\n",
    "# fig.show()"
   ]
  },
  {
   "cell_type": "code",
   "execution_count": 240,
   "metadata": {},
   "outputs": [
    {
     "name": "stdout",
     "output_type": "stream",
     "text": [
      "0.9915253335279611\n"
     ]
    }
   ],
   "source": [
    "gb_predictions_test = gb.predict(X_7244)\n",
    "\n",
    "\n",
    "cv = RepeatedStratifiedKFold(n_splits=10, n_repeats=3, random_state=1)\n",
    "\n",
    "n_scores = cross_val_score(gb, X_7244, y_7244, scoring='accuracy', cv=cv, n_jobs=-1)\n",
    "print(n_scores.mean())"
   ]
  },
  {
   "cell_type": "code",
   "execution_count": 418,
   "metadata": {},
   "outputs": [],
   "source": [
    "# from sklearn.metrics import roc_curve, auc\n",
    "\n",
    "\n",
    "# fpr, tpr, thresholds = roc_curve(y_7244,  gb.predict_proba(X_7244)[:,1])\n",
    "\n",
    "# #Plot ROC AUC Curve \n",
    "# fig = px.area(\n",
    "#     x=fpr, y=tpr,\n",
    "#     title=f'ROC Curve (AUC={auc(fpr, tpr):.4f})',\n",
    "#     labels=dict(x='False Positive Rate', y='True Positive Rate'),\n",
    "#     width=700, height=500\n",
    "# )\n",
    "# fig.add_shape(\n",
    "#     type='line', line=dict(dash='dash'),\n",
    "#     x0=0, x1=1, y0=0, y1=1\n",
    "# )\n",
    "\n",
    "# fig.update_yaxes(scaleanchor=\"x\", scaleratio=1)\n",
    "# fig.update_xaxes(constrain='domain')\n",
    "# fig.show()"
   ]
  },
  {
   "cell_type": "code",
   "execution_count": 301,
   "metadata": {},
   "outputs": [
    {
     "data": {
      "text/plain": [
       "(34888, 32)"
      ]
     },
     "execution_count": 301,
     "metadata": {},
     "output_type": "execute_result"
    }
   ],
   "source": [
    "X_train.shape"
   ]
  },
  {
   "cell_type": "code",
   "execution_count": 367,
   "metadata": {},
   "outputs": [],
   "source": [
    "import tensorflow as tf\n",
    "from tensorflow import keras\n",
    "from keras import backend as K\n",
    "\n",
    "tf.random.set_seed(123)\n",
    "\n",
    "model = keras.Sequential([\n",
    "    keras.layers.Dense(20, input_shape=(32,), activation='sigmoid'),\n",
    "    keras.layers.Dense(5, activation='relu'),\n",
    "    keras.layers.Dense(2, activation='relu'),\n",
    "    keras.layers.Dense(1, activation='sigmoid',\n",
    "    kernel_regularizer=tf.keras.regularizers.l2(0.0001)\n",
    "    )\n",
    "])\n",
    "\n",
    "opt = keras.optimizers.Adam(learning_rate=0.01)\n",
    "\n",
    "model.compile(optimizer='adam',\n",
    "              loss='binary_crossentropy',\n",
    "              metrics=['accuracy'])"
   ]
  },
  {
   "cell_type": "code",
   "execution_count": 417,
   "metadata": {},
   "outputs": [],
   "source": [
    "#model.fit(X_train, y_train, workers=12, shuffle=5, epochs=20, batch_size=70)"
   ]
  },
  {
   "cell_type": "code",
   "execution_count": 410,
   "metadata": {},
   "outputs": [],
   "source": [
    "# instanciate the models\n",
    "#tree         = DecisionTreeClassifier()\n",
    "logistic     = LogisticRegression(max_iter = 1000)\n",
    "randomForest = RandomForestClassifier(n_estimators = 700)\n",
    "boostedTree  = GradientBoostingClassifier()\n",
    "#svm          = SVC(gamma = \"scale\", probability = True)\n",
    "#neuralNet    = MLPClassifier()\n",
    "#neighbors    = KNeighborsClassifier()"
   ]
  },
  {
   "cell_type": "code",
   "execution_count": 411,
   "metadata": {},
   "outputs": [],
   "source": [
    "# create a dict to loop through the models later on\n",
    "models = {\n",
    "          \"logistic\"     :logistic,\n",
    "          \"randomForest\" :randomForest,\n",
    "          \"boostedTree\"  :boostedTree,\n",
    "         }"
   ]
  },
  {
   "cell_type": "code",
   "execution_count": 412,
   "metadata": {},
   "outputs": [
    {
     "name": "stdout",
     "output_type": "stream",
     "text": [
      "logistic has been trained successfully\n",
      "randomForest has been trained successfully\n",
      "boostedTree has been trained successfully\n"
     ]
    }
   ],
   "source": [
    "# fit the models\n",
    "for model in models:\n",
    "    models[model].fit(X_train,y_train)\n",
    "    print(f\"{model} has been trained successfully\")"
   ]
  },
  {
   "cell_type": "code",
   "execution_count": 415,
   "metadata": {},
   "outputs": [],
   "source": [
    "# AUC\n",
    "\n",
    "performances = {}\n",
    "\n",
    "for model in models:\n",
    "    predictions   = models[model].predict(X_train)\n",
    "    probabilities = pd.DataFrame(models[model].predict_proba(X_train))[1]\n",
    "    accuracy      = accuracy_score(y_train,predictions)\n",
    "    auc           = roc_auc_score(np.array(y_train),np.array(probabilities))\n",
    "    \n",
    "    performances[model] = {\"Accuracy\":accuracy,\"AUC\":auc}"
   ]
  },
  {
   "cell_type": "code",
   "execution_count": 416,
   "metadata": {},
   "outputs": [
    {
     "data": {
      "text/html": [
       "<div>\n",
       "<style scoped>\n",
       "    .dataframe tbody tr th:only-of-type {\n",
       "        vertical-align: middle;\n",
       "    }\n",
       "\n",
       "    .dataframe tbody tr th {\n",
       "        vertical-align: top;\n",
       "    }\n",
       "\n",
       "    .dataframe thead th {\n",
       "        text-align: right;\n",
       "    }\n",
       "</style>\n",
       "<table border=\"1\" class=\"dataframe\">\n",
       "  <thead>\n",
       "    <tr style=\"text-align: right;\">\n",
       "      <th></th>\n",
       "      <th>logistic</th>\n",
       "      <th>randomForest</th>\n",
       "      <th>boostedTree</th>\n",
       "    </tr>\n",
       "  </thead>\n",
       "  <tbody>\n",
       "    <tr>\n",
       "      <th>Accuracy</th>\n",
       "      <td>0.972569</td>\n",
       "      <td>1.0</td>\n",
       "      <td>0.973573</td>\n",
       "    </tr>\n",
       "    <tr>\n",
       "      <th>AUC</th>\n",
       "      <td>0.604755</td>\n",
       "      <td>1.0</td>\n",
       "      <td>0.785413</td>\n",
       "    </tr>\n",
       "  </tbody>\n",
       "</table>\n",
       "</div>"
      ],
      "text/plain": [
       "          logistic  randomForest  boostedTree\n",
       "Accuracy  0.972569           1.0     0.973573\n",
       "AUC       0.604755           1.0     0.785413"
      ]
     },
     "execution_count": 416,
     "metadata": {},
     "output_type": "execute_result"
    }
   ],
   "source": [
    "pd.DataFrame(performances)"
   ]
  },
  {
   "cell_type": "code",
   "execution_count": 360,
   "metadata": {},
   "outputs": [
    {
     "name": "stdout",
     "output_type": "stream",
     "text": [
      "1091/1091 [==============================] - 1s 834us/step - loss: 0.1257 - accuracy: 0.9726\n",
      "97.25693464279175\n"
     ]
    },
    {
     "data": {
      "text/plain": [
       "Text(69.0, 0.5, 'Truth')"
      ]
     },
     "execution_count": 360,
     "metadata": {},
     "output_type": "execute_result"
    },
    {
     "data": {
      "image/png": "[encoded data removed]",
      "text/plain": [
       "<Figure size 720x504 with 2 Axes>"
      ]
     },
     "metadata": {
      "needs_background": "light"
     },
     "output_type": "display_data"
    }
   ],
   "source": [
    "from sklearn.metrics import confusion_matrix , classification_report\n",
    "import seaborn as sn\n",
    "\n",
    "#Evaluate model\n",
    "scores = model.evaluate(X_train, y_train)\n",
    "print(scores[1]*100)\n",
    "\n",
    "yp = model.predict(X_train)\n",
    "\n",
    "y_pred = []\n",
    "for element in yp:\n",
    "    if element > 0.32:\n",
    "        y_pred.append(1)\n",
    "    else:\n",
    "        y_pred.append(0)\n",
    "\n",
    "#print(classification_report(X_train,y_train))\n",
    "\n",
    "cm = tf.math.confusion_matrix(labels=y_train,predictions=y_pred)\n",
    "\n",
    "plt.figure(figsize = (10,7))\n",
    "sn.heatmap(cm, annot=True, fmt='d')\n",
    "plt.xlabel('Predicted')\n",
    "plt.ylabel('Truth')"
   ]
  },
  {
   "cell_type": "code",
   "execution_count": 251,
   "metadata": {},
   "outputs": [],
   "source": [
    "#ann_test_pred = model.predict(X_test)\n",
    "ann_7244_pred = model.predict(X_7244)"
   ]
  },
  {
   "cell_type": "code",
   "execution_count": 260,
   "metadata": {},
   "outputs": [
    {
     "data": {
      "text/plain": [
       "array([0.02741548, 0.02741548, 0.02741548, ..., 0.02741548, 0.02741548,\n",
       "       0.02741548], dtype=float32)"
      ]
     },
     "execution_count": 260,
     "metadata": {},
     "output_type": "execute_result"
    }
   ],
   "source": [
    "ann_7244_pred.ravel()"
   ]
  },
  {
   "cell_type": "code",
   "execution_count": 269,
   "metadata": {},
   "outputs": [
    {
     "data": {
      "text/plain": [
       "[<matplotlib.lines.Line2D at 0x1438b4d4460>]"
      ]
     },
     "execution_count": 269,
     "metadata": {},
     "output_type": "execute_result"
    },
    {
     "data": {
      "image/png": "[encoded data removed]",
      "text/plain": [
       "<Figure size 432x288 with 1 Axes>"
      ]
     },
     "metadata": {
      "needs_background": "light"
     },
     "output_type": "display_data"
    }
   ],
   "source": [
    "from sklearn.metrics import roc_curve, auc\n",
    "\n",
    "\n",
    "y_pred = model.predict(X_7244).ravel()\n",
    "\n",
    "nn_fpr_keras, nn_tpr_keras, nn_thresholds_keras = roc_curve(y_7244, y_pred)\n",
    "auc_keras = auc(nn_fpr_keras, nn_tpr_keras)\n",
    "plt.plot(nn_fpr_keras, nn_tpr_keras, marker='.', label='Neural Network (auc = %0.3f)' % auc_keras)\n"
   ]
  },
  {
   "cell_type": "code",
   "execution_count": 151,
   "metadata": {},
   "outputs": [
    {
     "data": {
      "application/vnd.plotly.v1+json": {
       "config": {
        "plotlyServerURL": "https://plot.ly"
       },
       "data": [
        {
         "hovertemplate": "False Positive Rate=%{x}<br>True Positive Rate=%{y}<extra></extra>",
         "legendgroup": "",
         "line": {
          "color": "#636efa"
         },
         "mode": "lines",
         "name": "",
         "orientation": "v",
         "showlegend": false,
         "stackgroup": "1",
         "type": "scatter",
         "x": [
          0,
          1
         ],
         "xaxis": "x",
         "y": [
          0,
          1
         ],
         "yaxis": "y"
        }
       ],
       "layout": {
        "height": 500,
        "legend": {
         "tracegroupgap": 0
        },
        "shapes": [
         {
          "line": {
           "dash": "dash"
          },
          "type": "line",
          "x0": 0,
          "x1": 1,
          "y0": 0,
          "y1": 1
         }
        ],
        "template": {
         "data": {
          "bar": [
           {
            "error_x": {
             "color": "#2a3f5f"
            },
            "error_y": {
             "color": "#2a3f5f"
            },
            "marker": {
             "line": {
              "color": "#E5ECF6",
              "width": 0.5
             },
             "pattern": {
              "fillmode": "overlay",
              "size": 10,
              "solidity": 0.2
             }
            },
            "type": "bar"
           }
          ],
          "barpolar": [
           {
            "marker": {
             "line": {
              "color": "#E5ECF6",
              "width": 0.5
             },
             "pattern": {
              "fillmode": "overlay",
              "size": 10,
              "solidity": 0.2
             }
            },
            "type": "barpolar"
           }
          ],
          "carpet": [
           {
            "aaxis": {
             "endlinecolor": "#2a3f5f",
             "gridcolor": "white",
             "linecolor": "white",
             "minorgridcolor": "white",
             "startlinecolor": "#2a3f5f"
            },
            "baxis": {
             "endlinecolor": "#2a3f5f",
             "gridcolor": "white",
             "linecolor": "white",
             "minorgridcolor": "white",
             "startlinecolor": "#2a3f5f"
            },
            "type": "carpet"
           }
          ],
          "choropleth": [
           {
            "colorbar": {
             "outlinewidth": 0,
             "ticks": ""
            },
            "type": "choropleth"
           }
          ],
          "contour": [
           {
            "colorbar": {
             "outlinewidth": 0,
             "ticks": ""
            },
            "colorscale": [
             [
              0,
              "#0d0887"
             ],
             [
              0.1111111111111111,
              "#46039f"
             ],
             [
              0.2222222222222222,
              "#7201a8"
             ],
             [
              0.3333333333333333,
              "#9c179e"
             ],
             [
              0.4444444444444444,
              "#bd3786"
             ],
             [
              0.5555555555555556,
              "#d8576b"
             ],
             [
              0.6666666666666666,
              "#ed7953"
             ],
             [
              0.7777777777777778,
              "#fb9f3a"
             ],
             [
              0.8888888888888888,
              "#fdca26"
             ],
             [
              1,
              "#f0f921"
             ]
            ],
            "type": "contour"
           }
          ],
          "contourcarpet": [
           {
            "colorbar": {
             "outlinewidth": 0,
             "ticks": ""
            },
            "type": "contourcarpet"
           }
          ],
          "heatmap": [
           {
            "colorbar": {
             "outlinewidth": 0,
             "ticks": ""
            },
            "colorscale": [
             [
              0,
              "#0d0887"
             ],
             [
              0.1111111111111111,
              "#46039f"
             ],
             [
              0.2222222222222222,
              "#7201a8"
             ],
             [
              0.3333333333333333,
              "#9c179e"
             ],
             [
              0.4444444444444444,
              "#bd3786"
             ],
             [
              0.5555555555555556,
              "#d8576b"
             ],
             [
              0.6666666666666666,
              "#ed7953"
             ],
             [
              0.7777777777777778,
              "#fb9f3a"
             ],
             [
              0.8888888888888888,
              "#fdca26"
             ],
             [
              1,
              "#f0f921"
             ]
            ],
            "type": "heatmap"
           }
          ],
          "heatmapgl": [
           {
            "colorbar": {
             "outlinewidth": 0,
             "ticks": ""
            },
            "colorscale": [
             [
              0,
              "#0d0887"
             ],
             [
              0.1111111111111111,
              "#46039f"
             ],
             [
              0.2222222222222222,
              "#7201a8"
             ],
             [
              0.3333333333333333,
              "#9c179e"
             ],
             [
              0.4444444444444444,
              "#bd3786"
             ],
             [
              0.5555555555555556,
              "#d8576b"
             ],
             [
              0.6666666666666666,
              "#ed7953"
             ],
             [
              0.7777777777777778,
              "#fb9f3a"
             ],
             [
              0.8888888888888888,
              "#fdca26"
             ],
             [
              1,
              "#f0f921"
             ]
            ],
            "type": "heatmapgl"
           }
          ],
          "histogram": [
           {
            "marker": {
             "pattern": {
              "fillmode": "overlay",
              "size": 10,
              "solidity": 0.2
             }
            },
            "type": "histogram"
           }
          ],
          "histogram2d": [
           {
            "colorbar": {
             "outlinewidth": 0,
             "ticks": ""
            },
            "colorscale": [
             [
              0,
              "#0d0887"
             ],
             [
              0.1111111111111111,
              "#46039f"
             ],
             [
              0.2222222222222222,
              "#7201a8"
             ],
             [
              0.3333333333333333,
              "#9c179e"
             ],
             [
              0.4444444444444444,
              "#bd3786"
             ],
             [
              0.5555555555555556,
              "#d8576b"
             ],
             [
              0.6666666666666666,
              "#ed7953"
             ],
             [
              0.7777777777777778,
              "#fb9f3a"
             ],
             [
              0.8888888888888888,
              "#fdca26"
             ],
             [
              1,
              "#f0f921"
             ]
            ],
            "type": "histogram2d"
           }
          ],
          "histogram2dcontour": [
           {
            "colorbar": {
             "outlinewidth": 0,
             "ticks": ""
            },
            "colorscale": [
             [
              0,
              "#0d0887"
             ],
             [
              0.1111111111111111,
              "#46039f"
             ],
             [
              0.2222222222222222,
              "#7201a8"
             ],
             [
              0.3333333333333333,
              "#9c179e"
             ],
             [
              0.4444444444444444,
              "#bd3786"
             ],
             [
              0.5555555555555556,
              "#d8576b"
             ],
             [
              0.6666666666666666,
              "#ed7953"
             ],
             [
              0.7777777777777778,
              "#fb9f3a"
             ],
             [
              0.8888888888888888,
              "#fdca26"
             ],
             [
              1,
              "#f0f921"
             ]
            ],
            "type": "histogram2dcontour"
           }
          ],
          "mesh3d": [
           {
            "colorbar": {
             "outlinewidth": 0,
             "ticks": ""
            },
            "type": "mesh3d"
           }
          ],
          "parcoords": [
           {
            "line": {
             "colorbar": {
              "outlinewidth": 0,
              "ticks": ""
             }
            },
            "type": "parcoords"
           }
          ],
          "pie": [
           {
            "automargin": true,
            "type": "pie"
           }
          ],
          "scatter": [
           {
            "marker": {
             "colorbar": {
              "outlinewidth": 0,
              "ticks": ""
             }
            },
            "type": "scatter"
           }
          ],
          "scatter3d": [
           {
            "line": {
             "colorbar": {
              "outlinewidth": 0,
              "ticks": ""
             }
            },
            "marker": {
             "colorbar": {
              "outlinewidth": 0,
              "ticks": ""
             }
            },
            "type": "scatter3d"
           }
          ],
          "scattercarpet": [
           {
            "marker": {
             "colorbar": {
              "outlinewidth": 0,
              "ticks": ""
             }
            },
            "type": "scattercarpet"
           }
          ],
          "scattergeo": [
           {
            "marker": {
             "colorbar": {
              "outlinewidth": 0,
              "ticks": ""
             }
            },
            "type": "scattergeo"
           }
          ],
          "scattergl": [
           {
            "marker": {
             "colorbar": {
              "outlinewidth": 0,
              "ticks": ""
             }
            },
            "type": "scattergl"
           }
          ],
          "scattermapbox": [
           {
            "marker": {
             "colorbar": {
              "outlinewidth": 0,
              "ticks": ""
             }
            },
            "type": "scattermapbox"
           }
          ],
          "scatterpolar": [
           {
            "marker": {
             "colorbar": {
              "outlinewidth": 0,
              "ticks": ""
             }
            },
            "type": "scatterpolar"
           }
          ],
          "scatterpolargl": [
           {
            "marker": {
             "colorbar": {
              "outlinewidth": 0,
              "ticks": ""
             }
            },
            "type": "scatterpolargl"
           }
          ],
          "scatterternary": [
           {
            "marker": {
             "colorbar": {
              "outlinewidth": 0,
              "ticks": ""
             }
            },
            "type": "scatterternary"
           }
          ],
          "surface": [
           {
            "colorbar": {
             "outlinewidth": 0,
             "ticks": ""
            },
            "colorscale": [
             [
              0,
              "#0d0887"
             ],
             [
              0.1111111111111111,
              "#46039f"
             ],
             [
              0.2222222222222222,
              "#7201a8"
             ],
             [
              0.3333333333333333,
              "#9c179e"
             ],
             [
              0.4444444444444444,
              "#bd3786"
             ],
             [
              0.5555555555555556,
              "#d8576b"
             ],
             [
              0.6666666666666666,
              "#ed7953"
             ],
             [
              0.7777777777777778,
              "#fb9f3a"
             ],
             [
              0.8888888888888888,
              "#fdca26"
             ],
             [
              1,
              "#f0f921"
             ]
            ],
            "type": "surface"
           }
          ],
          "table": [
           {
            "cells": {
             "fill": {
              "color": "#EBF0F8"
             },
             "line": {
              "color": "white"
             }
            },
            "header": {
             "fill": {
              "color": "#C8D4E3"
             },
             "line": {
              "color": "white"
             }
            },
            "type": "table"
           }
          ]
         },
         "layout": {
          "annotationdefaults": {
           "arrowcolor": "#2a3f5f",
           "arrowhead": 0,
           "arrowwidth": 1
          },
          "autotypenumbers": "strict",
          "coloraxis": {
           "colorbar": {
            "outlinewidth": 0,
            "ticks": ""
           }
          },
          "colorscale": {
           "diverging": [
            [
             0,
             "#8e0152"
            ],
            [
             0.1,
             "#c51b7d"
            ],
            [
             0.2,
             "#de77ae"
            ],
            [
             0.3,
             "#f1b6da"
            ],
            [
             0.4,
             "#fde0ef"
            ],
            [
             0.5,
             "#f7f7f7"
            ],
            [
             0.6,
             "#e6f5d0"
            ],
            [
             0.7,
             "#b8e186"
            ],
            [
             0.8,
             "#7fbc41"
            ],
            [
             0.9,
             "#4d9221"
            ],
            [
             1,
             "#276419"
            ]
           ],
           "sequential": [
            [
             0,
             "#0d0887"
            ],
            [
             0.1111111111111111,
             "#46039f"
            ],
            [
             0.2222222222222222,
             "#7201a8"
            ],
            [
             0.3333333333333333,
             "#9c179e"
            ],
            [
             0.4444444444444444,
             "#bd3786"
            ],
            [
             0.5555555555555556,
             "#d8576b"
            ],
            [
             0.6666666666666666,
             "#ed7953"
            ],
            [
             0.7777777777777778,
             "#fb9f3a"
            ],
            [
             0.8888888888888888,
             "#fdca26"
            ],
            [
             1,
             "#f0f921"
            ]
           ],
           "sequentialminus": [
            [
             0,
             "#0d0887"
            ],
            [
             0.1111111111111111,
             "#46039f"
            ],
            [
             0.2222222222222222,
             "#7201a8"
            ],
            [
             0.3333333333333333,
             "#9c179e"
            ],
            [
             0.4444444444444444,
             "#bd3786"
            ],
            [
             0.5555555555555556,
             "#d8576b"
            ],
            [
             0.6666666666666666,
             "#ed7953"
            ],
            [
             0.7777777777777778,
             "#fb9f3a"
            ],
            [
             0.8888888888888888,
             "#fdca26"
            ],
            [
             1,
             "#f0f921"
            ]
           ]
          },
          "colorway": [
           "#636efa",
           "#EF553B",
           "#00cc96",
           "#ab63fa",
           "#FFA15A",
           "#19d3f3",
           "#FF6692",
           "#B6E880",
           "#FF97FF",
           "#FECB52"
          ],
          "font": {
           "color": "#2a3f5f"
          },
          "geo": {
           "bgcolor": "white",
           "lakecolor": "white",
           "landcolor": "#E5ECF6",
           "showlakes": true,
           "showland": true,
           "subunitcolor": "white"
          },
          "hoverlabel": {
           "align": "left"
          },
          "hovermode": "closest",
          "mapbox": {
           "style": "light"
          },
          "paper_bgcolor": "white",
          "plot_bgcolor": "#E5ECF6",
          "polar": {
           "angularaxis": {
            "gridcolor": "white",
            "linecolor": "white",
            "ticks": ""
           },
           "bgcolor": "#E5ECF6",
           "radialaxis": {
            "gridcolor": "white",
            "linecolor": "white",
            "ticks": ""
           }
          },
          "scene": {
           "xaxis": {
            "backgroundcolor": "#E5ECF6",
            "gridcolor": "white",
            "gridwidth": 2,
            "linecolor": "white",
            "showbackground": true,
            "ticks": "",
            "zerolinecolor": "white"
           },
           "yaxis": {
            "backgroundcolor": "#E5ECF6",
            "gridcolor": "white",
            "gridwidth": 2,
            "linecolor": "white",
            "showbackground": true,
            "ticks": "",
            "zerolinecolor": "white"
           },
           "zaxis": {
            "backgroundcolor": "#E5ECF6",
            "gridcolor": "white",
            "gridwidth": 2,
            "linecolor": "white",
            "showbackground": true,
            "ticks": "",
            "zerolinecolor": "white"
           }
          },
          "shapedefaults": {
           "line": {
            "color": "#2a3f5f"
           }
          },
          "ternary": {
           "aaxis": {
            "gridcolor": "white",
            "linecolor": "white",
            "ticks": ""
           },
           "baxis": {
            "gridcolor": "white",
            "linecolor": "white",
            "ticks": ""
           },
           "bgcolor": "#E5ECF6",
           "caxis": {
            "gridcolor": "white",
            "linecolor": "white",
            "ticks": ""
           }
          },
          "title": {
           "x": 0.05
          },
          "xaxis": {
           "automargin": true,
           "gridcolor": "white",
           "linecolor": "white",
           "ticks": "",
           "title": {
            "standoff": 15
           },
           "zerolinecolor": "white",
           "zerolinewidth": 2
          },
          "yaxis": {
           "automargin": true,
           "gridcolor": "white",
           "linecolor": "white",
           "ticks": "",
           "title": {
            "standoff": 15
           },
           "zerolinecolor": "white",
           "zerolinewidth": 2
          }
         }
        },
        "title": {
         "text": "ROC Curve (AUC=0.5000)"
        },
        "width": 700,
        "xaxis": {
         "anchor": "y",
         "constrain": "domain",
         "domain": [
          0,
          1
         ],
         "title": {
          "text": "False Positive Rate"
         }
        },
        "yaxis": {
         "anchor": "x",
         "domain": [
          0,
          1
         ],
         "scaleanchor": "x",
         "scaleratio": 1,
         "title": {
          "text": "True Positive Rate"
         }
        }
       }
      }
     },
     "metadata": {},
     "output_type": "display_data"
    }
   ],
   "source": [
    "from sklearn.metrics import roc_curve, auc\n",
    "\n",
    "\n",
    "fpr, tpr, thresholds = roc_curve(y_7244,  model.predict(X_7244).ravel())\n",
    "\n",
    "#Plot ROC AUC Curve \n",
    "fig = px.area(\n",
    "    x=fpr, y=tpr,\n",
    "    title=f'ROC Curve (AUC={auc(fpr, tpr):.4f})',\n",
    "    labels=dict(x='False Positive Rate', y='True Positive Rate'),\n",
    "    width=700, height=500\n",
    ")\n",
    "fig.add_shape(\n",
    "    type='line', line=dict(dash='dash'),\n",
    "    x0=0, x1=1, y0=0, y1=1\n",
    ")\n",
    "\n",
    "fig.update_yaxes(scaleanchor=\"x\", scaleratio=1)\n",
    "fig.update_xaxes(constrain='domain')\n",
    "fig.show()"
   ]
  },
  {
   "cell_type": "code",
   "execution_count": null,
   "metadata": {},
   "outputs": [],
   "source": [
    "from keras.models import model_from_json\n",
    "from tensorflow.keras.models import load_model\n",
    "# serialize model to JSON\n",
    "model_json = model.to_json()\n",
    "with open(\"model.json\", \"w\") as json_file:\n",
    "    json_file.write(model_json)\n",
    "# serialize weights to HDF5\n",
    "model.save_weights(\"model.h5\")\n",
    "print(\"Saved model to disk\")"
   ]
  }
 ],
 "metadata": {
  "interpreter": {
   "hash": "81e0b57edd17c3833f38e5d4db6db81e2c0f982e51ee4890d9e870805c7d8a75"
  },
  "kernelspec": {
   "display_name": "Python 3",
   "language": "python",
   "name": "python3"
  },
  "language_info": {
   "codemirror_mode": {
    "name": "ipython",
    "version": 3
   },
   "file_extension": ".py",
   "mimetype": "text/x-python",
   "name": "python",
   "nbconvert_exporter": "python",
   "pygments_lexer": "ipython3",
   "version": "3.8.8"
  }
 },
 "nbformat": 4,
 "nbformat_minor": 2
}
